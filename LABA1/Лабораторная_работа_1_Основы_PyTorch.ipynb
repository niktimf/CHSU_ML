{
 "nbformat": 4,
 "nbformat_minor": 0,
 "metadata": {
  "colab": {
   "provenance": [],
   "toc_visible": true
  },
  "kernelspec": {
   "name": "python3",
   "language": "python",
   "display_name": "Python 3 (ipykernel)"
  },
  "language_info": {
   "name": "python"
  },
  "gpuClass": "standard"
 },
 "cells": [
  {
   "cell_type": "markdown",
   "source": [
    "# Знакомство с PyTorch\n",
    "\n",
    "**PyTorch** -- это фреймворк для машинного обучения для языка Python с открытым исходным кодом, разрабатываемый под покровительством Facebook.  \n",
    "\n",
    "Используется для решения различных задач в области компьютерного зрения, обработки естественного языка и т. д.  \n",
    "\n",
    "Первый релиз PyTorch вышел в 2016 году, и с тех пор он занимает прочную нишу в области глубокого обучения.  \n",
    "\n",
    "Как утверждает [документация](https://pytorch.org/docs/stable/index.html) по PyTorch, он является науно-вычислительным пакетом, который предоставляет следующие возможности:\n",
    "* тензорные вычисления с возможностью распараллеливания их на GPU (имеется поддержка множества GPU)  \n",
    "* развитые алгоритмы глубокого обучения, обеспечивающие максимальную гибкость и скорость выполнения\n",
    "\n",
    "Вокруг PyTorch за время его существования выстроилась целая экосистема, состоящая из различных смежных по области применения библиотек: Fast.ai (создана для упрощения создания моделей), Flair (для обработки естественного языка и т. д.)  \n",
    "\n",
    "В первую очередь, PyTorch фокусируется на простоте использования и позволяет пользователям с базовыми навыками программирования создавать свои проекты по глубокому обучению. Это возможно благодаря тому, что он поддерживает питонский стиль написания кода.\n",
    "\n",
    "Также явным преимуществом PyTorch перед другими фреймворками является простота отладки.  \n",
    "В процессе отладки модели, написанных на других фреймворках, не всегда понятно, что пошло не так.\n",
    "Также PyTorch тесно интегрирован с Python и основыми библиотеками для Data Science для него: NumPy, SciPy и т. д.  \n",
    "\n",
    "Скрость выполнения алгоритмов глубокого обучения на PyTorch обеспечивает высокопроизводительный C++ API"
   ],
   "metadata": {
    "id": "6mLB0v1pjMA5",
    "pycharm": {
     "name": "#%% md\n"
    }
   }
  },
  {
   "cell_type": "markdown",
   "source": [
    "## Работа с тензорами"
   ],
   "metadata": {
    "id": "iv1waLk2jmCa",
    "pycharm": {
     "name": "#%% md\n"
    }
   }
  },
  {
   "cell_type": "markdown",
   "source": [
    "Современные модели глубокого обучения, позволяющие решать множество задач (в особенности в компьютерном зрении), по сути, находят сложные представления в данных. Эти представления представляют собой множества чисел с плавяющей запятой.\n",
    "\n",
    "Основной структурой в PyTorch, позволяющей хранить множества чисел с плавающей запятой, являются **тензоры**\n",
    "\n",
    "В рамках глубокого обучения под тензорами понимаются, прежде всего, многомерные массивы"
   ],
   "metadata": {
    "id": "0xDZ53mgjqcw",
    "pycharm": {
     "name": "#%% md\n"
    }
   }
  },
  {
   "cell_type": "code",
   "source": [
    "# создадим первые тензоры на PyTorch\n",
    "import torch\n",
    "\n",
    "# тензоры можно создавать на основе списков Python\n",
    "first_list = [3, 6, 9, 11, 13]\n",
    "first_tensor = torch.Tensor(first_list)\n",
    "type(first_tensor)"
   ],
   "metadata": {
    "id": "pzoqzToFnf36",
    "colab": {
     "base_uri": "https://localhost:8080/"
    },
    "outputId": "ab73e3ef-0287-4ca9-8d3e-7a699f3cab4d",
    "pycharm": {
     "name": "#%%\n"
    }
   },
   "execution_count": null,
   "outputs": [
    {
     "output_type": "execute_result",
     "data": {
      "text/plain": [
       "torch.Tensor"
      ]
     },
     "metadata": {},
     "execution_count": 32
    }
   ]
  },
  {
   "cell_type": "code",
   "source": [
    "first_tensor"
   ],
   "metadata": {
    "id": "CAgTSsffobAZ",
    "colab": {
     "base_uri": "https://localhost:8080/"
    },
    "outputId": "4a21e8ab-e579-408d-dcac-ed0843b902e2",
    "pycharm": {
     "name": "#%%\n"
    }
   },
   "execution_count": null,
   "outputs": [
    {
     "output_type": "execute_result",
     "data": {
      "text/plain": [
       "tensor([ 3.,  6.,  9., 11., 13.])"
      ]
     },
     "metadata": {},
     "execution_count": 33
    }
   ]
  },
  {
   "cell_type": "code",
   "source": [
    "# также тензоры можно создавать на основе массивов numpy\n",
    "import numpy as np\n",
    "numpy_array = np.array([1, 3, 5, 7, 9])\n",
    "print(type(numpy_array))\n",
    "print(numpy_array)\n",
    "\n",
    "torch_array = torch.from_numpy(numpy_array)\n",
    "print(type(torch_array))\n",
    "print(torch_array)"
   ],
   "metadata": {
    "id": "6MBPyDp1n7AS",
    "colab": {
     "base_uri": "https://localhost:8080/"
    },
    "outputId": "90f129f6-f8f8-4ca3-e17d-09315b9a5e76",
    "pycharm": {
     "name": "#%%\n"
    }
   },
   "execution_count": null,
   "outputs": [
    {
     "output_type": "stream",
     "name": "stdout",
     "text": [
      "<class 'numpy.ndarray'>\n",
      "[1 3 5 7 9]\n",
      "<class 'torch.Tensor'>\n",
      "tensor([1, 3, 5, 7, 9])\n"
     ]
    }
   ]
  },
  {
   "cell_type": "code",
   "source": [
    "# также можно задавать тензоры с произвольными значениями\n",
    "# создадим тензор, состоящий из одних нулей\n",
    "zeros_tensor = torch.zeros(100)\n",
    "zeros_tensor"
   ],
   "metadata": {
    "id": "iETlDQSdochE",
    "colab": {
     "base_uri": "https://localhost:8080/"
    },
    "outputId": "8c418c1d-6c1f-4f36-f673-bc0b04a502d2",
    "pycharm": {
     "name": "#%%\n"
    }
   },
   "execution_count": null,
   "outputs": [
    {
     "output_type": "execute_result",
     "data": {
      "text/plain": [
       "tensor([0., 0., 0., 0., 0., 0., 0., 0., 0., 0., 0., 0., 0., 0., 0., 0., 0., 0., 0., 0., 0., 0., 0., 0.,\n",
       "        0., 0., 0., 0., 0., 0., 0., 0., 0., 0., 0., 0., 0., 0., 0., 0., 0., 0., 0., 0., 0., 0., 0., 0.,\n",
       "        0., 0., 0., 0., 0., 0., 0., 0., 0., 0., 0., 0., 0., 0., 0., 0., 0., 0., 0., 0., 0., 0., 0., 0.,\n",
       "        0., 0., 0., 0., 0., 0., 0., 0., 0., 0., 0., 0., 0., 0., 0., 0., 0., 0., 0., 0., 0., 0., 0., 0.,\n",
       "        0., 0., 0., 0.])"
      ]
     },
     "metadata": {},
     "execution_count": 35
    }
   ]
  },
  {
   "cell_type": "code",
   "source": [
    "# создадим тензор, состоящий из одних единиц\n",
    "ones_tensor = torch.ones(100)\n",
    "ones_tensor"
   ],
   "metadata": {
    "id": "Q8NLZ4_jrO6p",
    "colab": {
     "base_uri": "https://localhost:8080/"
    },
    "outputId": "0659e3d4-9931-4750-db5c-71e21adee582",
    "pycharm": {
     "name": "#%%\n"
    }
   },
   "execution_count": null,
   "outputs": [
    {
     "output_type": "execute_result",
     "data": {
      "text/plain": [
       "tensor([1., 1., 1., 1., 1., 1., 1., 1., 1., 1., 1., 1., 1., 1., 1., 1., 1., 1.,\n",
       "        1., 1., 1., 1., 1., 1., 1., 1., 1., 1., 1., 1., 1., 1., 1., 1., 1., 1.,\n",
       "        1., 1., 1., 1., 1., 1., 1., 1., 1., 1., 1., 1., 1., 1., 1., 1., 1., 1.,\n",
       "        1., 1., 1., 1., 1., 1., 1., 1., 1., 1., 1., 1., 1., 1., 1., 1., 1., 1.,\n",
       "        1., 1., 1., 1., 1., 1., 1., 1., 1., 1., 1., 1., 1., 1., 1., 1., 1., 1.,\n",
       "        1., 1., 1., 1., 1., 1., 1., 1., 1., 1.])"
      ]
     },
     "metadata": {},
     "execution_count": 36
    }
   ]
  },
  {
   "cell_type": "code",
   "source": [
    "# создадим тензор, состоящий из чисел, находящихся в диапазоне между 0 и 1\n",
    "random_tensor = torch.rand(100)\n",
    "random_tensor"
   ],
   "metadata": {
    "id": "VIGvcXC4rW5J",
    "colab": {
     "base_uri": "https://localhost:8080/"
    },
    "outputId": "5b8c9974-3109-4bc5-81f9-f693125c980c",
    "pycharm": {
     "name": "#%%\n"
    }
   },
   "execution_count": null,
   "outputs": [
    {
     "output_type": "execute_result",
     "data": {
      "text/plain": [
       "tensor([0.2751, 0.9990, 0.0022, 0.7215, 0.6840, 0.8357, 0.0185, 0.0909, 0.2739,\n",
       "        0.4333, 0.8337, 0.8901, 0.5461, 0.2022, 0.4735, 0.2683, 0.3246, 0.6216,\n",
       "        0.7712, 0.1455, 0.8784, 0.2192, 0.7056, 0.3654, 0.6369, 0.2966, 0.8791,\n",
       "        0.9863, 0.2164, 0.2044, 0.7606, 0.7282, 0.9896, 0.9536, 0.3321, 0.8137,\n",
       "        0.6287, 0.9584, 0.0983, 0.3885, 0.9341, 0.6831, 0.8065, 0.5756, 0.8666,\n",
       "        0.8912, 0.9161, 0.4128, 0.2122, 0.4489, 0.6574, 0.1490, 0.0672, 0.3848,\n",
       "        0.8919, 0.1021, 0.7542, 0.0140, 0.5991, 0.9718, 0.4510, 0.4082, 0.3678,\n",
       "        0.5440, 0.5995, 0.7999, 0.8146, 0.7851, 0.4412, 0.6562, 0.6358, 0.9718,\n",
       "        0.9992, 0.1441, 0.6823, 0.2853, 0.6269, 0.5221, 0.0060, 0.4872, 0.1417,\n",
       "        0.4197, 0.5757, 0.7937, 0.3249, 0.1248, 0.9111, 0.9497, 0.5053, 0.4654,\n",
       "        0.2756, 0.5733, 0.0346, 0.8844, 0.3592, 0.3163, 0.5642, 0.5194, 0.5041,\n",
       "        0.0782])"
      ]
     },
     "metadata": {},
     "execution_count": 37
    }
   ]
  },
  {
   "cell_type": "code",
   "source": [
    "# указанными выше способами можно задвать тензоры произвольных размерностей\n",
    "second_random_tensor = torch.rand(10, 10)\n",
    "second_random_tensor"
   ],
   "metadata": {
    "id": "clpTuUNIshfT",
    "colab": {
     "base_uri": "https://localhost:8080/"
    },
    "outputId": "f348c7a6-9836-419c-e8d8-6bb432c3a681",
    "pycharm": {
     "name": "#%%\n"
    }
   },
   "execution_count": null,
   "outputs": [
    {
     "output_type": "execute_result",
     "data": {
      "text/plain": [
       "tensor([[0.5975, 0.9394, 0.2113, 0.5702, 0.6497, 0.1959, 0.1030, 0.1789, 0.8238,\n",
       "         0.7053],\n",
       "        [0.6957, 0.8898, 0.6837, 0.2725, 0.7376, 0.8744, 0.3918, 0.2417, 0.4258,\n",
       "         0.7458],\n",
       "        [0.9428, 0.6205, 0.2033, 0.5957, 0.4082, 0.3668, 0.0409, 0.6300, 0.3279,\n",
       "         0.6134],\n",
       "        [0.9620, 0.8066, 0.7415, 0.6177, 0.8454, 0.5004, 0.7828, 0.4555, 0.3764,\n",
       "         0.0274],\n",
       "        [0.9502, 0.5555, 0.6149, 0.0160, 0.2817, 0.7244, 0.4054, 0.0716, 0.1932,\n",
       "         0.5715],\n",
       "        [0.4587, 0.2209, 0.0956, 0.9214, 0.5821, 0.2115, 0.0914, 0.1561, 0.9681,\n",
       "         0.6830],\n",
       "        [0.7585, 0.6813, 0.0646, 0.5326, 0.9388, 0.8326, 0.4190, 0.8188, 0.3782,\n",
       "         0.1046],\n",
       "        [0.8975, 0.4423, 0.1444, 0.7944, 0.2471, 0.6912, 0.4557, 0.4619, 0.8177,\n",
       "         0.9834],\n",
       "        [0.5816, 0.2750, 0.3250, 0.7775, 0.6497, 0.0155, 0.5773, 0.9708, 0.7614,\n",
       "         0.6352],\n",
       "        [0.5283, 0.4844, 0.9226, 0.9118, 0.6999, 0.0562, 0.0584, 0.2718, 0.9658,\n",
       "         0.3305]])"
      ]
     },
     "metadata": {},
     "execution_count": 38
    }
   ]
  },
  {
   "cell_type": "code",
   "source": [
    "third_random_tensor = torch.rand(1, 3, 416, 416)\n",
    "third_random_tensor"
   ],
   "metadata": {
    "id": "DzSczpcmuSPP",
    "colab": {
     "base_uri": "https://localhost:8080/"
    },
    "outputId": "5c21307f-48ff-4f38-8df1-55df7d1a507c",
    "pycharm": {
     "name": "#%%\n"
    }
   },
   "execution_count": null,
   "outputs": [
    {
     "output_type": "execute_result",
     "data": {
      "text/plain": [
       "tensor([[[[0.4068, 0.8029, 0.4180,  ..., 0.7649, 0.5333, 0.0613],\n",
       "          [0.5534, 0.8308, 0.2009,  ..., 0.2986, 0.2571, 0.1600],\n",
       "          [0.8308, 0.7052, 0.9179,  ..., 0.9723, 0.1329, 0.5378],\n",
       "          ...,\n",
       "          [0.7999, 0.2504, 0.8587,  ..., 0.3699, 0.4507, 0.7639],\n",
       "          [0.5440, 0.1362, 0.5550,  ..., 0.8522, 0.2195, 0.0793],\n",
       "          [0.8493, 0.8123, 0.6326,  ..., 0.5751, 0.6147, 0.2737]],\n",
       "\n",
       "         [[0.6437, 0.2779, 0.3688,  ..., 0.0056, 0.9003, 0.6343],\n",
       "          [0.8424, 0.4626, 0.0407,  ..., 0.1147, 0.3591, 0.8591],\n",
       "          [0.9355, 0.0085, 0.7302,  ..., 0.1879, 0.4490, 0.6659],\n",
       "          ...,\n",
       "          [0.1344, 0.2245, 0.1373,  ..., 0.5187, 0.7793, 0.6198],\n",
       "          [0.4748, 0.9851, 0.5847,  ..., 0.1135, 0.2221, 0.6462],\n",
       "          [0.8671, 0.9402, 0.1691,  ..., 0.6532, 0.2414, 0.4051]],\n",
       "\n",
       "         [[0.9789, 0.9879, 0.8707,  ..., 0.3728, 0.1265, 0.7666],\n",
       "          [0.1014, 0.0686, 0.5172,  ..., 0.9644, 0.9381, 0.0500],\n",
       "          [0.8194, 0.5900, 0.6096,  ..., 0.6453, 0.5492, 0.4675],\n",
       "          ...,\n",
       "          [0.3335, 0.0099, 0.7043,  ..., 0.3561, 0.0703, 0.9003],\n",
       "          [0.2833, 0.5655, 0.2543,  ..., 0.5978, 0.1602, 0.9168],\n",
       "          [0.2948, 0.8701, 0.8793,  ..., 0.3332, 0.4162, 0.3341]]]])"
      ]
     },
     "metadata": {},
     "execution_count": 39
    }
   ]
  },
  {
   "cell_type": "code",
   "source": [
    "third_random_tensor_ = torch.rand(3, 416, 416)\n",
    "third_random_tensor_.shape"
   ],
   "metadata": {
    "id": "PMTyMtYdCUyA",
    "colab": {
     "base_uri": "https://localhost:8080/"
    },
    "outputId": "4f384fa4-e1aa-4667-8d48-193b433d47f1",
    "pycharm": {
     "name": "#%%\n"
    }
   },
   "execution_count": null,
   "outputs": [
    {
     "output_type": "execute_result",
     "data": {
      "text/plain": [
       "torch.Size([3, 416, 416])"
      ]
     },
     "metadata": {},
     "execution_count": 40
    }
   ]
  },
  {
   "cell_type": "code",
   "source": [
    "third_random_tensor_ = third_random_tensor_.unsqueeze(0)\n",
    "third_random_tensor_.shape"
   ],
   "metadata": {
    "id": "FC-Be89JCf0K",
    "colab": {
     "base_uri": "https://localhost:8080/"
    },
    "outputId": "71fe69d7-6890-4458-82bd-59b925f4451f",
    "pycharm": {
     "name": "#%%\n"
    }
   },
   "execution_count": null,
   "outputs": [
    {
     "output_type": "execute_result",
     "data": {
      "text/plain": [
       "torch.Size([1, 3, 416, 416])"
      ]
     },
     "metadata": {},
     "execution_count": 41
    }
   ]
  },
  {
   "cell_type": "code",
   "source": [
    "# чтобы узнать размерность тензора, нужно вызвать атрибу тsize у тензора\n",
    "third_random_tensor.shape"
   ],
   "metadata": {
    "id": "VYx1pu0IuaBn",
    "colab": {
     "base_uri": "https://localhost:8080/"
    },
    "outputId": "4509f031-2aa4-4ab8-fa3a-d1a99cf53063",
    "pycharm": {
     "name": "#%%\n"
    }
   },
   "execution_count": null,
   "outputs": [
    {
     "output_type": "execute_result",
     "data": {
      "text/plain": [
       "torch.Size([1, 3, 416, 416])"
      ]
     },
     "metadata": {},
     "execution_count": 42
    }
   ]
  },
  {
   "cell_type": "code",
   "source": [
    "# к элементам тензора можно осуществлять доступ по индексам по аналогии со списками в Python\n",
    "fourth_random_tensor = torch.rand(9, 9)\n",
    "fourth_random_tensor"
   ],
   "metadata": {
    "id": "tw4nDFpOvkh7",
    "colab": {
     "base_uri": "https://localhost:8080/"
    },
    "outputId": "e395c83c-acd4-4c0a-e2b5-3fbf2440e6ac",
    "pycharm": {
     "name": "#%%\n"
    }
   },
   "execution_count": null,
   "outputs": [
    {
     "output_type": "execute_result",
     "data": {
      "text/plain": [
       "tensor([[0.7665, 0.0892, 0.9050, 0.6813, 0.1263, 0.6049, 0.2611, 0.8164, 0.4995],\n",
       "        [0.4080, 0.7917, 0.0423, 0.9952, 0.3499, 0.8089, 0.7641, 0.7789, 0.7849],\n",
       "        [0.9780, 0.1594, 0.0080, 0.8827, 0.8100, 0.4773, 0.8812, 0.9806, 0.4461],\n",
       "        [0.1710, 0.2865, 0.4673, 0.1794, 0.6505, 0.8497, 0.0192, 0.9919, 0.9213],\n",
       "        [0.3875, 0.8660, 0.5253, 0.7699, 0.7755, 0.8268, 0.2177, 0.0719, 0.1263],\n",
       "        [0.9616, 0.2189, 0.5198, 0.6300, 0.8995, 0.8249, 0.8351, 0.6320, 0.5761],\n",
       "        [0.2193, 0.3651, 0.2742, 0.8447, 0.1842, 0.3342, 0.8408, 0.9213, 0.3516],\n",
       "        [0.1926, 0.0442, 0.4953, 0.4702, 0.1771, 0.1749, 0.9968, 0.8422, 0.1115],\n",
       "        [0.3603, 0.1014, 0.9937, 0.2538, 0.8686, 0.0500, 0.4604, 0.0622, 0.5186]])"
      ]
     },
     "metadata": {},
     "execution_count": 43
    }
   ]
  },
  {
   "cell_type": "code",
   "source": [
    "print(fourth_random_tensor[0])\n",
    "print(\"\\n\")\n",
    "print(fourth_random_tensor[0][0])\n",
    "print(\"\\n\")\n",
    "print(fourth_random_tensor[1:8:2][1:8:2])\n",
    "print(\"\\n\")\n",
    "print(fourth_random_tensor[-6:-1:2])"
   ],
   "metadata": {
    "id": "1aOHPYgUvxv8",
    "colab": {
     "base_uri": "https://localhost:8080/"
    },
    "outputId": "5d78ac77-2211-4015-80be-70f457a23973",
    "pycharm": {
     "name": "#%%\n"
    }
   },
   "execution_count": null,
   "outputs": [
    {
     "output_type": "stream",
     "name": "stdout",
     "text": [
      "tensor([0.7665, 0.0892, 0.9050, 0.6813, 0.1263, 0.6049, 0.2611, 0.8164, 0.4995])\n",
      "\n",
      "\n",
      "tensor(0.7665)\n",
      "\n",
      "\n",
      "tensor([[0.1710, 0.2865, 0.4673, 0.1794, 0.6505, 0.8497, 0.0192, 0.9919, 0.9213],\n",
      "        [0.1926, 0.0442, 0.4953, 0.4702, 0.1771, 0.1749, 0.9968, 0.8422, 0.1115]])\n",
      "\n",
      "\n",
      "tensor([[0.1710, 0.2865, 0.4673, 0.1794, 0.6505, 0.8497, 0.0192, 0.9919, 0.9213],\n",
      "        [0.9616, 0.2189, 0.5198, 0.6300, 0.8995, 0.8249, 0.8351, 0.6320, 0.5761],\n",
      "        [0.1926, 0.0442, 0.4953, 0.4702, 0.1771, 0.1749, 0.9968, 0.8422, 0.1115]])\n"
     ]
    }
   ]
  },
  {
   "cell_type": "code",
   "source": [
    "# можно произвольно менять элементы тензора\n",
    "fifth_random_tensor = torch.rand(5)\n",
    "fifth_random_tensor"
   ],
   "metadata": {
    "id": "Pjss6AlIymve",
    "colab": {
     "base_uri": "https://localhost:8080/"
    },
    "outputId": "270aa95f-34b9-41b5-f533-64604f7e8f54",
    "pycharm": {
     "name": "#%%\n"
    }
   },
   "execution_count": null,
   "outputs": [
    {
     "output_type": "execute_result",
     "data": {
      "text/plain": [
       "tensor([0.6916, 0.3759, 0.5650, 0.1743, 0.4069])"
      ]
     },
     "metadata": {},
     "execution_count": 45
    }
   ]
  },
  {
   "cell_type": "code",
   "source": [
    "fifth_random_tensor[0] = 1\n",
    "fifth_random_tensor"
   ],
   "metadata": {
    "id": "LAt6R_Rc0AJ_",
    "colab": {
     "base_uri": "https://localhost:8080/"
    },
    "outputId": "96723280-3ca8-4abd-a91f-4c21de81139f",
    "pycharm": {
     "name": "#%%\n"
    }
   },
   "execution_count": null,
   "outputs": [
    {
     "output_type": "execute_result",
     "data": {
      "text/plain": [
       "tensor([1.0000, 0.3759, 0.5650, 0.1743, 0.4069])"
      ]
     },
     "metadata": {},
     "execution_count": 46
    }
   ]
  },
  {
   "cell_type": "code",
   "source": [
    "# можно задавать числовой тип в тензорах при их создании с помощью аргумента dtype\n",
    "# по умолчанию все числа в тензорах хранятся в формате float32\n",
    "fifth_random_tensor.dtype"
   ],
   "metadata": {
    "id": "H774kfas0F7m",
    "colab": {
     "base_uri": "https://localhost:8080/"
    },
    "outputId": "adaf659c-8bab-42ed-f441-57c4a1e1fb0c",
    "pycharm": {
     "name": "#%%\n"
    }
   },
   "execution_count": null,
   "outputs": [
    {
     "output_type": "execute_result",
     "data": {
      "text/plain": [
       "torch.float32"
      ]
     },
     "metadata": {},
     "execution_count": 47
    }
   ]
  },
  {
   "cell_type": "code",
   "source": [
    "float16_random_tensor = torch.rand(10, dtype=torch.float16)\n",
    "float16_random_tensor"
   ],
   "metadata": {
    "id": "5ZAPFcT70bkF",
    "colab": {
     "base_uri": "https://localhost:8080/"
    },
    "outputId": "8a17c6d9-122d-487e-a176-cf5ae671784b",
    "pycharm": {
     "name": "#%%\n"
    }
   },
   "execution_count": null,
   "outputs": [
    {
     "output_type": "execute_result",
     "data": {
      "text/plain": [
       "tensor([0.3335, 0.9888, 0.4961, 0.8198, 0.0107, 0.6235, 0.2954, 0.7803, 0.5386,\n",
       "        0.7783], dtype=torch.float16)"
      ]
     },
     "metadata": {},
     "execution_count": 48
    }
   ]
  },
  {
   "cell_type": "code",
   "source": [
    "# можно изменять тип тензора с момощью метода to()\n",
    "print(fifth_random_tensor.dtype)\n",
    "fifth_random_tensor = fifth_random_tensor.to(dtype=torch.float64)\n",
    "print(fifth_random_tensor.dtype)"
   ],
   "metadata": {
    "id": "h_5jvmGTr1z7",
    "colab": {
     "base_uri": "https://localhost:8080/"
    },
    "outputId": "043cd5a4-e00b-425e-e5dc-4d58e539eb4e",
    "pycharm": {
     "name": "#%%\n"
    }
   },
   "execution_count": null,
   "outputs": [
    {
     "output_type": "stream",
     "name": "stdout",
     "text": [
      "torch.float32\n",
      "torch.float64\n"
     ]
    }
   ]
  },
  {
   "cell_type": "code",
   "source": [
    "# в PyTorch имеется множество методов, предоставляющих операции над тензорами\n",
    "# все они описаны в подробной документации: https://pytorch.org/docs/stable/tensors.html\n",
    "\n",
    "# арифметические операции операции\n",
    "tensor_1 = torch.Tensor([[6, 7], [9, 11]])\n",
    "tensor_2 = torch.Tensor([[2, 4],[6, 8]])\n",
    "\n",
    "print(tensor_1 + tensor_2)\n",
    "print(\"\\n\")\n",
    "print(tensor_1 - tensor_2)\n",
    "print(\"\\n\")\n",
    "print(tensor_1 * tensor_2)\n",
    "print(\"\\n\")\n",
    "print(tensor_1 / tensor_2)\n",
    "print(\"\\n\")\n",
    "print(tensor_1 ** 2 + tensor_2 * 100 - 10)\n",
    "print(\"\\n\")\n",
    "print(tensor_1 ** 0.5 + tensor_2 ** 0.1)"
   ],
   "metadata": {
    "id": "2-X32kZB1_Qi",
    "colab": {
     "base_uri": "https://localhost:8080/"
    },
    "outputId": "49886e0c-7176-407d-8a4b-fea2cb260ded",
    "pycharm": {
     "name": "#%%\n"
    }
   },
   "execution_count": null,
   "outputs": [
    {
     "output_type": "stream",
     "name": "stdout",
     "text": [
      "tensor([[ 8., 11.],\n",
      "        [15., 19.]])\n",
      "\n",
      "\n",
      "tensor([[4., 3.],\n",
      "        [3., 3.]])\n",
      "\n",
      "\n",
      "tensor([[12., 28.],\n",
      "        [54., 88.]])\n",
      "\n",
      "\n",
      "tensor([[3.0000, 1.7500],\n",
      "        [1.5000, 1.3750]])\n",
      "\n",
      "\n",
      "tensor([[226., 439.],\n",
      "        [671., 911.]])\n",
      "\n",
      "\n",
      "tensor([[3.5213, 3.7944],\n",
      "        [4.1962, 4.5478]])\n"
     ]
    }
   ]
  },
  {
   "cell_type": "code",
   "source": [
    "# математические функции\n",
    "tensor_3 = torch.tensor([10, 20, 30, 40, 50])\n",
    "\n",
    "print(torch.sin(tensor_3))\n",
    "print(\"\\n\")\n",
    "\n",
    "print(torch.cos(tensor_3))\n",
    "print(\"\\n\")\n",
    "\n",
    "print(torch.tan(tensor_3))\n",
    "print(\"\\n\")\n",
    "\n",
    "print(torch.atan(tensor_3))\n",
    "print(\"\\n\")\n",
    "\n",
    "print(torch.square(tensor_3))\n",
    "print(\"\\n\")\n",
    "\n",
    "print(torch.add(tensor_3, 10))\n",
    "print(\"\\n\")\n",
    "\n",
    "print(torch.log10(tensor_3))\n",
    "print(\"\\n\")\n",
    "\n",
    "print(torch.pow(tensor_3, 100))\n",
    "print(\"\\n\")\n",
    "\n",
    "print(torch.exp(tensor_3))\n",
    "print(\"\\n\")\n",
    "\n",
    "print(torch.neg(tensor_3))\n",
    "print(\"\\n\")\n",
    "\n",
    "print(torch.abs(tensor_3))"
   ],
   "metadata": {
    "id": "zGX5P7YlsoRi",
    "colab": {
     "base_uri": "https://localhost:8080/"
    },
    "outputId": "79b9c570-c182-4839-df5b-16c9cc4bded0",
    "pycharm": {
     "name": "#%%\n"
    }
   },
   "execution_count": null,
   "outputs": [
    {
     "output_type": "stream",
     "name": "stdout",
     "text": [
      "tensor([-0.5440,  0.9129, -0.9880,  0.7451, -0.2624])\n",
      "\n",
      "\n",
      "tensor([-0.8391,  0.4081,  0.1543, -0.6669,  0.9650])\n",
      "\n",
      "\n",
      "tensor([ 0.6484,  2.2372, -6.4053, -1.1172, -0.2719])\n",
      "\n",
      "\n",
      "tensor([1.4711, 1.5208, 1.5375, 1.5458, 1.5508])\n",
      "\n",
      "\n",
      "tensor([ 100,  400,  900, 1600, 2500])\n",
      "\n",
      "\n",
      "tensor([20, 30, 40, 50, 60])\n",
      "\n",
      "\n",
      "tensor([1.0000, 1.3010, 1.4771, 1.6021, 1.6990])\n",
      "\n",
      "\n",
      "tensor([0, 0, 0, 0, 0])\n",
      "\n",
      "\n",
      "tensor([2.2026e+04, 4.8517e+08, 1.0686e+13, 2.3539e+17, 5.1847e+21])\n",
      "\n",
      "\n",
      "tensor([-10, -20, -30, -40, -50])\n",
      "\n",
      "\n",
      "tensor([10, 20, 30, 40, 50])\n"
     ]
    }
   ]
  },
  {
   "cell_type": "code",
   "source": [
    "# прочие операции\n",
    "tensor_4 = torch.Tensor([3, 6, 9, 12, 15, 18, 18])\n",
    "\n",
    "print(torch.mean(tensor_4))\n",
    "print(\"\\n\")\n",
    "\n",
    "print(torch.std(tensor_4))\n",
    "print(\"\\n\")\n",
    "\n",
    "print(torch.max(tensor_4))\n",
    "print(\"\\n\")\n",
    "\n",
    "print(torch.min(tensor_4))\n",
    "print(\"\\n\")\n",
    "\n",
    "print(torch.prod(tensor_4))\n",
    "print(\"\\n\")\n",
    "\n",
    "print(torch.unique(tensor_4))\n",
    "print(\"\\n\")\n",
    "\n",
    "print(torch.sum(tensor_4))\n",
    "print(\"\\n\")\n",
    "\n",
    "tensor_5 = torch.tensor([3, 6, 9, 11, 15, 16, 18])\n",
    "print(torch.eq(tensor_4, tensor_5))"
   ],
   "metadata": {
    "id": "2cmZzt9mycuJ",
    "colab": {
     "base_uri": "https://localhost:8080/"
    },
    "outputId": "ff5b8be0-d517-400d-8f60-57a36b2fabdf",
    "pycharm": {
     "name": "#%%\n"
    }
   },
   "execution_count": null,
   "outputs": [
    {
     "output_type": "stream",
     "name": "stdout",
     "text": [
      "tensor(11.5714)\n",
      "\n",
      "\n",
      "tensor(5.8554)\n",
      "\n",
      "\n",
      "tensor(18.)\n",
      "\n",
      "\n",
      "tensor(3.)\n",
      "\n",
      "\n",
      "tensor(9447840.)\n",
      "\n",
      "\n",
      "tensor([ 3.,  6.,  9., 12., 15., 18.])\n",
      "\n",
      "\n",
      "tensor(81.)\n",
      "\n",
      "\n",
      "tensor([ True,  True,  True, False,  True, False,  True])\n"
     ]
    }
   ]
  },
  {
   "cell_type": "code",
   "source": [
    "# матричные операции\n",
    "tensor_matrix_1 = torch.tensor([[10, 20], [30, 40]])\n",
    "tensor_matrix_2 = torch.tensor([[50, 60], [70, 80]])\n",
    "\n",
    "print(tensor_matrix_1)\n",
    "print(tensor_matrix_1.T)\n",
    "print(torch.transpose(tensor_matrix_1, 0, 1))\n",
    "print(torch.matmul(tensor_matrix_1, tensor_matrix_2))\n",
    "\n",
    "tensor_vector_1 = torch.tensor([10, 20, 30, 40, 50, 60])\n",
    "tensor_vector_2 = torch.tensor([70, 80, 90, 100, 110, 120])"
   ],
   "metadata": {
    "id": "nNiQE4SW7tMO",
    "colab": {
     "base_uri": "https://localhost:8080/"
    },
    "outputId": "0a87a603-bf1a-4f3d-defe-57367857db03",
    "pycharm": {
     "name": "#%%\n"
    }
   },
   "execution_count": null,
   "outputs": [
    {
     "output_type": "stream",
     "name": "stdout",
     "text": [
      "tensor([[10, 20],\n",
      "        [30, 40]])\n",
      "tensor([[10, 30],\n",
      "        [20, 40]])\n",
      "tensor([[10, 30],\n",
      "        [20, 40]])\n",
      "tensor([[1900, 2200],\n",
      "        [4300, 5000]])\n"
     ]
    }
   ]
  },
  {
   "cell_type": "code",
   "source": [
    "# перенос тензоров на GPU с помощью метода to() и атрибута device\n",
    "test_tensor = torch.randn(100)\n",
    "test_tensor.device"
   ],
   "metadata": {
    "id": "_uGP91-f7FiO",
    "colab": {
     "base_uri": "https://localhost:8080/"
    },
    "outputId": "f9fa49d5-2889-4d07-a0fa-5c53d114b7b8",
    "pycharm": {
     "name": "#%%\n"
    }
   },
   "execution_count": null,
   "outputs": [
    {
     "output_type": "execute_result",
     "data": {
      "text/plain": [
       "device(type='cpu')"
      ]
     },
     "metadata": {},
     "execution_count": 54
    }
   ]
  },
  {
   "cell_type": "code",
   "source": [
    "test_tensor = test_tensor.to(device=\"cuda:0\")\n",
    "test_tensor.device"
   ],
   "metadata": {
    "id": "rPO1N3SYDym-",
    "colab": {
     "base_uri": "https://localhost:8080/",
     "height": 314
    },
    "outputId": "4fa87557-5249-4693-b01a-42549a8f7e91",
    "pycharm": {
     "name": "#%%\n"
    }
   },
   "execution_count": null,
   "outputs": [
    {
     "output_type": "error",
     "ename": "RuntimeError",
     "evalue": "ignored",
     "traceback": [
      "\u001B[0;31m---------------------------------------------------------------------------\u001B[0m",
      "\u001B[0;31mRuntimeError\u001B[0m                              Traceback (most recent call last)",
      "\u001B[0;32m<ipython-input-55-e873d079057f>\u001B[0m in \u001B[0;36m<cell line: 1>\u001B[0;34m()\u001B[0m\n\u001B[0;32m----> 1\u001B[0;31m \u001B[0mtest_tensor\u001B[0m \u001B[0;34m=\u001B[0m \u001B[0mtest_tensor\u001B[0m\u001B[0;34m.\u001B[0m\u001B[0mto\u001B[0m\u001B[0;34m(\u001B[0m\u001B[0mdevice\u001B[0m\u001B[0;34m=\u001B[0m\u001B[0;34m\"cuda:0\"\u001B[0m\u001B[0;34m)\u001B[0m\u001B[0;34m\u001B[0m\u001B[0;34m\u001B[0m\u001B[0m\n\u001B[0m\u001B[1;32m      2\u001B[0m \u001B[0mtest_tensor\u001B[0m\u001B[0;34m.\u001B[0m\u001B[0mdevice\u001B[0m\u001B[0;34m\u001B[0m\u001B[0;34m\u001B[0m\u001B[0m\n",
      "\u001B[0;32m/usr/local/lib/python3.10/dist-packages/torch/cuda/__init__.py\u001B[0m in \u001B[0;36m_lazy_init\u001B[0;34m()\u001B[0m\n\u001B[1;32m    296\u001B[0m         \u001B[0;32mif\u001B[0m \u001B[0;34m\"CUDA_MODULE_LOADING\"\u001B[0m \u001B[0;32mnot\u001B[0m \u001B[0;32min\u001B[0m \u001B[0mos\u001B[0m\u001B[0;34m.\u001B[0m\u001B[0menviron\u001B[0m\u001B[0;34m:\u001B[0m\u001B[0;34m\u001B[0m\u001B[0;34m\u001B[0m\u001B[0m\n\u001B[1;32m    297\u001B[0m             \u001B[0mos\u001B[0m\u001B[0;34m.\u001B[0m\u001B[0menviron\u001B[0m\u001B[0;34m[\u001B[0m\u001B[0;34m\"CUDA_MODULE_LOADING\"\u001B[0m\u001B[0;34m]\u001B[0m \u001B[0;34m=\u001B[0m \u001B[0;34m\"LAZY\"\u001B[0m\u001B[0;34m\u001B[0m\u001B[0;34m\u001B[0m\u001B[0m\n\u001B[0;32m--> 298\u001B[0;31m         \u001B[0mtorch\u001B[0m\u001B[0;34m.\u001B[0m\u001B[0m_C\u001B[0m\u001B[0;34m.\u001B[0m\u001B[0m_cuda_init\u001B[0m\u001B[0;34m(\u001B[0m\u001B[0;34m)\u001B[0m\u001B[0;34m\u001B[0m\u001B[0;34m\u001B[0m\u001B[0m\n\u001B[0m\u001B[1;32m    299\u001B[0m         \u001B[0;31m# Some of the queued calls may reentrantly call _lazy_init();\u001B[0m\u001B[0;34m\u001B[0m\u001B[0;34m\u001B[0m\u001B[0m\n\u001B[1;32m    300\u001B[0m         \u001B[0;31m# we need to just return without initializing in that case.\u001B[0m\u001B[0;34m\u001B[0m\u001B[0;34m\u001B[0m\u001B[0m\n",
      "\u001B[0;31mRuntimeError\u001B[0m: Found no NVIDIA driver on your system. Please check that you have an NVIDIA GPU and installed a driver from http://www.nvidia.com/Download/index.aspx"
     ]
    }
   ]
  },
  {
   "cell_type": "markdown",
   "source": [
    "## Задания\n",
    "\n",
    "1. Создайте одномерный PyTorch-тензор из списка Python длиной 100, где каждый элемент является квадратом его индекса (индексы начинаются с 0)\n",
    "2. Вычислите у созданного в п. 1 тензора следующие функции: синус, косинус, возведение в степень 3, логарифм по основанию 10, экспонента, среднее (mean), стандартное отклонение (std), максимум и минимум\n",
    "3. Перенесите созданный в п. 1 тензор на GPU\n",
    "4. Создайте одномерный тензор с названием big_tensor, заполненный случайными числами от 0 до 1, и имеющий длину 1.000.000 Измерьте время выполнения следующей операции: `sin(tensor)^10` + `cos(tensor)^10` сперва на CPU, потом на GPU\n",
    "5. Создайте два двумерных тензора (матрицы), заполненных случайными числами от 0 до 1 и имеющих размер 10000х10000. Измерьте время выполнения операции произведения этих матриц сперва на CPU, а потом на GPU"
   ],
   "metadata": {
    "id": "D3gy0XsgFhA0",
    "pycharm": {
     "name": "#%% md\n"
    }
   }
  },
  {
   "cell_type": "markdown",
   "source": [
    " # Задание 1"
   ],
   "metadata": {
    "collapsed": false,
    "pycharm": {
     "name": "#%% md\n"
    }
   }
  },
  {
   "cell_type": "code",
   "execution_count": 2,
   "outputs": [
    {
     "data": {
      "text/plain": "tensor([0.0000e+00, 7.5866e-01, 1.4874e+00, 7.4917e+00, 1.3963e+01, 1.3557e+01,\n        1.9666e+01, 2.4933e+01, 4.3631e+01, 7.6116e+01, 8.1317e+01, 3.7965e+01,\n        1.0696e+02, 1.4446e+02, 1.4261e+02, 1.3038e+02, 1.0196e+02, 2.7711e+02,\n        2.1609e+02, 1.9220e+02, 2.0820e+02, 4.2475e+02, 2.6401e+02, 3.0930e+02,\n        3.3224e+02, 5.5300e+02, 6.2444e+02, 6.9151e+02, 7.0196e+02, 6.1776e+02,\n        7.1534e+01, 5.1497e+02, 1.0001e+03, 2.4438e+02, 2.4008e+02, 1.0865e+02,\n        1.1340e+03, 1.1036e+03, 1.0765e+03, 8.3691e+02, 4.4202e+02, 1.3738e+02,\n        9.3147e+02, 1.2419e+03, 6.5749e+01, 9.5598e+02, 5.1369e+02, 1.9738e+03,\n        1.9626e+03, 2.0479e+03, 1.8050e+03, 1.3438e+02, 2.1299e+01, 2.3243e+03,\n        2.2278e+03, 1.1319e+03, 7.8234e+02, 2.9356e+03, 7.4501e+02, 1.3031e+03,\n        3.4141e+03, 2.7513e+03, 3.3069e+03, 1.6439e+03, 2.7934e+03, 2.0446e+03,\n        2.5065e+03, 1.2910e+03, 3.9545e+02, 3.2643e+03, 4.0076e+03, 1.3196e+02,\n        2.8637e+03, 1.7826e+03, 4.9648e+02, 3.8250e+03, 1.4122e+03, 5.1701e+03,\n        5.3686e+03, 3.9910e+03, 6.2987e+03, 6.1452e+02, 2.1942e+03, 7.7213e+02,\n        4.7727e+03, 1.2792e+03, 6.8504e+03, 4.2662e+03, 1.8718e+03, 2.8546e+03,\n        1.1569e+03, 4.5187e+03, 6.7215e+03, 1.5115e+03, 3.7684e+03, 6.8036e+03,\n        4.6067e+03, 1.6209e+03, 6.0782e+03, 4.0666e+03])"
     },
     "execution_count": 2,
     "metadata": {},
     "output_type": "execute_result"
    }
   ],
   "source": [
    "import random\n",
    "import torch\n",
    "# Создание списка из 100 случайных элементов\n",
    "random_list = [random.random() for _ in range(100)]\n",
    "\n",
    "# Применение квадрата индекса к каждому элементу списка с помощью enumerate\n",
    "squared_index_list = [value * (index ** 2) for index, value in enumerate(random_list)]\n",
    "\n",
    "# Преобразование в PyTorch тензор\n",
    "torch_tensor = torch.tensor(squared_index_list)\n",
    "\n",
    "torch_tensor"
   ],
   "metadata": {
    "collapsed": false,
    "pycharm": {
     "name": "#%%\n"
    }
   }
  },
  {
   "cell_type": "markdown",
   "source": [
    "# Задание 2"
   ],
   "metadata": {
    "collapsed": false,
    "pycharm": {
     "name": "#%% md\n"
    }
   }
  },
  {
   "cell_type": "code",
   "execution_count": 12,
   "outputs": [
    {
     "name": "stdout",
     "output_type": "stream",
     "text": [
      "Синусы: tensor([ 0.0000,  0.6879,  0.9965,  0.9351,  0.9848,  0.8364,  0.7285, -0.1987,\n",
      "        -0.3438,  0.6576, -0.3564,  0.2632,  0.1448, -0.0519, -0.9454, -1.0000,\n",
      "         0.9907,  0.6051,  0.6307, -0.5327,  0.7535, -0.5939,  0.1131,  0.9889,\n",
      "        -0.6986,  0.0844,  0.6696,  0.3496, -0.9832,  0.9047,  0.6615, -0.2486,\n",
      "         0.8561, -0.6186,  0.9692,  0.9643,  0.1178, -0.7644,  0.8984,  0.9490,\n",
      "         0.8103, -0.7488,  0.9999, -0.8064,  0.2223,  0.8050, -0.9991,  0.7869,\n",
      "         0.7833, -0.4203,  0.9846,  0.6508,  0.6385, -0.4609, -0.4320,  0.8237,\n",
      "        -0.0814,  0.9753, -0.4346,  0.6131,  0.7099, -0.7061,  0.9181, -0.7697,\n",
      "        -0.4729,  0.5760, -0.4535,  0.1484, -0.3769, -0.2031, -0.8633,  0.0082,\n",
      "        -0.9848, -0.9707,  0.1045, -0.9907, -0.9950, -0.8178,  0.3305,  0.9037,\n",
      "         0.2024, -0.9431,  0.9871, -0.6463, -0.5885, -0.5514,  0.9815, -0.0733,\n",
      "        -0.5589,  0.8921,  0.7369,  0.8937, -0.9954, -0.4058, -0.9987, -0.8922,\n",
      "         0.9222, -0.1202,  0.6808,  0.9859])\n",
      "Косинусы: tensor([ 1.0000,  0.7258,  0.0833,  0.3544,  0.1736,  0.5481,  0.6850,  0.9801,\n",
      "         0.9390,  0.7534,  0.9343,  0.9647,  0.9895,  0.9987, -0.3260,  0.0012,\n",
      "         0.1364,  0.7961, -0.7761, -0.8463,  0.6574, -0.8046,  0.9936,  0.1487,\n",
      "         0.7156,  0.9964, -0.7427,  0.9369, -0.1823, -0.4261, -0.7499,  0.9686,\n",
      "         0.5169,  0.7857,  0.2463, -0.2648, -0.9930, -0.6448, -0.4391,  0.3152,\n",
      "        -0.5861,  0.6628,  0.0160, -0.5914, -0.9750,  0.5933,  0.0414,  0.6171,\n",
      "        -0.6216,  0.9074, -0.1747, -0.7592, -0.7696,  0.8875, -0.9019,  0.5670,\n",
      "        -0.9967,  0.2210, -0.9006, -0.7900, -0.7043,  0.7081, -0.3964, -0.6384,\n",
      "        -0.8811, -0.8174,  0.8913, -0.9889,  0.9263, -0.9791,  0.5046,  1.0000,\n",
      "         0.1735, -0.2404,  0.9945,  0.1364,  0.0995,  0.5756, -0.9438,  0.4282,\n",
      "        -0.9793,  0.3325,  0.1603,  0.7631, -0.8085, -0.8342, -0.1916,  0.9973,\n",
      "         0.8292, -0.4518,  0.6760,  0.4486,  0.0956, -0.9140,  0.0509,  0.4516,\n",
      "         0.3867,  0.9927, -0.7325,  0.1674])\n",
      "Возведение в 3 степень: tensor([0.0000e+00, 4.3665e-01, 3.2905e+00, 4.2048e+02, 2.7221e+03, 2.4917e+03,\n",
      "        7.6056e+03, 1.5499e+04, 8.3061e+04, 4.4099e+05, 5.3770e+05, 5.4723e+04,\n",
      "        1.2237e+06, 3.0148e+06, 2.9004e+06, 2.2162e+06, 1.0601e+06, 2.1279e+07,\n",
      "        1.0090e+07, 7.0999e+06, 9.0247e+06, 7.6631e+07, 1.8401e+07, 2.9589e+07,\n",
      "        3.6672e+07, 1.6912e+08, 2.4349e+08, 3.3067e+08, 3.4589e+08, 2.3576e+08,\n",
      "        3.6604e+05, 1.3657e+08, 1.0002e+09, 1.4594e+07, 1.3838e+07, 1.2827e+06,\n",
      "        1.4583e+09, 1.3440e+09, 1.2473e+09, 5.8620e+08, 8.6363e+07, 2.5930e+06,\n",
      "        8.0817e+08, 1.9152e+09, 2.8423e+05, 8.7367e+08, 1.3555e+08, 7.6900e+09,\n",
      "        7.5595e+09, 8.5885e+09, 5.8809e+09, 2.4266e+06, 9.6617e+03, 1.2557e+10,\n",
      "        1.1057e+10, 1.4503e+09, 4.7883e+08, 2.5298e+10, 4.1351e+08, 2.2128e+09,\n",
      "        3.9796e+10, 2.0825e+10, 3.6164e+10, 4.4427e+09, 2.1796e+10, 8.5468e+09,\n",
      "        1.5748e+10, 2.1519e+09, 6.1843e+07, 3.4784e+10, 6.4367e+10, 2.2976e+06,\n",
      "        2.3485e+10, 5.6646e+09, 1.2238e+08, 5.5963e+10, 2.8166e+09, 1.3820e+11,\n",
      "        1.5474e+11, 6.3567e+10, 2.4989e+11, 2.3206e+08, 1.0565e+10, 4.6033e+08,\n",
      "        1.0872e+11, 2.0933e+09, 3.2148e+11, 7.7647e+10, 6.5581e+09, 2.3262e+10,\n",
      "        1.5486e+09, 9.2267e+10, 3.0367e+11, 3.4534e+09, 5.3514e+10, 3.1493e+11,\n",
      "        9.7765e+10, 4.2589e+09, 2.2456e+11, 6.7251e+10])\n",
      "Логарифмы по основанию 10: tensor([-9.0000, -0.1200,  0.1724,  0.8746,  1.1450,  1.1322,  1.2937,  1.3968,\n",
      "         1.6398,  1.8815,  1.9102,  1.5794,  2.0292,  2.1598,  2.1542,  2.1152,\n",
      "         2.0085,  2.4427,  2.3346,  2.2838,  2.3185,  2.6281,  2.4216,  2.4904,\n",
      "         2.5214,  2.7427,  2.7955,  2.8398,  2.8463,  2.7908,  1.8545,  2.7118,\n",
      "         3.0000,  2.3881,  2.3804,  2.0360,  3.0546,  3.0428,  3.0320,  2.9227,\n",
      "         2.6454,  2.1379,  2.9692,  3.0941,  1.8179,  2.9804,  2.7107,  3.2953,\n",
      "         3.2928,  3.3113,  3.2565,  2.1283,  1.3284,  3.3663,  3.3479,  3.0538,\n",
      "         2.8934,  3.4677,  2.8722,  3.1150,  3.5333,  3.4395,  3.5194,  3.2159,\n",
      "         3.4461,  3.3106,  3.3991,  3.1109,  2.5971,  3.5138,  3.6029,  2.1204,\n",
      "         3.4569,  3.2511,  2.6959,  3.5826,  3.1499,  3.7135,  3.7299,  3.6011,\n",
      "         3.7993,  2.7885,  3.3413,  2.8877,  3.6788,  3.1069,  3.8357,  3.6300,\n",
      "         3.2723,  3.4555,  3.0633,  3.6550,  3.8275,  3.1794,  3.5762,  3.8327,\n",
      "         3.6634,  3.2098,  3.7838,  3.6092])\n",
      "Экспоненты: tensor([1.0000e+00, 2.1354e+00, 4.4255e+00, 1.7932e+03, 1.1585e+06, 7.7222e+05,\n",
      "        3.4732e+08, 6.7317e+10, 8.8889e+18, 1.1394e+33, 2.0678e+35, 3.0775e+16,\n",
      "               inf,        inf,        inf,        inf,        inf,        inf,\n",
      "               inf,        inf,        inf,        inf,        inf,        inf,\n",
      "               inf,        inf,        inf,        inf,        inf,        inf,\n",
      "        1.1661e+31,        inf,        inf,        inf,        inf,        inf,\n",
      "               inf,        inf,        inf,        inf,        inf,        inf,\n",
      "               inf,        inf, 3.5854e+28,        inf,        inf,        inf,\n",
      "               inf,        inf,        inf,        inf, 1.7778e+09,        inf,\n",
      "               inf,        inf,        inf,        inf,        inf,        inf,\n",
      "               inf,        inf,        inf,        inf,        inf,        inf,\n",
      "               inf,        inf,        inf,        inf,        inf,        inf,\n",
      "               inf,        inf,        inf,        inf,        inf,        inf,\n",
      "               inf,        inf,        inf,        inf,        inf,        inf,\n",
      "               inf,        inf,        inf,        inf,        inf,        inf,\n",
      "               inf,        inf,        inf,        inf,        inf,        inf,\n",
      "               inf,        inf,        inf,        inf])\n",
      "Среднее: 1614.623779296875\n",
      "Стандартное отклонение: 1806.6654052734375\n",
      "Максимум: 6850.435546875\n",
      "Минимум: 0.0\n"
     ]
    }
   ],
   "source": [
    "# Вычисление различных функций для тензора\n",
    "sin_tensor = torch.sin(torch_tensor)\n",
    "cos_tensor = torch.cos(torch_tensor)\n",
    "pow_tensor = torch_tensor ** 3\n",
    "log_tensor = torch.log10(torch_tensor + 1e-9)  # Добавляем небольшое число для избежания log(0)\n",
    "exp_tensor = torch.exp(torch_tensor)\n",
    "\n",
    "\n",
    "# Вычисление статистических метрик\n",
    "mean_val = torch.mean(torch_tensor)\n",
    "std_val = torch.std(torch_tensor)\n",
    "max_val = torch.max(torch_tensor)\n",
    "min_val = torch.min(torch_tensor)\n",
    "\n",
    "\n",
    "print(f'Синусы: {sin_tensor}')\n",
    "print(f'Косинусы: {cos_tensor}')\n",
    "print(f'Возведение в 3 степень: {pow_tensor}')\n",
    "print(f'Логарифмы по основанию 10: {log_tensor}')\n",
    "print(f'Экспоненты: {exp_tensor}')\n",
    "print(f'Среднее: {mean_val}')\n",
    "print(f'Стандартное отклонение: {std_val}')\n",
    "print(f'Максимум: {max_val}')\n",
    "print(f'Минимум: {min_val}')"
   ],
   "metadata": {
    "collapsed": false,
    "pycharm": {
     "name": "#%%\n"
    }
   }
  },
  {
   "cell_type": "markdown",
   "source": [
    "# Задание 3"
   ],
   "metadata": {
    "collapsed": false,
    "pycharm": {
     "name": "#%% md\n"
    }
   }
  },
  {
   "cell_type": "code",
   "execution_count": 13,
   "outputs": [
    {
     "data": {
      "text/plain": "'Тензор успешно перенесен на GPU.'"
     },
     "execution_count": 13,
     "metadata": {},
     "output_type": "execute_result"
    }
   ],
   "source": [
    "if torch.cuda.is_available():\n",
    "\ttorch_tensor_gpu = torch_tensor.to('cuda')\n",
    "\tresult = \"Тензор успешно перенесен на GPU.\"\n",
    "else:\n",
    "\tresult = \"GPU не доступен.\"\n",
    "\n",
    "result"
   ],
   "metadata": {
    "collapsed": false,
    "pycharm": {
     "name": "#%%\n"
    }
   }
  },
  {
   "cell_type": "markdown",
   "source": [
    "# Задание 4"
   ],
   "metadata": {
    "collapsed": false,
    "pycharm": {
     "name": "#%% md\n"
    }
   }
  },
  {
   "cell_type": "code",
   "execution_count": 17,
   "outputs": [
    {
     "name": "stdout",
     "output_type": "stream",
     "text": [
      "Время выполнения операции нв CPU: 0.00954890251159668\n",
      "Время выполнения операции нв GPU: 0.004005908966064453\n"
     ]
    }
   ],
   "source": [
    "import time\n",
    "\n",
    "big_tensor = torch.rand(1000000)\n",
    "\n",
    "# Выполнение операции на CPU и измерение времени\n",
    "start_time_cpu = time.time()\n",
    "result_cpu = torch.sin(big_tensor)**10 + torch.cos(big_tensor)**10\n",
    "end_time_cpu = time.time()\n",
    "tensor_cpu_time = end_time_cpu - start_time_cpu\n",
    "\n",
    "# Перенос тензора на GPU и выполнение операции на GPU\n",
    "if torch.cuda.is_available():\n",
    "\tbig_tensor_gpu = big_tensor.to('cuda')\n",
    "\tstart_time_gpu = time.time()\n",
    "\tresult_gpu = torch.sin(big_tensor_gpu) ** 10 + torch.cos(big_tensor_gpu) ** 10\n",
    "\tend_time_gpu = time.time()\n",
    "\ttensor_gpu_time = end_time_gpu - start_time_gpu\n",
    "else:\n",
    "\ttensor_gpu_time = \"GPU не доступен.\"\n",
    "\n",
    "print(f'Время выполнения операции нв CPU: {tensor_cpu_time}')\n",
    "print(f'Время выполнения операции нв GPU: {tensor_gpu_time}')"
   ],
   "metadata": {
    "collapsed": false,
    "pycharm": {
     "name": "#%%\n"
    }
   }
  },
  {
   "cell_type": "markdown",
   "source": [
    "# Задание 5"
   ],
   "metadata": {
    "collapsed": false,
    "pycharm": {
     "name": "#%% md\n"
    }
   }
  },
  {
   "cell_type": "code",
   "execution_count": 18,
   "outputs": [
    {
     "name": "stdout",
     "output_type": "stream",
     "text": [
      "Время выполнения операции нв CPU: 5.686149835586548\n",
      "Время выполнения операции нв GPU: 2.130129098892212\n"
     ]
    }
   ],
   "source": [
    "# Создание двух двумерных тензоров (матриц)\n",
    "matrix1 = torch.rand(10000, 10000)\n",
    "matrix2 = torch.rand(10000, 10000)\n",
    "\n",
    "# Выполнение операции матричного умножения на CPU и измерение времени\n",
    "start_time_cpu = time.time()\n",
    "result_cpu = torch.matmul(matrix1, matrix2)\n",
    "end_time_cpu = time.time()\n",
    "matrix_cpu_time = end_time_cpu - start_time_cpu\n",
    "\n",
    "# Перенос матриц на GPU и выполнение операции (если доступен)\n",
    "if torch.cuda.is_available():\n",
    "\tmatrix1_gpu = matrix1.to('cuda')\n",
    "\tmatrix2_gpu = matrix2.to('cuda')\n",
    "\ttorch.cuda.synchronize()  # Дождаться переноса матриц на GPU\n",
    "\n",
    "\tstart_time_gpu = time.time()\n",
    "\tresult_gpu = torch.matmul(matrix1_gpu, matrix2_gpu)\n",
    "\ttorch.cuda.synchronize()  # Дождаться завершения операции\n",
    "\tend_time_gpu = time.time()\n",
    "\n",
    "\tmatrix_gpu_time = end_time_gpu - start_time_gpu\n",
    "else:\n",
    "\tmatrix_gpu_time = \"GPU не доступен.\"\n",
    "\n",
    "print(f'Время выполнения операции нв CPU: {matrix_cpu_time}')\n",
    "print(f'Время выполнения операции нв GPU: {matrix_gpu_time}')"
   ],
   "metadata": {
    "collapsed": false,
    "pycharm": {
     "name": "#%%\n"
    }
   }
  }
 ]
}