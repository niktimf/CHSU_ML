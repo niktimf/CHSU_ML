{
  "cells": [
    {
      "cell_type": "markdown",
      "metadata": {
        "id": "d0ADTojbpfLt"
      },
      "source": [
        "# Домашнее задание. Нейросетевая классификация текстов\n",
        "\n",
        "В этом домашнем задании вам предстоит самостоятельно решить задачу классификации текстов на основе семинарского кода. Мы будем использовать датасет [ag_news](https://paperswithcode.com/dataset/ag-news). Это датасет для классификации новостей на 4 темы: \"World\", \"Sports\", \"Business\", \"Sci/Tech\".\n",
        "\n",
        "Установим модуль datasets, чтобы нам проще было работать с данными."
      ]
    },
    {
      "cell_type": "code",
      "execution_count": 2,
      "metadata": {
        "id": "p2QW_jCR0_kh",
        "colab": {
          "base_uri": "https://localhost:8080/"
        },
        "outputId": "2ec147a3-51fe-4fff-e45e-24feeeb35ee8"
      },
      "outputs": [
        {
          "output_type": "stream",
          "name": "stdout",
          "text": [
            "Collecting datasets\n",
            "  Downloading datasets-2.18.0-py3-none-any.whl (510 kB)\n",
            "\u001b[2K     \u001b[90m━━━━━━━━━━━━━━━━━━━━━━━━━━━━━━━━━━━━━━━━\u001b[0m \u001b[32m510.5/510.5 kB\u001b[0m \u001b[31m6.2 MB/s\u001b[0m eta \u001b[36m0:00:00\u001b[0m\n",
            "\u001b[?25hRequirement already satisfied: filelock in /usr/local/lib/python3.10/dist-packages (from datasets) (3.13.1)\n",
            "Requirement already satisfied: numpy>=1.17 in /usr/local/lib/python3.10/dist-packages (from datasets) (1.25.2)\n",
            "Requirement already satisfied: pyarrow>=12.0.0 in /usr/local/lib/python3.10/dist-packages (from datasets) (14.0.2)\n",
            "Requirement already satisfied: pyarrow-hotfix in /usr/local/lib/python3.10/dist-packages (from datasets) (0.6)\n",
            "Collecting dill<0.3.9,>=0.3.0 (from datasets)\n",
            "  Downloading dill-0.3.8-py3-none-any.whl (116 kB)\n",
            "\u001b[2K     \u001b[90m━━━━━━━━━━━━━━━━━━━━━━━━━━━━━━━━━━━━━━━━\u001b[0m \u001b[32m116.3/116.3 kB\u001b[0m \u001b[31m4.2 MB/s\u001b[0m eta \u001b[36m0:00:00\u001b[0m\n",
            "\u001b[?25hRequirement already satisfied: pandas in /usr/local/lib/python3.10/dist-packages (from datasets) (1.5.3)\n",
            "Requirement already satisfied: requests>=2.19.0 in /usr/local/lib/python3.10/dist-packages (from datasets) (2.31.0)\n",
            "Requirement already satisfied: tqdm>=4.62.1 in /usr/local/lib/python3.10/dist-packages (from datasets) (4.66.2)\n",
            "Requirement already satisfied: xxhash in /usr/local/lib/python3.10/dist-packages (from datasets) (3.4.1)\n",
            "Collecting multiprocess (from datasets)\n",
            "  Downloading multiprocess-0.70.16-py310-none-any.whl (134 kB)\n",
            "\u001b[2K     \u001b[90m━━━━━━━━━━━━━━━━━━━━━━━━━━━━━━━━━━━━━━━━\u001b[0m \u001b[32m134.8/134.8 kB\u001b[0m \u001b[31m11.3 MB/s\u001b[0m eta \u001b[36m0:00:00\u001b[0m\n",
            "\u001b[?25hRequirement already satisfied: fsspec[http]<=2024.2.0,>=2023.1.0 in /usr/local/lib/python3.10/dist-packages (from datasets) (2023.6.0)\n",
            "Requirement already satisfied: aiohttp in /usr/local/lib/python3.10/dist-packages (from datasets) (3.9.3)\n",
            "Requirement already satisfied: huggingface-hub>=0.19.4 in /usr/local/lib/python3.10/dist-packages (from datasets) (0.20.3)\n",
            "Requirement already satisfied: packaging in /usr/local/lib/python3.10/dist-packages (from datasets) (23.2)\n",
            "Requirement already satisfied: pyyaml>=5.1 in /usr/local/lib/python3.10/dist-packages (from datasets) (6.0.1)\n",
            "Requirement already satisfied: aiosignal>=1.1.2 in /usr/local/lib/python3.10/dist-packages (from aiohttp->datasets) (1.3.1)\n",
            "Requirement already satisfied: attrs>=17.3.0 in /usr/local/lib/python3.10/dist-packages (from aiohttp->datasets) (23.2.0)\n",
            "Requirement already satisfied: frozenlist>=1.1.1 in /usr/local/lib/python3.10/dist-packages (from aiohttp->datasets) (1.4.1)\n",
            "Requirement already satisfied: multidict<7.0,>=4.5 in /usr/local/lib/python3.10/dist-packages (from aiohttp->datasets) (6.0.5)\n",
            "Requirement already satisfied: yarl<2.0,>=1.0 in /usr/local/lib/python3.10/dist-packages (from aiohttp->datasets) (1.9.4)\n",
            "Requirement already satisfied: async-timeout<5.0,>=4.0 in /usr/local/lib/python3.10/dist-packages (from aiohttp->datasets) (4.0.3)\n",
            "Requirement already satisfied: typing-extensions>=3.7.4.3 in /usr/local/lib/python3.10/dist-packages (from huggingface-hub>=0.19.4->datasets) (4.10.0)\n",
            "Requirement already satisfied: charset-normalizer<4,>=2 in /usr/local/lib/python3.10/dist-packages (from requests>=2.19.0->datasets) (3.3.2)\n",
            "Requirement already satisfied: idna<4,>=2.5 in /usr/local/lib/python3.10/dist-packages (from requests>=2.19.0->datasets) (3.6)\n",
            "Requirement already satisfied: urllib3<3,>=1.21.1 in /usr/local/lib/python3.10/dist-packages (from requests>=2.19.0->datasets) (2.0.7)\n",
            "Requirement already satisfied: certifi>=2017.4.17 in /usr/local/lib/python3.10/dist-packages (from requests>=2.19.0->datasets) (2024.2.2)\n",
            "Requirement already satisfied: python-dateutil>=2.8.1 in /usr/local/lib/python3.10/dist-packages (from pandas->datasets) (2.8.2)\n",
            "Requirement already satisfied: pytz>=2020.1 in /usr/local/lib/python3.10/dist-packages (from pandas->datasets) (2023.4)\n",
            "Requirement already satisfied: six>=1.5 in /usr/local/lib/python3.10/dist-packages (from python-dateutil>=2.8.1->pandas->datasets) (1.16.0)\n",
            "Installing collected packages: dill, multiprocess, datasets\n",
            "Successfully installed datasets-2.18.0 dill-0.3.8 multiprocess-0.70.16\n"
          ]
        }
      ],
      "source": [
        "!pip install datasets"
      ]
    },
    {
      "cell_type": "markdown",
      "metadata": {
        "id": "rh9ZXSeCpng9"
      },
      "source": [
        "Импорт необходимых библиотек"
      ]
    },
    {
      "cell_type": "code",
      "execution_count": 3,
      "metadata": {
        "id": "XOJi16bLpd_O"
      },
      "outputs": [],
      "source": [
        "import torch\n",
        "import torch.nn as nn\n",
        "from torch.utils.data import Dataset, DataLoader\n",
        "import datasets\n",
        "\n",
        "import numpy as np\n",
        "import matplotlib.pyplot as plt\n",
        "\n",
        "from tqdm.auto import tqdm\n",
        "from datasets import load_dataset\n",
        "from nltk.tokenize import word_tokenize\n",
        "from sklearn.model_selection import train_test_split\n",
        "import nltk\n",
        "\n",
        "from collections import Counter\n",
        "from typing import List\n",
        "import string\n",
        "\n",
        "import seaborn\n",
        "seaborn.set(palette='summer')"
      ]
    },
    {
      "cell_type": "code",
      "execution_count": 4,
      "metadata": {
        "colab": {
          "base_uri": "https://localhost:8080/"
        },
        "id": "91JuM0SQvXud",
        "outputId": "e64bb5fc-fcf1-4f66-9ea9-b5e4b75e2d49"
      },
      "outputs": [
        {
          "output_type": "stream",
          "name": "stderr",
          "text": [
            "[nltk_data] Downloading package punkt to /root/nltk_data...\n",
            "[nltk_data]   Unzipping tokenizers/punkt.zip.\n"
          ]
        },
        {
          "output_type": "execute_result",
          "data": {
            "text/plain": [
              "True"
            ]
          },
          "metadata": {},
          "execution_count": 4
        }
      ],
      "source": [
        "nltk.download('punkt')"
      ]
    },
    {
      "cell_type": "code",
      "execution_count": 5,
      "metadata": {
        "colab": {
          "base_uri": "https://localhost:8080/",
          "height": 35
        },
        "id": "adJC8ShFq9HM",
        "outputId": "0854ae76-1ed3-4188-cece-3e9c884c9af0"
      },
      "outputs": [
        {
          "output_type": "execute_result",
          "data": {
            "text/plain": [
              "'cuda'"
            ],
            "application/vnd.google.colaboratory.intrinsic+json": {
              "type": "string"
            }
          },
          "metadata": {},
          "execution_count": 5
        }
      ],
      "source": [
        "device = 'cuda' if torch.cuda.is_available() else 'cpu'\n",
        "device"
      ]
    },
    {
      "cell_type": "markdown",
      "metadata": {
        "id": "pwsfS1ENq5ig"
      },
      "source": [
        "## Подготовка данных\n",
        "Для вашего удобства, мы привели код обработки датасета в ноутбуке. Ваша задача --- обучить модель, которая получит максимальное возможное качество на тестовой части."
      ]
    },
    {
      "cell_type": "code",
      "execution_count": 6,
      "metadata": {
        "id": "qHLNWOfJqSfc",
        "colab": {
          "base_uri": "https://localhost:8080/",
          "height": 249,
          "referenced_widgets": [
            "b574452117014d809bb6549e0b671dba",
            "02b9f6626a574398bda49ddbbcdec3f3",
            "52ff686013004da2ab54e0c3bb7056bb",
            "46997fc6ca5f49f58ac5f14da6656681",
            "a7cc83be745e4aac9083f9b3e974d81f",
            "d8bece2e31014f8f9f9c5b557075909b",
            "52b8268a76164f45ad966ff41dd83961",
            "3c0bf8bcbba54af0ac3f012a13d003c8",
            "a11fab80ca2f45f581f0235ff568aff9",
            "93a9bbee37784d0ebfd687fa35f1234b",
            "73a0b4df3dee412eb69296f32aee9ec2",
            "d42f02bdec41493d9d2f0d725ba2dd69",
            "ff132d46bd21421590fd7467b258949c",
            "1c7d23331f234bfd938304855f4c5187",
            "b1420875c5f341edbbde36ecf0a13aa9",
            "d19dc6a3532b4b7dbe42cd3c256d62a9",
            "2c145956a4994bbdbc50c8ebdb7b1421",
            "1769236b65f94ad894e6060543c89f09",
            "a693e061153541daa288bdd978b266c0",
            "9e5262d8466746a4a6634e301c7027f6",
            "a9e7187df93f4c88b010c8a27d1a0cc5",
            "36d671c786ec4b69a8747f870ada7025",
            "a908e3dddac9456d8cc5728bc12851da",
            "0691fc46bf6b4de28e923a072b0ad639",
            "655ab3aee096474d9e3234dd942f70c2",
            "f81bb796293f44d68cd2d91b9309e34c",
            "592cb675517042339709e3da738be482",
            "202ff2a062cd4e7da77685e5d2b8216c",
            "d5ad184d349c45aa8e75f6496a4bbc4c",
            "4148cbafa7404af58e75219b5be04c88",
            "aeeb72532fba4b0db86867b33129ea89",
            "472a7942bea747c09087a9fff93bc48f",
            "80df48abfd3f4d48a32e32092c1eb31e",
            "d69d0cfc9445425b90be3795e5abeda4",
            "805ea27dcec344639d78c49177ad02ac",
            "615063f7981349c4acdbf34957ce230b",
            "3bad75f4a157443f9f09b4b1ebbda5dd",
            "dd2a49d52a6442778151882fa90a20bc",
            "5f7050e94ce4421e86063dfdefe5894c",
            "bbf77f119677479e93e3824cf8d193ba",
            "a2ed1796e1a24fcb99f31439a52088e5",
            "201ad13d6b9c441eb54473ae55621f9c",
            "152984965ed9421592f7064425cea1ef",
            "4c73f8e19e4d428d8eee8a1b0b6fd49b"
          ]
        },
        "outputId": "58e4a9c2-c9d7-4aac-8753-d5dc120332bc"
      },
      "outputs": [
        {
          "output_type": "stream",
          "name": "stderr",
          "text": [
            "/usr/local/lib/python3.10/dist-packages/huggingface_hub/utils/_token.py:88: UserWarning: \n",
            "The secret `HF_TOKEN` does not exist in your Colab secrets.\n",
            "To authenticate with the Hugging Face Hub, create a token in your settings tab (https://huggingface.co/settings/tokens), set it as secret in your Google Colab and restart your session.\n",
            "You will be able to reuse this secret in all of your notebooks.\n",
            "Please note that authentication is recommended but still optional to access public models or datasets.\n",
            "  warnings.warn(\n"
          ]
        },
        {
          "output_type": "display_data",
          "data": {
            "text/plain": [
              "Downloading data:   0%|          | 0.00/18.6M [00:00<?, ?B/s]"
            ],
            "application/vnd.jupyter.widget-view+json": {
              "version_major": 2,
              "version_minor": 0,
              "model_id": "b574452117014d809bb6549e0b671dba"
            }
          },
          "metadata": {}
        },
        {
          "output_type": "display_data",
          "data": {
            "text/plain": [
              "Downloading data:   0%|          | 0.00/1.23M [00:00<?, ?B/s]"
            ],
            "application/vnd.jupyter.widget-view+json": {
              "version_major": 2,
              "version_minor": 0,
              "model_id": "d42f02bdec41493d9d2f0d725ba2dd69"
            }
          },
          "metadata": {}
        },
        {
          "output_type": "display_data",
          "data": {
            "text/plain": [
              "Generating train split:   0%|          | 0/120000 [00:00<?, ? examples/s]"
            ],
            "application/vnd.jupyter.widget-view+json": {
              "version_major": 2,
              "version_minor": 0,
              "model_id": "a908e3dddac9456d8cc5728bc12851da"
            }
          },
          "metadata": {}
        },
        {
          "output_type": "display_data",
          "data": {
            "text/plain": [
              "Generating test split:   0%|          | 0/7600 [00:00<?, ? examples/s]"
            ],
            "application/vnd.jupyter.widget-view+json": {
              "version_major": 2,
              "version_minor": 0,
              "model_id": "d69d0cfc9445425b90be3795e5abeda4"
            }
          },
          "metadata": {}
        }
      ],
      "source": [
        "# Загрузим датасет\n",
        "dataset = datasets.load_dataset('ag_news')"
      ]
    },
    {
      "cell_type": "markdown",
      "metadata": {
        "id": "gYG67ZJj4hZS"
      },
      "source": [
        "Как и в семинаре, выполним следующие шаги:\n",
        "* Составим словарь\n",
        "* Создадим класс WordDataset\n",
        "* Выделим обучающую и тестовую часть, создадим DataLoader-ы."
      ]
    },
    {
      "cell_type": "code",
      "execution_count": 7,
      "metadata": {
        "colab": {
          "base_uri": "https://localhost:8080/",
          "height": 66,
          "referenced_widgets": [
            "a2cd7d702be74e80bed0ca8afc5091be",
            "5d7e723522c74fa7a2c39b160aac8f06",
            "6dc262ba9b1e4dfbb0d03a65f8f4b2ba",
            "b09a8738ac8945068b33561e3a515260",
            "cf648f017a5747c4bffe993c9f869d17",
            "9882dce58ca04bc1a1ec269749919966",
            "753f12a341d8461cabfead477b36c17a",
            "4b01dd23e4fd4e0699d079dc88768e0d",
            "f283506affeb4472937e13d72b4d3725",
            "0f1d8ce83e364690b231e90be94d2128",
            "d2cb34e4195d48068e65db6f5a3edff6"
          ]
        },
        "id": "21y8cE6COrDw",
        "outputId": "1966bc04-2935-45db-8f68-5fd0ab19a52e"
      },
      "outputs": [
        {
          "output_type": "display_data",
          "data": {
            "text/plain": [
              "  0%|          | 0/120000 [00:00<?, ?it/s]"
            ],
            "application/vnd.jupyter.widget-view+json": {
              "version_major": 2,
              "version_minor": 0,
              "model_id": "a2cd7d702be74e80bed0ca8afc5091be"
            }
          },
          "metadata": {}
        },
        {
          "output_type": "stream",
          "name": "stdout",
          "text": [
            "Размер словаря: 11842\n"
          ]
        }
      ],
      "source": [
        "import string\n",
        "from collections import Counter\n",
        "from nltk.tokenize import word_tokenize\n",
        "\n",
        "\n",
        "class TextPreprocessor:\n",
        "    @staticmethod\n",
        "    def preprocess_text(text):\n",
        "        return text.lower().translate(str.maketrans('', '', string.punctuation))\n",
        "\n",
        "\n",
        "\n",
        "\n",
        "def count_words(texts):\n",
        "    return Counter(\n",
        "        word\n",
        "        for text in texts\n",
        "        for word in word_tokenize(TextPreprocessor.preprocess_text(text))\n",
        "    )\n",
        "\n",
        "\n",
        "\n",
        "def create_vocab(word_counts, counter_threshold=25):\n",
        "    return {'<unk>', '<bos>', '<eos>', '<pad>'} | {\n",
        "        word for word, count in word_counts.items() if count > counter_threshold\n",
        "    }\n",
        "\n",
        "\n",
        "def create_word_indices(vocab):\n",
        "    word2ind = {word: i for i, word in enumerate(vocab)}\n",
        "    ind2word = {i: word for word, i in word2ind.items()}\n",
        "    return word2ind, ind2word\n",
        "\n",
        "\n",
        "# Шаг 1: Подсчет слов\n",
        "word_counts = count_words(tqdm(dataset['train']['text']))\n",
        "\n",
        "# Шаг 2: Создание словаря\n",
        "vocab = create_vocab(word_counts)\n",
        "\n",
        "# Шаг 3: Создание индексов\n",
        "word2ind, ind2word = create_word_indices(vocab)\n",
        "\n",
        "print(f'Размер словаря: {len(vocab)}')"
      ]
    },
    {
      "cell_type": "code",
      "execution_count": 8,
      "metadata": {
        "id": "pzvE1yCbSkvl"
      },
      "outputs": [],
      "source": [
        "class TextTokenizer:\n",
        "    def __init__(self, word2ind):\n",
        "        self.word2ind = word2ind\n",
        "        self.unk_id = word2ind['<unk>']\n",
        "        self.bos_id = word2ind['<bos>']\n",
        "        self.eos_id = word2ind['<eos>']\n",
        "        self.pad_id = word2ind['<pad>']\n",
        "\n",
        "    def tokenize(self, text):\n",
        "        tokenized_sentence = [self.bos_id]\n",
        "        tokenized_sentence += [self.word2ind.get(word, self.unk_id) for word in word_tokenize(text)]\n",
        "        tokenized_sentence += [self.eos_id]\n",
        "        return tokenized_sentence\n",
        "\n",
        "\n",
        "class WordDataset:\n",
        "    def __init__(self, sentences, word2ind):\n",
        "        self.data = sentences\n",
        "        self.preprocessor = TextPreprocessor()\n",
        "        self.tokenizer = TextTokenizer(word2ind)\n",
        "\n",
        "    def __getitem__(self, idx):\n",
        "        text = self.preprocessor.preprocess_text(self.data[idx]['text'])\n",
        "        tokenized_sentence = self.tokenizer.tokenize(text)\n",
        "        train_sample = {\n",
        "            \"text\": tokenized_sentence,\n",
        "            \"label\": self.data[idx]['label']\n",
        "        }\n",
        "        return train_sample\n",
        "\n",
        "    def __len__(self):\n",
        "        return len(self.data)\n"
      ]
    },
    {
      "cell_type": "code",
      "execution_count": 9,
      "metadata": {
        "id": "mnG1cXc-Zpvj"
      },
      "outputs": [],
      "source": [
        "import torch\n",
        "import numpy as np\n",
        "from torch.utils.data import DataLoader\n",
        "from typing import List, Dict\n",
        "\n",
        "\n",
        "class DataLoaderDecorator:\n",
        "    def __init__(self, dataset, word2ind, device='cpu'):\n",
        "        self.dataset = dataset\n",
        "        self.word2ind = word2ind\n",
        "        self.pad_id = word2ind['<pad>']\n",
        "        self.device = device\n",
        "\n",
        "    def select_random_subset(self, size):\n",
        "        if size > len(self.dataset):\n",
        "            raise ValueError(\"Size larger than dataset\")\n",
        "\n",
        "        idx = np.random.choice(np.arange(len(self.dataset)), size, replace=False)\n",
        "        idx = [int(i) for i in idx]\n",
        "        subset = [self.dataset[i] for i in idx]\n",
        "        return type(self)(subset, self.word2ind, self.device)\n",
        "\n",
        "    @staticmethod\n",
        "    def trim_sequences(input_batch: List[Dict[str, List[int]]], max_len=256) -> List[Dict[str, List[int]]]:\n",
        "        return list(map(lambda sequence: {'text': sequence['text'][:max_len], 'label': sequence['label']}, input_batch))\n",
        "\n",
        "    @staticmethod\n",
        "    def pad_sequences(input_batch: List[Dict[str, List[int]]], pad_id, max_len=256) -> List[List[int]]:\n",
        "        def pad_sequence(sequence: List[int]) -> List[int]:\n",
        "            return sequence + [pad_id] * (max_len - len(sequence))\n",
        "        return [pad_sequence(sequence['text']) for sequence in input_batch]\n",
        "\n",
        "    @staticmethod\n",
        "    def create_tensors(padded_sequences: List[List[int]], input_batch: List[Dict[str, int]], device) -> Dict[str, torch.Tensor]:\n",
        "        sequences_tensor = torch.LongTensor(padded_sequences).to(device)\n",
        "        labels_tensor = torch.LongTensor([x['label'] for x in input_batch]).to(device)\n",
        "        return {'input_ids': sequences_tensor, 'label': labels_tensor}\n",
        "\n",
        "    def collate_fn_with_padding(self, input_batch: List[Dict[str, List[int]]], max_len=256) -> Dict[str, torch.Tensor]:\n",
        "        max_seq_len = min(max([len(x['text']) for x in input_batch]), max_len)\n",
        "        input_batch = self.trim_sequences(input_batch, max_seq_len)\n",
        "        padded_sequences = self.pad_sequences(input_batch, self.pad_id, max_seq_len)\n",
        "        batch_tensors = self.create_tensors(padded_sequences, input_batch, self.device)\n",
        "        return batch_tensors\n",
        "\n",
        "    def create_dataloader(self, batch_size=32, shuffle=True, max_len=256):\n",
        "        return DataLoader(\n",
        "            self.dataset,\n",
        "            shuffle=shuffle,\n",
        "            batch_size=batch_size,\n",
        "            collate_fn=lambda x: self.collate_fn_with_padding(x, max_len=max_len)\n",
        "        )\n"
      ]
    },
    {
      "cell_type": "code",
      "execution_count": 10,
      "metadata": {
        "id": "-b_Ac-LQaCIe"
      },
      "outputs": [],
      "source": [
        "train_dataset = WordDataset(dataset['train'], word2ind)\n",
        "test_dataset = WordDataset(dataset['test'], word2ind)\n",
        "\n",
        "\n",
        "train_prep = DataLoaderDecorator(train_dataset, word2ind, device)\n",
        "eval_prep = DataLoaderDecorator(test_dataset, word2ind, device)\n",
        "random_eval_prep = eval_prep.select_random_subset(5000)\n",
        "\n",
        "train_dataloader = train_prep.create_dataloader(batch_size=64, shuffle=True)\n",
        "eval_dataloader = random_eval_prep.create_dataloader(batch_size=64, shuffle=False)"
      ]
    },
    {
      "cell_type": "markdown",
      "metadata": {
        "id": "w7LHfh3u5Bie"
      },
      "source": [
        "## Постановка задачи\n",
        "Ваша задача -- получить максимальное возможное accuracy на `eval_dataloader`. Ниже приведена функция, которую вам необходимо запустить для обученной модели, чтобы вычислить качество её работы."
      ]
    },
    {
      "cell_type": "code",
      "execution_count": null,
      "metadata": {
        "id": "JDZw4Sehn4NE"
      },
      "outputs": [],
      "source": []
    },
    {
      "cell_type": "markdown",
      "metadata": {
        "id": "SMAexY7Y45E4"
      },
      "source": [
        "## Ход работы\n",
        "Оценка за домашнее задание складывается из четырех частей:\n",
        "### Запуск базовой модели с семинара на новом датасете (1 балл)\n",
        "На семинаре мы создали модель, которая дает на нашей задаче довольно высокое качество. Ваша цель --- обучить ее и вычислить `score`, который затем можно будет использовать в качестве бейзлайна.\n",
        "\n",
        "В модели появится одно важное изменение: количество классов теперь равно не 2, а 4. Обратите на это внимание и найдите, что в коде создания модели нужно модифицировать, чтобы учесть это различие.\n",
        "\n",
        "### Проведение экспериментов по улучшению модели (2 балла за каждый эксперимент)\n",
        "Чтобы улучшить качество базовой модели, можно попробовать различные идеи экспериментов. Каждый выполненный эксперимент будет оцениваться в 2 балла. Для получения полного балла за этот пункт вам необходимо выполнить по крайней мере 2 эксперимента. Не расстраивайтесь, если какой-то эксперимент не дал вам прироста к качеству: он все равно зачтется, если выполнен корректно.\n",
        "\n",
        "Вот несколько идей экспериментов:\n",
        "* **Модель RNN**. Попробуйте другие нейросетевые модели --- LSTM и GRU. Мы советуем обратить внимание на [GRU](https://pytorch.org/docs/stable/generated/torch.nn.GRU.html), так как интерфейс этого класса ничем не отличается от обычной Vanilla RNN, которую мы использовали на семинаре.\n",
        "* **Увеличение количества рекуррентных слоев модели**. Это можно сделать с помощью параметра `num_layers` в классе `nn.RNN`. В такой модели выходы первой RNN передаются в качестве входов второй RNN и так далее.\n",
        "* **Изменение архитектуры после применения RNN**. В базовой модели используется агрегация со всех эмбеддингов. Возможно, вы захотите конкатенировать результат агрегации и эмбеддинг с последнего токена.\n",
        "* **Подбор гиперпараметров и обучение до сходимости**. Возможно, для получения более высокого качества просто необходимо увеличить количество эпох обучения нейросети, а также попробовать различные гиперпараметры: размер словаря, `dropout_rate`, `hidden_dim`.\n",
        "\n",
        "Обратите внимание, что главное правило проведения экспериментов --- необходимо совершать одно архитектурное изменение в одном эксперименте. Если вы совершите несколько изменений, то будет неясно, какое именно из изменений дало прирост к качеству.\n",
        "\n",
        "### Получение высокого качества (3 балла)\n",
        "В конце вашей работы вы должны указать, какая из моделей дала лучший результат, и вывести качество, которое дает лучшая модель, с помощью функции `evaluate`. Ваша модель будет оцениваться по метрике `accuracy` следующим образом:\n",
        "* $accuracy < 0.9$ --- 0 баллов;\n",
        "* $0.9 \\leqslant accuracy < 0.91$ --- 1 балл;\n",
        "* $0.91 \\leqslant accuracy < 0.915$ --- 2 балла;\n",
        "* $0.915 \\leqslant accuracy$ --- 3 балла.\n",
        "\n",
        "### Оформление отчета (2 балла)\n",
        "В конце работы подробно опишите все проведенные эксперименты.\n",
        "* Укажите, какие из экспериментов принесли улучшение, а какие --- нет.\n",
        "* Проанализируйте графики сходимости моделей в проведенных экспериментах. Являются ли колебания качества обученных моделей существенными в зависимости от эпохи обучения, или же сходимость стабильная?\n",
        "* Укажите, какая модель получилась оптимальной.\n",
        "\n",
        "Желаем удачи!"
      ]
    },
    {
      "cell_type": "markdown",
      "metadata": {
        "id": "17tJXXdaE9gI"
      },
      "source": [
        "### Запуск базовой модели с семинара на новом датасете\n"
      ]
    },
    {
      "cell_type": "code",
      "execution_count": 11,
      "metadata": {
        "id": "q8rBfFTjRJPB"
      },
      "outputs": [],
      "source": [
        "import torch\n",
        "import torch.nn as nn\n",
        "\n",
        "class Aggregator(nn.Module):\n",
        "    def forward(self, outputs):\n",
        "        raise NotImplementedError(\"Aggregator must implement the forward method\")\n",
        "\n",
        "class MaxAggregator(Aggregator):\n",
        "    def forward(self, outputs):\n",
        "        return outputs.max(dim=1)[0]\n",
        "\n",
        "class MeanAggregator(Aggregator):\n",
        "    def forward(self, outputs):\n",
        "        return outputs.mean(dim=1)"
      ]
    },
    {
      "cell_type": "code",
      "execution_count": 16,
      "metadata": {
        "id": "BqKYrcyxBoxx"
      },
      "outputs": [],
      "source": [
        "class CharLMRNN(nn.Module):\n",
        "    def __init__(\n",
        "        self, hidden_dim: int, vocab_size: int, dropout_value: float,\n",
        "        num_classes: int = 4,\n",
        "        aggregator: Aggregator = MaxAggregator()\n",
        "        ):\n",
        "        super().__init__()\n",
        "        self.embedding = nn.Embedding(vocab_size, hidden_dim)\n",
        "        self.rnn = nn.RNN(hidden_dim, hidden_dim, batch_first=True)\n",
        "        self.linear = nn.Linear(hidden_dim, hidden_dim)\n",
        "        self.projection = nn.Linear(hidden_dim, num_classes)\n",
        "\n",
        "        self.non_lin = nn.Tanh()\n",
        "        self.dropout = nn.Dropout(p=dropout_value)\n",
        "\n",
        "        self.aggregator = aggregator\n",
        "\n",
        "    def forward(self, input_batch) -> torch.Tensor:\n",
        "        embeddings = self.embedding(input_batch)  # [batch_size, seq_len, hidden_dim]\n",
        "        output, _ = self.rnn(embeddings)  # [batch_size, seq_len, hidden_dim]\n",
        "\n",
        "        output = self.aggregator(output)\n",
        "\n",
        "        output = self.dropout(self.linear(self.non_lin(output)))  # [batch_size, hidden_dim]\n",
        "        prediction = self.projection(self.non_lin(output))  # [batch_size, num_classes]\n",
        "\n",
        "        return prediction\n",
        "\n",
        "\n",
        "def choose_aggregator(aggregation_type: str) -> Aggregator:\n",
        "  if aggregation_type == 'max':\n",
        "      return MaxAggregator()\n",
        "  elif aggregation_type == 'mean':\n",
        "      return MeanAggregator()\n",
        "  else:\n",
        "      raise ValueError(f\"Unsupported aggregation type: {aggregation_type}\")"
      ]
    },
    {
      "cell_type": "code",
      "source": [
        "import torch\n",
        "import torch.nn as nn\n",
        "from tqdm import tqdm\n",
        "\n",
        "\n",
        "class ModelConfiguration:\n",
        "    def __init__(self, model, device, word2ind):\n",
        "        self.model = model\n",
        "        self.device = device\n",
        "        self.criterion = nn.CrossEntropyLoss(ignore_index=word2ind['<pad>'])\n",
        "        self.optimizer = torch.optim.Adam(model.parameters())\n",
        "\n",
        "\n",
        "class ModelEvaluator:\n",
        "    def __init__(self, model, device):\n",
        "        self.model = model\n",
        "        self.device = device\n",
        "\n",
        "    def evaluate(self, eval_dataloader) -> float:\n",
        "        predictions = []\n",
        "        targets = []\n",
        "        with torch.no_grad():\n",
        "            for batch in eval_dataloader:\n",
        "                logits = self.model(batch['input_ids'].to(self.device))\n",
        "                predictions.append(logits.argmax(dim=1))\n",
        "                targets.append(batch['label'].to(self.device))\n",
        "\n",
        "        predictions = torch.cat(predictions)\n",
        "        targets = torch.cat(targets)\n",
        "        accuracy = (predictions == targets).float().mean().item()\n",
        "\n",
        "        return accuracy\n",
        "\n",
        "\n",
        "class ModelTrainer:\n",
        "    def __init__(self, config: ModelConfiguration, evaluator: ModelEvaluator):\n",
        "        self.config = config\n",
        "        self.evaluator = evaluator\n",
        "\n",
        "    def train(self, train_dataloader, num_epochs, eval_steps, eval_dataloader):\n",
        "        losses = []\n",
        "        acc = []\n",
        "\n",
        "        for epoch in range(num_epochs):\n",
        "            self.config.model.train()\n",
        "            epoch_losses = []\n",
        "            for i, batch in enumerate(tqdm(train_dataloader, desc=f'Training epoch {epoch}:')):\n",
        "                self.config.optimizer.zero_grad()\n",
        "                input_ids, labels = batch['input_ids'].to(self.config.device), batch['label'].to(self.config.device)\n",
        "                logits = self.config.model(input_ids)\n",
        "                loss = self.config.criterion(logits, labels)\n",
        "                loss.backward()\n",
        "                self.config.optimizer.step()\n",
        "\n",
        "                epoch_losses.append(loss.item())\n",
        "                if i % eval_steps == 0 and i != 0:\n",
        "                    accuracy = self.evaluator.evaluate(eval_dataloader)\n",
        "                    acc.append(accuracy)\n",
        "                    self.config.model.train()  # Ensure model is back in training mode\n",
        "\n",
        "            epoch_loss = sum(epoch_losses) / len(epoch_losses)\n",
        "            losses.append(epoch_loss)\n",
        "\n",
        "        return losses, acc\n",
        "\n",
        "\n",
        "class TrainingSessionRunner:\n",
        "    def __init__(self, trainer: ModelTrainer, choose_aggregator):\n",
        "        self.trainer = trainer\n",
        "        self.choose_aggregator = choose_aggregator\n",
        "\n",
        "    def run_training_sessions(self, train_dataloader, eval_dataloader, num_epochs, eval_steps):\n",
        "        results = {}\n",
        "        aggregation_types = ['max', 'mean']\n",
        "        for aggregation_type in aggregation_types:\n",
        "            print(f\"Starting training for {aggregation_type}\")\n",
        "            self.trainer.config.model.aggregator = self.choose_aggregator(aggregation_type)\n",
        "            self.trainer.config.model.to(self.trainer.config.device)\n",
        "\n",
        "            losses, acc = self.trainer.train(train_dataloader, num_epochs, eval_steps, eval_dataloader)\n",
        "\n",
        "            results[aggregation_type] = {\n",
        "                'losses': losses,\n",
        "                'accuracy': acc\n",
        "            }\n",
        "\n",
        "        return results\n"
      ],
      "metadata": {
        "id": "EdD2k9B2Bw1x"
      },
      "execution_count": 12,
      "outputs": []
    },
    {
      "cell_type": "code",
      "source": [
        "import torch\n",
        "\n",
        "device = torch.device(\"cuda\" if torch.cuda.is_available() else \"cpu\")\n",
        "\n",
        "# Создаем экземпляр модели\n",
        "rnn_model = CharLMRNN(hidden_dim=256, vocab_size=len(vocab), dropout_value=0.1).to(device)\n",
        "\n",
        "# Конфигурация для модели, включая критерий и оптимизатор\n",
        "rnn_model_config = ModelConfiguration(rnn_model, device, word2ind)\n",
        "\n",
        "# Создаем экземпляр для оценки модели\n",
        "rnn_model_evaluator = ModelEvaluator(rnn_model, device)\n",
        "\n",
        "# Создаем экземпляр тренера с настройками модели и оценщиком\n",
        "rnn_trainer = ModelTrainer(rnn_model_config, rnn_model_evaluator)\n",
        "\n",
        "# Создаем экземпляр для запуска тренировочных сессий\n",
        "rnn_training_session_runner = TrainingSessionRunner(rnn_trainer, choose_aggregator)\n",
        "\n",
        "# Запускаем обучение\n",
        "num_epochs = 5\n",
        "eval_steps = len(train_dataloader) // 2\n",
        "results = rnn_training_session_runner.run_training_sessions(train_dataloader, eval_dataloader, num_epochs, eval_steps)\n",
        "\n",
        "print(results)\n"
      ],
      "metadata": {
        "colab": {
          "base_uri": "https://localhost:8080/"
        },
        "id": "ZSadxJHoByMv",
        "outputId": "c2cbe862-d879-4d84-f99b-8d3472bb8a75"
      },
      "execution_count": null,
      "outputs": [
        {
          "output_type": "stream",
          "name": "stdout",
          "text": [
            "Starting training for max\n"
          ]
        },
        {
          "output_type": "stream",
          "name": "stderr",
          "text": [
            "Training epoch 0:: 100%|██████████| 1875/1875 [01:01<00:00, 30.33it/s]\n",
            "Training epoch 1:: 100%|██████████| 1875/1875 [00:57<00:00, 32.40it/s]\n",
            "Training epoch 2:: 100%|██████████| 1875/1875 [00:59<00:00, 31.65it/s]\n",
            "Training epoch 3:: 100%|██████████| 1875/1875 [00:58<00:00, 32.23it/s]\n",
            "Training epoch 4:: 100%|██████████| 1875/1875 [00:58<00:00, 32.10it/s]\n"
          ]
        },
        {
          "output_type": "stream",
          "name": "stdout",
          "text": [
            "Starting training for mean\n"
          ]
        },
        {
          "output_type": "stream",
          "name": "stderr",
          "text": [
            "Training epoch 0:: 100%|██████████| 1875/1875 [00:58<00:00, 32.28it/s]\n",
            "Training epoch 1:: 100%|██████████| 1875/1875 [00:58<00:00, 32.18it/s]\n",
            "Training epoch 2:: 100%|██████████| 1875/1875 [00:57<00:00, 32.66it/s]\n",
            "Training epoch 3:: 100%|██████████| 1875/1875 [00:57<00:00, 32.39it/s]\n",
            "Training epoch 4:: 100%|██████████| 1875/1875 [00:58<00:00, 32.09it/s]"
          ]
        },
        {
          "output_type": "stream",
          "name": "stdout",
          "text": [
            "{'max': {'losses': [0.40140543719530103, 0.2566012812415759, 0.2174506018360456, 0.19061165632208188, 0.16750875078837077], 'accuracy': [0.8797999620437622, 0.8833999633789062, 0.8941999673843384, 0.8953999876976013, 0.896399974822998, 0.8939999938011169, 0.8983999490737915, 0.8989999890327454, 0.8980000019073486, 0.9016000032424927]}, 'mean': {'losses': [0.34792484314839045, 0.22635849970181782, 0.1922530893901984, 0.16648047189811865, 0.1441814401080211], 'accuracy': [0.8925999999046326, 0.895799994468689, 0.9019999504089355, 0.8965999484062195, 0.9043999910354614, 0.8987999558448792, 0.8973999619483948, 0.9065999984741211, 0.9034000039100647, 0.8985999822616577]}}\n"
          ]
        },
        {
          "output_type": "stream",
          "name": "stderr",
          "text": [
            "\n"
          ]
        }
      ]
    },
    {
      "cell_type": "code",
      "execution_count": 13,
      "metadata": {
        "id": "b2nS5ToDUYaO"
      },
      "outputs": [],
      "source": [
        "import matplotlib.pyplot as plt\n",
        "import numpy as np\n",
        "\n",
        "\n",
        "class LossesPlotter():\n",
        "    def plot(self, losses_type, colors):\n",
        "        for (name, values), color in zip(losses_type.items(), colors):\n",
        "            plt.plot(np.arange(len(losses_type[name])), losses_type[name], color=color, label=name)\n",
        "        plt.title('Losses')\n",
        "        plt.xlabel(\"epoch\")\n",
        "        plt.legend()\n",
        "        plt.show()\n",
        "\n",
        "\n",
        "class AccuracyPlotter():\n",
        "    def plot(self, acc_type, colors):\n",
        "        for (name, values), color in zip(acc_type.items(), colors):\n",
        "            plt.plot(np.arange(len(acc_type[name])), acc_type[name], color=color, label=name)\n",
        "           # plt.plot(np.arange(len(acc_type[name][1:])), acc_type[name][1:], color=color, label=name)\n",
        "            print(f\"Лучшая accuracy для подхода {name}: {(max(acc_type[name]) * 100):.2f}\")\n",
        "        plt.title('Accuracy')\n",
        "        plt.xlabel(\"epoch\")\n",
        "        plt.legend()\n",
        "        plt.show()\n"
      ]
    },
    {
      "cell_type": "code",
      "execution_count": null,
      "metadata": {
        "colab": {
          "base_uri": "https://localhost:8080/",
          "height": 978
        },
        "id": "JIbZz24AUaRN",
        "outputId": "18bfe19e-2345-492f-f3ec-e305bbc91958"
      },
      "outputs": [
        {
          "output_type": "display_data",
          "data": {
            "text/plain": [
              "<Figure size 640x480 with 1 Axes>"
            ],
            "image/png": "[encoded data removed]"
          },
          "metadata": {}
        },
        {
          "output_type": "stream",
          "name": "stdout",
          "text": [
            "Лучшая accuracy для подхода max: 90.16\n",
            "Лучшая accuracy для подхода mean: 90.66\n"
          ]
        },
        {
          "output_type": "display_data",
          "data": {
            "text/plain": [
              "<Figure size 640x480 with 1 Axes>"
            ],
            "image/png": "[encoded data removed]"
          },
          "metadata": {}
        }
      ],
      "source": [
        "losses_plotter = LossesPlotter()\n",
        "accuracy_plotter = AccuracyPlotter()\n",
        "\n",
        "# Подготовка данных для графиков\n",
        "losses_type = {'max': results['max']['losses'], 'mean': results['mean']['losses']}\n",
        "acc_type = {'max': results['max']['accuracy'], 'mean': results['mean']['accuracy']}\n",
        "\n",
        "# Построение графиков\n",
        "losses_plotter.plot(losses_type, ['red', 'blue'])\n",
        "accuracy_plotter.plot(acc_type, ['red', 'blue'])\n",
        "\n"
      ]
    },
    {
      "cell_type": "markdown",
      "metadata": {
        "id": "zAm4x2n9JuoU"
      },
      "source": [
        "\n",
        "### Проведение экспериментов по улучшению модели\n",
        "* Эксперимент 1: увеличение dropout до 0.5\n",
        "\n"
      ]
    },
    {
      "cell_type": "code",
      "execution_count": null,
      "metadata": {
        "id": "15n8mvfQJ80t",
        "colab": {
          "base_uri": "https://localhost:8080/"
        },
        "outputId": "d48d7284-6851-4289-e2e4-c9a3cc6d3e75"
      },
      "outputs": [
        {
          "output_type": "stream",
          "name": "stdout",
          "text": [
            "Starting training for max\n"
          ]
        },
        {
          "output_type": "stream",
          "name": "stderr",
          "text": [
            "Training epoch 0:: 100%|██████████| 1875/1875 [00:58<00:00, 32.10it/s]\n",
            "Training epoch 1:: 100%|██████████| 1875/1875 [00:58<00:00, 31.95it/s]\n",
            "Training epoch 2:: 100%|██████████| 1875/1875 [00:59<00:00, 31.67it/s]\n",
            "Training epoch 3:: 100%|██████████| 1875/1875 [00:58<00:00, 32.22it/s]\n",
            "Training epoch 4:: 100%|██████████| 1875/1875 [00:59<00:00, 31.73it/s]\n"
          ]
        },
        {
          "output_type": "stream",
          "name": "stdout",
          "text": [
            "Starting training for mean\n"
          ]
        },
        {
          "output_type": "stream",
          "name": "stderr",
          "text": [
            "Training epoch 0:: 100%|██████████| 1875/1875 [00:58<00:00, 31.79it/s]\n",
            "Training epoch 1:: 100%|██████████| 1875/1875 [00:58<00:00, 32.05it/s]\n",
            "Training epoch 2:: 100%|██████████| 1875/1875 [00:58<00:00, 32.30it/s]\n",
            "Training epoch 3:: 100%|██████████| 1875/1875 [00:57<00:00, 32.48it/s]\n",
            "Training epoch 4:: 100%|██████████| 1875/1875 [00:59<00:00, 31.74it/s]"
          ]
        },
        {
          "output_type": "stream",
          "name": "stdout",
          "text": [
            "{'max': {'losses': [0.43446068461338677, 0.27539021781484285, 0.2350528669297695, 0.20865542725523312, 0.1871285665154457], 'accuracy': [0.8757999539375305, 0.8759999871253967, 0.8871999979019165, 0.8935999870300293, 0.8991999626159668, 0.902999997138977, 0.892799973487854, 0.8947999477386475, 0.8925999999046326, 0.8965999484062195]}, 'mean': {'losses': [0.3563264180501302, 0.24202316479285557, 0.2080972431619962, 0.1837069283525149, 0.16665230939189593], 'accuracy': [0.8885999917984009, 0.8921999931335449, 0.8987999558448792, 0.8983999490737915, 0.8998000025749207, 0.9031999707221985, 0.894599974155426, 0.8965999484062195, 0.8947999477386475, 0.901199996471405]}}\n"
          ]
        },
        {
          "output_type": "stream",
          "name": "stderr",
          "text": [
            "\n"
          ]
        }
      ],
      "source": [
        "device = torch.device(\"cuda\" if torch.cuda.is_available() else \"cpu\")\n",
        "\n",
        "\n",
        "rnn_model = CharLMRNN(hidden_dim=256, vocab_size=len(vocab), dropout_value=0.5).to(device)\n",
        "rnn_model_config = ModelConfiguration(rnn_model, device, word2ind)\n",
        "rnn_model_evaluator = ModelEvaluator(rnn_model, device)\n",
        "rnn_trainer = ModelTrainer(rnn_model_config, rnn_model_evaluator)\n",
        "rnn_training_session_runner = TrainingSessionRunner(rnn_trainer, choose_aggregator)\n",
        "\n",
        "# Запускаем обучение\n",
        "num_epochs = 5\n",
        "eval_steps = len(train_dataloader) // 2\n",
        "results = rnn_training_session_runner.run_training_sessions(train_dataloader, eval_dataloader, num_epochs, eval_steps)\n",
        "\n",
        "print(results)\n",
        "\n"
      ]
    },
    {
      "cell_type": "code",
      "execution_count": null,
      "metadata": {
        "id": "dwNtQJ5UL4RT",
        "colab": {
          "base_uri": "https://localhost:8080/",
          "height": 978
        },
        "outputId": "4fdc2698-31f5-441f-db7a-dfa55ad6e06b"
      },
      "outputs": [
        {
          "output_type": "display_data",
          "data": {
            "text/plain": [
              "<Figure size 640x480 with 1 Axes>"
            ],
            "image/png": "[encoded data removed]"
          },
          "metadata": {}
        },
        {
          "output_type": "stream",
          "name": "stdout",
          "text": [
            "Лучшая accuracy для подхода max: 90.30\n",
            "Лучшая accuracy для подхода mean: 90.32\n"
          ]
        },
        {
          "output_type": "display_data",
          "data": {
            "text/plain": [
              "<Figure size 640x480 with 1 Axes>"
            ],
            "image/png": "[encoded data removed]"
          },
          "metadata": {}
        }
      ],
      "source": [
        "losses_plotter = LossesPlotter()\n",
        "accuracy_plotter = AccuracyPlotter()\n",
        "\n",
        "# Подготовка данных для графиков\n",
        "losses_type = {'max': results['max']['losses'], 'mean': results['mean']['losses']}\n",
        "acc_type = {'max': results['max']['accuracy'], 'mean': results['mean']['accuracy']}\n",
        "\n",
        "# Построение графиков\n",
        "losses_plotter.plot(losses_type, ['red', 'blue'])\n",
        "accuracy_plotter.plot(acc_type, ['red', 'blue'])"
      ]
    },
    {
      "cell_type": "markdown",
      "metadata": {
        "id": "sKTDXa9fb0ur"
      },
      "source": [
        "Эксперимент 2: изменение модели, dropout: 0.5"
      ]
    },
    {
      "cell_type": "code",
      "source": [
        "class CharLMBiLSTM(nn.Module):\n",
        "    def __init__(\n",
        "        self, hidden_dim: int, vocab_size: int, dropout_value: float,\n",
        "        num_classes: int = 4,\n",
        "        aggregator: Aggregator = MaxAggregator()\n",
        "        ):\n",
        "        super().__init__()\n",
        "        self.embedding = nn.Embedding(vocab_size, hidden_dim)\n",
        "        self.lstm = nn.LSTM(hidden_dim, hidden_dim, batch_first=True, bidirectional=True)\n",
        "        # Удваиваем размер скрытого состояния, так как используем двунаправленный LSTM\n",
        "        self.linear = nn.Linear(hidden_dim * 2, hidden_dim)\n",
        "        self.projection = nn.Linear(hidden_dim, num_classes)\n",
        "\n",
        "        self.non_lin = nn.Tanh()\n",
        "        self.dropout = nn.Dropout(p=dropout_value)\n",
        "\n",
        "    def forward(self, input_batch) -> torch.Tensor:\n",
        "        embeddings = self.embedding(input_batch)  # [batch_size, seq_len, hidden_dim]\n",
        "        output, (hidden, cell) = self.lstm(embeddings)  # [batch_size, seq_len, hidden_dim*2], (hidden, cell)\n",
        "        output = self.aggregator(output)\n",
        "        output = self.dropout(self.linear(self.non_lin(output)))  # [batch_size, hidden_dim]\n",
        "        prediction = self.projection(self.non_lin(output))  # [batch_size, num_classes]\n",
        "\n",
        "        return prediction"
      ],
      "metadata": {
        "id": "2uRIPjnhSR7o"
      },
      "execution_count": 14,
      "outputs": []
    },
    {
      "cell_type": "code",
      "source": [
        "lstm_model = CharLMBiLSTM(hidden_dim=256, vocab_size=len(vocab), dropout_value=0.5).to(device)\n",
        "\n",
        "\n",
        "lstm_model_config = ModelConfiguration(lstm_model, device, word2ind)\n",
        "\n",
        "lstm_model_evaluator = ModelEvaluator(lstm_model, device)\n",
        "\n",
        "lstm_trainer = ModelTrainer(lstm_model_config, lstm_model_evaluator)\n",
        "\n",
        "lstm_training_session_runner = TrainingSessionRunner(lstm_trainer, choose_aggregator)\n",
        "\n",
        "# Запускаем обучение\n",
        "num_epochs = 5\n",
        "eval_steps = len(train_dataloader) // 2\n",
        "lstm_results = lstm_training_session_runner.run_training_sessions(train_dataloader, eval_dataloader, num_epochs, eval_steps)\n",
        "\n",
        "print(lstm_results)"
      ],
      "metadata": {
        "colab": {
          "base_uri": "https://localhost:8080/"
        },
        "id": "l6vuMo7AF8Ya",
        "outputId": "5fc0ac0e-b0de-45cc-cc9c-4ced76f3cdc3"
      },
      "execution_count": 19,
      "outputs": [
        {
          "output_type": "stream",
          "name": "stdout",
          "text": [
            "Starting training for max\n"
          ]
        },
        {
          "output_type": "stream",
          "name": "stderr",
          "text": [
            "Training epoch 0:: 100%|██████████| 1875/1875 [01:18<00:00, 23.84it/s]\n",
            "Training epoch 1:: 100%|██████████| 1875/1875 [01:18<00:00, 23.97it/s]\n",
            "Training epoch 2:: 100%|██████████| 1875/1875 [01:18<00:00, 23.98it/s]\n",
            "Training epoch 3:: 100%|██████████| 1875/1875 [01:17<00:00, 24.10it/s]\n",
            "Training epoch 4:: 100%|██████████| 1875/1875 [01:18<00:00, 23.90it/s]\n"
          ]
        },
        {
          "output_type": "stream",
          "name": "stdout",
          "text": [
            "Starting training for mean\n"
          ]
        },
        {
          "output_type": "stream",
          "name": "stderr",
          "text": [
            "Training epoch 0:: 100%|██████████| 1875/1875 [01:18<00:00, 24.02it/s]\n",
            "Training epoch 1:: 100%|██████████| 1875/1875 [01:18<00:00, 24.04it/s]\n",
            "Training epoch 2:: 100%|██████████| 1875/1875 [01:17<00:00, 24.15it/s]\n",
            "Training epoch 3:: 100%|██████████| 1875/1875 [01:18<00:00, 24.03it/s]\n",
            "Training epoch 4:: 100%|██████████| 1875/1875 [01:19<00:00, 23.72it/s]"
          ]
        },
        {
          "output_type": "stream",
          "name": "stdout",
          "text": [
            "{'max': {'losses': [0.3646566513379415, 0.21273898535370828, 0.1536653039271633, 0.11038537009507418, 0.0769668687671423], 'accuracy': [0.8955999612808228, 0.9111999869346619, 0.9023999571800232, 0.9121999740600586, 0.9139999747276306, 0.9143999814987183, 0.9151999950408936, 0.9165999889373779, 0.9161999821662903, 0.915399968624115]}, 'mean': {'losses': [0.19044512086013954, 0.10329455272257328, 0.06643579801917077, 0.0464335646999379, 0.03467650239349653], 'accuracy': [0.9085999727249146, 0.9149999618530273, 0.9061999917030334, 0.9067999720573425, 0.9077999591827393, 0.914199948310852, 0.9053999781608582, 0.9053999781608582, 0.9089999794960022, 0.9070000052452087]}}\n"
          ]
        },
        {
          "output_type": "stream",
          "name": "stderr",
          "text": [
            "\n"
          ]
        }
      ]
    },
    {
      "cell_type": "code",
      "source": [
        "losses_plotter = LossesPlotter()\n",
        "accuracy_plotter = AccuracyPlotter()\n",
        "\n",
        "# Подготовка данных для графиков\n",
        "losses_type = {'max': lstm_results['max']['losses'], 'mean': lstm_results['mean']['losses']}\n",
        "acc_type = {'max': lstm_results['max']['accuracy'], 'mean': lstm_results['mean']['accuracy']}\n",
        "\n",
        "# Построение графиков\n",
        "losses_plotter.plot(losses_type, ['red', 'blue'])\n",
        "accuracy_plotter.plot(acc_type, ['red', 'blue'])"
      ],
      "metadata": {
        "id": "Rtk5OLR6HtPD",
        "colab": {
          "base_uri": "https://localhost:8080/",
          "height": 978
        },
        "outputId": "0b5ae5c1-e74b-4bd9-e780-822d09f2aad5"
      },
      "execution_count": 20,
      "outputs": [
        {
          "output_type": "display_data",
          "data": {
            "text/plain": [
              "<Figure size 640x480 with 1 Axes>"
            ],
            "image/png": "[encoded data removed]"
          },
          "metadata": {}
        },
        {
          "output_type": "stream",
          "name": "stdout",
          "text": [
            "Лучшая accuracy для подхода max: 91.66\n",
            "Лучшая accuracy для подхода mean: 91.50\n"
          ]
        },
        {
          "output_type": "display_data",
          "data": {
            "text/plain": [
              "<Figure size 640x480 with 1 Axes>"
            ],
            "image/png": "[encoded data removed]"
          },
          "metadata": {}
        }
      ]
    },
    {
      "cell_type": "markdown",
      "source": [
        "### Выводы\n",
        "\n",
        "#### Анализ Результатов\n",
        "* RNN с дропаутом 0.1 показала хорошую сходимость, с уменьшением потерь и увеличением точности на протяжении обучения. Максимальная точность составила 0.9016, что является довольно высоким показателем.\n",
        "* RNN с дропаутом 0.5 также показала хорошее уменьшение потерь и рост точности, но максимальная достигнутая точность немного ниже, чем у первой модели, составив 0.8966. Это может указывать на то, что увеличение уровня дропаута не привело к значительному улучшению качества обучения для данной архитектуры.\n",
        "* BiLSTM с дропаутом 0.5 продемонстрировала лучшие результаты среди всех тестированных моделей. Максимальная точность составила 0.9166, а потери снижались стабильнее и значительнее по сравнению с RNN моделями.\n",
        "\n",
        "#### Анализ Графиков Сходимости\n",
        "Из предоставленных данных следует, что модели имеют различную динамику обучения. Модель BiLSTM показывает более стабильную и высокую сходимость, в то время как у моделей RNN наблюдаются колебания качества, особенно при увеличении дропаута. Такая динамика указывает на более эффективное обучение и обобщающую способность модели BiLSTM.\n",
        "\n",
        "#### Оптимальная Модель\n",
        "С учетом полученных результатов, можно сделать вывод, что BiLSTM с дропаутом 0.5 является оптимальной моделью. Она не только достигла наивысшей точности среди всех тестированных моделей, но и продемонстрировала лучшую сходимость и стабильность в процессе обучения.\n",
        "\n",
        "#### Заключение\n",
        "В ходе лабораторной работы было проведено сравнение трех моделей нейронных сетей с различными уровнями дропаута. Эксперименты показали, что увеличение дропаута для RNN не привело к значительному улучшению результатов. В то же время, модель BiLSTM с дропаутом 0.5 показала наилучшие результаты по точности и стабильности обучения. Таким образом, для решения поставленной задачи оптимальным выбором будет использование модели BiLSTM с дропаутом 0.5."
      ],
      "metadata": {
        "id": "5yExyQQ6nBli"
      }
    }
  ],
  "metadata": {
    "accelerator": "GPU",
    "colab": {
      "provenance": [],
      "gpuType": "T4"
    },
    "kernelspec": {
      "display_name": "Python 3",
      "name": "python3"
    },
    "language_info": {
      "name": "python"
    },
    "widgets": {
      "application/vnd.jupyter.widget-state+json": {
        "b574452117014d809bb6549e0b671dba": {
          "model_module": "@jupyter-widgets/controls",
          "model_name": "HBoxModel",
          "model_module_version": "1.5.0",
          "state": {
            "_dom_classes": [],
            "_model_module": "@jupyter-widgets/controls",
            "_model_module_version": "1.5.0",
            "_model_name": "HBoxModel",
            "_view_count": null,
            "_view_module": "@jupyter-widgets/controls",
            "_view_module_version": "1.5.0",
            "_view_name": "HBoxView",
            "box_style": "",
            "children": [
              "IPY_MODEL_02b9f6626a574398bda49ddbbcdec3f3",
              "IPY_MODEL_52ff686013004da2ab54e0c3bb7056bb",
              "IPY_MODEL_46997fc6ca5f49f58ac5f14da6656681"
            ],
            "layout": "IPY_MODEL_a7cc83be745e4aac9083f9b3e974d81f"
          }
        },
        "02b9f6626a574398bda49ddbbcdec3f3": {
          "model_module": "@jupyter-widgets/controls",
          "model_name": "HTMLModel",
          "model_module_version": "1.5.0",
          "state": {
            "_dom_classes": [],
            "_model_module": "@jupyter-widgets/controls",
            "_model_module_version": "1.5.0",
            "_model_name": "HTMLModel",
            "_view_count": null,
            "_view_module": "@jupyter-widgets/controls",
            "_view_module_version": "1.5.0",
            "_view_name": "HTMLView",
            "description": "",
            "description_tooltip": null,
            "layout": "IPY_MODEL_d8bece2e31014f8f9f9c5b557075909b",
            "placeholder": "​",
            "style": "IPY_MODEL_52b8268a76164f45ad966ff41dd83961",
            "value": "Downloading data: 100%"
          }
        },
        "52ff686013004da2ab54e0c3bb7056bb": {
          "model_module": "@jupyter-widgets/controls",
          "model_name": "FloatProgressModel",
          "model_module_version": "1.5.0",
          "state": {
            "_dom_classes": [],
            "_model_module": "@jupyter-widgets/controls",
            "_model_module_version": "1.5.0",
            "_model_name": "FloatProgressModel",
            "_view_count": null,
            "_view_module": "@jupyter-widgets/controls",
            "_view_module_version": "1.5.0",
            "_view_name": "ProgressView",
            "bar_style": "success",
            "description": "",
            "description_tooltip": null,
            "layout": "IPY_MODEL_3c0bf8bcbba54af0ac3f012a13d003c8",
            "max": 18585438,
            "min": 0,
            "orientation": "horizontal",
            "style": "IPY_MODEL_a11fab80ca2f45f581f0235ff568aff9",
            "value": 18585438
          }
        },
        "46997fc6ca5f49f58ac5f14da6656681": {
          "model_module": "@jupyter-widgets/controls",
          "model_name": "HTMLModel",
          "model_module_version": "1.5.0",
          "state": {
            "_dom_classes": [],
            "_model_module": "@jupyter-widgets/controls",
            "_model_module_version": "1.5.0",
            "_model_name": "HTMLModel",
            "_view_count": null,
            "_view_module": "@jupyter-widgets/controls",
            "_view_module_version": "1.5.0",
            "_view_name": "HTMLView",
            "description": "",
            "description_tooltip": null,
            "layout": "IPY_MODEL_93a9bbee37784d0ebfd687fa35f1234b",
            "placeholder": "​",
            "style": "IPY_MODEL_73a0b4df3dee412eb69296f32aee9ec2",
            "value": " 18.6M/18.6M [00:01&lt;00:00, 19.6MB/s]"
          }
        },
        "a7cc83be745e4aac9083f9b3e974d81f": {
          "model_module": "@jupyter-widgets/base",
          "model_name": "LayoutModel",
          "model_module_version": "1.2.0",
          "state": {
            "_model_module": "@jupyter-widgets/base",
            "_model_module_version": "1.2.0",
            "_model_name": "LayoutModel",
            "_view_count": null,
            "_view_module": "@jupyter-widgets/base",
            "_view_module_version": "1.2.0",
            "_view_name": "LayoutView",
            "align_content": null,
            "align_items": null,
            "align_self": null,
            "border": null,
            "bottom": null,
            "display": null,
            "flex": null,
            "flex_flow": null,
            "grid_area": null,
            "grid_auto_columns": null,
            "grid_auto_flow": null,
            "grid_auto_rows": null,
            "grid_column": null,
            "grid_gap": null,
            "grid_row": null,
            "grid_template_areas": null,
            "grid_template_columns": null,
            "grid_template_rows": null,
            "height": null,
            "justify_content": null,
            "justify_items": null,
            "left": null,
            "margin": null,
            "max_height": null,
            "max_width": null,
            "min_height": null,
            "min_width": null,
            "object_fit": null,
            "object_position": null,
            "order": null,
            "overflow": null,
            "overflow_x": null,
            "overflow_y": null,
            "padding": null,
            "right": null,
            "top": null,
            "visibility": null,
            "width": null
          }
        },
        "d8bece2e31014f8f9f9c5b557075909b": {
          "model_module": "@jupyter-widgets/base",
          "model_name": "LayoutModel",
          "model_module_version": "1.2.0",
          "state": {
            "_model_module": "@jupyter-widgets/base",
            "_model_module_version": "1.2.0",
            "_model_name": "LayoutModel",
            "_view_count": null,
            "_view_module": "@jupyter-widgets/base",
            "_view_module_version": "1.2.0",
            "_view_name": "LayoutView",
            "align_content": null,
            "align_items": null,
            "align_self": null,
            "border": null,
            "bottom": null,
            "display": null,
            "flex": null,
            "flex_flow": null,
            "grid_area": null,
            "grid_auto_columns": null,
            "grid_auto_flow": null,
            "grid_auto_rows": null,
            "grid_column": null,
            "grid_gap": null,
            "grid_row": null,
            "grid_template_areas": null,
            "grid_template_columns": null,
            "grid_template_rows": null,
            "height": null,
            "justify_content": null,
            "justify_items": null,
            "left": null,
            "margin": null,
            "max_height": null,
            "max_width": null,
            "min_height": null,
            "min_width": null,
            "object_fit": null,
            "object_position": null,
            "order": null,
            "overflow": null,
            "overflow_x": null,
            "overflow_y": null,
            "padding": null,
            "right": null,
            "top": null,
            "visibility": null,
            "width": null
          }
        },
        "52b8268a76164f45ad966ff41dd83961": {
          "model_module": "@jupyter-widgets/controls",
          "model_name": "DescriptionStyleModel",
          "model_module_version": "1.5.0",
          "state": {
            "_model_module": "@jupyter-widgets/controls",
            "_model_module_version": "1.5.0",
            "_model_name": "DescriptionStyleModel",
            "_view_count": null,
            "_view_module": "@jupyter-widgets/base",
            "_view_module_version": "1.2.0",
            "_view_name": "StyleView",
            "description_width": ""
          }
        },
        "3c0bf8bcbba54af0ac3f012a13d003c8": {
          "model_module": "@jupyter-widgets/base",
          "model_name": "LayoutModel",
          "model_module_version": "1.2.0",
          "state": {
            "_model_module": "@jupyter-widgets/base",
            "_model_module_version": "1.2.0",
            "_model_name": "LayoutModel",
            "_view_count": null,
            "_view_module": "@jupyter-widgets/base",
            "_view_module_version": "1.2.0",
            "_view_name": "LayoutView",
            "align_content": null,
            "align_items": null,
            "align_self": null,
            "border": null,
            "bottom": null,
            "display": null,
            "flex": null,
            "flex_flow": null,
            "grid_area": null,
            "grid_auto_columns": null,
            "grid_auto_flow": null,
            "grid_auto_rows": null,
            "grid_column": null,
            "grid_gap": null,
            "grid_row": null,
            "grid_template_areas": null,
            "grid_template_columns": null,
            "grid_template_rows": null,
            "height": null,
            "justify_content": null,
            "justify_items": null,
            "left": null,
            "margin": null,
            "max_height": null,
            "max_width": null,
            "min_height": null,
            "min_width": null,
            "object_fit": null,
            "object_position": null,
            "order": null,
            "overflow": null,
            "overflow_x": null,
            "overflow_y": null,
            "padding": null,
            "right": null,
            "top": null,
            "visibility": null,
            "width": null
          }
        },
        "a11fab80ca2f45f581f0235ff568aff9": {
          "model_module": "@jupyter-widgets/controls",
          "model_name": "ProgressStyleModel",
          "model_module_version": "1.5.0",
          "state": {
            "_model_module": "@jupyter-widgets/controls",
            "_model_module_version": "1.5.0",
            "_model_name": "ProgressStyleModel",
            "_view_count": null,
            "_view_module": "@jupyter-widgets/base",
            "_view_module_version": "1.2.0",
            "_view_name": "StyleView",
            "bar_color": null,
            "description_width": ""
          }
        },
        "93a9bbee37784d0ebfd687fa35f1234b": {
          "model_module": "@jupyter-widgets/base",
          "model_name": "LayoutModel",
          "model_module_version": "1.2.0",
          "state": {
            "_model_module": "@jupyter-widgets/base",
            "_model_module_version": "1.2.0",
            "_model_name": "LayoutModel",
            "_view_count": null,
            "_view_module": "@jupyter-widgets/base",
            "_view_module_version": "1.2.0",
            "_view_name": "LayoutView",
            "align_content": null,
            "align_items": null,
            "align_self": null,
            "border": null,
            "bottom": null,
            "display": null,
            "flex": null,
            "flex_flow": null,
            "grid_area": null,
            "grid_auto_columns": null,
            "grid_auto_flow": null,
            "grid_auto_rows": null,
            "grid_column": null,
            "grid_gap": null,
            "grid_row": null,
            "grid_template_areas": null,
            "grid_template_columns": null,
            "grid_template_rows": null,
            "height": null,
            "justify_content": null,
            "justify_items": null,
            "left": null,
            "margin": null,
            "max_height": null,
            "max_width": null,
            "min_height": null,
            "min_width": null,
            "object_fit": null,
            "object_position": null,
            "order": null,
            "overflow": null,
            "overflow_x": null,
            "overflow_y": null,
            "padding": null,
            "right": null,
            "top": null,
            "visibility": null,
            "width": null
          }
        },
        "73a0b4df3dee412eb69296f32aee9ec2": {
          "model_module": "@jupyter-widgets/controls",
          "model_name": "DescriptionStyleModel",
          "model_module_version": "1.5.0",
          "state": {
            "_model_module": "@jupyter-widgets/controls",
            "_model_module_version": "1.5.0",
            "_model_name": "DescriptionStyleModel",
            "_view_count": null,
            "_view_module": "@jupyter-widgets/base",
            "_view_module_version": "1.2.0",
            "_view_name": "StyleView",
            "description_width": ""
          }
        },
        "d42f02bdec41493d9d2f0d725ba2dd69": {
          "model_module": "@jupyter-widgets/controls",
          "model_name": "HBoxModel",
          "model_module_version": "1.5.0",
          "state": {
            "_dom_classes": [],
            "_model_module": "@jupyter-widgets/controls",
            "_model_module_version": "1.5.0",
            "_model_name": "HBoxModel",
            "_view_count": null,
            "_view_module": "@jupyter-widgets/controls",
            "_view_module_version": "1.5.0",
            "_view_name": "HBoxView",
            "box_style": "",
            "children": [
              "IPY_MODEL_ff132d46bd21421590fd7467b258949c",
              "IPY_MODEL_1c7d23331f234bfd938304855f4c5187",
              "IPY_MODEL_b1420875c5f341edbbde36ecf0a13aa9"
            ],
            "layout": "IPY_MODEL_d19dc6a3532b4b7dbe42cd3c256d62a9"
          }
        },
        "ff132d46bd21421590fd7467b258949c": {
          "model_module": "@jupyter-widgets/controls",
          "model_name": "HTMLModel",
          "model_module_version": "1.5.0",
          "state": {
            "_dom_classes": [],
            "_model_module": "@jupyter-widgets/controls",
            "_model_module_version": "1.5.0",
            "_model_name": "HTMLModel",
            "_view_count": null,
            "_view_module": "@jupyter-widgets/controls",
            "_view_module_version": "1.5.0",
            "_view_name": "HTMLView",
            "description": "",
            "description_tooltip": null,
            "layout": "IPY_MODEL_2c145956a4994bbdbc50c8ebdb7b1421",
            "placeholder": "​",
            "style": "IPY_MODEL_1769236b65f94ad894e6060543c89f09",
            "value": "Downloading data: 100%"
          }
        },
        "1c7d23331f234bfd938304855f4c5187": {
          "model_module": "@jupyter-widgets/controls",
          "model_name": "FloatProgressModel",
          "model_module_version": "1.5.0",
          "state": {
            "_dom_classes": [],
            "_model_module": "@jupyter-widgets/controls",
            "_model_module_version": "1.5.0",
            "_model_name": "FloatProgressModel",
            "_view_count": null,
            "_view_module": "@jupyter-widgets/controls",
            "_view_module_version": "1.5.0",
            "_view_name": "ProgressView",
            "bar_style": "success",
            "description": "",
            "description_tooltip": null,
            "layout": "IPY_MODEL_a693e061153541daa288bdd978b266c0",
            "max": 1234829,
            "min": 0,
            "orientation": "horizontal",
            "style": "IPY_MODEL_9e5262d8466746a4a6634e301c7027f6",
            "value": 1234829
          }
        },
        "b1420875c5f341edbbde36ecf0a13aa9": {
          "model_module": "@jupyter-widgets/controls",
          "model_name": "HTMLModel",
          "model_module_version": "1.5.0",
          "state": {
            "_dom_classes": [],
            "_model_module": "@jupyter-widgets/controls",
            "_model_module_version": "1.5.0",
            "_model_name": "HTMLModel",
            "_view_count": null,
            "_view_module": "@jupyter-widgets/controls",
            "_view_module_version": "1.5.0",
            "_view_name": "HTMLView",
            "description": "",
            "description_tooltip": null,
            "layout": "IPY_MODEL_a9e7187df93f4c88b010c8a27d1a0cc5",
            "placeholder": "​",
            "style": "IPY_MODEL_36d671c786ec4b69a8747f870ada7025",
            "value": " 1.23M/1.23M [00:00&lt;00:00, 7.23MB/s]"
          }
        },
        "d19dc6a3532b4b7dbe42cd3c256d62a9": {
          "model_module": "@jupyter-widgets/base",
          "model_name": "LayoutModel",
          "model_module_version": "1.2.0",
          "state": {
            "_model_module": "@jupyter-widgets/base",
            "_model_module_version": "1.2.0",
            "_model_name": "LayoutModel",
            "_view_count": null,
            "_view_module": "@jupyter-widgets/base",
            "_view_module_version": "1.2.0",
            "_view_name": "LayoutView",
            "align_content": null,
            "align_items": null,
            "align_self": null,
            "border": null,
            "bottom": null,
            "display": null,
            "flex": null,
            "flex_flow": null,
            "grid_area": null,
            "grid_auto_columns": null,
            "grid_auto_flow": null,
            "grid_auto_rows": null,
            "grid_column": null,
            "grid_gap": null,
            "grid_row": null,
            "grid_template_areas": null,
            "grid_template_columns": null,
            "grid_template_rows": null,
            "height": null,
            "justify_content": null,
            "justify_items": null,
            "left": null,
            "margin": null,
            "max_height": null,
            "max_width": null,
            "min_height": null,
            "min_width": null,
            "object_fit": null,
            "object_position": null,
            "order": null,
            "overflow": null,
            "overflow_x": null,
            "overflow_y": null,
            "padding": null,
            "right": null,
            "top": null,
            "visibility": null,
            "width": null
          }
        },
        "2c145956a4994bbdbc50c8ebdb7b1421": {
          "model_module": "@jupyter-widgets/base",
          "model_name": "LayoutModel",
          "model_module_version": "1.2.0",
          "state": {
            "_model_module": "@jupyter-widgets/base",
            "_model_module_version": "1.2.0",
            "_model_name": "LayoutModel",
            "_view_count": null,
            "_view_module": "@jupyter-widgets/base",
            "_view_module_version": "1.2.0",
            "_view_name": "LayoutView",
            "align_content": null,
            "align_items": null,
            "align_self": null,
            "border": null,
            "bottom": null,
            "display": null,
            "flex": null,
            "flex_flow": null,
            "grid_area": null,
            "grid_auto_columns": null,
            "grid_auto_flow": null,
            "grid_auto_rows": null,
            "grid_column": null,
            "grid_gap": null,
            "grid_row": null,
            "grid_template_areas": null,
            "grid_template_columns": null,
            "grid_template_rows": null,
            "height": null,
            "justify_content": null,
            "justify_items": null,
            "left": null,
            "margin": null,
            "max_height": null,
            "max_width": null,
            "min_height": null,
            "min_width": null,
            "object_fit": null,
            "object_position": null,
            "order": null,
            "overflow": null,
            "overflow_x": null,
            "overflow_y": null,
            "padding": null,
            "right": null,
            "top": null,
            "visibility": null,
            "width": null
          }
        },
        "1769236b65f94ad894e6060543c89f09": {
          "model_module": "@jupyter-widgets/controls",
          "model_name": "DescriptionStyleModel",
          "model_module_version": "1.5.0",
          "state": {
            "_model_module": "@jupyter-widgets/controls",
            "_model_module_version": "1.5.0",
            "_model_name": "DescriptionStyleModel",
            "_view_count": null,
            "_view_module": "@jupyter-widgets/base",
            "_view_module_version": "1.2.0",
            "_view_name": "StyleView",
            "description_width": ""
          }
        },
        "a693e061153541daa288bdd978b266c0": {
          "model_module": "@jupyter-widgets/base",
          "model_name": "LayoutModel",
          "model_module_version": "1.2.0",
          "state": {
            "_model_module": "@jupyter-widgets/base",
            "_model_module_version": "1.2.0",
            "_model_name": "LayoutModel",
            "_view_count": null,
            "_view_module": "@jupyter-widgets/base",
            "_view_module_version": "1.2.0",
            "_view_name": "LayoutView",
            "align_content": null,
            "align_items": null,
            "align_self": null,
            "border": null,
            "bottom": null,
            "display": null,
            "flex": null,
            "flex_flow": null,
            "grid_area": null,
            "grid_auto_columns": null,
            "grid_auto_flow": null,
            "grid_auto_rows": null,
            "grid_column": null,
            "grid_gap": null,
            "grid_row": null,
            "grid_template_areas": null,
            "grid_template_columns": null,
            "grid_template_rows": null,
            "height": null,
            "justify_content": null,
            "justify_items": null,
            "left": null,
            "margin": null,
            "max_height": null,
            "max_width": null,
            "min_height": null,
            "min_width": null,
            "object_fit": null,
            "object_position": null,
            "order": null,
            "overflow": null,
            "overflow_x": null,
            "overflow_y": null,
            "padding": null,
            "right": null,
            "top": null,
            "visibility": null,
            "width": null
          }
        },
        "9e5262d8466746a4a6634e301c7027f6": {
          "model_module": "@jupyter-widgets/controls",
          "model_name": "ProgressStyleModel",
          "model_module_version": "1.5.0",
          "state": {
            "_model_module": "@jupyter-widgets/controls",
            "_model_module_version": "1.5.0",
            "_model_name": "ProgressStyleModel",
            "_view_count": null,
            "_view_module": "@jupyter-widgets/base",
            "_view_module_version": "1.2.0",
            "_view_name": "StyleView",
            "bar_color": null,
            "description_width": ""
          }
        },
        "a9e7187df93f4c88b010c8a27d1a0cc5": {
          "model_module": "@jupyter-widgets/base",
          "model_name": "LayoutModel",
          "model_module_version": "1.2.0",
          "state": {
            "_model_module": "@jupyter-widgets/base",
            "_model_module_version": "1.2.0",
            "_model_name": "LayoutModel",
            "_view_count": null,
            "_view_module": "@jupyter-widgets/base",
            "_view_module_version": "1.2.0",
            "_view_name": "LayoutView",
            "align_content": null,
            "align_items": null,
            "align_self": null,
            "border": null,
            "bottom": null,
            "display": null,
            "flex": null,
            "flex_flow": null,
            "grid_area": null,
            "grid_auto_columns": null,
            "grid_auto_flow": null,
            "grid_auto_rows": null,
            "grid_column": null,
            "grid_gap": null,
            "grid_row": null,
            "grid_template_areas": null,
            "grid_template_columns": null,
            "grid_template_rows": null,
            "height": null,
            "justify_content": null,
            "justify_items": null,
            "left": null,
            "margin": null,
            "max_height": null,
            "max_width": null,
            "min_height": null,
            "min_width": null,
            "object_fit": null,
            "object_position": null,
            "order": null,
            "overflow": null,
            "overflow_x": null,
            "overflow_y": null,
            "padding": null,
            "right": null,
            "top": null,
            "visibility": null,
            "width": null
          }
        },
        "36d671c786ec4b69a8747f870ada7025": {
          "model_module": "@jupyter-widgets/controls",
          "model_name": "DescriptionStyleModel",
          "model_module_version": "1.5.0",
          "state": {
            "_model_module": "@jupyter-widgets/controls",
            "_model_module_version": "1.5.0",
            "_model_name": "DescriptionStyleModel",
            "_view_count": null,
            "_view_module": "@jupyter-widgets/base",
            "_view_module_version": "1.2.0",
            "_view_name": "StyleView",
            "description_width": ""
          }
        },
        "a908e3dddac9456d8cc5728bc12851da": {
          "model_module": "@jupyter-widgets/controls",
          "model_name": "HBoxModel",
          "model_module_version": "1.5.0",
          "state": {
            "_dom_classes": [],
            "_model_module": "@jupyter-widgets/controls",
            "_model_module_version": "1.5.0",
            "_model_name": "HBoxModel",
            "_view_count": null,
            "_view_module": "@jupyter-widgets/controls",
            "_view_module_version": "1.5.0",
            "_view_name": "HBoxView",
            "box_style": "",
            "children": [
              "IPY_MODEL_0691fc46bf6b4de28e923a072b0ad639",
              "IPY_MODEL_655ab3aee096474d9e3234dd942f70c2",
              "IPY_MODEL_f81bb796293f44d68cd2d91b9309e34c"
            ],
            "layout": "IPY_MODEL_592cb675517042339709e3da738be482"
          }
        },
        "0691fc46bf6b4de28e923a072b0ad639": {
          "model_module": "@jupyter-widgets/controls",
          "model_name": "HTMLModel",
          "model_module_version": "1.5.0",
          "state": {
            "_dom_classes": [],
            "_model_module": "@jupyter-widgets/controls",
            "_model_module_version": "1.5.0",
            "_model_name": "HTMLModel",
            "_view_count": null,
            "_view_module": "@jupyter-widgets/controls",
            "_view_module_version": "1.5.0",
            "_view_name": "HTMLView",
            "description": "",
            "description_tooltip": null,
            "layout": "IPY_MODEL_202ff2a062cd4e7da77685e5d2b8216c",
            "placeholder": "​",
            "style": "IPY_MODEL_d5ad184d349c45aa8e75f6496a4bbc4c",
            "value": "Generating train split: 100%"
          }
        },
        "655ab3aee096474d9e3234dd942f70c2": {
          "model_module": "@jupyter-widgets/controls",
          "model_name": "FloatProgressModel",
          "model_module_version": "1.5.0",
          "state": {
            "_dom_classes": [],
            "_model_module": "@jupyter-widgets/controls",
            "_model_module_version": "1.5.0",
            "_model_name": "FloatProgressModel",
            "_view_count": null,
            "_view_module": "@jupyter-widgets/controls",
            "_view_module_version": "1.5.0",
            "_view_name": "ProgressView",
            "bar_style": "success",
            "description": "",
            "description_tooltip": null,
            "layout": "IPY_MODEL_4148cbafa7404af58e75219b5be04c88",
            "max": 120000,
            "min": 0,
            "orientation": "horizontal",
            "style": "IPY_MODEL_aeeb72532fba4b0db86867b33129ea89",
            "value": 120000
          }
        },
        "f81bb796293f44d68cd2d91b9309e34c": {
          "model_module": "@jupyter-widgets/controls",
          "model_name": "HTMLModel",
          "model_module_version": "1.5.0",
          "state": {
            "_dom_classes": [],
            "_model_module": "@jupyter-widgets/controls",
            "_model_module_version": "1.5.0",
            "_model_name": "HTMLModel",
            "_view_count": null,
            "_view_module": "@jupyter-widgets/controls",
            "_view_module_version": "1.5.0",
            "_view_name": "HTMLView",
            "description": "",
            "description_tooltip": null,
            "layout": "IPY_MODEL_472a7942bea747c09087a9fff93bc48f",
            "placeholder": "​",
            "style": "IPY_MODEL_80df48abfd3f4d48a32e32092c1eb31e",
            "value": " 120000/120000 [00:00&lt;00:00, 275882.28 examples/s]"
          }
        },
        "592cb675517042339709e3da738be482": {
          "model_module": "@jupyter-widgets/base",
          "model_name": "LayoutModel",
          "model_module_version": "1.2.0",
          "state": {
            "_model_module": "@jupyter-widgets/base",
            "_model_module_version": "1.2.0",
            "_model_name": "LayoutModel",
            "_view_count": null,
            "_view_module": "@jupyter-widgets/base",
            "_view_module_version": "1.2.0",
            "_view_name": "LayoutView",
            "align_content": null,
            "align_items": null,
            "align_self": null,
            "border": null,
            "bottom": null,
            "display": null,
            "flex": null,
            "flex_flow": null,
            "grid_area": null,
            "grid_auto_columns": null,
            "grid_auto_flow": null,
            "grid_auto_rows": null,
            "grid_column": null,
            "grid_gap": null,
            "grid_row": null,
            "grid_template_areas": null,
            "grid_template_columns": null,
            "grid_template_rows": null,
            "height": null,
            "justify_content": null,
            "justify_items": null,
            "left": null,
            "margin": null,
            "max_height": null,
            "max_width": null,
            "min_height": null,
            "min_width": null,
            "object_fit": null,
            "object_position": null,
            "order": null,
            "overflow": null,
            "overflow_x": null,
            "overflow_y": null,
            "padding": null,
            "right": null,
            "top": null,
            "visibility": null,
            "width": null
          }
        },
        "202ff2a062cd4e7da77685e5d2b8216c": {
          "model_module": "@jupyter-widgets/base",
          "model_name": "LayoutModel",
          "model_module_version": "1.2.0",
          "state": {
            "_model_module": "@jupyter-widgets/base",
            "_model_module_version": "1.2.0",
            "_model_name": "LayoutModel",
            "_view_count": null,
            "_view_module": "@jupyter-widgets/base",
            "_view_module_version": "1.2.0",
            "_view_name": "LayoutView",
            "align_content": null,
            "align_items": null,
            "align_self": null,
            "border": null,
            "bottom": null,
            "display": null,
            "flex": null,
            "flex_flow": null,
            "grid_area": null,
            "grid_auto_columns": null,
            "grid_auto_flow": null,
            "grid_auto_rows": null,
            "grid_column": null,
            "grid_gap": null,
            "grid_row": null,
            "grid_template_areas": null,
            "grid_template_columns": null,
            "grid_template_rows": null,
            "height": null,
            "justify_content": null,
            "justify_items": null,
            "left": null,
            "margin": null,
            "max_height": null,
            "max_width": null,
            "min_height": null,
            "min_width": null,
            "object_fit": null,
            "object_position": null,
            "order": null,
            "overflow": null,
            "overflow_x": null,
            "overflow_y": null,
            "padding": null,
            "right": null,
            "top": null,
            "visibility": null,
            "width": null
          }
        },
        "d5ad184d349c45aa8e75f6496a4bbc4c": {
          "model_module": "@jupyter-widgets/controls",
          "model_name": "DescriptionStyleModel",
          "model_module_version": "1.5.0",
          "state": {
            "_model_module": "@jupyter-widgets/controls",
            "_model_module_version": "1.5.0",
            "_model_name": "DescriptionStyleModel",
            "_view_count": null,
            "_view_module": "@jupyter-widgets/base",
            "_view_module_version": "1.2.0",
            "_view_name": "StyleView",
            "description_width": ""
          }
        },
        "4148cbafa7404af58e75219b5be04c88": {
          "model_module": "@jupyter-widgets/base",
          "model_name": "LayoutModel",
          "model_module_version": "1.2.0",
          "state": {
            "_model_module": "@jupyter-widgets/base",
            "_model_module_version": "1.2.0",
            "_model_name": "LayoutModel",
            "_view_count": null,
            "_view_module": "@jupyter-widgets/base",
            "_view_module_version": "1.2.0",
            "_view_name": "LayoutView",
            "align_content": null,
            "align_items": null,
            "align_self": null,
            "border": null,
            "bottom": null,
            "display": null,
            "flex": null,
            "flex_flow": null,
            "grid_area": null,
            "grid_auto_columns": null,
            "grid_auto_flow": null,
            "grid_auto_rows": null,
            "grid_column": null,
            "grid_gap": null,
            "grid_row": null,
            "grid_template_areas": null,
            "grid_template_columns": null,
            "grid_template_rows": null,
            "height": null,
            "justify_content": null,
            "justify_items": null,
            "left": null,
            "margin": null,
            "max_height": null,
            "max_width": null,
            "min_height": null,
            "min_width": null,
            "object_fit": null,
            "object_position": null,
            "order": null,
            "overflow": null,
            "overflow_x": null,
            "overflow_y": null,
            "padding": null,
            "right": null,
            "top": null,
            "visibility": null,
            "width": null
          }
        },
        "aeeb72532fba4b0db86867b33129ea89": {
          "model_module": "@jupyter-widgets/controls",
          "model_name": "ProgressStyleModel",
          "model_module_version": "1.5.0",
          "state": {
            "_model_module": "@jupyter-widgets/controls",
            "_model_module_version": "1.5.0",
            "_model_name": "ProgressStyleModel",
            "_view_count": null,
            "_view_module": "@jupyter-widgets/base",
            "_view_module_version": "1.2.0",
            "_view_name": "StyleView",
            "bar_color": null,
            "description_width": ""
          }
        },
        "472a7942bea747c09087a9fff93bc48f": {
          "model_module": "@jupyter-widgets/base",
          "model_name": "LayoutModel",
          "model_module_version": "1.2.0",
          "state": {
            "_model_module": "@jupyter-widgets/base",
            "_model_module_version": "1.2.0",
            "_model_name": "LayoutModel",
            "_view_count": null,
            "_view_module": "@jupyter-widgets/base",
            "_view_module_version": "1.2.0",
            "_view_name": "LayoutView",
            "align_content": null,
            "align_items": null,
            "align_self": null,
            "border": null,
            "bottom": null,
            "display": null,
            "flex": null,
            "flex_flow": null,
            "grid_area": null,
            "grid_auto_columns": null,
            "grid_auto_flow": null,
            "grid_auto_rows": null,
            "grid_column": null,
            "grid_gap": null,
            "grid_row": null,
            "grid_template_areas": null,
            "grid_template_columns": null,
            "grid_template_rows": null,
            "height": null,
            "justify_content": null,
            "justify_items": null,
            "left": null,
            "margin": null,
            "max_height": null,
            "max_width": null,
            "min_height": null,
            "min_width": null,
            "object_fit": null,
            "object_position": null,
            "order": null,
            "overflow": null,
            "overflow_x": null,
            "overflow_y": null,
            "padding": null,
            "right": null,
            "top": null,
            "visibility": null,
            "width": null
          }
        },
        "80df48abfd3f4d48a32e32092c1eb31e": {
          "model_module": "@jupyter-widgets/controls",
          "model_name": "DescriptionStyleModel",
          "model_module_version": "1.5.0",
          "state": {
            "_model_module": "@jupyter-widgets/controls",
            "_model_module_version": "1.5.0",
            "_model_name": "DescriptionStyleModel",
            "_view_count": null,
            "_view_module": "@jupyter-widgets/base",
            "_view_module_version": "1.2.0",
            "_view_name": "StyleView",
            "description_width": ""
          }
        },
        "d69d0cfc9445425b90be3795e5abeda4": {
          "model_module": "@jupyter-widgets/controls",
          "model_name": "HBoxModel",
          "model_module_version": "1.5.0",
          "state": {
            "_dom_classes": [],
            "_model_module": "@jupyter-widgets/controls",
            "_model_module_version": "1.5.0",
            "_model_name": "HBoxModel",
            "_view_count": null,
            "_view_module": "@jupyter-widgets/controls",
            "_view_module_version": "1.5.0",
            "_view_name": "HBoxView",
            "box_style": "",
            "children": [
              "IPY_MODEL_805ea27dcec344639d78c49177ad02ac",
              "IPY_MODEL_615063f7981349c4acdbf34957ce230b",
              "IPY_MODEL_3bad75f4a157443f9f09b4b1ebbda5dd"
            ],
            "layout": "IPY_MODEL_dd2a49d52a6442778151882fa90a20bc"
          }
        },
        "805ea27dcec344639d78c49177ad02ac": {
          "model_module": "@jupyter-widgets/controls",
          "model_name": "HTMLModel",
          "model_module_version": "1.5.0",
          "state": {
            "_dom_classes": [],
            "_model_module": "@jupyter-widgets/controls",
            "_model_module_version": "1.5.0",
            "_model_name": "HTMLModel",
            "_view_count": null,
            "_view_module": "@jupyter-widgets/controls",
            "_view_module_version": "1.5.0",
            "_view_name": "HTMLView",
            "description": "",
            "description_tooltip": null,
            "layout": "IPY_MODEL_5f7050e94ce4421e86063dfdefe5894c",
            "placeholder": "​",
            "style": "IPY_MODEL_bbf77f119677479e93e3824cf8d193ba",
            "value": "Generating test split: 100%"
          }
        },
        "615063f7981349c4acdbf34957ce230b": {
          "model_module": "@jupyter-widgets/controls",
          "model_name": "FloatProgressModel",
          "model_module_version": "1.5.0",
          "state": {
            "_dom_classes": [],
            "_model_module": "@jupyter-widgets/controls",
            "_model_module_version": "1.5.0",
            "_model_name": "FloatProgressModel",
            "_view_count": null,
            "_view_module": "@jupyter-widgets/controls",
            "_view_module_version": "1.5.0",
            "_view_name": "ProgressView",
            "bar_style": "success",
            "description": "",
            "description_tooltip": null,
            "layout": "IPY_MODEL_a2ed1796e1a24fcb99f31439a52088e5",
            "max": 7600,
            "min": 0,
            "orientation": "horizontal",
            "style": "IPY_MODEL_201ad13d6b9c441eb54473ae55621f9c",
            "value": 7600
          }
        },
        "3bad75f4a157443f9f09b4b1ebbda5dd": {
          "model_module": "@jupyter-widgets/controls",
          "model_name": "HTMLModel",
          "model_module_version": "1.5.0",
          "state": {
            "_dom_classes": [],
            "_model_module": "@jupyter-widgets/controls",
            "_model_module_version": "1.5.0",
            "_model_name": "HTMLModel",
            "_view_count": null,
            "_view_module": "@jupyter-widgets/controls",
            "_view_module_version": "1.5.0",
            "_view_name": "HTMLView",
            "description": "",
            "description_tooltip": null,
            "layout": "IPY_MODEL_152984965ed9421592f7064425cea1ef",
            "placeholder": "​",
            "style": "IPY_MODEL_4c73f8e19e4d428d8eee8a1b0b6fd49b",
            "value": " 7600/7600 [00:00&lt;00:00, 100957.13 examples/s]"
          }
        },
        "dd2a49d52a6442778151882fa90a20bc": {
          "model_module": "@jupyter-widgets/base",
          "model_name": "LayoutModel",
          "model_module_version": "1.2.0",
          "state": {
            "_model_module": "@jupyter-widgets/base",
            "_model_module_version": "1.2.0",
            "_model_name": "LayoutModel",
            "_view_count": null,
            "_view_module": "@jupyter-widgets/base",
            "_view_module_version": "1.2.0",
            "_view_name": "LayoutView",
            "align_content": null,
            "align_items": null,
            "align_self": null,
            "border": null,
            "bottom": null,
            "display": null,
            "flex": null,
            "flex_flow": null,
            "grid_area": null,
            "grid_auto_columns": null,
            "grid_auto_flow": null,
            "grid_auto_rows": null,
            "grid_column": null,
            "grid_gap": null,
            "grid_row": null,
            "grid_template_areas": null,
            "grid_template_columns": null,
            "grid_template_rows": null,
            "height": null,
            "justify_content": null,
            "justify_items": null,
            "left": null,
            "margin": null,
            "max_height": null,
            "max_width": null,
            "min_height": null,
            "min_width": null,
            "object_fit": null,
            "object_position": null,
            "order": null,
            "overflow": null,
            "overflow_x": null,
            "overflow_y": null,
            "padding": null,
            "right": null,
            "top": null,
            "visibility": null,
            "width": null
          }
        },
        "5f7050e94ce4421e86063dfdefe5894c": {
          "model_module": "@jupyter-widgets/base",
          "model_name": "LayoutModel",
          "model_module_version": "1.2.0",
          "state": {
            "_model_module": "@jupyter-widgets/base",
            "_model_module_version": "1.2.0",
            "_model_name": "LayoutModel",
            "_view_count": null,
            "_view_module": "@jupyter-widgets/base",
            "_view_module_version": "1.2.0",
            "_view_name": "LayoutView",
            "align_content": null,
            "align_items": null,
            "align_self": null,
            "border": null,
            "bottom": null,
            "display": null,
            "flex": null,
            "flex_flow": null,
            "grid_area": null,
            "grid_auto_columns": null,
            "grid_auto_flow": null,
            "grid_auto_rows": null,
            "grid_column": null,
            "grid_gap": null,
            "grid_row": null,
            "grid_template_areas": null,
            "grid_template_columns": null,
            "grid_template_rows": null,
            "height": null,
            "justify_content": null,
            "justify_items": null,
            "left": null,
            "margin": null,
            "max_height": null,
            "max_width": null,
            "min_height": null,
            "min_width": null,
            "object_fit": null,
            "object_position": null,
            "order": null,
            "overflow": null,
            "overflow_x": null,
            "overflow_y": null,
            "padding": null,
            "right": null,
            "top": null,
            "visibility": null,
            "width": null
          }
        },
        "bbf77f119677479e93e3824cf8d193ba": {
          "model_module": "@jupyter-widgets/controls",
          "model_name": "DescriptionStyleModel",
          "model_module_version": "1.5.0",
          "state": {
            "_model_module": "@jupyter-widgets/controls",
            "_model_module_version": "1.5.0",
            "_model_name": "DescriptionStyleModel",
            "_view_count": null,
            "_view_module": "@jupyter-widgets/base",
            "_view_module_version": "1.2.0",
            "_view_name": "StyleView",
            "description_width": ""
          }
        },
        "a2ed1796e1a24fcb99f31439a52088e5": {
          "model_module": "@jupyter-widgets/base",
          "model_name": "LayoutModel",
          "model_module_version": "1.2.0",
          "state": {
            "_model_module": "@jupyter-widgets/base",
            "_model_module_version": "1.2.0",
            "_model_name": "LayoutModel",
            "_view_count": null,
            "_view_module": "@jupyter-widgets/base",
            "_view_module_version": "1.2.0",
            "_view_name": "LayoutView",
            "align_content": null,
            "align_items": null,
            "align_self": null,
            "border": null,
            "bottom": null,
            "display": null,
            "flex": null,
            "flex_flow": null,
            "grid_area": null,
            "grid_auto_columns": null,
            "grid_auto_flow": null,
            "grid_auto_rows": null,
            "grid_column": null,
            "grid_gap": null,
            "grid_row": null,
            "grid_template_areas": null,
            "grid_template_columns": null,
            "grid_template_rows": null,
            "height": null,
            "justify_content": null,
            "justify_items": null,
            "left": null,
            "margin": null,
            "max_height": null,
            "max_width": null,
            "min_height": null,
            "min_width": null,
            "object_fit": null,
            "object_position": null,
            "order": null,
            "overflow": null,
            "overflow_x": null,
            "overflow_y": null,
            "padding": null,
            "right": null,
            "top": null,
            "visibility": null,
            "width": null
          }
        },
        "201ad13d6b9c441eb54473ae55621f9c": {
          "model_module": "@jupyter-widgets/controls",
          "model_name": "ProgressStyleModel",
          "model_module_version": "1.5.0",
          "state": {
            "_model_module": "@jupyter-widgets/controls",
            "_model_module_version": "1.5.0",
            "_model_name": "ProgressStyleModel",
            "_view_count": null,
            "_view_module": "@jupyter-widgets/base",
            "_view_module_version": "1.2.0",
            "_view_name": "StyleView",
            "bar_color": null,
            "description_width": ""
          }
        },
        "152984965ed9421592f7064425cea1ef": {
          "model_module": "@jupyter-widgets/base",
          "model_name": "LayoutModel",
          "model_module_version": "1.2.0",
          "state": {
            "_model_module": "@jupyter-widgets/base",
            "_model_module_version": "1.2.0",
            "_model_name": "LayoutModel",
            "_view_count": null,
            "_view_module": "@jupyter-widgets/base",
            "_view_module_version": "1.2.0",
            "_view_name": "LayoutView",
            "align_content": null,
            "align_items": null,
            "align_self": null,
            "border": null,
            "bottom": null,
            "display": null,
            "flex": null,
            "flex_flow": null,
            "grid_area": null,
            "grid_auto_columns": null,
            "grid_auto_flow": null,
            "grid_auto_rows": null,
            "grid_column": null,
            "grid_gap": null,
            "grid_row": null,
            "grid_template_areas": null,
            "grid_template_columns": null,
            "grid_template_rows": null,
            "height": null,
            "justify_content": null,
            "justify_items": null,
            "left": null,
            "margin": null,
            "max_height": null,
            "max_width": null,
            "min_height": null,
            "min_width": null,
            "object_fit": null,
            "object_position": null,
            "order": null,
            "overflow": null,
            "overflow_x": null,
            "overflow_y": null,
            "padding": null,
            "right": null,
            "top": null,
            "visibility": null,
            "width": null
          }
        },
        "4c73f8e19e4d428d8eee8a1b0b6fd49b": {
          "model_module": "@jupyter-widgets/controls",
          "model_name": "DescriptionStyleModel",
          "model_module_version": "1.5.0",
          "state": {
            "_model_module": "@jupyter-widgets/controls",
            "_model_module_version": "1.5.0",
            "_model_name": "DescriptionStyleModel",
            "_view_count": null,
            "_view_module": "@jupyter-widgets/base",
            "_view_module_version": "1.2.0",
            "_view_name": "StyleView",
            "description_width": ""
          }
        },
        "a2cd7d702be74e80bed0ca8afc5091be": {
          "model_module": "@jupyter-widgets/controls",
          "model_name": "HBoxModel",
          "model_module_version": "1.5.0",
          "state": {
            "_dom_classes": [],
            "_model_module": "@jupyter-widgets/controls",
            "_model_module_version": "1.5.0",
            "_model_name": "HBoxModel",
            "_view_count": null,
            "_view_module": "@jupyter-widgets/controls",
            "_view_module_version": "1.5.0",
            "_view_name": "HBoxView",
            "box_style": "",
            "children": [
              "IPY_MODEL_5d7e723522c74fa7a2c39b160aac8f06",
              "IPY_MODEL_6dc262ba9b1e4dfbb0d03a65f8f4b2ba",
              "IPY_MODEL_b09a8738ac8945068b33561e3a515260"
            ],
            "layout": "IPY_MODEL_cf648f017a5747c4bffe993c9f869d17"
          }
        },
        "5d7e723522c74fa7a2c39b160aac8f06": {
          "model_module": "@jupyter-widgets/controls",
          "model_name": "HTMLModel",
          "model_module_version": "1.5.0",
          "state": {
            "_dom_classes": [],
            "_model_module": "@jupyter-widgets/controls",
            "_model_module_version": "1.5.0",
            "_model_name": "HTMLModel",
            "_view_count": null,
            "_view_module": "@jupyter-widgets/controls",
            "_view_module_version": "1.5.0",
            "_view_name": "HTMLView",
            "description": "",
            "description_tooltip": null,
            "layout": "IPY_MODEL_9882dce58ca04bc1a1ec269749919966",
            "placeholder": "​",
            "style": "IPY_MODEL_753f12a341d8461cabfead477b36c17a",
            "value": "100%"
          }
        },
        "6dc262ba9b1e4dfbb0d03a65f8f4b2ba": {
          "model_module": "@jupyter-widgets/controls",
          "model_name": "FloatProgressModel",
          "model_module_version": "1.5.0",
          "state": {
            "_dom_classes": [],
            "_model_module": "@jupyter-widgets/controls",
            "_model_module_version": "1.5.0",
            "_model_name": "FloatProgressModel",
            "_view_count": null,
            "_view_module": "@jupyter-widgets/controls",
            "_view_module_version": "1.5.0",
            "_view_name": "ProgressView",
            "bar_style": "success",
            "description": "",
            "description_tooltip": null,
            "layout": "IPY_MODEL_4b01dd23e4fd4e0699d079dc88768e0d",
            "max": 120000,
            "min": 0,
            "orientation": "horizontal",
            "style": "IPY_MODEL_f283506affeb4472937e13d72b4d3725",
            "value": 120000
          }
        },
        "b09a8738ac8945068b33561e3a515260": {
          "model_module": "@jupyter-widgets/controls",
          "model_name": "HTMLModel",
          "model_module_version": "1.5.0",
          "state": {
            "_dom_classes": [],
            "_model_module": "@jupyter-widgets/controls",
            "_model_module_version": "1.5.0",
            "_model_name": "HTMLModel",
            "_view_count": null,
            "_view_module": "@jupyter-widgets/controls",
            "_view_module_version": "1.5.0",
            "_view_name": "HTMLView",
            "description": "",
            "description_tooltip": null,
            "layout": "IPY_MODEL_0f1d8ce83e364690b231e90be94d2128",
            "placeholder": "​",
            "style": "IPY_MODEL_d2cb34e4195d48068e65db6f5a3edff6",
            "value": " 120000/120000 [00:44&lt;00:00, 3270.71it/s]"
          }
        },
        "cf648f017a5747c4bffe993c9f869d17": {
          "model_module": "@jupyter-widgets/base",
          "model_name": "LayoutModel",
          "model_module_version": "1.2.0",
          "state": {
            "_model_module": "@jupyter-widgets/base",
            "_model_module_version": "1.2.0",
            "_model_name": "LayoutModel",
            "_view_count": null,
            "_view_module": "@jupyter-widgets/base",
            "_view_module_version": "1.2.0",
            "_view_name": "LayoutView",
            "align_content": null,
            "align_items": null,
            "align_self": null,
            "border": null,
            "bottom": null,
            "display": null,
            "flex": null,
            "flex_flow": null,
            "grid_area": null,
            "grid_auto_columns": null,
            "grid_auto_flow": null,
            "grid_auto_rows": null,
            "grid_column": null,
            "grid_gap": null,
            "grid_row": null,
            "grid_template_areas": null,
            "grid_template_columns": null,
            "grid_template_rows": null,
            "height": null,
            "justify_content": null,
            "justify_items": null,
            "left": null,
            "margin": null,
            "max_height": null,
            "max_width": null,
            "min_height": null,
            "min_width": null,
            "object_fit": null,
            "object_position": null,
            "order": null,
            "overflow": null,
            "overflow_x": null,
            "overflow_y": null,
            "padding": null,
            "right": null,
            "top": null,
            "visibility": null,
            "width": null
          }
        },
        "9882dce58ca04bc1a1ec269749919966": {
          "model_module": "@jupyter-widgets/base",
          "model_name": "LayoutModel",
          "model_module_version": "1.2.0",
          "state": {
            "_model_module": "@jupyter-widgets/base",
            "_model_module_version": "1.2.0",
            "_model_name": "LayoutModel",
            "_view_count": null,
            "_view_module": "@jupyter-widgets/base",
            "_view_module_version": "1.2.0",
            "_view_name": "LayoutView",
            "align_content": null,
            "align_items": null,
            "align_self": null,
            "border": null,
            "bottom": null,
            "display": null,
            "flex": null,
            "flex_flow": null,
            "grid_area": null,
            "grid_auto_columns": null,
            "grid_auto_flow": null,
            "grid_auto_rows": null,
            "grid_column": null,
            "grid_gap": null,
            "grid_row": null,
            "grid_template_areas": null,
            "grid_template_columns": null,
            "grid_template_rows": null,
            "height": null,
            "justify_content": null,
            "justify_items": null,
            "left": null,
            "margin": null,
            "max_height": null,
            "max_width": null,
            "min_height": null,
            "min_width": null,
            "object_fit": null,
            "object_position": null,
            "order": null,
            "overflow": null,
            "overflow_x": null,
            "overflow_y": null,
            "padding": null,
            "right": null,
            "top": null,
            "visibility": null,
            "width": null
          }
        },
        "753f12a341d8461cabfead477b36c17a": {
          "model_module": "@jupyter-widgets/controls",
          "model_name": "DescriptionStyleModel",
          "model_module_version": "1.5.0",
          "state": {
            "_model_module": "@jupyter-widgets/controls",
            "_model_module_version": "1.5.0",
            "_model_name": "DescriptionStyleModel",
            "_view_count": null,
            "_view_module": "@jupyter-widgets/base",
            "_view_module_version": "1.2.0",
            "_view_name": "StyleView",
            "description_width": ""
          }
        },
        "4b01dd23e4fd4e0699d079dc88768e0d": {
          "model_module": "@jupyter-widgets/base",
          "model_name": "LayoutModel",
          "model_module_version": "1.2.0",
          "state": {
            "_model_module": "@jupyter-widgets/base",
            "_model_module_version": "1.2.0",
            "_model_name": "LayoutModel",
            "_view_count": null,
            "_view_module": "@jupyter-widgets/base",
            "_view_module_version": "1.2.0",
            "_view_name": "LayoutView",
            "align_content": null,
            "align_items": null,
            "align_self": null,
            "border": null,
            "bottom": null,
            "display": null,
            "flex": null,
            "flex_flow": null,
            "grid_area": null,
            "grid_auto_columns": null,
            "grid_auto_flow": null,
            "grid_auto_rows": null,
            "grid_column": null,
            "grid_gap": null,
            "grid_row": null,
            "grid_template_areas": null,
            "grid_template_columns": null,
            "grid_template_rows": null,
            "height": null,
            "justify_content": null,
            "justify_items": null,
            "left": null,
            "margin": null,
            "max_height": null,
            "max_width": null,
            "min_height": null,
            "min_width": null,
            "object_fit": null,
            "object_position": null,
            "order": null,
            "overflow": null,
            "overflow_x": null,
            "overflow_y": null,
            "padding": null,
            "right": null,
            "top": null,
            "visibility": null,
            "width": null
          }
        },
        "f283506affeb4472937e13d72b4d3725": {
          "model_module": "@jupyter-widgets/controls",
          "model_name": "ProgressStyleModel",
          "model_module_version": "1.5.0",
          "state": {
            "_model_module": "@jupyter-widgets/controls",
            "_model_module_version": "1.5.0",
            "_model_name": "ProgressStyleModel",
            "_view_count": null,
            "_view_module": "@jupyter-widgets/base",
            "_view_module_version": "1.2.0",
            "_view_name": "StyleView",
            "bar_color": null,
            "description_width": ""
          }
        },
        "0f1d8ce83e364690b231e90be94d2128": {
          "model_module": "@jupyter-widgets/base",
          "model_name": "LayoutModel",
          "model_module_version": "1.2.0",
          "state": {
            "_model_module": "@jupyter-widgets/base",
            "_model_module_version": "1.2.0",
            "_model_name": "LayoutModel",
            "_view_count": null,
            "_view_module": "@jupyter-widgets/base",
            "_view_module_version": "1.2.0",
            "_view_name": "LayoutView",
            "align_content": null,
            "align_items": null,
            "align_self": null,
            "border": null,
            "bottom": null,
            "display": null,
            "flex": null,
            "flex_flow": null,
            "grid_area": null,
            "grid_auto_columns": null,
            "grid_auto_flow": null,
            "grid_auto_rows": null,
            "grid_column": null,
            "grid_gap": null,
            "grid_row": null,
            "grid_template_areas": null,
            "grid_template_columns": null,
            "grid_template_rows": null,
            "height": null,
            "justify_content": null,
            "justify_items": null,
            "left": null,
            "margin": null,
            "max_height": null,
            "max_width": null,
            "min_height": null,
            "min_width": null,
            "object_fit": null,
            "object_position": null,
            "order": null,
            "overflow": null,
            "overflow_x": null,
            "overflow_y": null,
            "padding": null,
            "right": null,
            "top": null,
            "visibility": null,
            "width": null
          }
        },
        "d2cb34e4195d48068e65db6f5a3edff6": {
          "model_module": "@jupyter-widgets/controls",
          "model_name": "DescriptionStyleModel",
          "model_module_version": "1.5.0",
          "state": {
            "_model_module": "@jupyter-widgets/controls",
            "_model_module_version": "1.5.0",
            "_model_name": "DescriptionStyleModel",
            "_view_count": null,
            "_view_module": "@jupyter-widgets/base",
            "_view_module_version": "1.2.0",
            "_view_name": "StyleView",
            "description_width": ""
          }
        }
      }
    }
  },
  "nbformat": 4,
  "nbformat_minor": 0
}