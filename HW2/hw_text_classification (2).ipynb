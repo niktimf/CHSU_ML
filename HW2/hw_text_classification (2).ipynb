{
  "cells": [
    {
      "cell_type": "markdown",
      "metadata": {
        "id": "d0ADTojbpfLt"
      },
      "source": [
        "# Домашнее задание. Нейросетевая классификация текстов\n",
        "\n",
        "В этом домашнем задании вам предстоит самостоятельно решить задачу классификации текстов на основе семинарского кода. Мы будем использовать датасет [ag_news](https://paperswithcode.com/dataset/ag-news). Это датасет для классификации новостей на 4 темы: \"World\", \"Sports\", \"Business\", \"Sci/Tech\".\n",
        "\n",
        "Установим модуль datasets, чтобы нам проще было работать с данными."
      ]
    },
    {
      "cell_type": "code",
      "execution_count": 1,
      "metadata": {
        "colab": {
          "base_uri": "https://localhost:8080/"
        },
        "id": "p2QW_jCR0_kh",
        "outputId": "a3c5d862-0c2b-4086-fd0f-28ee414235b0"
      },
      "outputs": [
        {
          "output_type": "stream",
          "name": "stdout",
          "text": [
            "Requirement already satisfied: datasets in /usr/local/lib/python3.10/dist-packages (2.18.0)\n",
            "Requirement already satisfied: filelock in /usr/local/lib/python3.10/dist-packages (from datasets) (3.13.1)\n",
            "Requirement already satisfied: numpy>=1.17 in /usr/local/lib/python3.10/dist-packages (from datasets) (1.25.2)\n",
            "Requirement already satisfied: pyarrow>=12.0.0 in /usr/local/lib/python3.10/dist-packages (from datasets) (14.0.2)\n",
            "Requirement already satisfied: pyarrow-hotfix in /usr/local/lib/python3.10/dist-packages (from datasets) (0.6)\n",
            "Requirement already satisfied: dill<0.3.9,>=0.3.0 in /usr/local/lib/python3.10/dist-packages (from datasets) (0.3.8)\n",
            "Requirement already satisfied: pandas in /usr/local/lib/python3.10/dist-packages (from datasets) (1.5.3)\n",
            "Requirement already satisfied: requests>=2.19.0 in /usr/local/lib/python3.10/dist-packages (from datasets) (2.31.0)\n",
            "Requirement already satisfied: tqdm>=4.62.1 in /usr/local/lib/python3.10/dist-packages (from datasets) (4.66.2)\n",
            "Requirement already satisfied: xxhash in /usr/local/lib/python3.10/dist-packages (from datasets) (3.4.1)\n",
            "Requirement already satisfied: multiprocess in /usr/local/lib/python3.10/dist-packages (from datasets) (0.70.16)\n",
            "Requirement already satisfied: fsspec[http]<=2024.2.0,>=2023.1.0 in /usr/local/lib/python3.10/dist-packages (from datasets) (2023.6.0)\n",
            "Requirement already satisfied: aiohttp in /usr/local/lib/python3.10/dist-packages (from datasets) (3.9.3)\n",
            "Requirement already satisfied: huggingface-hub>=0.19.4 in /usr/local/lib/python3.10/dist-packages (from datasets) (0.20.3)\n",
            "Requirement already satisfied: packaging in /usr/local/lib/python3.10/dist-packages (from datasets) (23.2)\n",
            "Requirement already satisfied: pyyaml>=5.1 in /usr/local/lib/python3.10/dist-packages (from datasets) (6.0.1)\n",
            "Requirement already satisfied: aiosignal>=1.1.2 in /usr/local/lib/python3.10/dist-packages (from aiohttp->datasets) (1.3.1)\n",
            "Requirement already satisfied: attrs>=17.3.0 in /usr/local/lib/python3.10/dist-packages (from aiohttp->datasets) (23.2.0)\n",
            "Requirement already satisfied: frozenlist>=1.1.1 in /usr/local/lib/python3.10/dist-packages (from aiohttp->datasets) (1.4.1)\n",
            "Requirement already satisfied: multidict<7.0,>=4.5 in /usr/local/lib/python3.10/dist-packages (from aiohttp->datasets) (6.0.5)\n",
            "Requirement already satisfied: yarl<2.0,>=1.0 in /usr/local/lib/python3.10/dist-packages (from aiohttp->datasets) (1.9.4)\n",
            "Requirement already satisfied: async-timeout<5.0,>=4.0 in /usr/local/lib/python3.10/dist-packages (from aiohttp->datasets) (4.0.3)\n",
            "Requirement already satisfied: typing-extensions>=3.7.4.3 in /usr/local/lib/python3.10/dist-packages (from huggingface-hub>=0.19.4->datasets) (4.10.0)\n",
            "Requirement already satisfied: charset-normalizer<4,>=2 in /usr/local/lib/python3.10/dist-packages (from requests>=2.19.0->datasets) (3.3.2)\n",
            "Requirement already satisfied: idna<4,>=2.5 in /usr/local/lib/python3.10/dist-packages (from requests>=2.19.0->datasets) (3.6)\n",
            "Requirement already satisfied: urllib3<3,>=1.21.1 in /usr/local/lib/python3.10/dist-packages (from requests>=2.19.0->datasets) (2.0.7)\n",
            "Requirement already satisfied: certifi>=2017.4.17 in /usr/local/lib/python3.10/dist-packages (from requests>=2.19.0->datasets) (2024.2.2)\n",
            "Requirement already satisfied: python-dateutil>=2.8.1 in /usr/local/lib/python3.10/dist-packages (from pandas->datasets) (2.8.2)\n",
            "Requirement already satisfied: pytz>=2020.1 in /usr/local/lib/python3.10/dist-packages (from pandas->datasets) (2023.4)\n",
            "Requirement already satisfied: six>=1.5 in /usr/local/lib/python3.10/dist-packages (from python-dateutil>=2.8.1->pandas->datasets) (1.16.0)\n"
          ]
        }
      ],
      "source": [
        "!pip install datasets"
      ]
    },
    {
      "cell_type": "markdown",
      "metadata": {
        "id": "rh9ZXSeCpng9"
      },
      "source": [
        "Импорт необходимых библиотек"
      ]
    },
    {
      "cell_type": "code",
      "execution_count": 2,
      "metadata": {
        "id": "XOJi16bLpd_O"
      },
      "outputs": [],
      "source": [
        "import torch\n",
        "import torch.nn as nn\n",
        "from torch.utils.data import Dataset, DataLoader\n",
        "import datasets\n",
        "\n",
        "import numpy as np\n",
        "import matplotlib.pyplot as plt\n",
        "\n",
        "from tqdm.auto import tqdm\n",
        "from datasets import load_dataset\n",
        "from nltk.tokenize import word_tokenize\n",
        "from sklearn.model_selection import train_test_split\n",
        "import nltk\n",
        "\n",
        "from collections import Counter\n",
        "from typing import List\n",
        "import string\n",
        "\n",
        "import seaborn\n",
        "seaborn.set(palette='summer')"
      ]
    },
    {
      "cell_type": "code",
      "execution_count": 3,
      "metadata": {
        "colab": {
          "base_uri": "https://localhost:8080/"
        },
        "id": "91JuM0SQvXud",
        "outputId": "467f6add-2c9a-4b84-ee11-0947d8ae8f9c"
      },
      "outputs": [
        {
          "output_type": "stream",
          "name": "stderr",
          "text": [
            "[nltk_data] Downloading package punkt to /root/nltk_data...\n",
            "[nltk_data]   Package punkt is already up-to-date!\n"
          ]
        },
        {
          "output_type": "execute_result",
          "data": {
            "text/plain": [
              "True"
            ]
          },
          "metadata": {},
          "execution_count": 3
        }
      ],
      "source": [
        "nltk.download('punkt')"
      ]
    },
    {
      "cell_type": "code",
      "execution_count": 4,
      "metadata": {
        "colab": {
          "base_uri": "https://localhost:8080/",
          "height": 35
        },
        "id": "adJC8ShFq9HM",
        "outputId": "dc3ae5f3-51c4-4ab3-cc69-5b8a906ea1f6"
      },
      "outputs": [
        {
          "output_type": "execute_result",
          "data": {
            "text/plain": [
              "'cpu'"
            ],
            "application/vnd.google.colaboratory.intrinsic+json": {
              "type": "string"
            }
          },
          "metadata": {},
          "execution_count": 4
        }
      ],
      "source": [
        "device = 'cuda' if torch.cuda.is_available() else 'cpu'\n",
        "device"
      ]
    },
    {
      "cell_type": "markdown",
      "metadata": {
        "id": "pwsfS1ENq5ig"
      },
      "source": [
        "## Подготовка данных\n",
        "Для вашего удобства, мы привели код обработки датасета в ноутбуке. Ваша задача --- обучить модель, которая получит максимальное возможное качество на тестовой части."
      ]
    },
    {
      "cell_type": "code",
      "execution_count": 5,
      "metadata": {
        "id": "qHLNWOfJqSfc",
        "colab": {
          "base_uri": "https://localhost:8080/"
        },
        "outputId": "b70da02f-5a70-4449-8d9e-5a05be55e572"
      },
      "outputs": [
        {
          "output_type": "stream",
          "name": "stderr",
          "text": [
            "/usr/local/lib/python3.10/dist-packages/huggingface_hub/utils/_token.py:88: UserWarning: \n",
            "The secret `HF_TOKEN` does not exist in your Colab secrets.\n",
            "To authenticate with the Hugging Face Hub, create a token in your settings tab (https://huggingface.co/settings/tokens), set it as secret in your Google Colab and restart your session.\n",
            "You will be able to reuse this secret in all of your notebooks.\n",
            "Please note that authentication is recommended but still optional to access public models or datasets.\n",
            "  warnings.warn(\n"
          ]
        }
      ],
      "source": [
        "# Загрузим датасет\n",
        "dataset = datasets.load_dataset('ag_news')"
      ]
    },
    {
      "cell_type": "markdown",
      "metadata": {
        "id": "gYG67ZJj4hZS"
      },
      "source": [
        "Как и в семинаре, выполним следующие шаги:\n",
        "* Составим словарь\n",
        "* Создадим класс WordDataset\n",
        "* Выделим обучающую и тестовую часть, создадим DataLoader-ы."
      ]
    },
    {
      "cell_type": "code",
      "execution_count": 6,
      "metadata": {
        "colab": {
          "base_uri": "https://localhost:8080/",
          "height": 66,
          "referenced_widgets": [
            "e5b040abdbf1499cb4423726762ded5b",
            "861f60452f5e42639a178931e7cdb197",
            "59308e85e50a496db9853c56407e574c",
            "a1bc01cb74404bdc91d60c1d94b53819",
            "7b5745f374cb4f29af0f93b5ef44ea5f",
            "7c8d6163e52c48bbb051ae51cd4d497d",
            "195b9382dbbd4901909f36d9b32f76a3",
            "685b48a22433402e9cdd6d076bee55c1",
            "ccd0381043ad41cc98d916043e2ec600",
            "d5eef0e9f15b4ae8a432986d3831af83",
            "40e2953741644c8aaa07059382dbfc80"
          ]
        },
        "id": "21y8cE6COrDw",
        "outputId": "c1769e3a-1606-4403-8ebc-273565fa4ed9"
      },
      "outputs": [
        {
          "output_type": "display_data",
          "data": {
            "text/plain": [
              "  0%|          | 0/120000 [00:00<?, ?it/s]"
            ],
            "application/vnd.jupyter.widget-view+json": {
              "version_major": 2,
              "version_minor": 0,
              "model_id": "e5b040abdbf1499cb4423726762ded5b"
            }
          },
          "metadata": {}
        },
        {
          "output_type": "stream",
          "name": "stdout",
          "text": [
            "Размер словаря: 11842\n"
          ]
        }
      ],
      "source": [
        "import string\n",
        "from collections import Counter\n",
        "from nltk.tokenize import word_tokenize\n",
        "\n",
        "\n",
        "class TextPreprocessor:\n",
        "    @staticmethod\n",
        "    def preprocess_text(text):\n",
        "        return text.lower().translate(str.maketrans('', '', string.punctuation))\n",
        "\n",
        "\n",
        "\n",
        "\n",
        "def count_words(texts):\n",
        "    return Counter(\n",
        "        word\n",
        "        for text in texts\n",
        "        for word in word_tokenize(TextPreprocessor.preprocess_text(text))\n",
        "    )\n",
        "\n",
        "\n",
        "\n",
        "def create_vocab(word_counts, counter_threshold=25):\n",
        "    return {'<unk>', '<bos>', '<eos>', '<pad>'} | {\n",
        "        word for word, count in word_counts.items() if count > counter_threshold\n",
        "    }\n",
        "\n",
        "\n",
        "def create_word_indices(vocab):\n",
        "    word2ind = {word: i for i, word in enumerate(vocab)}\n",
        "    ind2word = {i: word for word, i in word2ind.items()}\n",
        "    return word2ind, ind2word\n",
        "\n",
        "\n",
        "# Шаг 1: Подсчет слов\n",
        "word_counts = count_words(tqdm(dataset['train']['text']))\n",
        "\n",
        "# Шаг 2: Создание словаря\n",
        "vocab = create_vocab(word_counts)\n",
        "\n",
        "# Шаг 3: Создание индексов\n",
        "word2ind, ind2word = create_word_indices(vocab)\n",
        "\n",
        "print(f'Размер словаря: {len(vocab)}')"
      ]
    },
    {
      "cell_type": "code",
      "execution_count": 7,
      "metadata": {
        "id": "pzvE1yCbSkvl"
      },
      "outputs": [],
      "source": [
        "class TextTokenizer:\n",
        "    def __init__(self, word2ind):\n",
        "        self.word2ind = word2ind\n",
        "        self.unk_id = word2ind['<unk>']\n",
        "        self.bos_id = word2ind['<bos>']\n",
        "        self.eos_id = word2ind['<eos>']\n",
        "        self.pad_id = word2ind['<pad>']\n",
        "\n",
        "    def tokenize(self, text):\n",
        "        tokenized_sentence = [self.bos_id]\n",
        "        tokenized_sentence += [self.word2ind.get(word, self.unk_id) for word in word_tokenize(text)]\n",
        "        tokenized_sentence += [self.eos_id]\n",
        "        return tokenized_sentence\n",
        "\n",
        "\n",
        "class WordDataset:\n",
        "    def __init__(self, sentences, word2ind):\n",
        "        self.data = sentences\n",
        "        self.preprocessor = TextPreprocessor()\n",
        "        self.tokenizer = TextTokenizer(word2ind)\n",
        "\n",
        "    def __getitem__(self, idx):\n",
        "        text = self.preprocessor.preprocess_text(self.data[idx]['text'])\n",
        "        tokenized_sentence = self.tokenizer.tokenize(text)\n",
        "        train_sample = {\n",
        "            \"text\": tokenized_sentence,\n",
        "            \"label\": self.data[idx]['label']\n",
        "        }\n",
        "        return train_sample\n",
        "\n",
        "    def __len__(self):\n",
        "        return len(self.data)\n"
      ]
    },
    {
      "cell_type": "code",
      "execution_count": 8,
      "metadata": {
        "id": "mnG1cXc-Zpvj"
      },
      "outputs": [],
      "source": [
        "import torch\n",
        "import numpy as np\n",
        "from torch.utils.data import DataLoader\n",
        "from typing import List, Dict\n",
        "\n",
        "\n",
        "class DataLoaderDecorator:\n",
        "    def __init__(self, dataset, word2ind, device='cpu'):\n",
        "        self.dataset = dataset\n",
        "        self.word2ind = word2ind\n",
        "        self.pad_id = word2ind['<pad>']\n",
        "        self.device = device\n",
        "\n",
        "    def select_random_subset(self, size):\n",
        "        if size > len(self.dataset):\n",
        "            raise ValueError(\"Size larger than dataset\")\n",
        "\n",
        "        idx = np.random.choice(np.arange(len(self.dataset)), size, replace=False)\n",
        "        idx = [int(i) for i in idx]\n",
        "        subset = [self.dataset[i] for i in idx]\n",
        "        return type(self)(subset, self.word2ind, self.device)\n",
        "\n",
        "    @staticmethod\n",
        "    def trim_sequences(input_batch: List[Dict[str, List[int]]], max_len=256) -> List[Dict[str, List[int]]]:\n",
        "        return list(map(lambda sequence: {'text': sequence['text'][:max_len], 'label': sequence['label']}, input_batch))\n",
        "\n",
        "    @staticmethod\n",
        "    def pad_sequences(input_batch: List[Dict[str, List[int]]], pad_id, max_len=256) -> List[List[int]]:\n",
        "        def pad_sequence(sequence: List[int]) -> List[int]:\n",
        "            return sequence + [pad_id] * (max_len - len(sequence))\n",
        "        return [pad_sequence(sequence['text']) for sequence in input_batch]\n",
        "\n",
        "    @staticmethod\n",
        "    def create_tensors(padded_sequences: List[List[int]], input_batch: List[Dict[str, int]], device) -> Dict[str, torch.Tensor]:\n",
        "        sequences_tensor = torch.LongTensor(padded_sequences).to(device)\n",
        "        labels_tensor = torch.LongTensor([x['label'] for x in input_batch]).to(device)\n",
        "        return {'input_ids': sequences_tensor, 'label': labels_tensor}\n",
        "\n",
        "    def collate_fn_with_padding(self, input_batch: List[Dict[str, List[int]]], max_len=256) -> Dict[str, torch.Tensor]:\n",
        "        max_seq_len = min(max([len(x['text']) for x in input_batch]), max_len)\n",
        "        input_batch = self.trim_sequences(input_batch, max_seq_len)\n",
        "        padded_sequences = self.pad_sequences(input_batch, self.pad_id, max_seq_len)\n",
        "        batch_tensors = self.create_tensors(padded_sequences, input_batch, self.device)\n",
        "        return batch_tensors\n",
        "\n",
        "    def create_dataloader(self, batch_size=32, shuffle=True, max_len=256):\n",
        "        return DataLoader(\n",
        "            self.dataset,\n",
        "            shuffle=shuffle,\n",
        "            batch_size=batch_size,\n",
        "            collate_fn=lambda x: self.collate_fn_with_padding(x, max_len=max_len)\n",
        "        )\n"
      ]
    },
    {
      "cell_type": "code",
      "execution_count": 9,
      "metadata": {
        "id": "-b_Ac-LQaCIe"
      },
      "outputs": [],
      "source": [
        "train_dataset = WordDataset(dataset['train'], word2ind)\n",
        "test_dataset = WordDataset(dataset['test'], word2ind)\n",
        "\n",
        "\n",
        "train_prep = DataLoaderDecorator(train_dataset, word2ind, device)\n",
        "eval_prep = DataLoaderDecorator(test_dataset, word2ind, device)\n",
        "random_eval_prep = eval_prep.select_random_subset(5000)\n",
        "\n",
        "train_dataloader = train_prep.create_dataloader(batch_size=64, shuffle=True)\n",
        "eval_dataloader = random_eval_prep.create_dataloader(batch_size=64, shuffle=False)"
      ]
    },
    {
      "cell_type": "markdown",
      "metadata": {
        "id": "w7LHfh3u5Bie"
      },
      "source": [
        "## Постановка задачи\n",
        "Ваша задача -- получить максимальное возможное accuracy на `eval_dataloader`. Ниже приведена функция, которую вам необходимо запустить для обученной модели, чтобы вычислить качество её работы."
      ]
    },
    {
      "cell_type": "code",
      "execution_count": null,
      "metadata": {
        "id": "JDZw4Sehn4NE"
      },
      "outputs": [],
      "source": []
    },
    {
      "cell_type": "markdown",
      "metadata": {
        "id": "SMAexY7Y45E4"
      },
      "source": [
        "## Ход работы\n",
        "Оценка за домашнее задание складывается из четырех частей:\n",
        "### Запуск базовой модели с семинара на новом датасете (1 балл)\n",
        "На семинаре мы создали модель, которая дает на нашей задаче довольно высокое качество. Ваша цель --- обучить ее и вычислить `score`, который затем можно будет использовать в качестве бейзлайна.\n",
        "\n",
        "В модели появится одно важное изменение: количество классов теперь равно не 2, а 4. Обратите на это внимание и найдите, что в коде создания модели нужно модифицировать, чтобы учесть это различие.\n",
        "\n",
        "### Проведение экспериментов по улучшению модели (2 балла за каждый эксперимент)\n",
        "Чтобы улучшить качество базовой модели, можно попробовать различные идеи экспериментов. Каждый выполненный эксперимент будет оцениваться в 2 балла. Для получения полного балла за этот пункт вам необходимо выполнить по крайней мере 2 эксперимента. Не расстраивайтесь, если какой-то эксперимент не дал вам прироста к качеству: он все равно зачтется, если выполнен корректно.\n",
        "\n",
        "Вот несколько идей экспериментов:\n",
        "* **Модель RNN**. Попробуйте другие нейросетевые модели --- LSTM и GRU. Мы советуем обратить внимание на [GRU](https://pytorch.org/docs/stable/generated/torch.nn.GRU.html), так как интерфейс этого класса ничем не отличается от обычной Vanilla RNN, которую мы использовали на семинаре.\n",
        "* **Увеличение количества рекуррентных слоев модели**. Это можно сделать с помощью параметра `num_layers` в классе `nn.RNN`. В такой модели выходы первой RNN передаются в качестве входов второй RNN и так далее.\n",
        "* **Изменение архитектуры после применения RNN**. В базовой модели используется агрегация со всех эмбеддингов. Возможно, вы захотите конкатенировать результат агрегации и эмбеддинг с последнего токена.\n",
        "* **Подбор гиперпараметров и обучение до сходимости**. Возможно, для получения более высокого качества просто необходимо увеличить количество эпох обучения нейросети, а также попробовать различные гиперпараметры: размер словаря, `dropout_rate`, `hidden_dim`.\n",
        "\n",
        "Обратите внимание, что главное правило проведения экспериментов --- необходимо совершать одно архитектурное изменение в одном эксперименте. Если вы совершите несколько изменений, то будет неясно, какое именно из изменений дало прирост к качеству.\n",
        "\n",
        "### Получение высокого качества (3 балла)\n",
        "В конце вашей работы вы должны указать, какая из моделей дала лучший результат, и вывести качество, которое дает лучшая модель, с помощью функции `evaluate`. Ваша модель будет оцениваться по метрике `accuracy` следующим образом:\n",
        "* $accuracy < 0.9$ --- 0 баллов;\n",
        "* $0.9 \\leqslant accuracy < 0.91$ --- 1 балл;\n",
        "* $0.91 \\leqslant accuracy < 0.915$ --- 2 балла;\n",
        "* $0.915 \\leqslant accuracy$ --- 3 балла.\n",
        "\n",
        "### Оформление отчета (2 балла)\n",
        "В конце работы подробно опишите все проведенные эксперименты.\n",
        "* Укажите, какие из экспериментов принесли улучшение, а какие --- нет.\n",
        "* Проанализируйте графики сходимости моделей в проведенных экспериментах. Являются ли колебания качества обученных моделей существенными в зависимости от эпохи обучения, или же сходимость стабильная?\n",
        "* Укажите, какая модель получилась оптимальной.\n",
        "\n",
        "Желаем удачи!"
      ]
    },
    {
      "cell_type": "markdown",
      "metadata": {
        "id": "17tJXXdaE9gI"
      },
      "source": [
        "### Запуск базовой модели с семинара на новом датасете\n"
      ]
    },
    {
      "cell_type": "code",
      "execution_count": 10,
      "metadata": {
        "id": "q8rBfFTjRJPB"
      },
      "outputs": [],
      "source": [
        "import torch\n",
        "import torch.nn as nn\n",
        "\n",
        "class Aggregator(nn.Module):\n",
        "    def forward(self, outputs):\n",
        "        raise NotImplementedError(\"Aggregator must implement the forward method\")\n",
        "\n",
        "class MaxAggregator(Aggregator):\n",
        "    def forward(self, outputs):\n",
        "        return outputs.max(dim=1)[0]\n",
        "\n",
        "class MeanAggregator(Aggregator):\n",
        "    def forward(self, outputs):\n",
        "        return outputs.mean(dim=1)"
      ]
    },
    {
      "cell_type": "code",
      "execution_count": 11,
      "metadata": {
        "id": "BqKYrcyxBoxx"
      },
      "outputs": [],
      "source": [
        "class CharLMRNN(nn.Module):\n",
        "    def __init__(\n",
        "        self, hidden_dim: int, vocab_size: int, dropout_value: float,\n",
        "        num_classes: int = 4,\n",
        "        aggregator: Aggregator = MaxAggregator()\n",
        "        ):\n",
        "        super().__init__()\n",
        "        self.embedding = nn.Embedding(vocab_size, hidden_dim)\n",
        "        self.rnn = nn.RNN(hidden_dim, hidden_dim, batch_first=True)\n",
        "        self.linear = nn.Linear(hidden_dim, hidden_dim)\n",
        "        self.projection = nn.Linear(hidden_dim, num_classes)\n",
        "\n",
        "        self.non_lin = nn.Tanh()\n",
        "        self.dropout = nn.Dropout(p=dropout_value)\n",
        "\n",
        "        self.aggregator = aggregator\n",
        "\n",
        "    def forward(self, input_batch) -> torch.Tensor:\n",
        "        embeddings = self.embedding(input_batch)  # [batch_size, seq_len, hidden_dim]\n",
        "        output, _ = self.rnn(embeddings)  # [batch_size, seq_len, hidden_dim]\n",
        "\n",
        "        output = self.aggregator(output)\n",
        "\n",
        "        output = self.dropout(self.linear(self.non_lin(output)))  # [batch_size, hidden_dim]\n",
        "        prediction = self.projection(self.non_lin(output))  # [batch_size, num_classes]\n",
        "\n",
        "        return prediction\n",
        "\n",
        "\n",
        "def choose_aggregator(aggregation_type: str) -> Aggregator:\n",
        "  if aggregation_type == 'max':\n",
        "      return MaxAggregator()\n",
        "  elif aggregation_type == 'mean':\n",
        "      return MeanAggregator()\n",
        "  else:\n",
        "      raise ValueError(f\"Unsupported aggregation type: {aggregation_type}\")"
      ]
    },
    {
      "cell_type": "code",
      "source": [
        "import torch\n",
        "import torch.nn as nn\n",
        "from tqdm import tqdm\n",
        "\n",
        "class ModelTrainer:\n",
        "    def __init__(self, model, device, word2ind):\n",
        "        self.model = model\n",
        "        self.device = device\n",
        "        self.criterion = nn.CrossEntropyLoss(ignore_index=word2ind['<pad>'])\n",
        "        self.optimizer = torch.optim.Adam(model.parameters())\n",
        "\n",
        "    def evaluate(self, eval_dataloader) -> float:\n",
        "        predictions = []\n",
        "        targets = []\n",
        "        with torch.no_grad():\n",
        "            for batch in eval_dataloader:\n",
        "                logits = self.model(batch['input_ids'].to(self.device))\n",
        "                predictions.append(logits.argmax(dim=1))\n",
        "                targets.append(batch['label'].to(self.device))\n",
        "\n",
        "        predictions = torch.cat(predictions)\n",
        "        targets = torch.cat(targets)\n",
        "        accuracy = (predictions == targets).float().mean().item()\n",
        "\n",
        "        return accuracy\n",
        "\n",
        "    def train(self, train_dataloader, num_epochs, eval_steps, eval_dataloader):\n",
        "        losses = []\n",
        "        acc = []\n",
        "\n",
        "        for epoch in range(num_epochs):\n",
        "            self.model.train()\n",
        "            epoch_losses = []\n",
        "            for i, batch in enumerate(tqdm(train_dataloader, desc=f'Training epoch {epoch}:')):\n",
        "                self.optimizer.zero_grad()\n",
        "                input_ids, labels = batch['input_ids'].to(self.device), batch['label'].to(self.device)\n",
        "                logits = self.model(input_ids)\n",
        "                loss = self.criterion(logits, labels)\n",
        "                loss.backward()\n",
        "                self.optimizer.step()\n",
        "\n",
        "                epoch_losses.append(loss.item())\n",
        "                if i % eval_steps == 0 and i != 0:\n",
        "                    accuracy = self.evaluate(eval_dataloader)\n",
        "                    acc.append(accuracy)\n",
        "                    self.model.train()  # Ensure model is back in training mode\n",
        "\n",
        "            epoch_loss = sum(epoch_losses) / len(epoch_losses)\n",
        "            losses.append(epoch_loss)\n",
        "\n",
        "        return losses, acc\n",
        "\n",
        "    def run_training_sessions(self, train_dataloader, eval_dataloader, num_epochs, eval_steps, choose_aggregator):\n",
        "        results = {}\n",
        "\n",
        "        aggregation_types = ['max', 'mean']\n",
        "        for aggregation_type in aggregation_types:\n",
        "            print(f\"Starting training for {aggregation_type}\")\n",
        "            self.model.aggregator = choose_aggregator(aggregation_type)\n",
        "            self.model.to(self.device)\n",
        "\n",
        "            losses, acc = self.train(train_dataloader, num_epochs, eval_steps, eval_dataloader)\n",
        "\n",
        "            results[aggregation_type] = {\n",
        "                'losses': losses,\n",
        "                'accuracy': acc\n",
        "            }\n",
        "\n",
        "        return results\n"
      ],
      "metadata": {
        "id": "WPSQV9yN6Bya"
      },
      "execution_count": 23,
      "outputs": []
    },
    {
      "cell_type": "code",
      "source": [
        "class ModelTrainer:\n",
        "    def __init__(self, model, device, word2ind):\n",
        "        self.model = model\n",
        "        self.device = device\n",
        "        self.criterion = nn.CrossEntropyLoss(ignore_index=word2ind['<pad>'])\n",
        "        self.optimizer = torch.optim.Adam(model.parameters())\n",
        "\n",
        "    def evaluate(self, eval_dataloader) -> float:\n",
        "        predictions = []\n",
        "        targets = []\n",
        "        with torch.no_grad():\n",
        "            for batch in eval_dataloader:\n",
        "                logits = self.model(batch['input_ids'].to(self.device))\n",
        "                predictions.append(logits.argmax(dim=1))\n",
        "                targets.append(batch['label'].to(self.device))\n",
        "\n",
        "        predictions = torch.cat(predictions)\n",
        "        targets = torch.cat(targets)\n",
        "        accuracy = (predictions == targets).float().mean().item()\n",
        "\n",
        "        return accuracy\n",
        "\n",
        "    def train(self, train_dataloader, num_epochs, eval_steps, eval_dataloader):\n",
        "        losses = []\n",
        "        acc = []\n",
        "\n",
        "        for epoch in range(num_epochs):\n",
        "            self.model.train()\n",
        "            epoch_losses = []\n",
        "            for i, batch in enumerate(tqdm(train_dataloader, desc=f'Training epoch {epoch}:')):\n",
        "                self.optimizer.zero_grad()\n",
        "                input_ids, labels = batch['input_ids'].to(self.device), batch['label'].to(self.device)\n",
        "                logits = self.model(input_ids)\n",
        "                loss = self.criterion(logits, labels)\n",
        "                loss.backward()\n",
        "                self.optimizer.step()\n",
        "\n",
        "                epoch_losses.append(loss.item())\n",
        "                if i % eval_steps == 0 and i != 0:\n",
        "                    accuracy = self.evaluate(eval_dataloader)\n",
        "                    acc.append(accuracy)\n",
        "                    self.model.train()  # Ensure model is back in training mode\n",
        "\n",
        "            epoch_loss = sum(epoch_losses) / len(epoch_losses)\n",
        "            losses.append(epoch_loss)\n",
        "\n",
        "        return losses, acc\n",
        "\n",
        "    def run_training_sessions(self, train_dataloader, eval_dataloader, num_epochs, eval_steps, choose_aggregator):\n",
        "        results = {}\n",
        "\n",
        "        aggregation_types = ['max', 'mean']\n",
        "        for aggregation_type in aggregation_types:\n",
        "            print(f\"Starting training for {aggregation_type}\")\n",
        "            self.model.aggregator = choose_aggregator(aggregation_type)\n",
        "            self.model.to(self.device)\n",
        "\n",
        "            losses, acc = self.train(train_dataloader, num_epochs, eval_steps, eval_dataloader)\n",
        "\n",
        "            results[aggregation_type] = {\n",
        "                'losses': losses,\n",
        "                'accuracy': acc\n",
        "            }\n",
        "\n",
        "        return results"
      ],
      "metadata": {
        "id": "vHkHRcNq_5Jb"
      },
      "execution_count": null,
      "outputs": []
    },
    {
      "cell_type": "code",
      "source": [
        "import torch\n",
        "import torch.nn as nn\n",
        "from tqdm import tqdm\n",
        "\n",
        "\n",
        "class ModelConfiguration:\n",
        "    def __init__(self, model, device, word2ind):\n",
        "        self.model = model\n",
        "        self.device = device\n",
        "        self.criterion = nn.CrossEntropyLoss(ignore_index=word2ind['<pad>'])\n",
        "        self.optimizer = torch.optim.Adam(model.parameters())\n",
        "\n",
        "\n",
        "class ModelEvaluator:\n",
        "    def __init__(self, model, device):\n",
        "        self.model = model\n",
        "        self.device = device\n",
        "\n",
        "    def evaluate(self, eval_dataloader) -> float:\n",
        "        predictions = []\n",
        "        targets = []\n",
        "        with torch.no_grad():\n",
        "            for batch in eval_dataloader:\n",
        "                logits = self.model(batch['input_ids'].to(self.device))\n",
        "                predictions.append(logits.argmax(dim=1))\n",
        "                targets.append(batch['label'].to(self.device))\n",
        "\n",
        "        predictions = torch.cat(predictions)\n",
        "        targets = torch.cat(targets)\n",
        "        accuracy = (predictions == targets).float().mean().item()\n",
        "\n",
        "        return accuracy\n",
        "\n",
        "\n",
        "class ModelTrainer:\n",
        "    def __init__(self, config: ModelConfiguration, evaluator: ModelEvaluator):\n",
        "        self.config = config\n",
        "        self.evaluator = evaluator\n",
        "\n",
        "    def train(self, train_dataloader, num_epochs, eval_steps, eval_dataloader):\n",
        "        losses = []\n",
        "        acc = []\n",
        "\n",
        "        for epoch in range(num_epochs):\n",
        "            self.config.model.train()\n",
        "            epoch_losses = []\n",
        "            for i, batch in enumerate(tqdm(train_dataloader, desc=f'Training epoch {epoch}:')):\n",
        "                self.config.optimizer.zero_grad()\n",
        "                input_ids, labels = batch['input_ids'].to(self.config.device), batch['label'].to(self.config.device)\n",
        "                logits = self.config.model(input_ids)\n",
        "                loss = self.config.criterion(logits, labels)\n",
        "                loss.backward()\n",
        "                self.config.optimizer.step()\n",
        "\n",
        "                epoch_losses.append(loss.item())\n",
        "                if i % eval_steps == 0 and i != 0:\n",
        "                    accuracy = self.evaluator.evaluate(eval_dataloader)\n",
        "                    acc.append(accuracy)\n",
        "                    self.config.model.train()  # Ensure model is back in training mode\n",
        "\n",
        "            epoch_loss = sum(epoch_losses) / len(epoch_losses)\n",
        "            losses.append(epoch_loss)\n",
        "\n",
        "        return losses, acc\n",
        "\n",
        "\n",
        "class TrainingSessionRunner:\n",
        "    def __init__(self, trainer: ModelTrainer, choose_aggregator):\n",
        "        self.trainer = trainer\n",
        "        self.choose_aggregator = choose_aggregator\n",
        "\n",
        "    def run_training_sessions(self, train_dataloader, eval_dataloader, num_epochs, eval_steps):\n",
        "        results = {}\n",
        "        aggregation_types = ['max', 'mean']\n",
        "        for aggregation_type in aggregation_types:\n",
        "            print(f\"Starting training for {aggregation_type}\")\n",
        "            self.trainer.config.model.aggregator = self.choose_aggregator(aggregation_type)\n",
        "            self.trainer.config.model.to(self.trainer.config.device)\n",
        "\n",
        "            losses, acc = self.trainer.train(train_dataloader, num_epochs, eval_steps, eval_dataloader)\n",
        "\n",
        "            results[aggregation_type] = {\n",
        "                'losses': losses,\n",
        "                'accuracy': acc\n",
        "            }\n",
        "\n",
        "        return results\n"
      ],
      "metadata": {
        "id": "EdD2k9B2Bw1x"
      },
      "execution_count": 27,
      "outputs": []
    },
    {
      "cell_type": "code",
      "source": [
        "import torch\n",
        "\n",
        "device = torch.device(\"cuda\" if torch.cuda.is_available() else \"cpu\")\n",
        "\n",
        "# Создаем экземпляр модели\n",
        "rnn_model = CharLMRNN(hidden_dim=4, vocab_size=len(vocab), dropout_value=0.1).to(device)\n",
        "\n",
        "# Конфигурация для модели, включая критерий и оптимизатор\n",
        "rnn_model_config = ModelConfiguration(rnn_model, device, word2ind)\n",
        "\n",
        "# Создаем экземпляр для оценки модели\n",
        "rnn_model_evaluator = ModelEvaluator(rnn_model, device)\n",
        "\n",
        "# Создаем экземпляр тренера с настройками модели и оценщиком\n",
        "rnn_trainer = ModelTrainer(rnn_model_config, rnn_model_evaluator)\n",
        "\n",
        "# Создаем экземпляр для запуска тренировочных сессий\n",
        "rnn_training_session_runner = TrainingSessionRunner(rnn_trainer, choose_aggregator)\n",
        "\n",
        "# Запускаем обучение\n",
        "num_epochs = 2\n",
        "eval_steps = len(train_dataloader) // 2\n",
        "results = rnn_training_session_runner.run_training_sessions(train_dataloader, eval_dataloader, num_epochs, eval_steps)\n",
        "\n",
        "print(results)\n"
      ],
      "metadata": {
        "colab": {
          "base_uri": "https://localhost:8080/"
        },
        "id": "ZSadxJHoByMv",
        "outputId": "9db47178-f825-4414-b9fc-f4201eb700ab"
      },
      "execution_count": 28,
      "outputs": [
        {
          "output_type": "stream",
          "name": "stdout",
          "text": [
            "Starting training for max\n"
          ]
        },
        {
          "output_type": "stream",
          "name": "stderr",
          "text": [
            "Training epoch 0:: 100%|██████████| 1875/1875 [01:20<00:00, 23.33it/s]\n",
            "Training epoch 1:: 100%|██████████| 1875/1875 [01:20<00:00, 23.27it/s]\n"
          ]
        },
        {
          "output_type": "stream",
          "name": "stdout",
          "text": [
            "Starting training for mean\n"
          ]
        },
        {
          "output_type": "stream",
          "name": "stderr",
          "text": [
            "Training epoch 0:: 100%|██████████| 1875/1875 [01:20<00:00, 23.18it/s]\n",
            "Training epoch 1:: 100%|██████████| 1875/1875 [01:19<00:00, 23.48it/s]"
          ]
        },
        {
          "output_type": "stream",
          "name": "stdout",
          "text": [
            "{'max': {'losses': [1.2754557516098022, 1.0756355801264446], 'accuracy': [0.3968000113964081, 0.46299999952316284, 0.519599974155426, 0.5734000205993652]}, 'mean': {'losses': [1.2900984250704448, 1.0475604349454244], 'accuracy': [0.41280001401901245, 0.48420000076293945, 0.5351999998092651, 0.5680000185966492]}}\n"
          ]
        },
        {
          "output_type": "stream",
          "name": "stderr",
          "text": [
            "\n"
          ]
        }
      ]
    },
    {
      "cell_type": "code",
      "execution_count": 29,
      "metadata": {
        "id": "b2nS5ToDUYaO"
      },
      "outputs": [],
      "source": [
        "import matplotlib.pyplot as plt\n",
        "import numpy as np\n",
        "\n",
        "\n",
        "class LossesPlotter():\n",
        "    def plot(self, losses_type, colors):\n",
        "        for (name, values), color in zip(losses_type.items(), colors):\n",
        "            plt.plot(np.arange(len(losses_type[name])), losses_type[name], color=color, label=name)\n",
        "        plt.title('Losses')\n",
        "        plt.xlabel(\"epoch\")\n",
        "        plt.legend()\n",
        "        plt.show()\n",
        "\n",
        "\n",
        "class AccuracyPlotter():\n",
        "    def plot(self, acc_type, colors):\n",
        "        for (name, values), color in zip(acc_type.items(), colors):\n",
        "            plt.plot(np.arange(len(acc_type[name])), acc_type[name], color=color, label=name)\n",
        "           # plt.plot(np.arange(len(acc_type[name][1:])), acc_type[name][1:], color=color, label=name)\n",
        "            print(f\"Лучшая accuracy для подхода {name}: {(max(acc_type[name]) * 100):.2f}\")\n",
        "        plt.title('Accuracy')\n",
        "        plt.xlabel(\"epoch\")\n",
        "        plt.legend()\n",
        "        plt.show()\n"
      ]
    },
    {
      "cell_type": "code",
      "execution_count": 30,
      "metadata": {
        "colab": {
          "base_uri": "https://localhost:8080/",
          "height": 978
        },
        "id": "JIbZz24AUaRN",
        "outputId": "423c0373-1f6b-4d47-b0c3-cfd4a40e9eb6"
      },
      "outputs": [
        {
          "output_type": "display_data",
          "data": {
            "text/plain": [
              "<Figure size 640x480 with 1 Axes>"
            ],
            "image/png": "[encoded data removed]"
          },
          "metadata": {}
        },
        {
          "output_type": "stream",
          "name": "stdout",
          "text": [
            "Лучшая accuracy для подхода max: 57.34\n",
            "Лучшая accuracy для подхода mean: 56.80\n"
          ]
        },
        {
          "output_type": "display_data",
          "data": {
            "text/plain": [
              "<Figure size 640x480 with 1 Axes>"
            ],
            "image/png": "[encoded data removed]"
          },
          "metadata": {}
        }
      ],
      "source": [
        "losses_plotter = LossesPlotter()\n",
        "accuracy_plotter = AccuracyPlotter()\n",
        "\n",
        "# Подготовка данных для графиков\n",
        "losses_type = {'max': results['max']['losses'], 'mean': results['mean']['losses']}\n",
        "acc_type = {'max': results['max']['accuracy'], 'mean': results['mean']['accuracy']}\n",
        "\n",
        "# Построение графиков\n",
        "losses_plotter.plot(losses_type, ['red', 'blue'])\n",
        "accuracy_plotter.plot(acc_type, ['red', 'blue'])\n",
        "\n"
      ]
    },
    {
      "cell_type": "markdown",
      "metadata": {
        "id": "zAm4x2n9JuoU"
      },
      "source": [
        "\n",
        "### Проведение экспериментов по улучшению модели\n",
        "* Эксперимент 1: увеличение dropout до 0.5\n",
        "\n"
      ]
    },
    {
      "cell_type": "code",
      "execution_count": null,
      "metadata": {
        "id": "15n8mvfQJ80t"
      },
      "outputs": [],
      "source": [
        "device = torch.device(\"cuda\" if torch.cuda.is_available() else \"cpu\")\n",
        "\n",
        "\n",
        "rnn_model = CharLMRNN(hidden_dim=256, vocab_size=len(vocab), dropout_value=0.5).to(device)\n",
        "rnn_model_config = ModelConfiguration(rnn_model, device, word2ind)\n",
        "rnn_model_evaluator = ModelEvaluator(rnn_model, device)\n",
        "rnn_trainer = ModelTrainer(rnn_model_config, rnn_model_evaluator)\n",
        "rnn_training_session_runner = TrainingSessionRunner(rnn_trainer, choose_aggregator)\n",
        "\n",
        "# Запускаем обучение\n",
        "num_epochs = 5\n",
        "eval_steps = len(train_dataloader) // 2\n",
        "results = rnn_training_session_runner.run_training_sessions(train_dataloader, eval_dataloader, num_epochs, eval_steps)\n",
        "\n",
        "print(results)\n",
        "\n"
      ]
    },
    {
      "cell_type": "code",
      "execution_count": null,
      "metadata": {
        "id": "dwNtQJ5UL4RT"
      },
      "outputs": [],
      "source": [
        "losses_plotter = LossesPlotter()\n",
        "accuracy_plotter = AccuracyPlotter()\n",
        "\n",
        "# Подготовка данных для графиков\n",
        "losses_type = {'max': results['max']['losses'], 'mean': results['mean']['losses']}\n",
        "acc_type = {'max': results['max']['accuracy'], 'mean': results['mean']['accuracy']}\n",
        "\n",
        "# Построение графиков\n",
        "losses_plotter.plot(losses_type, ['red', 'blue'])\n",
        "accuracy_plotter.plot(acc_type, ['red', 'blue'])"
      ]
    },
    {
      "cell_type": "markdown",
      "metadata": {
        "id": "sKTDXa9fb0ur"
      },
      "source": [
        "Эксперимент 2: изменение архитектуры, dropout: 0.5"
      ]
    },
    {
      "cell_type": "code",
      "execution_count": 31,
      "metadata": {
        "id": "xrAOG66ib-Yx"
      },
      "outputs": [],
      "source": [
        "class CharLMLSTM(nn.Module):\n",
        "    def __init__(\n",
        "        self, hidden_dim: int, vocab_size: int, dropout_value: float,\n",
        "        num_classes: int = 4,\n",
        "        aggregator: Aggregator = MaxAggregator()\n",
        "        ):\n",
        "        super().__init__()\n",
        "        self.embedding = nn.Embedding(vocab_size, hidden_dim)\n",
        "        # Заменяем RNN на LSTM\n",
        "        self.lstm = nn.LSTM(hidden_dim, hidden_dim, batch_first=True)\n",
        "        self.linear = nn.Linear(hidden_dim, hidden_dim)\n",
        "        self.projection = nn.Linear(hidden_dim, num_classes)\n",
        "\n",
        "        self.non_lin = nn.Tanh()\n",
        "        self.dropout = nn.Dropout(p=dropout_value)\n",
        "\n",
        "    def forward(self, input_batch) -> torch.Tensor:\n",
        "        embeddings = self.embedding(input_batch)  # [batch_size, seq_len, hidden_dim]\n",
        "        output, (hidden, cell) = self.lstm(embeddings)  # [batch_size, seq_len, hidden_dim], (hidden, cell)\n",
        "        output = self.aggregator(output)\n",
        "        output = self.dropout(self.linear(self.non_lin(output)))  # [batch_size, hidden_dim]\n",
        "        prediction = self.projection(self.non_lin(output))  # [batch_size, num_classes]\n",
        "\n",
        "        return prediction"
      ]
    },
    {
      "cell_type": "code",
      "source": [
        "lstm_model = CharLMLSTM(hidden_dim=256, vocab_size=len(vocab), dropout_value=0.5).to(device)\n",
        "\n",
        "lstm_model_config = ModelConfiguration(lstm_model, device, word2ind)\n",
        "\n",
        "lstm_model_evaluator = ModelEvaluator(lstm_model, device)\n",
        "\n",
        "lstm_trainer = ModelTrainer(lstm_model_config, lstm_model_evaluator)\n",
        "\n",
        "lstm_training_session_runner = TrainingSessionRunner(lstm_trainer, choose_aggregator)\n",
        "\n",
        "# Запускаем обучение\n",
        "num_epochs = 5\n",
        "eval_steps = len(train_dataloader) // 2\n",
        "lstm_results = lstm_training_session_runner.run_training_sessions(train_dataloader, eval_dataloader, num_epochs, eval_steps)\n",
        "\n",
        "print(lstm_results)"
      ],
      "metadata": {
        "colab": {
          "base_uri": "https://localhost:8080/",
          "height": 408
        },
        "id": "l6vuMo7AF8Ya",
        "outputId": "72360d7f-9643-422f-e158-f984d7d2c8a3"
      },
      "execution_count": 32,
      "outputs": [
        {
          "output_type": "stream",
          "name": "stdout",
          "text": [
            "Starting training for max\n"
          ]
        },
        {
          "output_type": "stream",
          "name": "stderr",
          "text": [
            "Training epoch 0::   5%|▌         | 100/1875 [00:46<13:51,  2.14it/s]\n"
          ]
        },
        {
          "output_type": "error",
          "ename": "KeyboardInterrupt",
          "evalue": "",
          "traceback": [
            "\u001b[0;31m---------------------------------------------------------------------------\u001b[0m",
            "\u001b[0;31mKeyboardInterrupt\u001b[0m                         Traceback (most recent call last)",
            "\u001b[0;32m<ipython-input-32-657f66b2e553>\u001b[0m in \u001b[0;36m<cell line: 14>\u001b[0;34m()\u001b[0m\n\u001b[1;32m     12\u001b[0m \u001b[0mnum_epochs\u001b[0m \u001b[0;34m=\u001b[0m \u001b[0;36m5\u001b[0m\u001b[0;34m\u001b[0m\u001b[0;34m\u001b[0m\u001b[0m\n\u001b[1;32m     13\u001b[0m \u001b[0meval_steps\u001b[0m \u001b[0;34m=\u001b[0m \u001b[0mlen\u001b[0m\u001b[0;34m(\u001b[0m\u001b[0mtrain_dataloader\u001b[0m\u001b[0;34m)\u001b[0m \u001b[0;34m//\u001b[0m \u001b[0;36m2\u001b[0m\u001b[0;34m\u001b[0m\u001b[0;34m\u001b[0m\u001b[0m\n\u001b[0;32m---> 14\u001b[0;31m \u001b[0mlstm_results\u001b[0m \u001b[0;34m=\u001b[0m \u001b[0mlstm_training_session_runner\u001b[0m\u001b[0;34m.\u001b[0m\u001b[0mrun_training_sessions\u001b[0m\u001b[0;34m(\u001b[0m\u001b[0mtrain_dataloader\u001b[0m\u001b[0;34m,\u001b[0m \u001b[0meval_dataloader\u001b[0m\u001b[0;34m,\u001b[0m \u001b[0mnum_epochs\u001b[0m\u001b[0;34m,\u001b[0m \u001b[0meval_steps\u001b[0m\u001b[0;34m)\u001b[0m\u001b[0;34m\u001b[0m\u001b[0;34m\u001b[0m\u001b[0m\n\u001b[0m\u001b[1;32m     15\u001b[0m \u001b[0;34m\u001b[0m\u001b[0m\n\u001b[1;32m     16\u001b[0m \u001b[0mprint\u001b[0m\u001b[0;34m(\u001b[0m\u001b[0mlstm_results\u001b[0m\u001b[0;34m)\u001b[0m\u001b[0;34m\u001b[0m\u001b[0;34m\u001b[0m\u001b[0m\n",
            "\u001b[0;32m<ipython-input-27-a34d797a9ea9>\u001b[0m in \u001b[0;36mrun_training_sessions\u001b[0;34m(self, train_dataloader, eval_dataloader, num_epochs, eval_steps)\u001b[0m\n\u001b[1;32m     78\u001b[0m             \u001b[0mself\u001b[0m\u001b[0;34m.\u001b[0m\u001b[0mtrainer\u001b[0m\u001b[0;34m.\u001b[0m\u001b[0mconfig\u001b[0m\u001b[0;34m.\u001b[0m\u001b[0mmodel\u001b[0m\u001b[0;34m.\u001b[0m\u001b[0mto\u001b[0m\u001b[0;34m(\u001b[0m\u001b[0mself\u001b[0m\u001b[0;34m.\u001b[0m\u001b[0mtrainer\u001b[0m\u001b[0;34m.\u001b[0m\u001b[0mconfig\u001b[0m\u001b[0;34m.\u001b[0m\u001b[0mdevice\u001b[0m\u001b[0;34m)\u001b[0m\u001b[0;34m\u001b[0m\u001b[0;34m\u001b[0m\u001b[0m\n\u001b[1;32m     79\u001b[0m \u001b[0;34m\u001b[0m\u001b[0m\n\u001b[0;32m---> 80\u001b[0;31m             \u001b[0mlosses\u001b[0m\u001b[0;34m,\u001b[0m \u001b[0macc\u001b[0m \u001b[0;34m=\u001b[0m \u001b[0mself\u001b[0m\u001b[0;34m.\u001b[0m\u001b[0mtrainer\u001b[0m\u001b[0;34m.\u001b[0m\u001b[0mtrain\u001b[0m\u001b[0;34m(\u001b[0m\u001b[0mtrain_dataloader\u001b[0m\u001b[0;34m,\u001b[0m \u001b[0mnum_epochs\u001b[0m\u001b[0;34m,\u001b[0m \u001b[0meval_steps\u001b[0m\u001b[0;34m,\u001b[0m \u001b[0meval_dataloader\u001b[0m\u001b[0;34m)\u001b[0m\u001b[0;34m\u001b[0m\u001b[0;34m\u001b[0m\u001b[0m\n\u001b[0m\u001b[1;32m     81\u001b[0m \u001b[0;34m\u001b[0m\u001b[0m\n\u001b[1;32m     82\u001b[0m             results[aggregation_type] = {\n",
            "\u001b[0;32m<ipython-input-27-a34d797a9ea9>\u001b[0m in \u001b[0;36mtrain\u001b[0;34m(self, train_dataloader, num_epochs, eval_steps, eval_dataloader)\u001b[0m\n\u001b[1;32m     51\u001b[0m                 \u001b[0mloss\u001b[0m \u001b[0;34m=\u001b[0m \u001b[0mself\u001b[0m\u001b[0;34m.\u001b[0m\u001b[0mconfig\u001b[0m\u001b[0;34m.\u001b[0m\u001b[0mcriterion\u001b[0m\u001b[0;34m(\u001b[0m\u001b[0mlogits\u001b[0m\u001b[0;34m,\u001b[0m \u001b[0mlabels\u001b[0m\u001b[0;34m)\u001b[0m\u001b[0;34m\u001b[0m\u001b[0;34m\u001b[0m\u001b[0m\n\u001b[1;32m     52\u001b[0m                 \u001b[0mloss\u001b[0m\u001b[0;34m.\u001b[0m\u001b[0mbackward\u001b[0m\u001b[0;34m(\u001b[0m\u001b[0;34m)\u001b[0m\u001b[0;34m\u001b[0m\u001b[0;34m\u001b[0m\u001b[0m\n\u001b[0;32m---> 53\u001b[0;31m                 \u001b[0mself\u001b[0m\u001b[0;34m.\u001b[0m\u001b[0mconfig\u001b[0m\u001b[0;34m.\u001b[0m\u001b[0moptimizer\u001b[0m\u001b[0;34m.\u001b[0m\u001b[0mstep\u001b[0m\u001b[0;34m(\u001b[0m\u001b[0;34m)\u001b[0m\u001b[0;34m\u001b[0m\u001b[0;34m\u001b[0m\u001b[0m\n\u001b[0m\u001b[1;32m     54\u001b[0m \u001b[0;34m\u001b[0m\u001b[0m\n\u001b[1;32m     55\u001b[0m                 \u001b[0mepoch_losses\u001b[0m\u001b[0;34m.\u001b[0m\u001b[0mappend\u001b[0m\u001b[0;34m(\u001b[0m\u001b[0mloss\u001b[0m\u001b[0;34m.\u001b[0m\u001b[0mitem\u001b[0m\u001b[0;34m(\u001b[0m\u001b[0;34m)\u001b[0m\u001b[0;34m)\u001b[0m\u001b[0;34m\u001b[0m\u001b[0;34m\u001b[0m\u001b[0m\n",
            "\u001b[0;32m/usr/local/lib/python3.10/dist-packages/torch/optim/optimizer.py\u001b[0m in \u001b[0;36mwrapper\u001b[0;34m(*args, **kwargs)\u001b[0m\n\u001b[1;32m    371\u001b[0m                             )\n\u001b[1;32m    372\u001b[0m \u001b[0;34m\u001b[0m\u001b[0m\n\u001b[0;32m--> 373\u001b[0;31m                 \u001b[0mout\u001b[0m \u001b[0;34m=\u001b[0m \u001b[0mfunc\u001b[0m\u001b[0;34m(\u001b[0m\u001b[0;34m*\u001b[0m\u001b[0margs\u001b[0m\u001b[0;34m,\u001b[0m \u001b[0;34m**\u001b[0m\u001b[0mkwargs\u001b[0m\u001b[0;34m)\u001b[0m\u001b[0;34m\u001b[0m\u001b[0;34m\u001b[0m\u001b[0m\n\u001b[0m\u001b[1;32m    374\u001b[0m                 \u001b[0mself\u001b[0m\u001b[0;34m.\u001b[0m\u001b[0m_optimizer_step_code\u001b[0m\u001b[0;34m(\u001b[0m\u001b[0;34m)\u001b[0m\u001b[0;34m\u001b[0m\u001b[0;34m\u001b[0m\u001b[0m\n\u001b[1;32m    375\u001b[0m \u001b[0;34m\u001b[0m\u001b[0m\n",
            "\u001b[0;32m/usr/local/lib/python3.10/dist-packages/torch/optim/optimizer.py\u001b[0m in \u001b[0;36m_use_grad\u001b[0;34m(self, *args, **kwargs)\u001b[0m\n\u001b[1;32m     74\u001b[0m             \u001b[0mtorch\u001b[0m\u001b[0;34m.\u001b[0m\u001b[0mset_grad_enabled\u001b[0m\u001b[0;34m(\u001b[0m\u001b[0mself\u001b[0m\u001b[0;34m.\u001b[0m\u001b[0mdefaults\u001b[0m\u001b[0;34m[\u001b[0m\u001b[0;34m'differentiable'\u001b[0m\u001b[0;34m]\u001b[0m\u001b[0;34m)\u001b[0m\u001b[0;34m\u001b[0m\u001b[0;34m\u001b[0m\u001b[0m\n\u001b[1;32m     75\u001b[0m             \u001b[0mtorch\u001b[0m\u001b[0;34m.\u001b[0m\u001b[0m_dynamo\u001b[0m\u001b[0;34m.\u001b[0m\u001b[0mgraph_break\u001b[0m\u001b[0;34m(\u001b[0m\u001b[0;34m)\u001b[0m\u001b[0;34m\u001b[0m\u001b[0;34m\u001b[0m\u001b[0m\n\u001b[0;32m---> 76\u001b[0;31m             \u001b[0mret\u001b[0m \u001b[0;34m=\u001b[0m \u001b[0mfunc\u001b[0m\u001b[0;34m(\u001b[0m\u001b[0mself\u001b[0m\u001b[0;34m,\u001b[0m \u001b[0;34m*\u001b[0m\u001b[0margs\u001b[0m\u001b[0;34m,\u001b[0m \u001b[0;34m**\u001b[0m\u001b[0mkwargs\u001b[0m\u001b[0;34m)\u001b[0m\u001b[0;34m\u001b[0m\u001b[0;34m\u001b[0m\u001b[0m\n\u001b[0m\u001b[1;32m     77\u001b[0m         \u001b[0;32mfinally\u001b[0m\u001b[0;34m:\u001b[0m\u001b[0;34m\u001b[0m\u001b[0;34m\u001b[0m\u001b[0m\n\u001b[1;32m     78\u001b[0m             \u001b[0mtorch\u001b[0m\u001b[0;34m.\u001b[0m\u001b[0m_dynamo\u001b[0m\u001b[0;34m.\u001b[0m\u001b[0mgraph_break\u001b[0m\u001b[0;34m(\u001b[0m\u001b[0;34m)\u001b[0m\u001b[0;34m\u001b[0m\u001b[0;34m\u001b[0m\u001b[0m\n",
            "\u001b[0;32m/usr/local/lib/python3.10/dist-packages/torch/optim/adam.py\u001b[0m in \u001b[0;36mstep\u001b[0;34m(self, closure)\u001b[0m\n\u001b[1;32m    161\u001b[0m                 state_steps)\n\u001b[1;32m    162\u001b[0m \u001b[0;34m\u001b[0m\u001b[0m\n\u001b[0;32m--> 163\u001b[0;31m             adam(\n\u001b[0m\u001b[1;32m    164\u001b[0m                 \u001b[0mparams_with_grad\u001b[0m\u001b[0;34m,\u001b[0m\u001b[0;34m\u001b[0m\u001b[0;34m\u001b[0m\u001b[0m\n\u001b[1;32m    165\u001b[0m                 \u001b[0mgrads\u001b[0m\u001b[0;34m,\u001b[0m\u001b[0;34m\u001b[0m\u001b[0;34m\u001b[0m\u001b[0m\n",
            "\u001b[0;32m/usr/local/lib/python3.10/dist-packages/torch/optim/adam.py\u001b[0m in \u001b[0;36madam\u001b[0;34m(params, grads, exp_avgs, exp_avg_sqs, max_exp_avg_sqs, state_steps, foreach, capturable, differentiable, fused, grad_scale, found_inf, amsgrad, beta1, beta2, lr, weight_decay, eps, maximize)\u001b[0m\n\u001b[1;32m    309\u001b[0m         \u001b[0mfunc\u001b[0m \u001b[0;34m=\u001b[0m \u001b[0m_single_tensor_adam\u001b[0m\u001b[0;34m\u001b[0m\u001b[0;34m\u001b[0m\u001b[0m\n\u001b[1;32m    310\u001b[0m \u001b[0;34m\u001b[0m\u001b[0m\n\u001b[0;32m--> 311\u001b[0;31m     func(params,\n\u001b[0m\u001b[1;32m    312\u001b[0m          \u001b[0mgrads\u001b[0m\u001b[0;34m,\u001b[0m\u001b[0;34m\u001b[0m\u001b[0;34m\u001b[0m\u001b[0m\n\u001b[1;32m    313\u001b[0m          \u001b[0mexp_avgs\u001b[0m\u001b[0;34m,\u001b[0m\u001b[0;34m\u001b[0m\u001b[0;34m\u001b[0m\u001b[0m\n",
            "\u001b[0;32m/usr/local/lib/python3.10/dist-packages/torch/optim/adam.py\u001b[0m in \u001b[0;36m_single_tensor_adam\u001b[0;34m(params, grads, exp_avgs, exp_avg_sqs, max_exp_avg_sqs, state_steps, grad_scale, found_inf, amsgrad, beta1, beta2, lr, weight_decay, eps, maximize, capturable, differentiable)\u001b[0m\n\u001b[1;32m    382\u001b[0m \u001b[0;34m\u001b[0m\u001b[0m\n\u001b[1;32m    383\u001b[0m         \u001b[0;31m# Decay the first and second moment running average coefficient\u001b[0m\u001b[0;34m\u001b[0m\u001b[0;34m\u001b[0m\u001b[0m\n\u001b[0;32m--> 384\u001b[0;31m         \u001b[0mexp_avg\u001b[0m\u001b[0;34m.\u001b[0m\u001b[0mlerp_\u001b[0m\u001b[0;34m(\u001b[0m\u001b[0mgrad\u001b[0m\u001b[0;34m,\u001b[0m \u001b[0;36m1\u001b[0m \u001b[0;34m-\u001b[0m \u001b[0mbeta1\u001b[0m\u001b[0;34m)\u001b[0m\u001b[0;34m\u001b[0m\u001b[0;34m\u001b[0m\u001b[0m\n\u001b[0m\u001b[1;32m    385\u001b[0m         \u001b[0mexp_avg_sq\u001b[0m\u001b[0;34m.\u001b[0m\u001b[0mmul_\u001b[0m\u001b[0;34m(\u001b[0m\u001b[0mbeta2\u001b[0m\u001b[0;34m)\u001b[0m\u001b[0;34m.\u001b[0m\u001b[0maddcmul_\u001b[0m\u001b[0;34m(\u001b[0m\u001b[0mgrad\u001b[0m\u001b[0;34m,\u001b[0m \u001b[0mgrad\u001b[0m\u001b[0;34m.\u001b[0m\u001b[0mconj\u001b[0m\u001b[0;34m(\u001b[0m\u001b[0;34m)\u001b[0m\u001b[0;34m,\u001b[0m \u001b[0mvalue\u001b[0m\u001b[0;34m=\u001b[0m\u001b[0;36m1\u001b[0m \u001b[0;34m-\u001b[0m \u001b[0mbeta2\u001b[0m\u001b[0;34m)\u001b[0m\u001b[0;34m\u001b[0m\u001b[0;34m\u001b[0m\u001b[0m\n\u001b[1;32m    386\u001b[0m \u001b[0;34m\u001b[0m\u001b[0m\n",
            "\u001b[0;31mKeyboardInterrupt\u001b[0m: "
          ]
        }
      ]
    },
    {
      "cell_type": "code",
      "source": [
        "losses_plotter = LossesPlotter()\n",
        "accuracy_plotter = AccuracyPlotter()\n",
        "\n",
        "# Подготовка данных для графиков\n",
        "losses_type = {'max': lstm_results['max']['losses'], 'mean': lstm_results['mean']['losses']}\n",
        "acc_type = {'max': lstm_results['max']['accuracy'], 'mean': lstm_results['mean']['accuracy']}\n",
        "\n",
        "# Построение графиков\n",
        "losses_plotter.plot(losses_type, ['red', 'blue'])\n",
        "accuracy_plotter.plot(acc_type, ['red', 'blue'])"
      ],
      "metadata": {
        "id": "Rtk5OLR6HtPD"
      },
      "execution_count": null,
      "outputs": []
    }
  ],
  "metadata": {
    "accelerator": "GPU",
    "colab": {
      "provenance": []
    },
    "gpuClass": "standard",
    "kernelspec": {
      "display_name": "Python 3",
      "name": "python3"
    },
    "language_info": {
      "name": "python"
    },
    "widgets": {
      "application/vnd.jupyter.widget-state+json": {
        "e5b040abdbf1499cb4423726762ded5b": {
          "model_module": "@jupyter-widgets/controls",
          "model_name": "HBoxModel",
          "model_module_version": "1.5.0",
          "state": {
            "_dom_classes": [],
            "_model_module": "@jupyter-widgets/controls",
            "_model_module_version": "1.5.0",
            "_model_name": "HBoxModel",
            "_view_count": null,
            "_view_module": "@jupyter-widgets/controls",
            "_view_module_version": "1.5.0",
            "_view_name": "HBoxView",
            "box_style": "",
            "children": [
              "IPY_MODEL_861f60452f5e42639a178931e7cdb197",
              "IPY_MODEL_59308e85e50a496db9853c56407e574c",
              "IPY_MODEL_a1bc01cb74404bdc91d60c1d94b53819"
            ],
            "layout": "IPY_MODEL_7b5745f374cb4f29af0f93b5ef44ea5f"
          }
        },
        "861f60452f5e42639a178931e7cdb197": {
          "model_module": "@jupyter-widgets/controls",
          "model_name": "HTMLModel",
          "model_module_version": "1.5.0",
          "state": {
            "_dom_classes": [],
            "_model_module": "@jupyter-widgets/controls",
            "_model_module_version": "1.5.0",
            "_model_name": "HTMLModel",
            "_view_count": null,
            "_view_module": "@jupyter-widgets/controls",
            "_view_module_version": "1.5.0",
            "_view_name": "HTMLView",
            "description": "",
            "description_tooltip": null,
            "layout": "IPY_MODEL_7c8d6163e52c48bbb051ae51cd4d497d",
            "placeholder": "​",
            "style": "IPY_MODEL_195b9382dbbd4901909f36d9b32f76a3",
            "value": "100%"
          }
        },
        "59308e85e50a496db9853c56407e574c": {
          "model_module": "@jupyter-widgets/controls",
          "model_name": "FloatProgressModel",
          "model_module_version": "1.5.0",
          "state": {
            "_dom_classes": [],
            "_model_module": "@jupyter-widgets/controls",
            "_model_module_version": "1.5.0",
            "_model_name": "FloatProgressModel",
            "_view_count": null,
            "_view_module": "@jupyter-widgets/controls",
            "_view_module_version": "1.5.0",
            "_view_name": "ProgressView",
            "bar_style": "success",
            "description": "",
            "description_tooltip": null,
            "layout": "IPY_MODEL_685b48a22433402e9cdd6d076bee55c1",
            "max": 120000,
            "min": 0,
            "orientation": "horizontal",
            "style": "IPY_MODEL_ccd0381043ad41cc98d916043e2ec600",
            "value": 120000
          }
        },
        "a1bc01cb74404bdc91d60c1d94b53819": {
          "model_module": "@jupyter-widgets/controls",
          "model_name": "HTMLModel",
          "model_module_version": "1.5.0",
          "state": {
            "_dom_classes": [],
            "_model_module": "@jupyter-widgets/controls",
            "_model_module_version": "1.5.0",
            "_model_name": "HTMLModel",
            "_view_count": null,
            "_view_module": "@jupyter-widgets/controls",
            "_view_module_version": "1.5.0",
            "_view_name": "HTMLView",
            "description": "",
            "description_tooltip": null,
            "layout": "IPY_MODEL_d5eef0e9f15b4ae8a432986d3831af83",
            "placeholder": "​",
            "style": "IPY_MODEL_40e2953741644c8aaa07059382dbfc80",
            "value": " 120000/120000 [00:52&lt;00:00, 4166.73it/s]"
          }
        },
        "7b5745f374cb4f29af0f93b5ef44ea5f": {
          "model_module": "@jupyter-widgets/base",
          "model_name": "LayoutModel",
          "model_module_version": "1.2.0",
          "state": {
            "_model_module": "@jupyter-widgets/base",
            "_model_module_version": "1.2.0",
            "_model_name": "LayoutModel",
            "_view_count": null,
            "_view_module": "@jupyter-widgets/base",
            "_view_module_version": "1.2.0",
            "_view_name": "LayoutView",
            "align_content": null,
            "align_items": null,
            "align_self": null,
            "border": null,
            "bottom": null,
            "display": null,
            "flex": null,
            "flex_flow": null,
            "grid_area": null,
            "grid_auto_columns": null,
            "grid_auto_flow": null,
            "grid_auto_rows": null,
            "grid_column": null,
            "grid_gap": null,
            "grid_row": null,
            "grid_template_areas": null,
            "grid_template_columns": null,
            "grid_template_rows": null,
            "height": null,
            "justify_content": null,
            "justify_items": null,
            "left": null,
            "margin": null,
            "max_height": null,
            "max_width": null,
            "min_height": null,
            "min_width": null,
            "object_fit": null,
            "object_position": null,
            "order": null,
            "overflow": null,
            "overflow_x": null,
            "overflow_y": null,
            "padding": null,
            "right": null,
            "top": null,
            "visibility": null,
            "width": null
          }
        },
        "7c8d6163e52c48bbb051ae51cd4d497d": {
          "model_module": "@jupyter-widgets/base",
          "model_name": "LayoutModel",
          "model_module_version": "1.2.0",
          "state": {
            "_model_module": "@jupyter-widgets/base",
            "_model_module_version": "1.2.0",
            "_model_name": "LayoutModel",
            "_view_count": null,
            "_view_module": "@jupyter-widgets/base",
            "_view_module_version": "1.2.0",
            "_view_name": "LayoutView",
            "align_content": null,
            "align_items": null,
            "align_self": null,
            "border": null,
            "bottom": null,
            "display": null,
            "flex": null,
            "flex_flow": null,
            "grid_area": null,
            "grid_auto_columns": null,
            "grid_auto_flow": null,
            "grid_auto_rows": null,
            "grid_column": null,
            "grid_gap": null,
            "grid_row": null,
            "grid_template_areas": null,
            "grid_template_columns": null,
            "grid_template_rows": null,
            "height": null,
            "justify_content": null,
            "justify_items": null,
            "left": null,
            "margin": null,
            "max_height": null,
            "max_width": null,
            "min_height": null,
            "min_width": null,
            "object_fit": null,
            "object_position": null,
            "order": null,
            "overflow": null,
            "overflow_x": null,
            "overflow_y": null,
            "padding": null,
            "right": null,
            "top": null,
            "visibility": null,
            "width": null
          }
        },
        "195b9382dbbd4901909f36d9b32f76a3": {
          "model_module": "@jupyter-widgets/controls",
          "model_name": "DescriptionStyleModel",
          "model_module_version": "1.5.0",
          "state": {
            "_model_module": "@jupyter-widgets/controls",
            "_model_module_version": "1.5.0",
            "_model_name": "DescriptionStyleModel",
            "_view_count": null,
            "_view_module": "@jupyter-widgets/base",
            "_view_module_version": "1.2.0",
            "_view_name": "StyleView",
            "description_width": ""
          }
        },
        "685b48a22433402e9cdd6d076bee55c1": {
          "model_module": "@jupyter-widgets/base",
          "model_name": "LayoutModel",
          "model_module_version": "1.2.0",
          "state": {
            "_model_module": "@jupyter-widgets/base",
            "_model_module_version": "1.2.0",
            "_model_name": "LayoutModel",
            "_view_count": null,
            "_view_module": "@jupyter-widgets/base",
            "_view_module_version": "1.2.0",
            "_view_name": "LayoutView",
            "align_content": null,
            "align_items": null,
            "align_self": null,
            "border": null,
            "bottom": null,
            "display": null,
            "flex": null,
            "flex_flow": null,
            "grid_area": null,
            "grid_auto_columns": null,
            "grid_auto_flow": null,
            "grid_auto_rows": null,
            "grid_column": null,
            "grid_gap": null,
            "grid_row": null,
            "grid_template_areas": null,
            "grid_template_columns": null,
            "grid_template_rows": null,
            "height": null,
            "justify_content": null,
            "justify_items": null,
            "left": null,
            "margin": null,
            "max_height": null,
            "max_width": null,
            "min_height": null,
            "min_width": null,
            "object_fit": null,
            "object_position": null,
            "order": null,
            "overflow": null,
            "overflow_x": null,
            "overflow_y": null,
            "padding": null,
            "right": null,
            "top": null,
            "visibility": null,
            "width": null
          }
        },
        "ccd0381043ad41cc98d916043e2ec600": {
          "model_module": "@jupyter-widgets/controls",
          "model_name": "ProgressStyleModel",
          "model_module_version": "1.5.0",
          "state": {
            "_model_module": "@jupyter-widgets/controls",
            "_model_module_version": "1.5.0",
            "_model_name": "ProgressStyleModel",
            "_view_count": null,
            "_view_module": "@jupyter-widgets/base",
            "_view_module_version": "1.2.0",
            "_view_name": "StyleView",
            "bar_color": null,
            "description_width": ""
          }
        },
        "d5eef0e9f15b4ae8a432986d3831af83": {
          "model_module": "@jupyter-widgets/base",
          "model_name": "LayoutModel",
          "model_module_version": "1.2.0",
          "state": {
            "_model_module": "@jupyter-widgets/base",
            "_model_module_version": "1.2.0",
            "_model_name": "LayoutModel",
            "_view_count": null,
            "_view_module": "@jupyter-widgets/base",
            "_view_module_version": "1.2.0",
            "_view_name": "LayoutView",
            "align_content": null,
            "align_items": null,
            "align_self": null,
            "border": null,
            "bottom": null,
            "display": null,
            "flex": null,
            "flex_flow": null,
            "grid_area": null,
            "grid_auto_columns": null,
            "grid_auto_flow": null,
            "grid_auto_rows": null,
            "grid_column": null,
            "grid_gap": null,
            "grid_row": null,
            "grid_template_areas": null,
            "grid_template_columns": null,
            "grid_template_rows": null,
            "height": null,
            "justify_content": null,
            "justify_items": null,
            "left": null,
            "margin": null,
            "max_height": null,
            "max_width": null,
            "min_height": null,
            "min_width": null,
            "object_fit": null,
            "object_position": null,
            "order": null,
            "overflow": null,
            "overflow_x": null,
            "overflow_y": null,
            "padding": null,
            "right": null,
            "top": null,
            "visibility": null,
            "width": null
          }
        },
        "40e2953741644c8aaa07059382dbfc80": {
          "model_module": "@jupyter-widgets/controls",
          "model_name": "DescriptionStyleModel",
          "model_module_version": "1.5.0",
          "state": {
            "_model_module": "@jupyter-widgets/controls",
            "_model_module_version": "1.5.0",
            "_model_name": "DescriptionStyleModel",
            "_view_count": null,
            "_view_module": "@jupyter-widgets/base",
            "_view_module_version": "1.2.0",
            "_view_name": "StyleView",
            "description_width": ""
          }
        }
      }
    }
  },
  "nbformat": 4,
  "nbformat_minor": 0
}