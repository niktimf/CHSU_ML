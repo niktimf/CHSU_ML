{
 "cells": [
  {
   "cell_type": "markdown",
   "metadata": {
    "id": "PS-PnU9Odk7b",
    "pycharm": {
     "name": "#%% md\n"
    }
   },
   "source": [
    "![](https://miro.medium.com/max/691/0*xXUYOs5MWWenxoNz)"
   ]
  },
  {
   "cell_type": "markdown",
   "metadata": {
    "id": "jc4nw3R4duZg",
    "pycharm": {
     "name": "#%% md\n"
    }
   },
   "source": [
    "# CNN для классификации изображений в PyTorch"
   ]
  },
  {
   "cell_type": "markdown",
   "metadata": {
    "id": "7RY543utW_BR",
    "pycharm": {
     "name": "#%% md\n"
    }
   },
   "source": [
    "## Общее о сверточных нейронных сетях в PyTorch  \n",
    "\n",
    "Полносвязные нейронные сети могут выступать в качестве средства для решения задачи классификации изображений, однако на данный момент доминирующей архитектурой для решения этой задачи являются **сверточные нейронные сети (CNN)**\n",
    "\n",
    "Классическая сверточная нейронная сеть для классификации изображений состоит из следующих компонентов:\n",
    "* сверточный слой\n",
    "* пулинговый слой (или слой субдискретизации)\n",
    "* слой дропаута (или прореживания)\n",
    "* блок линейных слоев\n",
    "\n",
    "Сверточный слой реализует операцию свертки. Она состоит в следующем: на вход слою подается изображение (исходное или уже обработанное), каждый фрагмент каждого канала изображения умножается на ядро свертки поэлементно, результаты по фрагменту суммируются и определяются в позицию, аналогичную таковой у исходного фрагмента. Таким образом формируется карта признаков   \n",
    "\n",
    "![pic](https://1.cms.s81c.com/sites/default/files/2021-01-06/ICLH_Diagram_Batch_02_17A-ConvolutionalNeuralNetworks-WHITEBG.png)  \n",
    "\n",
    "Пулинговый слой (или слой субдискретизации) уплотняет поступающие на него карты признаков, при этом группы пикселей (обычно размером 2х2) \"схлопываются\" путем нелинейного преобразования, обычно таким преобразованием является максимизация  \n",
    "\n",
    "![](https://miro.medium.com/max/847/1*FHPUtGrVP6fRmVHDn3A7Rw.png)  \n",
    "\n",
    "Слой дропаута обнуляет в процессе обучения некоторый случайный набор параметров сети.  Выяснено, что применение этого слоя положительно влияет на склонность сверточной нейросети к обобщению данных\n",
    "\n",
    "![](https://miro.medium.com/max/1838/1*iWQzxhVlvadk6VAJjsgXgg.png)\n",
    "\n",
    "Сверточные нейронные сети в PyTorch строятся по аналогии с полносвязными, но с некоторыми отличиями  \n",
    "В первую очередь, для построения сверточных нейронных сетей в PyTorch применяют модуль `nn.Sequential()` для построения цепочки слоев  \n",
    "\n",
    "В PyTorch реализовано все необходимое для построения сверточных нейронных сетей.\n",
    "Их можно представить в виде стека последовательно идущих друг за другом сверточных слоев и слоев субдискретизации (пулинга) с полносвязной сетью в конце\n",
    "\n",
    "Сверточный слой (в двумерном случае) представлен классом `nn.Conv2D`  \n",
    "Перечислим основные аргументы:\n",
    "* `in_features` -- количество входных каналов изображения\n",
    "* `out_features` -- количество каналов, создаваемых сверточным слоем\n",
    "* `kernel_size` -- размер ядра свертки\n",
    "* `stride` -- шаг свертки (по умолчанию 1\n",
    "* `padding` -- определяет заполнение нулями (по умолчанию 0)\n",
    "\n",
    "Слой maxpooling (в двумерном случае) представлен классом `nn.MaxPool2D`  \n",
    "Основные аргументы:\n",
    "* `kernel_size` -- размер окна пулинга\n",
    "* `stride` -- шаг окна (по умолчанию равен kernel_size  \n",
    "\n",
    "Также существуют вариации слоя пулинга, например, `nn.AvgPool`, `nn.AdaptiveMaxPool`, `nn.AdaptiveAvgPool`\n",
    "\n",
    "Слой дропаута в PyTorch представлен классом `nn.Dropout`, который принимает единственный аргумент `p` -- долю входного тензора, который будет подвержен обнулению"
   ]
  },
  {
   "cell_type": "markdown",
   "source": [
    "## Построение и обучение простой сверточной нейронной сети на PyTorch"
   ],
   "metadata": {
    "id": "lMKP57cQLFmi",
    "pycharm": {
     "name": "#%% md\n"
    }
   }
  },
  {
   "cell_type": "markdown",
   "metadata": {
    "id": "djKrghV0XD5z",
    "pycharm": {
     "name": "#%% md\n"
    }
   },
   "source": [
    "Построим для решения задачи классификации изображений одежды из датасета Fashion-MNIST сверточную нейронную сеть"
   ]
  },
  {
   "cell_type": "code",
   "execution_count": 5,
   "metadata": {
    "id": "6YqC1ffnerkO",
    "colab": {
     "base_uri": "https://localhost:8080/"
    },
    "outputId": "7129ab37-49bc-4eee-ad1a-696d37938d2a",
    "pycharm": {
     "name": "#%%\n"
    }
   },
   "outputs": [
    {
     "name": "stdout",
     "output_type": "stream",
     "text": [
      "torch.Size([1, 28, 28])\n"
     ]
    }
   ],
   "source": [
    "# необходимые импорты\n",
    "import torch\n",
    "import torchvision.datasets as dataset\n",
    "import torchvision.transforms as transforms\n",
    "from torch.utils.data import DataLoader\n",
    "import torch.nn.functional as F\n",
    "import torch.nn as nn\n",
    "import torch.optim as optim\n",
    "\n",
    "# создаем объект tranfrorm для трансформации изображений\n",
    "transform = transforms.Compose([\n",
    "          transforms.ToTensor(),\n",
    "])\n",
    "\n",
    "# загрузка тренировочного набора данных Fashion-MNIST\n",
    "train_data = dataset.FashionMNIST(r\"/content/Fashion-MNIST\",\n",
    "                                  train=True,\n",
    "                                  download=True,\n",
    "                                  transform=transform,\n",
    "                                  )\n",
    "\n",
    "# загрузка тестового набора данных Fashion-MNIST\n",
    "test_data = dataset.FashionMNIST(r\"/content/Fashion-MNIST\",\n",
    "                                 train=False,\n",
    "                                 download=True,\n",
    "                                 transform=transform\n",
    "                                 )\n",
    "\n",
    "image, target = next(iter(train_data))\n",
    "print(image.shape)"
   ]
  },
  {
   "cell_type": "code",
   "execution_count": 2,
   "metadata": {
    "id": "Rje4pgA1k9pc",
    "pycharm": {
     "name": "#%%\n"
    }
   },
   "outputs": [],
   "source": [
    "# создание загрузчика для тренировочного набора данных\n",
    "train_loader = DataLoader(train_data, batch_size=32, shuffle=True)\n",
    "\n",
    "# создание загрузчика для тестового набора данных\n",
    "test_loader = DataLoader(test_data, batch_size=32, shuffle=True)"
   ]
  },
  {
   "cell_type": "code",
   "execution_count": 18,
   "metadata": {
    "id": "bD6ZwRTlXADU",
    "colab": {
     "base_uri": "https://localhost:8080/"
    },
    "outputId": "f3a026c7-7848-447f-f722-459c909298eb",
    "pycharm": {
     "name": "#%%\n"
    }
   },
   "outputs": [
    {
     "name": "stdout",
     "output_type": "stream",
     "text": [
      "CNN(\n",
      "  (conv_layers): Sequential(\n",
      "    (0): Conv2d(1, 8, kernel_size=(3, 3), stride=(1, 1), padding=(1, 1))\n",
      "    (1): ReLU()\n",
      "    (2): MaxPool2d(kernel_size=2, stride=2, padding=0, dilation=1, ceil_mode=False)\n",
      "    (3): Conv2d(8, 16, kernel_size=(3, 3), stride=(1, 1), padding=(1, 1))\n",
      "    (4): ReLU()\n",
      "    (5): MaxPool2d(kernel_size=2, stride=2, padding=0, dilation=1, ceil_mode=False)\n",
      "    (6): Conv2d(16, 32, kernel_size=(2, 2), stride=(1, 1), padding=(1, 1))\n",
      "    (7): ReLU()\n",
      "    (8): MaxPool2d(kernel_size=2, stride=2, padding=0, dilation=1, ceil_mode=False)\n",
      "  )\n",
      "  (linear_layers): Sequential(\n",
      "    (0): Linear(in_features=512, out_features=64, bias=True)\n",
      "    (1): ReLU()\n",
      "    (2): Dropout(p=0.2, inplace=False)\n",
      "    (3): Linear(in_features=64, out_features=10, bias=True)\n",
      "  )\n",
      ")\n"
     ]
    }
   ],
   "source": [
    "# построение сверточной нейронной сети на PyTorch\n",
    "\n",
    "class CNN(nn.Module):\n",
    "    def __init__(self):\n",
    "        super(CNN, self).__init__()\n",
    "        # стек сверточных слоев\n",
    "        self.conv_layers = nn.Sequential(\n",
    "            # здесь определяются сверточные слои\n",
    "            # можно явно вычислить размер выходной карты признаков каждого\n",
    "            # сверточного слоя по следующей формуле:\n",
    "            # [(shape + 2 * padding - kernel_size) / stride] + 1\n",
    "            nn.Conv2d(in_channels=1, out_channels=8, kernel_size=3, padding=1, stride=1), # (N, 1, 28, 28)\n",
    "            nn.ReLU(),\n",
    "            # после первого сверточного слоя размер выходной карты признаков равен:\n",
    "            # [(28 + 2 * 1 - 3) / 1] + 1 = 28.\n",
    "            nn.MaxPool2d(kernel_size=2),\n",
    "            # при прохождении слоя MaxPooling с размером окна 2\n",
    "            # карты признаков сжимаются вдвое\n",
    "            # 28 / 2 = 14\n",
    "            nn.Conv2d(in_channels=8, out_channels=16, kernel_size=3, padding=1, stride=1),\n",
    "            nn.ReLU(),\n",
    "            # после второго сверточного слоя размер выходной карты признаков равен:\n",
    "            #[(14 + 2 * 1 - 3) / 1] + 1 = 14\n",
    "            nn.MaxPool2d(kernel_size=2),\n",
    "            # после второго слоя MaxPooling2D выходные карты признаков имеют размерность\n",
    "            # 14 / 2 = 7\n",
    "\n",
    "\t        # Третий сверточный слой\n",
    "\t        nn.Conv2d(in_channels=16, out_channels=32, kernel_size=2, padding=1, stride=1),\n",
    "\t        nn.ReLU(),\n",
    "\t        # Слой максимального пулинга\n",
    "\t        #[(7 + 2 * 1 - 2) / 1] + 1 = 8\n",
    "\t        nn.MaxPool2d(kernel_size=2)\n",
    "            # 8 / 2 = 4\n",
    "\n",
    "\n",
    "        )\n",
    "\n",
    "        # стек полносвязных слоев\n",
    "        self.linear_layers = nn.Sequential(\n",
    "\t        # Размер входа в первый линейный слой нужно обновить\n",
    "\t        nn.Linear(in_features=32 * 4 * 4, out_features=64),\n",
    "\t        nn.ReLU(),\n",
    "\t        nn.Dropout(0.2),\n",
    "\t        nn.Linear(in_features=64, out_features=10)\n",
    "        )\n",
    "\n",
    "\n",
    "    # определение метода для прямого распространения сигналов по сети\n",
    "    def forward(self, x):\n",
    "        x = self.conv_layers(x)\n",
    "        # перед отправкой в блок полносвязных слоев признаки необходимо сделать одномерными\n",
    "        x = x.view(x.size(0), -1)\n",
    "        x = self.linear_layers(x)\n",
    "        return x\n",
    "\n",
    "# вывод структуры модели\n",
    "cnn = CNN()\n",
    "print(cnn)"
   ]
  },
  {
   "cell_type": "code",
   "execution_count": 25,
   "metadata": {
    "id": "GKWnvMW9R4pg",
    "pycharm": {
     "name": "#%%\n"
    }
   },
   "outputs": [],
   "source": [
    "# определим функцию, которая будет вычислять точность модели на итерации\n",
    "def calculate_accuracy(y_pred, y):\n",
    "\n",
    "    # находим количество верных совпадений лейбла и выходного класса по каждому примеру в батче\n",
    "    top_pred = y_pred.argmax(1, keepdim = True)\n",
    "    correct = top_pred.eq(y.view_as(top_pred)).sum()\n",
    "\n",
    "    # посчитаем точность, которая равна отношению количества верных совпадений к общему числу примеров в батче\n",
    "    acc = correct.float() / y.shape[0]\n",
    "    return acc"
   ]
  },
  {
   "cell_type": "code",
   "execution_count": 22,
   "metadata": {
    "id": "uEUH0TkRQi9C",
    "pycharm": {
     "name": "#%%\n"
    }
   },
   "outputs": [],
   "source": [
    "# функция, отвечающая за обучение сети на одной эпохе\n",
    "def train(model, dataloader, optimizer, loss_function, device):\n",
    "    # определим значения точности и потерь на старте эпохи\n",
    "    epoch_acc = 0\n",
    "    epoch_loss = 0\n",
    "\n",
    "    # переведем модель в режим тренировки\n",
    "    model.train()\n",
    "\n",
    "    # для каждого батча в даталоадере\n",
    "    for (images, labels) in dataloader:\n",
    "\n",
    "        # отправляем изображения и метки на устройство\n",
    "        images = images.to(device)\n",
    "        labels = labels.to(device)\n",
    "\n",
    "        # обнуляем градиенты\n",
    "        optimizer.zero_grad()\n",
    "\n",
    "        # вычислим выходы сети на данном батче\n",
    "        predicts = model(images)\n",
    "\n",
    "        # вычислим величину потерь на данном батче\n",
    "        loss    = loss_function(predicts, labels)\n",
    "\n",
    "        # вычислим точность на данном батче\n",
    "        acc     = calculate_accuracy(predicts, labels)\n",
    "\n",
    "        # вычислим значения градиентов на батче\n",
    "        loss.backward()\n",
    "\n",
    "        # корректируем веса\n",
    "        optimizer.step()\n",
    "\n",
    "        # прибавим значения потерь и точности на батче\n",
    "        epoch_loss += loss.item()\n",
    "        epoch_acc  += acc.item()\n",
    "\n",
    "    # возвращаем величину потерь и точность на эпохе\n",
    "    return epoch_loss / len(dataloader),  epoch_acc / len(dataloader)\n"
   ]
  },
  {
   "cell_type": "code",
   "execution_count": 23,
   "metadata": {
    "id": "2z32w7j1iGpy",
    "pycharm": {
     "name": "#%%\n"
    }
   },
   "outputs": [],
   "source": [
    "# функция, отвечающая за проверку модели на одной эпохе\n",
    "def evaluate(model, dataloader, loss_function, device):\n",
    "\n",
    "    # определим начальные величины потерь и точности\n",
    "    epoch_acc = 0\n",
    "    epoch_loss = 0\n",
    "\n",
    "    # переведем модель в режим валидации\n",
    "    model.eval()\n",
    "\n",
    "    # указываем, что градиенты вычислять не нужно\n",
    "    with torch.no_grad():\n",
    "\n",
    "        # для каждого батча в даталоадере\n",
    "        for images, labels in dataloader:\n",
    "\n",
    "            # переносим изображения и лейблы на устройство\n",
    "            images = images.to(device)\n",
    "            labels = labels.to(device)\n",
    "\n",
    "            # вычислим выходы сети на батче\n",
    "            predicts = model(images)\n",
    "\n",
    "            # вычислим величину потерь на батче\n",
    "            loss = loss_function(predicts, labels)\n",
    "\n",
    "            # вычислим точность на батче\n",
    "            acc  = calculate_accuracy(predicts, labels)\n",
    "\n",
    "\n",
    "            # прибавим значения потерь и точности на батче к общему\n",
    "            epoch_loss += loss.item()\n",
    "            epoch_acc  += acc.item()\n",
    "\n",
    "\n",
    "    # возвращаем величину потерь и точность на эпохе\n",
    "    return epoch_loss / len(dataloader),  epoch_acc / len(dataloader)\n",
    "\n",
    "\n",
    "\n"
   ]
  },
  {
   "cell_type": "code",
   "execution_count": 19,
   "metadata": {
    "id": "j79dKnBTncS7",
    "colab": {
     "base_uri": "https://localhost:8080/"
    },
    "outputId": "7a41ef4c-39db-4006-d649-5731f75a9751",
    "pycharm": {
     "name": "#%%\n"
    }
   },
   "outputs": [
    {
     "name": "stdout",
     "output_type": "stream",
     "text": [
      "cuda\n"
     ]
    },
    {
     "data": {
      "text/plain": "CNN(\n  (conv_layers): Sequential(\n    (0): Conv2d(1, 8, kernel_size=(3, 3), stride=(1, 1), padding=(1, 1))\n    (1): ReLU()\n    (2): MaxPool2d(kernel_size=2, stride=2, padding=0, dilation=1, ceil_mode=False)\n    (3): Conv2d(8, 16, kernel_size=(3, 3), stride=(1, 1), padding=(1, 1))\n    (4): ReLU()\n    (5): MaxPool2d(kernel_size=2, stride=2, padding=0, dilation=1, ceil_mode=False)\n    (6): Conv2d(16, 32, kernel_size=(2, 2), stride=(1, 1), padding=(1, 1))\n    (7): ReLU()\n    (8): MaxPool2d(kernel_size=2, stride=2, padding=0, dilation=1, ceil_mode=False)\n  )\n  (linear_layers): Sequential(\n    (0): Linear(in_features=512, out_features=64, bias=True)\n    (1): ReLU()\n    (2): Dropout(p=0.2, inplace=False)\n    (3): Linear(in_features=64, out_features=10, bias=True)\n  )\n)"
     },
     "execution_count": 19,
     "metadata": {},
     "output_type": "execute_result"
    }
   ],
   "source": [
    "# определим функцию оптимизации\n",
    "optimizer = optim.Adam(cnn.parameters(), lr=0.001)\n",
    "\n",
    "# определим функцию потерь\n",
    "loss_function = nn.CrossEntropyLoss()\n",
    "\n",
    "# определим устройство, на котором будет идти обучение\n",
    "device = None\n",
    "if torch.cuda.is_available():\n",
    "    device = torch.device(\"cuda\")\n",
    "else:\n",
    "    device = torch.device(\"cpu\")\n",
    "\n",
    "print(device)\n",
    "\n",
    "# перемещение модели на устройство\n",
    "cnn.to(device)"
   ]
  },
  {
   "cell_type": "code",
   "source": [
    "from google.colab import drive\n",
    "drive.mount('/content/drive')"
   ],
   "metadata": {
    "colab": {
     "base_uri": "https://localhost:8080/"
    },
    "id": "E5fKRN_pgjdz",
    "outputId": "e1237c6b-2b5b-4451-8e1b-0c65a37ee326",
    "pycharm": {
     "name": "#%%\n"
    }
   },
   "execution_count": 8,
   "outputs": [
    {
     "output_type": "stream",
     "name": "stdout",
     "text": [
      "Mounted at /content/drive\n"
     ]
    }
   ]
  },
  {
   "cell_type": "code",
   "execution_count": 12,
   "metadata": {
    "id": "GFPobyFrXI6G",
    "colab": {
     "base_uri": "https://localhost:8080/"
    },
    "outputId": "8b794785-470b-4f87-8686-ffec4dbf5d4a",
    "pycharm": {
     "name": "#%%\n"
    }
   },
   "outputs": [
    {
     "name": "stdout",
     "output_type": "stream",
     "text": [
      "Epoch: 01\n",
      "\tTrain Loss: 0.677 | Train Acc: 74.87%\n",
      "\t Val. Loss: 0.479 |  Val. Acc: 82.42%\n",
      "Epoch: 02\n",
      "\tTrain Loss: 0.451 | Train Acc: 83.66%\n",
      "\t Val. Loss: 0.405 |  Val. Acc: 84.79%\n",
      "Epoch: 03\n",
      "\tTrain Loss: 0.395 | Train Acc: 85.59%\n",
      "\t Val. Loss: 0.358 |  Val. Acc: 86.70%\n",
      "Epoch: 04\n",
      "\tTrain Loss: 0.362 | Train Acc: 86.85%\n",
      "\t Val. Loss: 0.342 |  Val. Acc: 87.24%\n",
      "Epoch: 05\n",
      "\tTrain Loss: 0.339 | Train Acc: 87.69%\n",
      "\t Val. Loss: 0.311 |  Val. Acc: 88.44%\n",
      "Epoch: 06\n",
      "\tTrain Loss: 0.317 | Train Acc: 88.42%\n",
      "\t Val. Loss: 0.318 |  Val. Acc: 88.51%\n",
      "Epoch: 07\n",
      "\tTrain Loss: 0.300 | Train Acc: 89.16%\n",
      "\t Val. Loss: 0.309 |  Val. Acc: 88.63%\n",
      "Epoch: 08\n",
      "\tTrain Loss: 0.289 | Train Acc: 89.42%\n",
      "\t Val. Loss: 0.297 |  Val. Acc: 89.50%\n",
      "Epoch: 09\n",
      "\tTrain Loss: 0.280 | Train Acc: 89.74%\n",
      "\t Val. Loss: 0.283 |  Val. Acc: 89.69%\n",
      "Epoch: 10\n",
      "\tTrain Loss: 0.269 | Train Acc: 90.12%\n",
      "\t Val. Loss: 0.289 |  Val. Acc: 89.23%\n"
     ]
    }
   ],
   "source": [
    "# обучение сверточной сети на наборе данных Fashion-MNIST\n",
    "epochs = 10\n",
    "\n",
    "# на каждой эпохе\n",
    "for epoch in range(epochs):\n",
    "    # вычисляем точность и потерю на тренировочном наборе\n",
    "    train_loss, train_acc = train(cnn, train_loader, optimizer, loss_function, device)\n",
    "\n",
    "    # вычисляем точность и потерю на тестовом наборе\n",
    "    test_loss, test_acc   = evaluate(cnn, test_loader, loss_function, device)\n",
    "\n",
    "    # выводим информацию о состоянии обучения в консоль\n",
    "    print(f'Epoch: {epoch + 1:02}')\n",
    "    print(f'\\tTrain Loss: {train_loss:.3f} | Train Acc: {train_acc * 100:.2f}%')\n",
    "    print(f'\\t Val. Loss: {test_loss:.3f} |  Val. Acc: {test_acc * 100:.2f}%')\n",
    "\n"
   ]
  },
  {
   "cell_type": "code",
   "source": [
    "# сохраним обученную сверточную сеть в PTH-файл\n",
    "torch.save(cnn.state_dict(), \"simple_cnn.pth\")"
   ],
   "metadata": {
    "id": "zTTnOGmCkbAM",
    "pycharm": {
     "name": "#%%\n"
    }
   },
   "execution_count": 13,
   "outputs": []
  },
  {
   "cell_type": "code",
   "execution_count": 14,
   "metadata": {
    "id": "QOUF7a_Iyv2B",
    "colab": {
     "base_uri": "https://localhost:8080/",
     "height": 517
    },
    "outputId": "8efced82-685d-4242-feed-7b075112397c",
    "pycharm": {
     "name": "#%%\n"
    }
   },
   "outputs": [
    {
     "name": "stdout",
     "output_type": "stream",
     "text": [
      "tensor([[  6.2335, -11.4081,  -1.4457,  -2.3084,  -9.3185, -12.8160,   2.8693,\n",
      "         -20.7942,  -4.2322, -16.5941]], device='cuda:0',\n",
      "       grad_fn=<AddmmBackward0>)\n",
      "Предсказание:  T-shirt/top\n",
      "Метка: T-shirt/top\n"
     ]
    },
    {
     "data": {
      "text/plain": "<Figure size 640x480 with 1 Axes>",
      "image/png": "[encoded data removed]"
     },
     "metadata": {},
     "output_type": "display_data"
    }
   ],
   "source": [
    "# использование обученной сверточной нейронной сети для классификаций изображений одежды\n",
    "\n",
    "import random\n",
    "import matplotlib.pyplot as plt\n",
    "\n",
    "# список классов\n",
    "labels = train_data.classes\n",
    "\n",
    "# возьмем рандомную картинку и метку из тестового набора\n",
    "idx = random.randint(0, len(test_data) - 1)\n",
    "image, label = test_data[idx]\n",
    "\n",
    "# переместим картинку и метку на устройство\n",
    "image = image.to(device)\n",
    "label = torch.tensor(label).to(device)\n",
    "\n",
    "# добавим к картинке размерность батча\n",
    "image = image.unsqueeze(0)\n",
    "\n",
    "# формируем предсказания\n",
    "predictions = cnn(image)\n",
    "prediction = predictions.argmax()\n",
    "print(predictions)\n",
    "\n",
    "# выводим результат\n",
    "print(\"Предсказание: \", labels[prediction])\n",
    "print(\"Метка:\", labels[label])\n",
    "\n",
    "# выводим картинку\n",
    "image_array = image.squeeze().cpu().detach().numpy()\n",
    "plt.imshow(image_array)\n",
    "plt.show()"
   ]
  },
  {
   "cell_type": "markdown",
   "metadata": {
    "id": "GHwxWO4DztUe",
    "pycharm": {
     "name": "#%% md\n"
    }
   },
   "source": [
    "## История CNN. Использование предобученных сверточных нейронных сетей для классификации изображений из torchvision.models  \n",
    "\n",
    "Модели сверточных нейронных сетей существуют уже несколько десятилетий (к примеру, сеть LeNet, одна из первых сверточных архитектур, использовалась еще в 1990-х годах)  \n",
    "\n",
    "Повсеместное их использование для решения задач компьютерного зрения началось после 2010 года, когда, во-первых, высокопроизводительные GPU стали более доступными и, во-вторых, был подстегнут очередной всплеск интереса к нейронным сетям  \n",
    "\n",
    "Перечислим основные архитектуры CNN, которые оставили след в истории глубокого обучения  \n",
    "* **AlexNet** -- сверточная архитектура, в каком-то смысле стала отправной точкой для всплекса интереса к CNN. Эта архитектура вобрала в себя все то, что ныне используется повсеместно для построения CNN: слои MaxPool и Dropout, функция активации ReLU. Это была одной из первых архитектур, продемонстрировавших эффективность обучения многослойных неросетей на GPU. Также она является победителем 2012 года в конкурсе по классификации изображений ImageNet с ошибкой в 15.3%  \n",
    "\n",
    "![](https://www.mdpi.com/remotesensing/remotesensing-09-00848/article_deploy/html/images/remotesensing-09-00848-g001.png)\n",
    "\n",
    "* **Inception/GoogLeNet** -- сверточная архитектура, являющаяся победителем конкурса ImageNet в 2014 году. Она является результатом устранения ошибок архитектуры AlexNet. Основное новвоведение -- модуль Inception. Он представляет собой серию разноразмерных сверток, результаты которых соединяются воедино на выходе. Исходная архитектура GoogLeNet состоит из 9 таких модулей. Она обеспечивала производительность с ошибкой 6.67%  \n",
    "* **VGG** -- семйство сверточных архитектур, занявших второе место на конкурсе ImageNet. В отличие от GoogLeNet, она более проста, и представляет собой простой стек сверточных слоев. Тем не менее, в различных конфигурациях она дает на наборе данных ImageNet величину ошибки, сравнимую с GoogLeNet (около 8%).  Недостатком архитектуры VGG является то, что конечные полносвязные слои очень сильно \"раздувают\" сеть. Для сравнения: GoogLeNet имеет 7 миллионов параметров, когда как сети VGG могут иметь вплоть до 140 миллионов параметров.  Ее достоинством же является простота конструкции, благодаря которой она все еще остается популярной  \n",
    "\n",
    "![](https://miro.medium.com/max/2800/0*rbWRzjKvoGt9W3Mf.png)\n",
    "\n",
    "* **ResNet** -- семейство сверточных архитектур от Microsoft, которые выиграли конкурс ImageNet 2015, достигнув показателя ошибки классификации всего в 4.49% (вариант ResNet-152), что лучше возможностей человека. Семейство ResNet предлагало усовершенствованный подход к уплотнению слоев по сравнению с Inception, плюсом добавлялась связь от начала блока сверток непосредственно е концу. Это позволяет сигналу проходить более \"глубоко\" по сети, чем это возможно в VGG, при этом она остается легковесной.  \n",
    "\n",
    "![](https://www.researchgate.net/publication/322621180/figure/fig2/AS:584852684410885@1516451154473/The-representation-of-model-architecture-image-for-ResNet-152-VGG-19-and-two-layered.png)\n",
    "\n",
    "* **Xception** -- сверточная архитектура, основанная на Inception и представленная в 2016 году Француа Шолле, основным нововведением которой являются так называемые операции  depthwise separable convolutions. Они сворачивают одновременно все каналы входного тензора разными свертками, тем самым уменьшая количество параметров сети на выходе при сохранении точности  \n",
    "\n",
    "![](https://www.machinelearningmastery.ru/img/0-42382-890398.png)  \n",
    "\n",
    "* **MobileNet** -- сверточная архитектура, представленная в 2017 году, отчасти опирающаяся на идеи архитектуры Xception и нацеленная на еще большую оптимизацию работы. Основной ее особенностью является отсутствие max-pooling слоев, они заменены свертками с параметром stride, равным 2. Архитектурно MobileNet состоит из одного обычного сверточного слоя 3х3 и 13-ти блоков, структура которых показана ниже (блок справа).  За счет этого удается еще существеннее сократить колчество параметров (4M у MobileNetV1 против 22M у Xception и 138М у VGG16), при этом точность такой сети увеличивается  \n",
    "\n",
    "![](https://habrastorage.org/r/w1560/webt/rd/0r/jl/rd0rjltrp96j3i_dyhuolbzhyig.png)  \n",
    "\n",
    "\n",
    "* **EfficientNet** — класс новых моделей, представленный в 2019 году, который получился из изучения масштабирования (скейлинг, scaling) моделей и балансирования между собой глубины и ширины (количества каналов) сети, а также разрешения изображений в сети. Здесь предлагается метод так называемого составного масштабирования, который равномерно масштабирует глубину, ширину и разрешение с фиксированными пропорциями между ними\n",
    "\n",
    "![](https://production-media.paperswithcode.com/methods/Screen_Shot_2020-06-06_at_10.45.54_PM.png)\n",
    "\n",
    "* **NASNet** -- сверточная архитектура, представленная Google в конце 2019 года, отличающаяся тем, что она, по сути, является плодом системы на основе ИИ под названием Google AutoML. Идея заключалась в поиске наилучшей комбинации архитектуры в фиксированном пространстве поиска, которое включает в себя размеры фильтров, количество выходных каналов, stride и т. д. NASNet показала лучшую точность в конкурсе ImageNet (error rate 2.40%), но с вычислительной точки зрения она является очень затратной  \n",
    "\n",
    "![](https://miro.medium.com/max/925/1*9uB72g9ixLvnSJxNW2f1ng.png)\n",
    "\n",
    "\n",
    "\n",
    "\n"
   ]
  },
  {
   "cell_type": "markdown",
   "metadata": {
    "id": "W7oJraKxD7xN",
    "pycharm": {
     "name": "#%% md\n"
    }
   },
   "source": [
    "Многие из вышеперечисленных моделей представлены в PyTorch \"из коробки\" в модуле `torchvision.models`  "
   ]
  },
  {
   "cell_type": "code",
   "execution_count": 3,
   "metadata": {
    "id": "wXE5rKFyzmc6",
    "colab": {
     "base_uri": "https://localhost:8080/"
    },
    "outputId": "1a34f0d3-426f-4d8b-a76e-366644605da4",
    "pycharm": {
     "name": "#%%\n"
    }
   },
   "outputs": [
    {
     "name": "stdout",
     "output_type": "stream",
     "text": [
      "AlexNet(\n",
      "  (features): Sequential(\n",
      "    (0): Conv2d(3, 64, kernel_size=(11, 11), stride=(4, 4), padding=(2, 2))\n",
      "    (1): ReLU(inplace=True)\n",
      "    (2): MaxPool2d(kernel_size=3, stride=2, padding=0, dilation=1, ceil_mode=False)\n",
      "    (3): Conv2d(64, 192, kernel_size=(5, 5), stride=(1, 1), padding=(2, 2))\n",
      "    (4): ReLU(inplace=True)\n",
      "    (5): MaxPool2d(kernel_size=3, stride=2, padding=0, dilation=1, ceil_mode=False)\n",
      "    (6): Conv2d(192, 384, kernel_size=(3, 3), stride=(1, 1), padding=(1, 1))\n",
      "    (7): ReLU(inplace=True)\n",
      "    (8): Conv2d(384, 256, kernel_size=(3, 3), stride=(1, 1), padding=(1, 1))\n",
      "    (9): ReLU(inplace=True)\n",
      "    (10): Conv2d(256, 256, kernel_size=(3, 3), stride=(1, 1), padding=(1, 1))\n",
      "    (11): ReLU(inplace=True)\n",
      "    (12): MaxPool2d(kernel_size=3, stride=2, padding=0, dilation=1, ceil_mode=False)\n",
      "  )\n",
      "  (avgpool): AdaptiveAvgPool2d(output_size=(6, 6))\n",
      "  (classifier): Sequential(\n",
      "    (0): Dropout(p=0.5, inplace=False)\n",
      "    (1): Linear(in_features=9216, out_features=4096, bias=True)\n",
      "    (2): ReLU(inplace=True)\n",
      "    (3): Dropout(p=0.5, inplace=False)\n",
      "    (4): Linear(in_features=4096, out_features=4096, bias=True)\n",
      "    (5): ReLU(inplace=True)\n",
      "    (6): Linear(in_features=4096, out_features=10, bias=True)\n",
      "  )\n",
      ")\n"
     ]
    }
   ],
   "source": [
    "import torchvision.models as models\n",
    "\n",
    "# получим для начала модель AlexNet\n",
    "alexnet = models.AlexNet(num_classes=10)\n",
    "print(alexnet)"
   ]
  },
  {
   "cell_type": "code",
   "execution_count": 13,
   "metadata": {
    "id": "CMhEboL4XN2u",
    "colab": {
     "base_uri": "https://localhost:8080/"
    },
    "outputId": "c30b1be5-fe30-4c4f-a78a-5038629cbb8b",
    "pycharm": {
     "name": "#%%\n"
    }
   },
   "outputs": [
    {
     "output_type": "stream",
     "name": "stdout",
     "text": [
      "VGG(\n",
      "  (features): Sequential(\n",
      "    (0): Conv2d(3, 64, kernel_size=(3, 3), stride=(1, 1), padding=(1, 1))\n",
      "    (1): ReLU(inplace=True)\n",
      "    (2): Conv2d(64, 64, kernel_size=(3, 3), stride=(1, 1), padding=(1, 1))\n",
      "    (3): ReLU(inplace=True)\n",
      "    (4): MaxPool2d(kernel_size=2, stride=2, padding=0, dilation=1, ceil_mode=False)\n",
      "    (5): Conv2d(64, 128, kernel_size=(3, 3), stride=(1, 1), padding=(1, 1))\n",
      "    (6): ReLU(inplace=True)\n",
      "    (7): Conv2d(128, 128, kernel_size=(3, 3), stride=(1, 1), padding=(1, 1))\n",
      "    (8): ReLU(inplace=True)\n",
      "    (9): MaxPool2d(kernel_size=2, stride=2, padding=0, dilation=1, ceil_mode=False)\n",
      "    (10): Conv2d(128, 256, kernel_size=(3, 3), stride=(1, 1), padding=(1, 1))\n",
      "    (11): ReLU(inplace=True)\n",
      "    (12): Conv2d(256, 256, kernel_size=(3, 3), stride=(1, 1), padding=(1, 1))\n",
      "    (13): ReLU(inplace=True)\n",
      "    (14): Conv2d(256, 256, kernel_size=(3, 3), stride=(1, 1), padding=(1, 1))\n",
      "    (15): ReLU(inplace=True)\n",
      "    (16): MaxPool2d(kernel_size=2, stride=2, padding=0, dilation=1, ceil_mode=False)\n",
      "    (17): Conv2d(256, 512, kernel_size=(3, 3), stride=(1, 1), padding=(1, 1))\n",
      "    (18): ReLU(inplace=True)\n",
      "    (19): Conv2d(512, 512, kernel_size=(3, 3), stride=(1, 1), padding=(1, 1))\n",
      "    (20): ReLU(inplace=True)\n",
      "    (21): Conv2d(512, 512, kernel_size=(3, 3), stride=(1, 1), padding=(1, 1))\n",
      "    (22): ReLU(inplace=True)\n",
      "    (23): MaxPool2d(kernel_size=2, stride=2, padding=0, dilation=1, ceil_mode=False)\n",
      "    (24): Conv2d(512, 512, kernel_size=(3, 3), stride=(1, 1), padding=(1, 1))\n",
      "    (25): ReLU(inplace=True)\n",
      "    (26): Conv2d(512, 512, kernel_size=(3, 3), stride=(1, 1), padding=(1, 1))\n",
      "    (27): ReLU(inplace=True)\n",
      "    (28): Conv2d(512, 512, kernel_size=(3, 3), stride=(1, 1), padding=(1, 1))\n",
      "    (29): ReLU(inplace=True)\n",
      "    (30): MaxPool2d(kernel_size=2, stride=2, padding=0, dilation=1, ceil_mode=False)\n",
      "  )\n",
      "  (avgpool): AdaptiveAvgPool2d(output_size=(7, 7))\n",
      "  (classifier): Sequential(\n",
      "    (0): Linear(in_features=25088, out_features=4096, bias=True)\n",
      "    (1): ReLU(inplace=True)\n",
      "    (2): Dropout(p=0.5, inplace=False)\n",
      "    (3): Linear(in_features=4096, out_features=4096, bias=True)\n",
      "    (4): ReLU(inplace=True)\n",
      "    (5): Dropout(p=0.5, inplace=False)\n",
      "    (6): Linear(in_features=4096, out_features=1000, bias=True)\n",
      "  )\n",
      ")\n"
     ]
    }
   ],
   "source": [
    "# ...а затем взглянем на VGG16\n",
    "vgg16 = models.vgg16()\n",
    "print(vgg16)"
   ]
  },
  {
   "cell_type": "code",
   "execution_count": 14,
   "metadata": {
    "id": "WRn2QFncG0T7",
    "colab": {
     "base_uri": "https://localhost:8080/"
    },
    "outputId": "fff3b8cd-34cf-44df-fba2-ba862c3b2ec8",
    "pycharm": {
     "name": "#%%\n"
    }
   },
   "outputs": [
    {
     "output_type": "stream",
     "name": "stdout",
     "text": [
      "ResNet(\n",
      "  (conv1): Conv2d(3, 64, kernel_size=(7, 7), stride=(2, 2), padding=(3, 3), bias=False)\n",
      "  (bn1): BatchNorm2d(64, eps=1e-05, momentum=0.1, affine=True, track_running_stats=True)\n",
      "  (relu): ReLU(inplace=True)\n",
      "  (maxpool): MaxPool2d(kernel_size=3, stride=2, padding=1, dilation=1, ceil_mode=False)\n",
      "  (layer1): Sequential(\n",
      "    (0): Bottleneck(\n",
      "      (conv1): Conv2d(64, 64, kernel_size=(1, 1), stride=(1, 1), bias=False)\n",
      "      (bn1): BatchNorm2d(64, eps=1e-05, momentum=0.1, affine=True, track_running_stats=True)\n",
      "      (conv2): Conv2d(64, 64, kernel_size=(3, 3), stride=(1, 1), padding=(1, 1), bias=False)\n",
      "      (bn2): BatchNorm2d(64, eps=1e-05, momentum=0.1, affine=True, track_running_stats=True)\n",
      "      (conv3): Conv2d(64, 256, kernel_size=(1, 1), stride=(1, 1), bias=False)\n",
      "      (bn3): BatchNorm2d(256, eps=1e-05, momentum=0.1, affine=True, track_running_stats=True)\n",
      "      (relu): ReLU(inplace=True)\n",
      "      (downsample): Sequential(\n",
      "        (0): Conv2d(64, 256, kernel_size=(1, 1), stride=(1, 1), bias=False)\n",
      "        (1): BatchNorm2d(256, eps=1e-05, momentum=0.1, affine=True, track_running_stats=True)\n",
      "      )\n",
      "    )\n",
      "    (1): Bottleneck(\n",
      "      (conv1): Conv2d(256, 64, kernel_size=(1, 1), stride=(1, 1), bias=False)\n",
      "      (bn1): BatchNorm2d(64, eps=1e-05, momentum=0.1, affine=True, track_running_stats=True)\n",
      "      (conv2): Conv2d(64, 64, kernel_size=(3, 3), stride=(1, 1), padding=(1, 1), bias=False)\n",
      "      (bn2): BatchNorm2d(64, eps=1e-05, momentum=0.1, affine=True, track_running_stats=True)\n",
      "      (conv3): Conv2d(64, 256, kernel_size=(1, 1), stride=(1, 1), bias=False)\n",
      "      (bn3): BatchNorm2d(256, eps=1e-05, momentum=0.1, affine=True, track_running_stats=True)\n",
      "      (relu): ReLU(inplace=True)\n",
      "    )\n",
      "    (2): Bottleneck(\n",
      "      (conv1): Conv2d(256, 64, kernel_size=(1, 1), stride=(1, 1), bias=False)\n",
      "      (bn1): BatchNorm2d(64, eps=1e-05, momentum=0.1, affine=True, track_running_stats=True)\n",
      "      (conv2): Conv2d(64, 64, kernel_size=(3, 3), stride=(1, 1), padding=(1, 1), bias=False)\n",
      "      (bn2): BatchNorm2d(64, eps=1e-05, momentum=0.1, affine=True, track_running_stats=True)\n",
      "      (conv3): Conv2d(64, 256, kernel_size=(1, 1), stride=(1, 1), bias=False)\n",
      "      (bn3): BatchNorm2d(256, eps=1e-05, momentum=0.1, affine=True, track_running_stats=True)\n",
      "      (relu): ReLU(inplace=True)\n",
      "    )\n",
      "  )\n",
      "  (layer2): Sequential(\n",
      "    (0): Bottleneck(\n",
      "      (conv1): Conv2d(256, 128, kernel_size=(1, 1), stride=(1, 1), bias=False)\n",
      "      (bn1): BatchNorm2d(128, eps=1e-05, momentum=0.1, affine=True, track_running_stats=True)\n",
      "      (conv2): Conv2d(128, 128, kernel_size=(3, 3), stride=(2, 2), padding=(1, 1), bias=False)\n",
      "      (bn2): BatchNorm2d(128, eps=1e-05, momentum=0.1, affine=True, track_running_stats=True)\n",
      "      (conv3): Conv2d(128, 512, kernel_size=(1, 1), stride=(1, 1), bias=False)\n",
      "      (bn3): BatchNorm2d(512, eps=1e-05, momentum=0.1, affine=True, track_running_stats=True)\n",
      "      (relu): ReLU(inplace=True)\n",
      "      (downsample): Sequential(\n",
      "        (0): Conv2d(256, 512, kernel_size=(1, 1), stride=(2, 2), bias=False)\n",
      "        (1): BatchNorm2d(512, eps=1e-05, momentum=0.1, affine=True, track_running_stats=True)\n",
      "      )\n",
      "    )\n",
      "    (1): Bottleneck(\n",
      "      (conv1): Conv2d(512, 128, kernel_size=(1, 1), stride=(1, 1), bias=False)\n",
      "      (bn1): BatchNorm2d(128, eps=1e-05, momentum=0.1, affine=True, track_running_stats=True)\n",
      "      (conv2): Conv2d(128, 128, kernel_size=(3, 3), stride=(1, 1), padding=(1, 1), bias=False)\n",
      "      (bn2): BatchNorm2d(128, eps=1e-05, momentum=0.1, affine=True, track_running_stats=True)\n",
      "      (conv3): Conv2d(128, 512, kernel_size=(1, 1), stride=(1, 1), bias=False)\n",
      "      (bn3): BatchNorm2d(512, eps=1e-05, momentum=0.1, affine=True, track_running_stats=True)\n",
      "      (relu): ReLU(inplace=True)\n",
      "    )\n",
      "    (2): Bottleneck(\n",
      "      (conv1): Conv2d(512, 128, kernel_size=(1, 1), stride=(1, 1), bias=False)\n",
      "      (bn1): BatchNorm2d(128, eps=1e-05, momentum=0.1, affine=True, track_running_stats=True)\n",
      "      (conv2): Conv2d(128, 128, kernel_size=(3, 3), stride=(1, 1), padding=(1, 1), bias=False)\n",
      "      (bn2): BatchNorm2d(128, eps=1e-05, momentum=0.1, affine=True, track_running_stats=True)\n",
      "      (conv3): Conv2d(128, 512, kernel_size=(1, 1), stride=(1, 1), bias=False)\n",
      "      (bn3): BatchNorm2d(512, eps=1e-05, momentum=0.1, affine=True, track_running_stats=True)\n",
      "      (relu): ReLU(inplace=True)\n",
      "    )\n",
      "    (3): Bottleneck(\n",
      "      (conv1): Conv2d(512, 128, kernel_size=(1, 1), stride=(1, 1), bias=False)\n",
      "      (bn1): BatchNorm2d(128, eps=1e-05, momentum=0.1, affine=True, track_running_stats=True)\n",
      "      (conv2): Conv2d(128, 128, kernel_size=(3, 3), stride=(1, 1), padding=(1, 1), bias=False)\n",
      "      (bn2): BatchNorm2d(128, eps=1e-05, momentum=0.1, affine=True, track_running_stats=True)\n",
      "      (conv3): Conv2d(128, 512, kernel_size=(1, 1), stride=(1, 1), bias=False)\n",
      "      (bn3): BatchNorm2d(512, eps=1e-05, momentum=0.1, affine=True, track_running_stats=True)\n",
      "      (relu): ReLU(inplace=True)\n",
      "    )\n",
      "    (4): Bottleneck(\n",
      "      (conv1): Conv2d(512, 128, kernel_size=(1, 1), stride=(1, 1), bias=False)\n",
      "      (bn1): BatchNorm2d(128, eps=1e-05, momentum=0.1, affine=True, track_running_stats=True)\n",
      "      (conv2): Conv2d(128, 128, kernel_size=(3, 3), stride=(1, 1), padding=(1, 1), bias=False)\n",
      "      (bn2): BatchNorm2d(128, eps=1e-05, momentum=0.1, affine=True, track_running_stats=True)\n",
      "      (conv3): Conv2d(128, 512, kernel_size=(1, 1), stride=(1, 1), bias=False)\n",
      "      (bn3): BatchNorm2d(512, eps=1e-05, momentum=0.1, affine=True, track_running_stats=True)\n",
      "      (relu): ReLU(inplace=True)\n",
      "    )\n",
      "    (5): Bottleneck(\n",
      "      (conv1): Conv2d(512, 128, kernel_size=(1, 1), stride=(1, 1), bias=False)\n",
      "      (bn1): BatchNorm2d(128, eps=1e-05, momentum=0.1, affine=True, track_running_stats=True)\n",
      "      (conv2): Conv2d(128, 128, kernel_size=(3, 3), stride=(1, 1), padding=(1, 1), bias=False)\n",
      "      (bn2): BatchNorm2d(128, eps=1e-05, momentum=0.1, affine=True, track_running_stats=True)\n",
      "      (conv3): Conv2d(128, 512, kernel_size=(1, 1), stride=(1, 1), bias=False)\n",
      "      (bn3): BatchNorm2d(512, eps=1e-05, momentum=0.1, affine=True, track_running_stats=True)\n",
      "      (relu): ReLU(inplace=True)\n",
      "    )\n",
      "    (6): Bottleneck(\n",
      "      (conv1): Conv2d(512, 128, kernel_size=(1, 1), stride=(1, 1), bias=False)\n",
      "      (bn1): BatchNorm2d(128, eps=1e-05, momentum=0.1, affine=True, track_running_stats=True)\n",
      "      (conv2): Conv2d(128, 128, kernel_size=(3, 3), stride=(1, 1), padding=(1, 1), bias=False)\n",
      "      (bn2): BatchNorm2d(128, eps=1e-05, momentum=0.1, affine=True, track_running_stats=True)\n",
      "      (conv3): Conv2d(128, 512, kernel_size=(1, 1), stride=(1, 1), bias=False)\n",
      "      (bn3): BatchNorm2d(512, eps=1e-05, momentum=0.1, affine=True, track_running_stats=True)\n",
      "      (relu): ReLU(inplace=True)\n",
      "    )\n",
      "    (7): Bottleneck(\n",
      "      (conv1): Conv2d(512, 128, kernel_size=(1, 1), stride=(1, 1), bias=False)\n",
      "      (bn1): BatchNorm2d(128, eps=1e-05, momentum=0.1, affine=True, track_running_stats=True)\n",
      "      (conv2): Conv2d(128, 128, kernel_size=(3, 3), stride=(1, 1), padding=(1, 1), bias=False)\n",
      "      (bn2): BatchNorm2d(128, eps=1e-05, momentum=0.1, affine=True, track_running_stats=True)\n",
      "      (conv3): Conv2d(128, 512, kernel_size=(1, 1), stride=(1, 1), bias=False)\n",
      "      (bn3): BatchNorm2d(512, eps=1e-05, momentum=0.1, affine=True, track_running_stats=True)\n",
      "      (relu): ReLU(inplace=True)\n",
      "    )\n",
      "  )\n",
      "  (layer3): Sequential(\n",
      "    (0): Bottleneck(\n",
      "      (conv1): Conv2d(512, 256, kernel_size=(1, 1), stride=(1, 1), bias=False)\n",
      "      (bn1): BatchNorm2d(256, eps=1e-05, momentum=0.1, affine=True, track_running_stats=True)\n",
      "      (conv2): Conv2d(256, 256, kernel_size=(3, 3), stride=(2, 2), padding=(1, 1), bias=False)\n",
      "      (bn2): BatchNorm2d(256, eps=1e-05, momentum=0.1, affine=True, track_running_stats=True)\n",
      "      (conv3): Conv2d(256, 1024, kernel_size=(1, 1), stride=(1, 1), bias=False)\n",
      "      (bn3): BatchNorm2d(1024, eps=1e-05, momentum=0.1, affine=True, track_running_stats=True)\n",
      "      (relu): ReLU(inplace=True)\n",
      "      (downsample): Sequential(\n",
      "        (0): Conv2d(512, 1024, kernel_size=(1, 1), stride=(2, 2), bias=False)\n",
      "        (1): BatchNorm2d(1024, eps=1e-05, momentum=0.1, affine=True, track_running_stats=True)\n",
      "      )\n",
      "    )\n",
      "    (1): Bottleneck(\n",
      "      (conv1): Conv2d(1024, 256, kernel_size=(1, 1), stride=(1, 1), bias=False)\n",
      "      (bn1): BatchNorm2d(256, eps=1e-05, momentum=0.1, affine=True, track_running_stats=True)\n",
      "      (conv2): Conv2d(256, 256, kernel_size=(3, 3), stride=(1, 1), padding=(1, 1), bias=False)\n",
      "      (bn2): BatchNorm2d(256, eps=1e-05, momentum=0.1, affine=True, track_running_stats=True)\n",
      "      (conv3): Conv2d(256, 1024, kernel_size=(1, 1), stride=(1, 1), bias=False)\n",
      "      (bn3): BatchNorm2d(1024, eps=1e-05, momentum=0.1, affine=True, track_running_stats=True)\n",
      "      (relu): ReLU(inplace=True)\n",
      "    )\n",
      "    (2): Bottleneck(\n",
      "      (conv1): Conv2d(1024, 256, kernel_size=(1, 1), stride=(1, 1), bias=False)\n",
      "      (bn1): BatchNorm2d(256, eps=1e-05, momentum=0.1, affine=True, track_running_stats=True)\n",
      "      (conv2): Conv2d(256, 256, kernel_size=(3, 3), stride=(1, 1), padding=(1, 1), bias=False)\n",
      "      (bn2): BatchNorm2d(256, eps=1e-05, momentum=0.1, affine=True, track_running_stats=True)\n",
      "      (conv3): Conv2d(256, 1024, kernel_size=(1, 1), stride=(1, 1), bias=False)\n",
      "      (bn3): BatchNorm2d(1024, eps=1e-05, momentum=0.1, affine=True, track_running_stats=True)\n",
      "      (relu): ReLU(inplace=True)\n",
      "    )\n",
      "    (3): Bottleneck(\n",
      "      (conv1): Conv2d(1024, 256, kernel_size=(1, 1), stride=(1, 1), bias=False)\n",
      "      (bn1): BatchNorm2d(256, eps=1e-05, momentum=0.1, affine=True, track_running_stats=True)\n",
      "      (conv2): Conv2d(256, 256, kernel_size=(3, 3), stride=(1, 1), padding=(1, 1), bias=False)\n",
      "      (bn2): BatchNorm2d(256, eps=1e-05, momentum=0.1, affine=True, track_running_stats=True)\n",
      "      (conv3): Conv2d(256, 1024, kernel_size=(1, 1), stride=(1, 1), bias=False)\n",
      "      (bn3): BatchNorm2d(1024, eps=1e-05, momentum=0.1, affine=True, track_running_stats=True)\n",
      "      (relu): ReLU(inplace=True)\n",
      "    )\n",
      "    (4): Bottleneck(\n",
      "      (conv1): Conv2d(1024, 256, kernel_size=(1, 1), stride=(1, 1), bias=False)\n",
      "      (bn1): BatchNorm2d(256, eps=1e-05, momentum=0.1, affine=True, track_running_stats=True)\n",
      "      (conv2): Conv2d(256, 256, kernel_size=(3, 3), stride=(1, 1), padding=(1, 1), bias=False)\n",
      "      (bn2): BatchNorm2d(256, eps=1e-05, momentum=0.1, affine=True, track_running_stats=True)\n",
      "      (conv3): Conv2d(256, 1024, kernel_size=(1, 1), stride=(1, 1), bias=False)\n",
      "      (bn3): BatchNorm2d(1024, eps=1e-05, momentum=0.1, affine=True, track_running_stats=True)\n",
      "      (relu): ReLU(inplace=True)\n",
      "    )\n",
      "    (5): Bottleneck(\n",
      "      (conv1): Conv2d(1024, 256, kernel_size=(1, 1), stride=(1, 1), bias=False)\n",
      "      (bn1): BatchNorm2d(256, eps=1e-05, momentum=0.1, affine=True, track_running_stats=True)\n",
      "      (conv2): Conv2d(256, 256, kernel_size=(3, 3), stride=(1, 1), padding=(1, 1), bias=False)\n",
      "      (bn2): BatchNorm2d(256, eps=1e-05, momentum=0.1, affine=True, track_running_stats=True)\n",
      "      (conv3): Conv2d(256, 1024, kernel_size=(1, 1), stride=(1, 1), bias=False)\n",
      "      (bn3): BatchNorm2d(1024, eps=1e-05, momentum=0.1, affine=True, track_running_stats=True)\n",
      "      (relu): ReLU(inplace=True)\n",
      "    )\n",
      "    (6): Bottleneck(\n",
      "      (conv1): Conv2d(1024, 256, kernel_size=(1, 1), stride=(1, 1), bias=False)\n",
      "      (bn1): BatchNorm2d(256, eps=1e-05, momentum=0.1, affine=True, track_running_stats=True)\n",
      "      (conv2): Conv2d(256, 256, kernel_size=(3, 3), stride=(1, 1), padding=(1, 1), bias=False)\n",
      "      (bn2): BatchNorm2d(256, eps=1e-05, momentum=0.1, affine=True, track_running_stats=True)\n",
      "      (conv3): Conv2d(256, 1024, kernel_size=(1, 1), stride=(1, 1), bias=False)\n",
      "      (bn3): BatchNorm2d(1024, eps=1e-05, momentum=0.1, affine=True, track_running_stats=True)\n",
      "      (relu): ReLU(inplace=True)\n",
      "    )\n",
      "    (7): Bottleneck(\n",
      "      (conv1): Conv2d(1024, 256, kernel_size=(1, 1), stride=(1, 1), bias=False)\n",
      "      (bn1): BatchNorm2d(256, eps=1e-05, momentum=0.1, affine=True, track_running_stats=True)\n",
      "      (conv2): Conv2d(256, 256, kernel_size=(3, 3), stride=(1, 1), padding=(1, 1), bias=False)\n",
      "      (bn2): BatchNorm2d(256, eps=1e-05, momentum=0.1, affine=True, track_running_stats=True)\n",
      "      (conv3): Conv2d(256, 1024, kernel_size=(1, 1), stride=(1, 1), bias=False)\n",
      "      (bn3): BatchNorm2d(1024, eps=1e-05, momentum=0.1, affine=True, track_running_stats=True)\n",
      "      (relu): ReLU(inplace=True)\n",
      "    )\n",
      "    (8): Bottleneck(\n",
      "      (conv1): Conv2d(1024, 256, kernel_size=(1, 1), stride=(1, 1), bias=False)\n",
      "      (bn1): BatchNorm2d(256, eps=1e-05, momentum=0.1, affine=True, track_running_stats=True)\n",
      "      (conv2): Conv2d(256, 256, kernel_size=(3, 3), stride=(1, 1), padding=(1, 1), bias=False)\n",
      "      (bn2): BatchNorm2d(256, eps=1e-05, momentum=0.1, affine=True, track_running_stats=True)\n",
      "      (conv3): Conv2d(256, 1024, kernel_size=(1, 1), stride=(1, 1), bias=False)\n",
      "      (bn3): BatchNorm2d(1024, eps=1e-05, momentum=0.1, affine=True, track_running_stats=True)\n",
      "      (relu): ReLU(inplace=True)\n",
      "    )\n",
      "    (9): Bottleneck(\n",
      "      (conv1): Conv2d(1024, 256, kernel_size=(1, 1), stride=(1, 1), bias=False)\n",
      "      (bn1): BatchNorm2d(256, eps=1e-05, momentum=0.1, affine=True, track_running_stats=True)\n",
      "      (conv2): Conv2d(256, 256, kernel_size=(3, 3), stride=(1, 1), padding=(1, 1), bias=False)\n",
      "      (bn2): BatchNorm2d(256, eps=1e-05, momentum=0.1, affine=True, track_running_stats=True)\n",
      "      (conv3): Conv2d(256, 1024, kernel_size=(1, 1), stride=(1, 1), bias=False)\n",
      "      (bn3): BatchNorm2d(1024, eps=1e-05, momentum=0.1, affine=True, track_running_stats=True)\n",
      "      (relu): ReLU(inplace=True)\n",
      "    )\n",
      "    (10): Bottleneck(\n",
      "      (conv1): Conv2d(1024, 256, kernel_size=(1, 1), stride=(1, 1), bias=False)\n",
      "      (bn1): BatchNorm2d(256, eps=1e-05, momentum=0.1, affine=True, track_running_stats=True)\n",
      "      (conv2): Conv2d(256, 256, kernel_size=(3, 3), stride=(1, 1), padding=(1, 1), bias=False)\n",
      "      (bn2): BatchNorm2d(256, eps=1e-05, momentum=0.1, affine=True, track_running_stats=True)\n",
      "      (conv3): Conv2d(256, 1024, kernel_size=(1, 1), stride=(1, 1), bias=False)\n",
      "      (bn3): BatchNorm2d(1024, eps=1e-05, momentum=0.1, affine=True, track_running_stats=True)\n",
      "      (relu): ReLU(inplace=True)\n",
      "    )\n",
      "    (11): Bottleneck(\n",
      "      (conv1): Conv2d(1024, 256, kernel_size=(1, 1), stride=(1, 1), bias=False)\n",
      "      (bn1): BatchNorm2d(256, eps=1e-05, momentum=0.1, affine=True, track_running_stats=True)\n",
      "      (conv2): Conv2d(256, 256, kernel_size=(3, 3), stride=(1, 1), padding=(1, 1), bias=False)\n",
      "      (bn2): BatchNorm2d(256, eps=1e-05, momentum=0.1, affine=True, track_running_stats=True)\n",
      "      (conv3): Conv2d(256, 1024, kernel_size=(1, 1), stride=(1, 1), bias=False)\n",
      "      (bn3): BatchNorm2d(1024, eps=1e-05, momentum=0.1, affine=True, track_running_stats=True)\n",
      "      (relu): ReLU(inplace=True)\n",
      "    )\n",
      "    (12): Bottleneck(\n",
      "      (conv1): Conv2d(1024, 256, kernel_size=(1, 1), stride=(1, 1), bias=False)\n",
      "      (bn1): BatchNorm2d(256, eps=1e-05, momentum=0.1, affine=True, track_running_stats=True)\n",
      "      (conv2): Conv2d(256, 256, kernel_size=(3, 3), stride=(1, 1), padding=(1, 1), bias=False)\n",
      "      (bn2): BatchNorm2d(256, eps=1e-05, momentum=0.1, affine=True, track_running_stats=True)\n",
      "      (conv3): Conv2d(256, 1024, kernel_size=(1, 1), stride=(1, 1), bias=False)\n",
      "      (bn3): BatchNorm2d(1024, eps=1e-05, momentum=0.1, affine=True, track_running_stats=True)\n",
      "      (relu): ReLU(inplace=True)\n",
      "    )\n",
      "    (13): Bottleneck(\n",
      "      (conv1): Conv2d(1024, 256, kernel_size=(1, 1), stride=(1, 1), bias=False)\n",
      "      (bn1): BatchNorm2d(256, eps=1e-05, momentum=0.1, affine=True, track_running_stats=True)\n",
      "      (conv2): Conv2d(256, 256, kernel_size=(3, 3), stride=(1, 1), padding=(1, 1), bias=False)\n",
      "      (bn2): BatchNorm2d(256, eps=1e-05, momentum=0.1, affine=True, track_running_stats=True)\n",
      "      (conv3): Conv2d(256, 1024, kernel_size=(1, 1), stride=(1, 1), bias=False)\n",
      "      (bn3): BatchNorm2d(1024, eps=1e-05, momentum=0.1, affine=True, track_running_stats=True)\n",
      "      (relu): ReLU(inplace=True)\n",
      "    )\n",
      "    (14): Bottleneck(\n",
      "      (conv1): Conv2d(1024, 256, kernel_size=(1, 1), stride=(1, 1), bias=False)\n",
      "      (bn1): BatchNorm2d(256, eps=1e-05, momentum=0.1, affine=True, track_running_stats=True)\n",
      "      (conv2): Conv2d(256, 256, kernel_size=(3, 3), stride=(1, 1), padding=(1, 1), bias=False)\n",
      "      (bn2): BatchNorm2d(256, eps=1e-05, momentum=0.1, affine=True, track_running_stats=True)\n",
      "      (conv3): Conv2d(256, 1024, kernel_size=(1, 1), stride=(1, 1), bias=False)\n",
      "      (bn3): BatchNorm2d(1024, eps=1e-05, momentum=0.1, affine=True, track_running_stats=True)\n",
      "      (relu): ReLU(inplace=True)\n",
      "    )\n",
      "    (15): Bottleneck(\n",
      "      (conv1): Conv2d(1024, 256, kernel_size=(1, 1), stride=(1, 1), bias=False)\n",
      "      (bn1): BatchNorm2d(256, eps=1e-05, momentum=0.1, affine=True, track_running_stats=True)\n",
      "      (conv2): Conv2d(256, 256, kernel_size=(3, 3), stride=(1, 1), padding=(1, 1), bias=False)\n",
      "      (bn2): BatchNorm2d(256, eps=1e-05, momentum=0.1, affine=True, track_running_stats=True)\n",
      "      (conv3): Conv2d(256, 1024, kernel_size=(1, 1), stride=(1, 1), bias=False)\n",
      "      (bn3): BatchNorm2d(1024, eps=1e-05, momentum=0.1, affine=True, track_running_stats=True)\n",
      "      (relu): ReLU(inplace=True)\n",
      "    )\n",
      "    (16): Bottleneck(\n",
      "      (conv1): Conv2d(1024, 256, kernel_size=(1, 1), stride=(1, 1), bias=False)\n",
      "      (bn1): BatchNorm2d(256, eps=1e-05, momentum=0.1, affine=True, track_running_stats=True)\n",
      "      (conv2): Conv2d(256, 256, kernel_size=(3, 3), stride=(1, 1), padding=(1, 1), bias=False)\n",
      "      (bn2): BatchNorm2d(256, eps=1e-05, momentum=0.1, affine=True, track_running_stats=True)\n",
      "      (conv3): Conv2d(256, 1024, kernel_size=(1, 1), stride=(1, 1), bias=False)\n",
      "      (bn3): BatchNorm2d(1024, eps=1e-05, momentum=0.1, affine=True, track_running_stats=True)\n",
      "      (relu): ReLU(inplace=True)\n",
      "    )\n",
      "    (17): Bottleneck(\n",
      "      (conv1): Conv2d(1024, 256, kernel_size=(1, 1), stride=(1, 1), bias=False)\n",
      "      (bn1): BatchNorm2d(256, eps=1e-05, momentum=0.1, affine=True, track_running_stats=True)\n",
      "      (conv2): Conv2d(256, 256, kernel_size=(3, 3), stride=(1, 1), padding=(1, 1), bias=False)\n",
      "      (bn2): BatchNorm2d(256, eps=1e-05, momentum=0.1, affine=True, track_running_stats=True)\n",
      "      (conv3): Conv2d(256, 1024, kernel_size=(1, 1), stride=(1, 1), bias=False)\n",
      "      (bn3): BatchNorm2d(1024, eps=1e-05, momentum=0.1, affine=True, track_running_stats=True)\n",
      "      (relu): ReLU(inplace=True)\n",
      "    )\n",
      "    (18): Bottleneck(\n",
      "      (conv1): Conv2d(1024, 256, kernel_size=(1, 1), stride=(1, 1), bias=False)\n",
      "      (bn1): BatchNorm2d(256, eps=1e-05, momentum=0.1, affine=True, track_running_stats=True)\n",
      "      (conv2): Conv2d(256, 256, kernel_size=(3, 3), stride=(1, 1), padding=(1, 1), bias=False)\n",
      "      (bn2): BatchNorm2d(256, eps=1e-05, momentum=0.1, affine=True, track_running_stats=True)\n",
      "      (conv3): Conv2d(256, 1024, kernel_size=(1, 1), stride=(1, 1), bias=False)\n",
      "      (bn3): BatchNorm2d(1024, eps=1e-05, momentum=0.1, affine=True, track_running_stats=True)\n",
      "      (relu): ReLU(inplace=True)\n",
      "    )\n",
      "    (19): Bottleneck(\n",
      "      (conv1): Conv2d(1024, 256, kernel_size=(1, 1), stride=(1, 1), bias=False)\n",
      "      (bn1): BatchNorm2d(256, eps=1e-05, momentum=0.1, affine=True, track_running_stats=True)\n",
      "      (conv2): Conv2d(256, 256, kernel_size=(3, 3), stride=(1, 1), padding=(1, 1), bias=False)\n",
      "      (bn2): BatchNorm2d(256, eps=1e-05, momentum=0.1, affine=True, track_running_stats=True)\n",
      "      (conv3): Conv2d(256, 1024, kernel_size=(1, 1), stride=(1, 1), bias=False)\n",
      "      (bn3): BatchNorm2d(1024, eps=1e-05, momentum=0.1, affine=True, track_running_stats=True)\n",
      "      (relu): ReLU(inplace=True)\n",
      "    )\n",
      "    (20): Bottleneck(\n",
      "      (conv1): Conv2d(1024, 256, kernel_size=(1, 1), stride=(1, 1), bias=False)\n",
      "      (bn1): BatchNorm2d(256, eps=1e-05, momentum=0.1, affine=True, track_running_stats=True)\n",
      "      (conv2): Conv2d(256, 256, kernel_size=(3, 3), stride=(1, 1), padding=(1, 1), bias=False)\n",
      "      (bn2): BatchNorm2d(256, eps=1e-05, momentum=0.1, affine=True, track_running_stats=True)\n",
      "      (conv3): Conv2d(256, 1024, kernel_size=(1, 1), stride=(1, 1), bias=False)\n",
      "      (bn3): BatchNorm2d(1024, eps=1e-05, momentum=0.1, affine=True, track_running_stats=True)\n",
      "      (relu): ReLU(inplace=True)\n",
      "    )\n",
      "    (21): Bottleneck(\n",
      "      (conv1): Conv2d(1024, 256, kernel_size=(1, 1), stride=(1, 1), bias=False)\n",
      "      (bn1): BatchNorm2d(256, eps=1e-05, momentum=0.1, affine=True, track_running_stats=True)\n",
      "      (conv2): Conv2d(256, 256, kernel_size=(3, 3), stride=(1, 1), padding=(1, 1), bias=False)\n",
      "      (bn2): BatchNorm2d(256, eps=1e-05, momentum=0.1, affine=True, track_running_stats=True)\n",
      "      (conv3): Conv2d(256, 1024, kernel_size=(1, 1), stride=(1, 1), bias=False)\n",
      "      (bn3): BatchNorm2d(1024, eps=1e-05, momentum=0.1, affine=True, track_running_stats=True)\n",
      "      (relu): ReLU(inplace=True)\n",
      "    )\n",
      "    (22): Bottleneck(\n",
      "      (conv1): Conv2d(1024, 256, kernel_size=(1, 1), stride=(1, 1), bias=False)\n",
      "      (bn1): BatchNorm2d(256, eps=1e-05, momentum=0.1, affine=True, track_running_stats=True)\n",
      "      (conv2): Conv2d(256, 256, kernel_size=(3, 3), stride=(1, 1), padding=(1, 1), bias=False)\n",
      "      (bn2): BatchNorm2d(256, eps=1e-05, momentum=0.1, affine=True, track_running_stats=True)\n",
      "      (conv3): Conv2d(256, 1024, kernel_size=(1, 1), stride=(1, 1), bias=False)\n",
      "      (bn3): BatchNorm2d(1024, eps=1e-05, momentum=0.1, affine=True, track_running_stats=True)\n",
      "      (relu): ReLU(inplace=True)\n",
      "    )\n",
      "    (23): Bottleneck(\n",
      "      (conv1): Conv2d(1024, 256, kernel_size=(1, 1), stride=(1, 1), bias=False)\n",
      "      (bn1): BatchNorm2d(256, eps=1e-05, momentum=0.1, affine=True, track_running_stats=True)\n",
      "      (conv2): Conv2d(256, 256, kernel_size=(3, 3), stride=(1, 1), padding=(1, 1), bias=False)\n",
      "      (bn2): BatchNorm2d(256, eps=1e-05, momentum=0.1, affine=True, track_running_stats=True)\n",
      "      (conv3): Conv2d(256, 1024, kernel_size=(1, 1), stride=(1, 1), bias=False)\n",
      "      (bn3): BatchNorm2d(1024, eps=1e-05, momentum=0.1, affine=True, track_running_stats=True)\n",
      "      (relu): ReLU(inplace=True)\n",
      "    )\n",
      "    (24): Bottleneck(\n",
      "      (conv1): Conv2d(1024, 256, kernel_size=(1, 1), stride=(1, 1), bias=False)\n",
      "      (bn1): BatchNorm2d(256, eps=1e-05, momentum=0.1, affine=True, track_running_stats=True)\n",
      "      (conv2): Conv2d(256, 256, kernel_size=(3, 3), stride=(1, 1), padding=(1, 1), bias=False)\n",
      "      (bn2): BatchNorm2d(256, eps=1e-05, momentum=0.1, affine=True, track_running_stats=True)\n",
      "      (conv3): Conv2d(256, 1024, kernel_size=(1, 1), stride=(1, 1), bias=False)\n",
      "      (bn3): BatchNorm2d(1024, eps=1e-05, momentum=0.1, affine=True, track_running_stats=True)\n",
      "      (relu): ReLU(inplace=True)\n",
      "    )\n",
      "    (25): Bottleneck(\n",
      "      (conv1): Conv2d(1024, 256, kernel_size=(1, 1), stride=(1, 1), bias=False)\n",
      "      (bn1): BatchNorm2d(256, eps=1e-05, momentum=0.1, affine=True, track_running_stats=True)\n",
      "      (conv2): Conv2d(256, 256, kernel_size=(3, 3), stride=(1, 1), padding=(1, 1), bias=False)\n",
      "      (bn2): BatchNorm2d(256, eps=1e-05, momentum=0.1, affine=True, track_running_stats=True)\n",
      "      (conv3): Conv2d(256, 1024, kernel_size=(1, 1), stride=(1, 1), bias=False)\n",
      "      (bn3): BatchNorm2d(1024, eps=1e-05, momentum=0.1, affine=True, track_running_stats=True)\n",
      "      (relu): ReLU(inplace=True)\n",
      "    )\n",
      "    (26): Bottleneck(\n",
      "      (conv1): Conv2d(1024, 256, kernel_size=(1, 1), stride=(1, 1), bias=False)\n",
      "      (bn1): BatchNorm2d(256, eps=1e-05, momentum=0.1, affine=True, track_running_stats=True)\n",
      "      (conv2): Conv2d(256, 256, kernel_size=(3, 3), stride=(1, 1), padding=(1, 1), bias=False)\n",
      "      (bn2): BatchNorm2d(256, eps=1e-05, momentum=0.1, affine=True, track_running_stats=True)\n",
      "      (conv3): Conv2d(256, 1024, kernel_size=(1, 1), stride=(1, 1), bias=False)\n",
      "      (bn3): BatchNorm2d(1024, eps=1e-05, momentum=0.1, affine=True, track_running_stats=True)\n",
      "      (relu): ReLU(inplace=True)\n",
      "    )\n",
      "    (27): Bottleneck(\n",
      "      (conv1): Conv2d(1024, 256, kernel_size=(1, 1), stride=(1, 1), bias=False)\n",
      "      (bn1): BatchNorm2d(256, eps=1e-05, momentum=0.1, affine=True, track_running_stats=True)\n",
      "      (conv2): Conv2d(256, 256, kernel_size=(3, 3), stride=(1, 1), padding=(1, 1), bias=False)\n",
      "      (bn2): BatchNorm2d(256, eps=1e-05, momentum=0.1, affine=True, track_running_stats=True)\n",
      "      (conv3): Conv2d(256, 1024, kernel_size=(1, 1), stride=(1, 1), bias=False)\n",
      "      (bn3): BatchNorm2d(1024, eps=1e-05, momentum=0.1, affine=True, track_running_stats=True)\n",
      "      (relu): ReLU(inplace=True)\n",
      "    )\n",
      "    (28): Bottleneck(\n",
      "      (conv1): Conv2d(1024, 256, kernel_size=(1, 1), stride=(1, 1), bias=False)\n",
      "      (bn1): BatchNorm2d(256, eps=1e-05, momentum=0.1, affine=True, track_running_stats=True)\n",
      "      (conv2): Conv2d(256, 256, kernel_size=(3, 3), stride=(1, 1), padding=(1, 1), bias=False)\n",
      "      (bn2): BatchNorm2d(256, eps=1e-05, momentum=0.1, affine=True, track_running_stats=True)\n",
      "      (conv3): Conv2d(256, 1024, kernel_size=(1, 1), stride=(1, 1), bias=False)\n",
      "      (bn3): BatchNorm2d(1024, eps=1e-05, momentum=0.1, affine=True, track_running_stats=True)\n",
      "      (relu): ReLU(inplace=True)\n",
      "    )\n",
      "    (29): Bottleneck(\n",
      "      (conv1): Conv2d(1024, 256, kernel_size=(1, 1), stride=(1, 1), bias=False)\n",
      "      (bn1): BatchNorm2d(256, eps=1e-05, momentum=0.1, affine=True, track_running_stats=True)\n",
      "      (conv2): Conv2d(256, 256, kernel_size=(3, 3), stride=(1, 1), padding=(1, 1), bias=False)\n",
      "      (bn2): BatchNorm2d(256, eps=1e-05, momentum=0.1, affine=True, track_running_stats=True)\n",
      "      (conv3): Conv2d(256, 1024, kernel_size=(1, 1), stride=(1, 1), bias=False)\n",
      "      (bn3): BatchNorm2d(1024, eps=1e-05, momentum=0.1, affine=True, track_running_stats=True)\n",
      "      (relu): ReLU(inplace=True)\n",
      "    )\n",
      "    (30): Bottleneck(\n",
      "      (conv1): Conv2d(1024, 256, kernel_size=(1, 1), stride=(1, 1), bias=False)\n",
      "      (bn1): BatchNorm2d(256, eps=1e-05, momentum=0.1, affine=True, track_running_stats=True)\n",
      "      (conv2): Conv2d(256, 256, kernel_size=(3, 3), stride=(1, 1), padding=(1, 1), bias=False)\n",
      "      (bn2): BatchNorm2d(256, eps=1e-05, momentum=0.1, affine=True, track_running_stats=True)\n",
      "      (conv3): Conv2d(256, 1024, kernel_size=(1, 1), stride=(1, 1), bias=False)\n",
      "      (bn3): BatchNorm2d(1024, eps=1e-05, momentum=0.1, affine=True, track_running_stats=True)\n",
      "      (relu): ReLU(inplace=True)\n",
      "    )\n",
      "    (31): Bottleneck(\n",
      "      (conv1): Conv2d(1024, 256, kernel_size=(1, 1), stride=(1, 1), bias=False)\n",
      "      (bn1): BatchNorm2d(256, eps=1e-05, momentum=0.1, affine=True, track_running_stats=True)\n",
      "      (conv2): Conv2d(256, 256, kernel_size=(3, 3), stride=(1, 1), padding=(1, 1), bias=False)\n",
      "      (bn2): BatchNorm2d(256, eps=1e-05, momentum=0.1, affine=True, track_running_stats=True)\n",
      "      (conv3): Conv2d(256, 1024, kernel_size=(1, 1), stride=(1, 1), bias=False)\n",
      "      (bn3): BatchNorm2d(1024, eps=1e-05, momentum=0.1, affine=True, track_running_stats=True)\n",
      "      (relu): ReLU(inplace=True)\n",
      "    )\n",
      "    (32): Bottleneck(\n",
      "      (conv1): Conv2d(1024, 256, kernel_size=(1, 1), stride=(1, 1), bias=False)\n",
      "      (bn1): BatchNorm2d(256, eps=1e-05, momentum=0.1, affine=True, track_running_stats=True)\n",
      "      (conv2): Conv2d(256, 256, kernel_size=(3, 3), stride=(1, 1), padding=(1, 1), bias=False)\n",
      "      (bn2): BatchNorm2d(256, eps=1e-05, momentum=0.1, affine=True, track_running_stats=True)\n",
      "      (conv3): Conv2d(256, 1024, kernel_size=(1, 1), stride=(1, 1), bias=False)\n",
      "      (bn3): BatchNorm2d(1024, eps=1e-05, momentum=0.1, affine=True, track_running_stats=True)\n",
      "      (relu): ReLU(inplace=True)\n",
      "    )\n",
      "    (33): Bottleneck(\n",
      "      (conv1): Conv2d(1024, 256, kernel_size=(1, 1), stride=(1, 1), bias=False)\n",
      "      (bn1): BatchNorm2d(256, eps=1e-05, momentum=0.1, affine=True, track_running_stats=True)\n",
      "      (conv2): Conv2d(256, 256, kernel_size=(3, 3), stride=(1, 1), padding=(1, 1), bias=False)\n",
      "      (bn2): BatchNorm2d(256, eps=1e-05, momentum=0.1, affine=True, track_running_stats=True)\n",
      "      (conv3): Conv2d(256, 1024, kernel_size=(1, 1), stride=(1, 1), bias=False)\n",
      "      (bn3): BatchNorm2d(1024, eps=1e-05, momentum=0.1, affine=True, track_running_stats=True)\n",
      "      (relu): ReLU(inplace=True)\n",
      "    )\n",
      "    (34): Bottleneck(\n",
      "      (conv1): Conv2d(1024, 256, kernel_size=(1, 1), stride=(1, 1), bias=False)\n",
      "      (bn1): BatchNorm2d(256, eps=1e-05, momentum=0.1, affine=True, track_running_stats=True)\n",
      "      (conv2): Conv2d(256, 256, kernel_size=(3, 3), stride=(1, 1), padding=(1, 1), bias=False)\n",
      "      (bn2): BatchNorm2d(256, eps=1e-05, momentum=0.1, affine=True, track_running_stats=True)\n",
      "      (conv3): Conv2d(256, 1024, kernel_size=(1, 1), stride=(1, 1), bias=False)\n",
      "      (bn3): BatchNorm2d(1024, eps=1e-05, momentum=0.1, affine=True, track_running_stats=True)\n",
      "      (relu): ReLU(inplace=True)\n",
      "    )\n",
      "    (35): Bottleneck(\n",
      "      (conv1): Conv2d(1024, 256, kernel_size=(1, 1), stride=(1, 1), bias=False)\n",
      "      (bn1): BatchNorm2d(256, eps=1e-05, momentum=0.1, affine=True, track_running_stats=True)\n",
      "      (conv2): Conv2d(256, 256, kernel_size=(3, 3), stride=(1, 1), padding=(1, 1), bias=False)\n",
      "      (bn2): BatchNorm2d(256, eps=1e-05, momentum=0.1, affine=True, track_running_stats=True)\n",
      "      (conv3): Conv2d(256, 1024, kernel_size=(1, 1), stride=(1, 1), bias=False)\n",
      "      (bn3): BatchNorm2d(1024, eps=1e-05, momentum=0.1, affine=True, track_running_stats=True)\n",
      "      (relu): ReLU(inplace=True)\n",
      "    )\n",
      "  )\n",
      "  (layer4): Sequential(\n",
      "    (0): Bottleneck(\n",
      "      (conv1): Conv2d(1024, 512, kernel_size=(1, 1), stride=(1, 1), bias=False)\n",
      "      (bn1): BatchNorm2d(512, eps=1e-05, momentum=0.1, affine=True, track_running_stats=True)\n",
      "      (conv2): Conv2d(512, 512, kernel_size=(3, 3), stride=(2, 2), padding=(1, 1), bias=False)\n",
      "      (bn2): BatchNorm2d(512, eps=1e-05, momentum=0.1, affine=True, track_running_stats=True)\n",
      "      (conv3): Conv2d(512, 2048, kernel_size=(1, 1), stride=(1, 1), bias=False)\n",
      "      (bn3): BatchNorm2d(2048, eps=1e-05, momentum=0.1, affine=True, track_running_stats=True)\n",
      "      (relu): ReLU(inplace=True)\n",
      "      (downsample): Sequential(\n",
      "        (0): Conv2d(1024, 2048, kernel_size=(1, 1), stride=(2, 2), bias=False)\n",
      "        (1): BatchNorm2d(2048, eps=1e-05, momentum=0.1, affine=True, track_running_stats=True)\n",
      "      )\n",
      "    )\n",
      "    (1): Bottleneck(\n",
      "      (conv1): Conv2d(2048, 512, kernel_size=(1, 1), stride=(1, 1), bias=False)\n",
      "      (bn1): BatchNorm2d(512, eps=1e-05, momentum=0.1, affine=True, track_running_stats=True)\n",
      "      (conv2): Conv2d(512, 512, kernel_size=(3, 3), stride=(1, 1), padding=(1, 1), bias=False)\n",
      "      (bn2): BatchNorm2d(512, eps=1e-05, momentum=0.1, affine=True, track_running_stats=True)\n",
      "      (conv3): Conv2d(512, 2048, kernel_size=(1, 1), stride=(1, 1), bias=False)\n",
      "      (bn3): BatchNorm2d(2048, eps=1e-05, momentum=0.1, affine=True, track_running_stats=True)\n",
      "      (relu): ReLU(inplace=True)\n",
      "    )\n",
      "    (2): Bottleneck(\n",
      "      (conv1): Conv2d(2048, 512, kernel_size=(1, 1), stride=(1, 1), bias=False)\n",
      "      (bn1): BatchNorm2d(512, eps=1e-05, momentum=0.1, affine=True, track_running_stats=True)\n",
      "      (conv2): Conv2d(512, 512, kernel_size=(3, 3), stride=(1, 1), padding=(1, 1), bias=False)\n",
      "      (bn2): BatchNorm2d(512, eps=1e-05, momentum=0.1, affine=True, track_running_stats=True)\n",
      "      (conv3): Conv2d(512, 2048, kernel_size=(1, 1), stride=(1, 1), bias=False)\n",
      "      (bn3): BatchNorm2d(2048, eps=1e-05, momentum=0.1, affine=True, track_running_stats=True)\n",
      "      (relu): ReLU(inplace=True)\n",
      "    )\n",
      "  )\n",
      "  (avgpool): AdaptiveAvgPool2d(output_size=(1, 1))\n",
      "  (fc): Linear(in_features=2048, out_features=1000, bias=True)\n",
      ")\n"
     ]
    }
   ],
   "source": [
    "# ...и, наконец, на ResNet152\n",
    "resnet152 = models.resnet152()\n",
    "print(resnet152)"
   ]
  },
  {
   "cell_type": "markdown",
   "metadata": {
    "id": "kxUINWbnI16v",
    "pycharm": {
     "name": "#%% md\n"
    }
   },
   "source": [
    "Многие из вышеперечисленных моделей доступны с предварительно обученными весовыми параметрами (например, на ImageNet). что открывает широкие возможности для их использования  \n",
    "\n",
    "Например, их можно сразу использовать по прямому назначению, т. е. использовать для классификации изображений  "
   ]
  },
  {
   "cell_type": "code",
   "source": [
    "# поджключим Google Drive\n",
    "from google.colab import drive\n",
    "drive.mount('/content/drive')"
   ],
   "metadata": {
    "id": "QjkZkdT_P5S6",
    "colab": {
     "base_uri": "https://localhost:8080/"
    },
    "outputId": "081034d9-050f-4f67-ffa8-f37a03385656",
    "pycharm": {
     "name": "#%%\n"
    }
   },
   "execution_count": 15,
   "outputs": [
    {
     "output_type": "stream",
     "name": "stdout",
     "text": [
      "Drive already mounted at /content/drive; to attempt to forcibly remount, call drive.mount(\"/content/drive\", force_remount=True).\n"
     ]
    }
   ]
  },
  {
   "cell_type": "code",
   "execution_count": 6,
   "metadata": {
    "id": "uVpvgoF-Ixuv",
    "colab": {
     "base_uri": "https://localhost:8080/",
     "height": 490
    },
    "outputId": "71ab53f6-8ce3-4d1d-e491-7e1aee84863d",
    "pycharm": {
     "name": "#%%\n"
    }
   },
   "outputs": [
    {
     "ename": "FileNotFoundError",
     "evalue": "[Errno 2] No such file or directory: '/content/1.jpg'",
     "output_type": "error",
     "traceback": [
      "\u001B[1;31m---------------------------------------------------------------------------\u001B[0m",
      "\u001B[1;31mFileNotFoundError\u001B[0m                         Traceback (most recent call last)",
      "Cell \u001B[1;32mIn [6], line 15\u001B[0m\n\u001B[0;32m      7\u001B[0m transform \u001B[38;5;241m=\u001B[39m transforms\u001B[38;5;241m.\u001B[39mCompose([\n\u001B[0;32m      8\u001B[0m       transforms\u001B[38;5;241m.\u001B[39mResize(\u001B[38;5;241m256\u001B[39m),\n\u001B[0;32m      9\u001B[0m       transforms\u001B[38;5;241m.\u001B[39mCenterCrop(\u001B[38;5;241m224\u001B[39m),\n\u001B[0;32m     10\u001B[0m       transforms\u001B[38;5;241m.\u001B[39mToTensor(),\n\u001B[0;32m     11\u001B[0m       transforms\u001B[38;5;241m.\u001B[39mNormalize([\u001B[38;5;241m0.485\u001B[39m, \u001B[38;5;241m0.456\u001B[39m, \u001B[38;5;241m0.406\u001B[39m], [\u001B[38;5;241m0.229\u001B[39m, \u001B[38;5;241m0.224\u001B[39m, \u001B[38;5;241m0.225\u001B[39m])\n\u001B[0;32m     12\u001B[0m ])\n\u001B[0;32m     14\u001B[0m \u001B[38;5;66;03m# откроем пример изображения, которого необходимо классифицировать\u001B[39;00m\n\u001B[1;32m---> 15\u001B[0m image \u001B[38;5;241m=\u001B[39m \u001B[43mImage\u001B[49m\u001B[38;5;241;43m.\u001B[39;49m\u001B[43mopen\u001B[49m\u001B[43m(\u001B[49m\u001B[38;5;124;43m\"\u001B[39;49m\u001B[38;5;124;43m/content/1.jpg\u001B[39;49m\u001B[38;5;124;43m\"\u001B[39;49m\u001B[43m)\u001B[49m\n\u001B[0;32m     16\u001B[0m image \u001B[38;5;241m=\u001B[39m transform(image)\n\u001B[0;32m     17\u001B[0m image \u001B[38;5;241m=\u001B[39m image\u001B[38;5;241m.\u001B[39munsqueeze(\u001B[38;5;241m0\u001B[39m)\n",
      "File \u001B[1;32m~\\anaconda3\\envs\\workspace\\lib\\site-packages\\PIL\\Image.py:3092\u001B[0m, in \u001B[0;36mopen\u001B[1;34m(fp, mode, formats)\u001B[0m\n\u001B[0;32m   3089\u001B[0m     filename \u001B[38;5;241m=\u001B[39m fp\n\u001B[0;32m   3091\u001B[0m \u001B[38;5;28;01mif\u001B[39;00m filename:\n\u001B[1;32m-> 3092\u001B[0m     fp \u001B[38;5;241m=\u001B[39m \u001B[43mbuiltins\u001B[49m\u001B[38;5;241;43m.\u001B[39;49m\u001B[43mopen\u001B[49m\u001B[43m(\u001B[49m\u001B[43mfilename\u001B[49m\u001B[43m,\u001B[49m\u001B[43m \u001B[49m\u001B[38;5;124;43m\"\u001B[39;49m\u001B[38;5;124;43mrb\u001B[39;49m\u001B[38;5;124;43m\"\u001B[39;49m\u001B[43m)\u001B[49m\n\u001B[0;32m   3093\u001B[0m     exclusive_fp \u001B[38;5;241m=\u001B[39m \u001B[38;5;28;01mTrue\u001B[39;00m\n\u001B[0;32m   3095\u001B[0m \u001B[38;5;28;01mtry\u001B[39;00m:\n",
      "\u001B[1;31mFileNotFoundError\u001B[0m: [Errno 2] No such file or directory: '/content/1.jpg'"
     ]
    }
   ],
   "source": [
    "from PIL import Image\n",
    "\n",
    "# возьмем для примера предобученную на наборе данных ImageNet модель ResNet152\n",
    "resnet50 = models.resnet50(pretrained=True)\n",
    "\n",
    "# создадим новый объект transform\n",
    "transform = transforms.Compose([\n",
    "      transforms.Resize(256),\n",
    "      transforms.CenterCrop(224),\n",
    "      transforms.ToTensor(),\n",
    "      transforms.Normalize([0.485, 0.456, 0.406], [0.229, 0.224, 0.225])\n",
    "])\n",
    "\n",
    "# откроем пример изображения, которого необходимо классифицировать\n",
    "image = Image.open(\"/content/1.jpg\")\n",
    "image = transform(image)\n",
    "image = image.unsqueeze(0)\n",
    "\n",
    "# переводим модель в режим теста и формируем предсказания\n",
    "resnet50.eval()\n",
    "preds = resnet50(image)\n",
    "pred = preds.argmax()\n",
    "print(pred)\n",
    "\n"
   ]
  },
  {
   "cell_type": "code",
   "execution_count": 17,
   "metadata": {
    "id": "4CblBScYSRdv",
    "colab": {
     "base_uri": "https://localhost:8080/",
     "height": 210
    },
    "outputId": "4adc2042-b4e3-4753-cae4-a91296ed5ac1",
    "pycharm": {
     "name": "#%%\n"
    }
   },
   "outputs": [
    {
     "output_type": "error",
     "ename": "NameError",
     "evalue": "ignored",
     "traceback": [
      "\u001B[0;31m---------------------------------------------------------------------------\u001B[0m",
      "\u001B[0;31mNameError\u001B[0m                                 Traceback (most recent call last)",
      "\u001B[0;32m<ipython-input-17-71408cf27643>\u001B[0m in \u001B[0;36m<cell line: 8>\u001B[0;34m()\u001B[0m\n\u001B[1;32m      6\u001B[0m \u001B[0;34m\u001B[0m\u001B[0m\n\u001B[1;32m      7\u001B[0m \u001B[0;31m# название предсказанного класса\u001B[0m\u001B[0;34m\u001B[0m\u001B[0;34m\u001B[0m\u001B[0m\n\u001B[0;32m----> 8\u001B[0;31m \u001B[0mprint\u001B[0m\u001B[0;34m(\u001B[0m\u001B[0mlabels\u001B[0m\u001B[0;34m[\u001B[0m\u001B[0mstr\u001B[0m\u001B[0;34m(\u001B[0m\u001B[0mint\u001B[0m\u001B[0;34m(\u001B[0m\u001B[0mpred\u001B[0m\u001B[0;34m)\u001B[0m\u001B[0;34m)\u001B[0m\u001B[0;34m]\u001B[0m\u001B[0;34m)\u001B[0m\u001B[0;34m\u001B[0m\u001B[0;34m\u001B[0m\u001B[0m\n\u001B[0m",
      "\u001B[0;31mNameError\u001B[0m: name 'pred' is not defined"
     ]
    }
   ],
   "source": [
    "import json\n",
    "\n",
    "imagenet_classes_file = \"/content/drive/MyDrive/trash/imagenet_class_index.json\"\n",
    "with open(imagenet_classes_file) as f:\n",
    "    labels = json.load(f)\n",
    "\n",
    "# название предсказанного класса\n",
    "print(labels[str(int(pred))])\n"
   ]
  },
  {
   "cell_type": "markdown",
   "metadata": {
    "id": "xsWxBbFsYrrC",
    "pycharm": {
     "name": "#%% md\n"
    }
   },
   "source": [
    "## Перенос обучения сверточных нейронных сетей на PyTorch\n",
    "\n",
    "Также с помощью предобученнных моделей на PyTorch можно выполнять такую высокоэффективную методику, как **перенос обучения**  \n",
    "\n",
    "Она заключается в использовании предобученных весов для обучения модели на собственном наборе данных  \n",
    "\n",
    "Это оправдано тем, что, например, архитектура, обученная на ImageNet, уже очень много знает об изображениях, и в этом случае обучение на собственном наборе данных потребует меньше времени и меньше данных  \n",
    "\n",
    "Попробуем запустить обучение модели ResNet50 на собственном небольшом наборе данных для классификации кошек и собак"
   ]
  },
  {
   "cell_type": "code",
   "source": [
    "# распакуем архив с датасетом из Google Drive\n",
    "!unzip /content/drive/MyDrive/trash/Dogs_vs_Cats.zip -d /content/dogs_vs_cats"
   ],
   "metadata": {
    "id": "HicR9ma3VICa",
    "colab": {
     "base_uri": "https://localhost:8080/"
    },
    "outputId": "dbda06ce-2c20-4998-896b-6515eaa091a2",
    "pycharm": {
     "name": "#%%\n"
    }
   },
   "execution_count": 18,
   "outputs": [
    {
     "output_type": "stream",
     "name": "stdout",
     "text": [
      "Archive:  /content/drive/MyDrive/trash/Dogs_vs_Cats.zip\n",
      "   creating: /content/dogs_vs_cats/Dogs vs Cats/\n",
      "   creating: /content/dogs_vs_cats/Dogs vs Cats/test/\n",
      "   creating: /content/dogs_vs_cats/Dogs vs Cats/test/cats/\n",
      "  inflating: /content/dogs_vs_cats/Dogs vs Cats/test/cats/cat.1500.jpg  \n",
      "  inflating: /content/dogs_vs_cats/Dogs vs Cats/test/cats/cat.1501.jpg  \n",
      "  inflating: /content/dogs_vs_cats/Dogs vs Cats/test/cats/cat.1502.jpg  \n",
      "  inflating: /content/dogs_vs_cats/Dogs vs Cats/test/cats/cat.1503.jpg  \n",
      "  inflating: /content/dogs_vs_cats/Dogs vs Cats/test/cats/cat.1504.jpg  \n",
      "  inflating: /content/dogs_vs_cats/Dogs vs Cats/test/cats/cat.1505.jpg  \n",
      "  inflating: /content/dogs_vs_cats/Dogs vs Cats/test/cats/cat.1506.jpg  \n",
      "  inflating: /content/dogs_vs_cats/Dogs vs Cats/test/cats/cat.1507.jpg  \n",
      "  inflating: /content/dogs_vs_cats/Dogs vs Cats/test/cats/cat.1508.jpg  \n",
      "  inflating: /content/dogs_vs_cats/Dogs vs Cats/test/cats/cat.1509.jpg  \n",
      "  inflating: /content/dogs_vs_cats/Dogs vs Cats/test/cats/cat.1510.jpg  \n",
      "  inflating: /content/dogs_vs_cats/Dogs vs Cats/test/cats/cat.1511.jpg  \n",
      "  inflating: /content/dogs_vs_cats/Dogs vs Cats/test/cats/cat.1512.jpg  \n",
      "  inflating: /content/dogs_vs_cats/Dogs vs Cats/test/cats/cat.1513.jpg  \n",
      "  inflating: /content/dogs_vs_cats/Dogs vs Cats/test/cats/cat.1514.jpg  \n",
      "  inflating: /content/dogs_vs_cats/Dogs vs Cats/test/cats/cat.1515.jpg  \n",
      "  inflating: /content/dogs_vs_cats/Dogs vs Cats/test/cats/cat.1516.jpg  \n",
      "  inflating: /content/dogs_vs_cats/Dogs vs Cats/test/cats/cat.1517.jpg  \n",
      "   creating: /content/dogs_vs_cats/Dogs vs Cats/test/dogs/\n",
      "  inflating: /content/dogs_vs_cats/Dogs vs Cats/test/dogs/dog.1500.jpg  \n",
      "  inflating: /content/dogs_vs_cats/Dogs vs Cats/test/dogs/dog.1501.jpg  \n",
      "  inflating: /content/dogs_vs_cats/Dogs vs Cats/test/dogs/dog.1502.jpg  \n",
      "  inflating: /content/dogs_vs_cats/Dogs vs Cats/test/dogs/dog.1503.jpg  \n",
      "  inflating: /content/dogs_vs_cats/Dogs vs Cats/test/dogs/dog.1504.jpg  \n",
      "  inflating: /content/dogs_vs_cats/Dogs vs Cats/test/dogs/dog.1505.jpg  \n",
      "  inflating: /content/dogs_vs_cats/Dogs vs Cats/test/dogs/dog.1506.jpg  \n",
      "  inflating: /content/dogs_vs_cats/Dogs vs Cats/test/dogs/dog.1507.jpg  \n",
      "  inflating: /content/dogs_vs_cats/Dogs vs Cats/test/dogs/dog.1508.jpg  \n",
      "  inflating: /content/dogs_vs_cats/Dogs vs Cats/test/dogs/dog.1509.jpg  \n",
      "  inflating: /content/dogs_vs_cats/Dogs vs Cats/test/dogs/dog.1510.jpg  \n",
      "  inflating: /content/dogs_vs_cats/Dogs vs Cats/test/dogs/dog.1511.jpg  \n",
      "  inflating: /content/dogs_vs_cats/Dogs vs Cats/test/dogs/dog.1512.jpg  \n",
      "  inflating: /content/dogs_vs_cats/Dogs vs Cats/test/dogs/dog.1513.jpg  \n",
      "  inflating: /content/dogs_vs_cats/Dogs vs Cats/test/dogs/dog.1514.jpg  \n",
      "  inflating: /content/dogs_vs_cats/Dogs vs Cats/test/dogs/dog.1515.jpg  \n",
      "  inflating: /content/dogs_vs_cats/Dogs vs Cats/test/dogs/dog.1516.jpg  \n",
      "  inflating: /content/dogs_vs_cats/Dogs vs Cats/test/dogs/dog.1517.jpg  \n",
      "   creating: /content/dogs_vs_cats/Dogs vs Cats/train/\n",
      "   creating: /content/dogs_vs_cats/Dogs vs Cats/train/cats/\n",
      "  inflating: /content/dogs_vs_cats/Dogs vs Cats/train/cats/cat.0.jpg  \n",
      "  inflating: /content/dogs_vs_cats/Dogs vs Cats/train/cats/cat.1.jpg  \n",
      "  inflating: /content/dogs_vs_cats/Dogs vs Cats/train/cats/cat.10.jpg  \n",
      "  inflating: /content/dogs_vs_cats/Dogs vs Cats/train/cats/cat.11.jpg  \n",
      "  inflating: /content/dogs_vs_cats/Dogs vs Cats/train/cats/cat.12.jpg  \n",
      "  inflating: /content/dogs_vs_cats/Dogs vs Cats/train/cats/cat.13.jpg  \n",
      "  inflating: /content/dogs_vs_cats/Dogs vs Cats/train/cats/cat.14.jpg  \n",
      "  inflating: /content/dogs_vs_cats/Dogs vs Cats/train/cats/cat.15.jpg  \n",
      "  inflating: /content/dogs_vs_cats/Dogs vs Cats/train/cats/cat.16.jpg  \n",
      "  inflating: /content/dogs_vs_cats/Dogs vs Cats/train/cats/cat.17.jpg  \n",
      "  inflating: /content/dogs_vs_cats/Dogs vs Cats/train/cats/cat.18.jpg  \n",
      "  inflating: /content/dogs_vs_cats/Dogs vs Cats/train/cats/cat.19.jpg  \n",
      "  inflating: /content/dogs_vs_cats/Dogs vs Cats/train/cats/cat.2.jpg  \n",
      "  inflating: /content/dogs_vs_cats/Dogs vs Cats/train/cats/cat.20.jpg  \n",
      "  inflating: /content/dogs_vs_cats/Dogs vs Cats/train/cats/cat.21.jpg  \n",
      "  inflating: /content/dogs_vs_cats/Dogs vs Cats/train/cats/cat.22.jpg  \n",
      "  inflating: /content/dogs_vs_cats/Dogs vs Cats/train/cats/cat.23.jpg  \n",
      "  inflating: /content/dogs_vs_cats/Dogs vs Cats/train/cats/cat.24.jpg  \n",
      "  inflating: /content/dogs_vs_cats/Dogs vs Cats/train/cats/cat.25.jpg  \n",
      "  inflating: /content/dogs_vs_cats/Dogs vs Cats/train/cats/cat.26.jpg  \n",
      "  inflating: /content/dogs_vs_cats/Dogs vs Cats/train/cats/cat.27.jpg  \n",
      "  inflating: /content/dogs_vs_cats/Dogs vs Cats/train/cats/cat.28.jpg  \n",
      "  inflating: /content/dogs_vs_cats/Dogs vs Cats/train/cats/cat.29.jpg  \n",
      "  inflating: /content/dogs_vs_cats/Dogs vs Cats/train/cats/cat.3.jpg  \n",
      "  inflating: /content/dogs_vs_cats/Dogs vs Cats/train/cats/cat.30.jpg  \n",
      "  inflating: /content/dogs_vs_cats/Dogs vs Cats/train/cats/cat.31.jpg  \n",
      "  inflating: /content/dogs_vs_cats/Dogs vs Cats/train/cats/cat.32.jpg  \n",
      "  inflating: /content/dogs_vs_cats/Dogs vs Cats/train/cats/cat.33.jpg  \n",
      "  inflating: /content/dogs_vs_cats/Dogs vs Cats/train/cats/cat.34.jpg  \n",
      "  inflating: /content/dogs_vs_cats/Dogs vs Cats/train/cats/cat.35.jpg  \n",
      "  inflating: /content/dogs_vs_cats/Dogs vs Cats/train/cats/cat.36.jpg  \n",
      "  inflating: /content/dogs_vs_cats/Dogs vs Cats/train/cats/cat.37.jpg  \n",
      "  inflating: /content/dogs_vs_cats/Dogs vs Cats/train/cats/cat.38.jpg  \n",
      "  inflating: /content/dogs_vs_cats/Dogs vs Cats/train/cats/cat.39.jpg  \n",
      "  inflating: /content/dogs_vs_cats/Dogs vs Cats/train/cats/cat.4.jpg  \n",
      "  inflating: /content/dogs_vs_cats/Dogs vs Cats/train/cats/cat.40.jpg  \n",
      "  inflating: /content/dogs_vs_cats/Dogs vs Cats/train/cats/cat.41.jpg  \n",
      "  inflating: /content/dogs_vs_cats/Dogs vs Cats/train/cats/cat.42.jpg  \n",
      "  inflating: /content/dogs_vs_cats/Dogs vs Cats/train/cats/cat.43.jpg  \n",
      "  inflating: /content/dogs_vs_cats/Dogs vs Cats/train/cats/cat.44.jpg  \n",
      "  inflating: /content/dogs_vs_cats/Dogs vs Cats/train/cats/cat.45.jpg  \n",
      "  inflating: /content/dogs_vs_cats/Dogs vs Cats/train/cats/cat.46.jpg  \n",
      "  inflating: /content/dogs_vs_cats/Dogs vs Cats/train/cats/cat.47.jpg  \n",
      "  inflating: /content/dogs_vs_cats/Dogs vs Cats/train/cats/cat.48.jpg  \n",
      "  inflating: /content/dogs_vs_cats/Dogs vs Cats/train/cats/cat.49.jpg  \n",
      "  inflating: /content/dogs_vs_cats/Dogs vs Cats/train/cats/cat.5.jpg  \n",
      "  inflating: /content/dogs_vs_cats/Dogs vs Cats/train/cats/cat.50.jpg  \n",
      "  inflating: /content/dogs_vs_cats/Dogs vs Cats/train/cats/cat.51.jpg  \n",
      "  inflating: /content/dogs_vs_cats/Dogs vs Cats/train/cats/cat.52.jpg  \n",
      "  inflating: /content/dogs_vs_cats/Dogs vs Cats/train/cats/cat.53.jpg  \n",
      "  inflating: /content/dogs_vs_cats/Dogs vs Cats/train/cats/cat.54.jpg  \n",
      "  inflating: /content/dogs_vs_cats/Dogs vs Cats/train/cats/cat.55.jpg  \n",
      "  inflating: /content/dogs_vs_cats/Dogs vs Cats/train/cats/cat.56.jpg  \n",
      "  inflating: /content/dogs_vs_cats/Dogs vs Cats/train/cats/cat.57.jpg  \n",
      "  inflating: /content/dogs_vs_cats/Dogs vs Cats/train/cats/cat.58.jpg  \n",
      "  inflating: /content/dogs_vs_cats/Dogs vs Cats/train/cats/cat.59.jpg  \n",
      "  inflating: /content/dogs_vs_cats/Dogs vs Cats/train/cats/cat.6.jpg  \n",
      "  inflating: /content/dogs_vs_cats/Dogs vs Cats/train/cats/cat.60.jpg  \n",
      "  inflating: /content/dogs_vs_cats/Dogs vs Cats/train/cats/cat.61.jpg  \n",
      "  inflating: /content/dogs_vs_cats/Dogs vs Cats/train/cats/cat.62.jpg  \n",
      "  inflating: /content/dogs_vs_cats/Dogs vs Cats/train/cats/cat.63.jpg  \n",
      "  inflating: /content/dogs_vs_cats/Dogs vs Cats/train/cats/cat.64.jpg  \n",
      "  inflating: /content/dogs_vs_cats/Dogs vs Cats/train/cats/cat.65.jpg  \n",
      "  inflating: /content/dogs_vs_cats/Dogs vs Cats/train/cats/cat.66.jpg  \n",
      "  inflating: /content/dogs_vs_cats/Dogs vs Cats/train/cats/cat.67.jpg  \n",
      "  inflating: /content/dogs_vs_cats/Dogs vs Cats/train/cats/cat.68.jpg  \n",
      "  inflating: /content/dogs_vs_cats/Dogs vs Cats/train/cats/cat.69.jpg  \n",
      "  inflating: /content/dogs_vs_cats/Dogs vs Cats/train/cats/cat.7.jpg  \n",
      "  inflating: /content/dogs_vs_cats/Dogs vs Cats/train/cats/cat.70.jpg  \n",
      "  inflating: /content/dogs_vs_cats/Dogs vs Cats/train/cats/cat.71.jpg  \n",
      "  inflating: /content/dogs_vs_cats/Dogs vs Cats/train/cats/cat.72.jpg  \n",
      "  inflating: /content/dogs_vs_cats/Dogs vs Cats/train/cats/cat.73.jpg  \n",
      "  inflating: /content/dogs_vs_cats/Dogs vs Cats/train/cats/cat.74.jpg  \n",
      "  inflating: /content/dogs_vs_cats/Dogs vs Cats/train/cats/cat.75.jpg  \n",
      "  inflating: /content/dogs_vs_cats/Dogs vs Cats/train/cats/cat.76.jpg  \n",
      "  inflating: /content/dogs_vs_cats/Dogs vs Cats/train/cats/cat.77.jpg  \n",
      "  inflating: /content/dogs_vs_cats/Dogs vs Cats/train/cats/cat.78.jpg  \n",
      "  inflating: /content/dogs_vs_cats/Dogs vs Cats/train/cats/cat.79.jpg  \n",
      "  inflating: /content/dogs_vs_cats/Dogs vs Cats/train/cats/cat.8.jpg  \n",
      "  inflating: /content/dogs_vs_cats/Dogs vs Cats/train/cats/cat.80.jpg  \n",
      "  inflating: /content/dogs_vs_cats/Dogs vs Cats/train/cats/cat.81.jpg  \n",
      "  inflating: /content/dogs_vs_cats/Dogs vs Cats/train/cats/cat.82.jpg  \n",
      "  inflating: /content/dogs_vs_cats/Dogs vs Cats/train/cats/cat.83.jpg  \n",
      "  inflating: /content/dogs_vs_cats/Dogs vs Cats/train/cats/cat.9.jpg  \n",
      "   creating: /content/dogs_vs_cats/Dogs vs Cats/train/dogs/\n",
      "  inflating: /content/dogs_vs_cats/Dogs vs Cats/train/dogs/dog.0.jpg  \n",
      "  inflating: /content/dogs_vs_cats/Dogs vs Cats/train/dogs/dog.1.jpg  \n",
      "  inflating: /content/dogs_vs_cats/Dogs vs Cats/train/dogs/dog.10.jpg  \n",
      "  inflating: /content/dogs_vs_cats/Dogs vs Cats/train/dogs/dog.11.jpg  \n",
      "  inflating: /content/dogs_vs_cats/Dogs vs Cats/train/dogs/dog.12.jpg  \n",
      "  inflating: /content/dogs_vs_cats/Dogs vs Cats/train/dogs/dog.13.jpg  \n",
      "  inflating: /content/dogs_vs_cats/Dogs vs Cats/train/dogs/dog.14.jpg  \n",
      "  inflating: /content/dogs_vs_cats/Dogs vs Cats/train/dogs/dog.15.jpg  \n",
      "  inflating: /content/dogs_vs_cats/Dogs vs Cats/train/dogs/dog.16.jpg  \n",
      "  inflating: /content/dogs_vs_cats/Dogs vs Cats/train/dogs/dog.17.jpg  \n",
      "  inflating: /content/dogs_vs_cats/Dogs vs Cats/train/dogs/dog.18.jpg  \n",
      "  inflating: /content/dogs_vs_cats/Dogs vs Cats/train/dogs/dog.19.jpg  \n",
      "  inflating: /content/dogs_vs_cats/Dogs vs Cats/train/dogs/dog.2.jpg  \n",
      "  inflating: /content/dogs_vs_cats/Dogs vs Cats/train/dogs/dog.20.jpg  \n",
      "  inflating: /content/dogs_vs_cats/Dogs vs Cats/train/dogs/dog.21.jpg  \n",
      "  inflating: /content/dogs_vs_cats/Dogs vs Cats/train/dogs/dog.22.jpg  \n",
      "  inflating: /content/dogs_vs_cats/Dogs vs Cats/train/dogs/dog.23.jpg  \n",
      "  inflating: /content/dogs_vs_cats/Dogs vs Cats/train/dogs/dog.24.jpg  \n",
      "  inflating: /content/dogs_vs_cats/Dogs vs Cats/train/dogs/dog.25.jpg  \n",
      "  inflating: /content/dogs_vs_cats/Dogs vs Cats/train/dogs/dog.26.jpg  \n",
      "  inflating: /content/dogs_vs_cats/Dogs vs Cats/train/dogs/dog.27.jpg  \n",
      "  inflating: /content/dogs_vs_cats/Dogs vs Cats/train/dogs/dog.28.jpg  \n",
      "  inflating: /content/dogs_vs_cats/Dogs vs Cats/train/dogs/dog.29.jpg  \n",
      "  inflating: /content/dogs_vs_cats/Dogs vs Cats/train/dogs/dog.3.jpg  \n",
      "  inflating: /content/dogs_vs_cats/Dogs vs Cats/train/dogs/dog.30.jpg  \n",
      "  inflating: /content/dogs_vs_cats/Dogs vs Cats/train/dogs/dog.31.jpg  \n",
      "  inflating: /content/dogs_vs_cats/Dogs vs Cats/train/dogs/dog.32.jpg  \n",
      "  inflating: /content/dogs_vs_cats/Dogs vs Cats/train/dogs/dog.33.jpg  \n",
      "  inflating: /content/dogs_vs_cats/Dogs vs Cats/train/dogs/dog.34.jpg  \n",
      "  inflating: /content/dogs_vs_cats/Dogs vs Cats/train/dogs/dog.35.jpg  \n",
      "  inflating: /content/dogs_vs_cats/Dogs vs Cats/train/dogs/dog.36.jpg  \n",
      "  inflating: /content/dogs_vs_cats/Dogs vs Cats/train/dogs/dog.37.jpg  \n",
      "  inflating: /content/dogs_vs_cats/Dogs vs Cats/train/dogs/dog.38.jpg  \n",
      "  inflating: /content/dogs_vs_cats/Dogs vs Cats/train/dogs/dog.39.jpg  \n",
      "  inflating: /content/dogs_vs_cats/Dogs vs Cats/train/dogs/dog.4.jpg  \n",
      "  inflating: /content/dogs_vs_cats/Dogs vs Cats/train/dogs/dog.40.jpg  \n",
      "  inflating: /content/dogs_vs_cats/Dogs vs Cats/train/dogs/dog.41.jpg  \n",
      "  inflating: /content/dogs_vs_cats/Dogs vs Cats/train/dogs/dog.42.jpg  \n",
      "  inflating: /content/dogs_vs_cats/Dogs vs Cats/train/dogs/dog.43.jpg  \n",
      "  inflating: /content/dogs_vs_cats/Dogs vs Cats/train/dogs/dog.44.jpg  \n",
      "  inflating: /content/dogs_vs_cats/Dogs vs Cats/train/dogs/dog.45.jpg  \n",
      "  inflating: /content/dogs_vs_cats/Dogs vs Cats/train/dogs/dog.46.jpg  \n",
      "  inflating: /content/dogs_vs_cats/Dogs vs Cats/train/dogs/dog.47.jpg  \n",
      "  inflating: /content/dogs_vs_cats/Dogs vs Cats/train/dogs/dog.48.jpg  \n",
      "  inflating: /content/dogs_vs_cats/Dogs vs Cats/train/dogs/dog.49.jpg  \n",
      "  inflating: /content/dogs_vs_cats/Dogs vs Cats/train/dogs/dog.5.jpg  \n",
      "  inflating: /content/dogs_vs_cats/Dogs vs Cats/train/dogs/dog.50.jpg  \n",
      "  inflating: /content/dogs_vs_cats/Dogs vs Cats/train/dogs/dog.51.jpg  \n",
      "  inflating: /content/dogs_vs_cats/Dogs vs Cats/train/dogs/dog.52.jpg  \n",
      "  inflating: /content/dogs_vs_cats/Dogs vs Cats/train/dogs/dog.53.jpg  \n",
      "  inflating: /content/dogs_vs_cats/Dogs vs Cats/train/dogs/dog.54.jpg  \n",
      "  inflating: /content/dogs_vs_cats/Dogs vs Cats/train/dogs/dog.55.jpg  \n",
      "  inflating: /content/dogs_vs_cats/Dogs vs Cats/train/dogs/dog.56.jpg  \n",
      "  inflating: /content/dogs_vs_cats/Dogs vs Cats/train/dogs/dog.57.jpg  \n",
      "  inflating: /content/dogs_vs_cats/Dogs vs Cats/train/dogs/dog.58.jpg  \n",
      "  inflating: /content/dogs_vs_cats/Dogs vs Cats/train/dogs/dog.59.jpg  \n",
      "  inflating: /content/dogs_vs_cats/Dogs vs Cats/train/dogs/dog.6.jpg  \n",
      "  inflating: /content/dogs_vs_cats/Dogs vs Cats/train/dogs/dog.60.jpg  \n",
      "  inflating: /content/dogs_vs_cats/Dogs vs Cats/train/dogs/dog.61.jpg  \n",
      "  inflating: /content/dogs_vs_cats/Dogs vs Cats/train/dogs/dog.62.jpg  \n",
      "  inflating: /content/dogs_vs_cats/Dogs vs Cats/train/dogs/dog.63.jpg  \n",
      "  inflating: /content/dogs_vs_cats/Dogs vs Cats/train/dogs/dog.64.jpg  \n",
      "  inflating: /content/dogs_vs_cats/Dogs vs Cats/train/dogs/dog.65.jpg  \n",
      "  inflating: /content/dogs_vs_cats/Dogs vs Cats/train/dogs/dog.66.jpg  \n",
      "  inflating: /content/dogs_vs_cats/Dogs vs Cats/train/dogs/dog.67.jpg  \n",
      "  inflating: /content/dogs_vs_cats/Dogs vs Cats/train/dogs/dog.68.jpg  \n",
      "  inflating: /content/dogs_vs_cats/Dogs vs Cats/train/dogs/dog.69.jpg  \n",
      "  inflating: /content/dogs_vs_cats/Dogs vs Cats/train/dogs/dog.7.jpg  \n",
      "  inflating: /content/dogs_vs_cats/Dogs vs Cats/train/dogs/dog.70.jpg  \n",
      "  inflating: /content/dogs_vs_cats/Dogs vs Cats/train/dogs/dog.71.jpg  \n",
      "  inflating: /content/dogs_vs_cats/Dogs vs Cats/train/dogs/dog.72.jpg  \n",
      "  inflating: /content/dogs_vs_cats/Dogs vs Cats/train/dogs/dog.73.jpg  \n",
      "  inflating: /content/dogs_vs_cats/Dogs vs Cats/train/dogs/dog.74.jpg  \n",
      "  inflating: /content/dogs_vs_cats/Dogs vs Cats/train/dogs/dog.75.jpg  \n",
      "  inflating: /content/dogs_vs_cats/Dogs vs Cats/train/dogs/dog.76.jpg  \n",
      "  inflating: /content/dogs_vs_cats/Dogs vs Cats/train/dogs/dog.77.jpg  \n",
      "  inflating: /content/dogs_vs_cats/Dogs vs Cats/train/dogs/dog.78.jpg  \n",
      "  inflating: /content/dogs_vs_cats/Dogs vs Cats/train/dogs/dog.79.jpg  \n",
      "  inflating: /content/dogs_vs_cats/Dogs vs Cats/train/dogs/dog.8.jpg  \n",
      "  inflating: /content/dogs_vs_cats/Dogs vs Cats/train/dogs/dog.80.jpg  \n",
      "  inflating: /content/dogs_vs_cats/Dogs vs Cats/train/dogs/dog.81.jpg  \n",
      "  inflating: /content/dogs_vs_cats/Dogs vs Cats/train/dogs/dog.82.jpg  \n",
      "  inflating: /content/dogs_vs_cats/Dogs vs Cats/train/dogs/dog.83.jpg  \n",
      "  inflating: /content/dogs_vs_cats/Dogs vs Cats/train/dogs/dog.9.jpg  \n"
     ]
    }
   ]
  },
  {
   "cell_type": "code",
   "execution_count": 13,
   "metadata": {
    "id": "wEAe85cQbNzB",
    "colab": {
     "base_uri": "https://localhost:8080/"
    },
    "outputId": "a4ce15d6-3860-4bbe-b168-3730f23f3f13",
    "pycharm": {
     "name": "#%%\n"
    }
   },
   "outputs": [
    {
     "name": "stdout",
     "output_type": "stream",
     "text": [
      "<class 'torchvision.datasets.folder.ImageFolder'>\n",
      "<class 'torchvision.datasets.folder.ImageFolder'>\n",
      "['cats', 'dogs']\n",
      "['cats', 'dogs']\n"
     ]
    }
   ],
   "source": [
    "# определим пути к тренировочным и тестовым изображениям\n",
    "train_path = r\"Dogs vs Cats/train\"\n",
    "test_path  = r\"Dogs vs Cats/test\"\n",
    "\n",
    "# создаем объекты tranfrorm для трансформации изображений\n",
    "transform_train_new = transforms.Compose([\n",
    "          transforms.Resize((224, 224)),\n",
    "          transforms.ToTensor(),\n",
    "])\n",
    "\n",
    "transform_test_new = transforms.Compose([\n",
    "          transforms.Resize((224, 224)),\n",
    "          transforms.ToTensor(),\n",
    "])\n",
    "\n",
    "# создадим объекты ImageFolder для создания загрузчика\n",
    "train_data = dataset.ImageFolder(train_path, transform_train_new)\n",
    "test_data = dataset.ImageFolder(test_path, transform_test_new)\n",
    "\n",
    "print(type(train_data))\n",
    "print(type(test_data))\n",
    "\n",
    "print(train_data.classes)\n",
    "print(test_data.classes)\n",
    "\n",
    "# создадим загрузчики на основе кастомного датасета\n",
    "train_loader_1 = DataLoader(train_data, batch_size=16, shuffle=True)\n",
    "test_loader_1  = DataLoader(test_data, batch_size=16, shuffle=True)"
   ]
  },
  {
   "cell_type": "markdown",
   "metadata": {
    "id": "niNbC1iWdqcR",
    "pycharm": {
     "name": "#%% md\n"
    }
   },
   "source": [
    "Предобученная модель ResNet50 уже содержит в себе много информации для распознавания и классификации изображений. Поэтому вместо переобучения можно немного изменить ее архитектуру, подстроив под текущий набор данных: заменить блок классификации\n",
    "\n",
    "В этом случае будет происходить **заморозка** всех слоев и **обучение** нового блока классификации"
   ]
  },
  {
   "cell_type": "code",
   "execution_count": 20,
   "metadata": {
    "id": "B8sYOwLgddnk",
    "colab": {
     "base_uri": "https://localhost:8080/"
    },
    "outputId": "ea4e690c-0a8a-455b-8fd7-434acc34f70d",
    "pycharm": {
     "name": "#%%\n"
    }
   },
   "outputs": [
    {
     "name": "stdout",
     "output_type": "stream",
     "text": [
      "ResNet(\n",
      "  (conv1): Conv2d(3, 64, kernel_size=(7, 7), stride=(2, 2), padding=(3, 3), bias=False)\n",
      "  (bn1): BatchNorm2d(64, eps=1e-05, momentum=0.1, affine=True, track_running_stats=True)\n",
      "  (relu): ReLU(inplace=True)\n",
      "  (maxpool): MaxPool2d(kernel_size=3, stride=2, padding=1, dilation=1, ceil_mode=False)\n",
      "  (layer1): Sequential(\n",
      "    (0): Bottleneck(\n",
      "      (conv1): Conv2d(64, 64, kernel_size=(1, 1), stride=(1, 1), bias=False)\n",
      "      (bn1): BatchNorm2d(64, eps=1e-05, momentum=0.1, affine=True, track_running_stats=True)\n",
      "      (conv2): Conv2d(64, 64, kernel_size=(3, 3), stride=(1, 1), padding=(1, 1), bias=False)\n",
      "      (bn2): BatchNorm2d(64, eps=1e-05, momentum=0.1, affine=True, track_running_stats=True)\n",
      "      (conv3): Conv2d(64, 256, kernel_size=(1, 1), stride=(1, 1), bias=False)\n",
      "      (bn3): BatchNorm2d(256, eps=1e-05, momentum=0.1, affine=True, track_running_stats=True)\n",
      "      (relu): ReLU(inplace=True)\n",
      "      (downsample): Sequential(\n",
      "        (0): Conv2d(64, 256, kernel_size=(1, 1), stride=(1, 1), bias=False)\n",
      "        (1): BatchNorm2d(256, eps=1e-05, momentum=0.1, affine=True, track_running_stats=True)\n",
      "      )\n",
      "    )\n",
      "    (1): Bottleneck(\n",
      "      (conv1): Conv2d(256, 64, kernel_size=(1, 1), stride=(1, 1), bias=False)\n",
      "      (bn1): BatchNorm2d(64, eps=1e-05, momentum=0.1, affine=True, track_running_stats=True)\n",
      "      (conv2): Conv2d(64, 64, kernel_size=(3, 3), stride=(1, 1), padding=(1, 1), bias=False)\n",
      "      (bn2): BatchNorm2d(64, eps=1e-05, momentum=0.1, affine=True, track_running_stats=True)\n",
      "      (conv3): Conv2d(64, 256, kernel_size=(1, 1), stride=(1, 1), bias=False)\n",
      "      (bn3): BatchNorm2d(256, eps=1e-05, momentum=0.1, affine=True, track_running_stats=True)\n",
      "      (relu): ReLU(inplace=True)\n",
      "    )\n",
      "    (2): Bottleneck(\n",
      "      (conv1): Conv2d(256, 64, kernel_size=(1, 1), stride=(1, 1), bias=False)\n",
      "      (bn1): BatchNorm2d(64, eps=1e-05, momentum=0.1, affine=True, track_running_stats=True)\n",
      "      (conv2): Conv2d(64, 64, kernel_size=(3, 3), stride=(1, 1), padding=(1, 1), bias=False)\n",
      "      (bn2): BatchNorm2d(64, eps=1e-05, momentum=0.1, affine=True, track_running_stats=True)\n",
      "      (conv3): Conv2d(64, 256, kernel_size=(1, 1), stride=(1, 1), bias=False)\n",
      "      (bn3): BatchNorm2d(256, eps=1e-05, momentum=0.1, affine=True, track_running_stats=True)\n",
      "      (relu): ReLU(inplace=True)\n",
      "    )\n",
      "  )\n",
      "  (layer2): Sequential(\n",
      "    (0): Bottleneck(\n",
      "      (conv1): Conv2d(256, 128, kernel_size=(1, 1), stride=(1, 1), bias=False)\n",
      "      (bn1): BatchNorm2d(128, eps=1e-05, momentum=0.1, affine=True, track_running_stats=True)\n",
      "      (conv2): Conv2d(128, 128, kernel_size=(3, 3), stride=(2, 2), padding=(1, 1), bias=False)\n",
      "      (bn2): BatchNorm2d(128, eps=1e-05, momentum=0.1, affine=True, track_running_stats=True)\n",
      "      (conv3): Conv2d(128, 512, kernel_size=(1, 1), stride=(1, 1), bias=False)\n",
      "      (bn3): BatchNorm2d(512, eps=1e-05, momentum=0.1, affine=True, track_running_stats=True)\n",
      "      (relu): ReLU(inplace=True)\n",
      "      (downsample): Sequential(\n",
      "        (0): Conv2d(256, 512, kernel_size=(1, 1), stride=(2, 2), bias=False)\n",
      "        (1): BatchNorm2d(512, eps=1e-05, momentum=0.1, affine=True, track_running_stats=True)\n",
      "      )\n",
      "    )\n",
      "    (1): Bottleneck(\n",
      "      (conv1): Conv2d(512, 128, kernel_size=(1, 1), stride=(1, 1), bias=False)\n",
      "      (bn1): BatchNorm2d(128, eps=1e-05, momentum=0.1, affine=True, track_running_stats=True)\n",
      "      (conv2): Conv2d(128, 128, kernel_size=(3, 3), stride=(1, 1), padding=(1, 1), bias=False)\n",
      "      (bn2): BatchNorm2d(128, eps=1e-05, momentum=0.1, affine=True, track_running_stats=True)\n",
      "      (conv3): Conv2d(128, 512, kernel_size=(1, 1), stride=(1, 1), bias=False)\n",
      "      (bn3): BatchNorm2d(512, eps=1e-05, momentum=0.1, affine=True, track_running_stats=True)\n",
      "      (relu): ReLU(inplace=True)\n",
      "    )\n",
      "    (2): Bottleneck(\n",
      "      (conv1): Conv2d(512, 128, kernel_size=(1, 1), stride=(1, 1), bias=False)\n",
      "      (bn1): BatchNorm2d(128, eps=1e-05, momentum=0.1, affine=True, track_running_stats=True)\n",
      "      (conv2): Conv2d(128, 128, kernel_size=(3, 3), stride=(1, 1), padding=(1, 1), bias=False)\n",
      "      (bn2): BatchNorm2d(128, eps=1e-05, momentum=0.1, affine=True, track_running_stats=True)\n",
      "      (conv3): Conv2d(128, 512, kernel_size=(1, 1), stride=(1, 1), bias=False)\n",
      "      (bn3): BatchNorm2d(512, eps=1e-05, momentum=0.1, affine=True, track_running_stats=True)\n",
      "      (relu): ReLU(inplace=True)\n",
      "    )\n",
      "    (3): Bottleneck(\n",
      "      (conv1): Conv2d(512, 128, kernel_size=(1, 1), stride=(1, 1), bias=False)\n",
      "      (bn1): BatchNorm2d(128, eps=1e-05, momentum=0.1, affine=True, track_running_stats=True)\n",
      "      (conv2): Conv2d(128, 128, kernel_size=(3, 3), stride=(1, 1), padding=(1, 1), bias=False)\n",
      "      (bn2): BatchNorm2d(128, eps=1e-05, momentum=0.1, affine=True, track_running_stats=True)\n",
      "      (conv3): Conv2d(128, 512, kernel_size=(1, 1), stride=(1, 1), bias=False)\n",
      "      (bn3): BatchNorm2d(512, eps=1e-05, momentum=0.1, affine=True, track_running_stats=True)\n",
      "      (relu): ReLU(inplace=True)\n",
      "    )\n",
      "  )\n",
      "  (layer3): Sequential(\n",
      "    (0): Bottleneck(\n",
      "      (conv1): Conv2d(512, 256, kernel_size=(1, 1), stride=(1, 1), bias=False)\n",
      "      (bn1): BatchNorm2d(256, eps=1e-05, momentum=0.1, affine=True, track_running_stats=True)\n",
      "      (conv2): Conv2d(256, 256, kernel_size=(3, 3), stride=(2, 2), padding=(1, 1), bias=False)\n",
      "      (bn2): BatchNorm2d(256, eps=1e-05, momentum=0.1, affine=True, track_running_stats=True)\n",
      "      (conv3): Conv2d(256, 1024, kernel_size=(1, 1), stride=(1, 1), bias=False)\n",
      "      (bn3): BatchNorm2d(1024, eps=1e-05, momentum=0.1, affine=True, track_running_stats=True)\n",
      "      (relu): ReLU(inplace=True)\n",
      "      (downsample): Sequential(\n",
      "        (0): Conv2d(512, 1024, kernel_size=(1, 1), stride=(2, 2), bias=False)\n",
      "        (1): BatchNorm2d(1024, eps=1e-05, momentum=0.1, affine=True, track_running_stats=True)\n",
      "      )\n",
      "    )\n",
      "    (1): Bottleneck(\n",
      "      (conv1): Conv2d(1024, 256, kernel_size=(1, 1), stride=(1, 1), bias=False)\n",
      "      (bn1): BatchNorm2d(256, eps=1e-05, momentum=0.1, affine=True, track_running_stats=True)\n",
      "      (conv2): Conv2d(256, 256, kernel_size=(3, 3), stride=(1, 1), padding=(1, 1), bias=False)\n",
      "      (bn2): BatchNorm2d(256, eps=1e-05, momentum=0.1, affine=True, track_running_stats=True)\n",
      "      (conv3): Conv2d(256, 1024, kernel_size=(1, 1), stride=(1, 1), bias=False)\n",
      "      (bn3): BatchNorm2d(1024, eps=1e-05, momentum=0.1, affine=True, track_running_stats=True)\n",
      "      (relu): ReLU(inplace=True)\n",
      "    )\n",
      "    (2): Bottleneck(\n",
      "      (conv1): Conv2d(1024, 256, kernel_size=(1, 1), stride=(1, 1), bias=False)\n",
      "      (bn1): BatchNorm2d(256, eps=1e-05, momentum=0.1, affine=True, track_running_stats=True)\n",
      "      (conv2): Conv2d(256, 256, kernel_size=(3, 3), stride=(1, 1), padding=(1, 1), bias=False)\n",
      "      (bn2): BatchNorm2d(256, eps=1e-05, momentum=0.1, affine=True, track_running_stats=True)\n",
      "      (conv3): Conv2d(256, 1024, kernel_size=(1, 1), stride=(1, 1), bias=False)\n",
      "      (bn3): BatchNorm2d(1024, eps=1e-05, momentum=0.1, affine=True, track_running_stats=True)\n",
      "      (relu): ReLU(inplace=True)\n",
      "    )\n",
      "    (3): Bottleneck(\n",
      "      (conv1): Conv2d(1024, 256, kernel_size=(1, 1), stride=(1, 1), bias=False)\n",
      "      (bn1): BatchNorm2d(256, eps=1e-05, momentum=0.1, affine=True, track_running_stats=True)\n",
      "      (conv2): Conv2d(256, 256, kernel_size=(3, 3), stride=(1, 1), padding=(1, 1), bias=False)\n",
      "      (bn2): BatchNorm2d(256, eps=1e-05, momentum=0.1, affine=True, track_running_stats=True)\n",
      "      (conv3): Conv2d(256, 1024, kernel_size=(1, 1), stride=(1, 1), bias=False)\n",
      "      (bn3): BatchNorm2d(1024, eps=1e-05, momentum=0.1, affine=True, track_running_stats=True)\n",
      "      (relu): ReLU(inplace=True)\n",
      "    )\n",
      "    (4): Bottleneck(\n",
      "      (conv1): Conv2d(1024, 256, kernel_size=(1, 1), stride=(1, 1), bias=False)\n",
      "      (bn1): BatchNorm2d(256, eps=1e-05, momentum=0.1, affine=True, track_running_stats=True)\n",
      "      (conv2): Conv2d(256, 256, kernel_size=(3, 3), stride=(1, 1), padding=(1, 1), bias=False)\n",
      "      (bn2): BatchNorm2d(256, eps=1e-05, momentum=0.1, affine=True, track_running_stats=True)\n",
      "      (conv3): Conv2d(256, 1024, kernel_size=(1, 1), stride=(1, 1), bias=False)\n",
      "      (bn3): BatchNorm2d(1024, eps=1e-05, momentum=0.1, affine=True, track_running_stats=True)\n",
      "      (relu): ReLU(inplace=True)\n",
      "    )\n",
      "    (5): Bottleneck(\n",
      "      (conv1): Conv2d(1024, 256, kernel_size=(1, 1), stride=(1, 1), bias=False)\n",
      "      (bn1): BatchNorm2d(256, eps=1e-05, momentum=0.1, affine=True, track_running_stats=True)\n",
      "      (conv2): Conv2d(256, 256, kernel_size=(3, 3), stride=(1, 1), padding=(1, 1), bias=False)\n",
      "      (bn2): BatchNorm2d(256, eps=1e-05, momentum=0.1, affine=True, track_running_stats=True)\n",
      "      (conv3): Conv2d(256, 1024, kernel_size=(1, 1), stride=(1, 1), bias=False)\n",
      "      (bn3): BatchNorm2d(1024, eps=1e-05, momentum=0.1, affine=True, track_running_stats=True)\n",
      "      (relu): ReLU(inplace=True)\n",
      "    )\n",
      "  )\n",
      "  (layer4): Sequential(\n",
      "    (0): Bottleneck(\n",
      "      (conv1): Conv2d(1024, 512, kernel_size=(1, 1), stride=(1, 1), bias=False)\n",
      "      (bn1): BatchNorm2d(512, eps=1e-05, momentum=0.1, affine=True, track_running_stats=True)\n",
      "      (conv2): Conv2d(512, 512, kernel_size=(3, 3), stride=(2, 2), padding=(1, 1), bias=False)\n",
      "      (bn2): BatchNorm2d(512, eps=1e-05, momentum=0.1, affine=True, track_running_stats=True)\n",
      "      (conv3): Conv2d(512, 2048, kernel_size=(1, 1), stride=(1, 1), bias=False)\n",
      "      (bn3): BatchNorm2d(2048, eps=1e-05, momentum=0.1, affine=True, track_running_stats=True)\n",
      "      (relu): ReLU(inplace=True)\n",
      "      (downsample): Sequential(\n",
      "        (0): Conv2d(1024, 2048, kernel_size=(1, 1), stride=(2, 2), bias=False)\n",
      "        (1): BatchNorm2d(2048, eps=1e-05, momentum=0.1, affine=True, track_running_stats=True)\n",
      "      )\n",
      "    )\n",
      "    (1): Bottleneck(\n",
      "      (conv1): Conv2d(2048, 512, kernel_size=(1, 1), stride=(1, 1), bias=False)\n",
      "      (bn1): BatchNorm2d(512, eps=1e-05, momentum=0.1, affine=True, track_running_stats=True)\n",
      "      (conv2): Conv2d(512, 512, kernel_size=(3, 3), stride=(1, 1), padding=(1, 1), bias=False)\n",
      "      (bn2): BatchNorm2d(512, eps=1e-05, momentum=0.1, affine=True, track_running_stats=True)\n",
      "      (conv3): Conv2d(512, 2048, kernel_size=(1, 1), stride=(1, 1), bias=False)\n",
      "      (bn3): BatchNorm2d(2048, eps=1e-05, momentum=0.1, affine=True, track_running_stats=True)\n",
      "      (relu): ReLU(inplace=True)\n",
      "    )\n",
      "    (2): Bottleneck(\n",
      "      (conv1): Conv2d(2048, 512, kernel_size=(1, 1), stride=(1, 1), bias=False)\n",
      "      (bn1): BatchNorm2d(512, eps=1e-05, momentum=0.1, affine=True, track_running_stats=True)\n",
      "      (conv2): Conv2d(512, 512, kernel_size=(3, 3), stride=(1, 1), padding=(1, 1), bias=False)\n",
      "      (bn2): BatchNorm2d(512, eps=1e-05, momentum=0.1, affine=True, track_running_stats=True)\n",
      "      (conv3): Conv2d(512, 2048, kernel_size=(1, 1), stride=(1, 1), bias=False)\n",
      "      (bn3): BatchNorm2d(2048, eps=1e-05, momentum=0.1, affine=True, track_running_stats=True)\n",
      "      (relu): ReLU(inplace=True)\n",
      "    )\n",
      "  )\n",
      "  (avgpool): AdaptiveAvgPool2d(output_size=(1, 1))\n",
      "  (fc): Sequential(\n",
      "    (0): Linear(in_features=2048, out_features=500, bias=True)\n",
      "    (1): ReLU()\n",
      "    (2): Dropout(p=0.5, inplace=False)\n",
      "    (3): Linear(in_features=500, out_features=2, bias=True)\n",
      "  )\n",
      ")\n"
     ]
    }
   ],
   "source": [
    "# инициализируем предобученную модель ResNet50\n",
    "pretrained_resnet50 = models.resnet50(pretrained=True)\n",
    "\n",
    "# замораживаем слои, используя метод requires_grad()\n",
    "# в этом случае не вычисляются градиенты для слоев\n",
    "# сделать это надо для всех параметеров сети\n",
    "for name, param in pretrained_resnet50.named_parameters():\n",
    "    param.requires_grad = False\n",
    "\n",
    "\n",
    "# к различным блокам модели в PyTorch легко получить доступ\n",
    "# заменим блок классификатора на свой, подходящий для решения\n",
    "# задачи классификации кошек и собак\n",
    "pretrained_resnet50.fc = nn.Sequential(\n",
    "    nn.Linear(pretrained_resnet50.fc.in_features, 500),\n",
    "    nn.ReLU(),\n",
    "    nn.Dropout(),\n",
    "    nn.Linear(500, 2)\n",
    ")\n",
    "\n",
    "# перенесем модель на устройство\n",
    "pretrained_resnet50.to(device)\n",
    "\n",
    "# выведем модель\n",
    "print(pretrained_resnet50)"
   ]
  },
  {
   "cell_type": "code",
   "execution_count": 26,
   "metadata": {
    "id": "NDoLYXTSiiRH",
    "colab": {
     "base_uri": "https://localhost:8080/"
    },
    "outputId": "76590747-376f-420b-8ea4-bb63ccc232d9",
    "pycharm": {
     "name": "#%%\n"
    }
   },
   "outputs": [
    {
     "name": "stdout",
     "output_type": "stream",
     "text": [
      "Epoch: 01\n",
      "\tTrain Loss: 0.676 | Train Acc: 69.32%\n",
      "\t Val. Loss: 0.107 |  Val. Acc: 95.83%\n",
      "Epoch: 02\n",
      "\tTrain Loss: 0.461 | Train Acc: 82.39%\n",
      "\t Val. Loss: 0.265 |  Val. Acc: 87.50%\n",
      "Epoch: 03\n",
      "\tTrain Loss: 0.221 | Train Acc: 89.77%\n",
      "\t Val. Loss: 0.170 |  Val. Acc: 89.58%\n",
      "Epoch: 04\n",
      "\tTrain Loss: 0.139 | Train Acc: 95.45%\n",
      "\t Val. Loss: 0.085 |  Val. Acc: 97.92%\n",
      "Epoch: 05\n",
      "\tTrain Loss: 0.083 | Train Acc: 97.16%\n",
      "\t Val. Loss: 0.064 |  Val. Acc: 95.83%\n",
      "Epoch: 06\n",
      "\tTrain Loss: 0.173 | Train Acc: 91.48%\n",
      "\t Val. Loss: 0.070 |  Val. Acc: 97.92%\n",
      "Epoch: 07\n",
      "\tTrain Loss: 0.099 | Train Acc: 95.45%\n",
      "\t Val. Loss: 0.064 |  Val. Acc: 97.92%\n",
      "Epoch: 08\n",
      "\tTrain Loss: 0.048 | Train Acc: 98.30%\n",
      "\t Val. Loss: 0.074 |  Val. Acc: 95.83%\n",
      "Epoch: 09\n",
      "\tTrain Loss: 0.054 | Train Acc: 98.86%\n",
      "\t Val. Loss: 0.053 |  Val. Acc: 97.92%\n",
      "Epoch: 10\n",
      "\tTrain Loss: 0.094 | Train Acc: 95.45%\n",
      "\t Val. Loss: 0.195 |  Val. Acc: 91.67%\n"
     ]
    }
   ],
   "source": [
    "# попробуем обучить!\n",
    "\n",
    "epochs = 10\n",
    "optimizer = optim.Adam(pretrained_resnet50.parameters(), lr=0.001)\n",
    "loss_function = nn.CrossEntropyLoss()\n",
    "\n",
    "\n",
    "for epoch in range(epochs):\n",
    "\n",
    "    train_loss, train_acc = train(pretrained_resnet50, train_loader_1, optimizer, loss_function, device)\n",
    "\n",
    "    test_loss, test_acc   = evaluate(pretrained_resnet50, test_loader_1, loss_function, device)\n",
    "\n",
    "    print(f'Epoch: {epoch + 1:02}')\n",
    "    print(f'\\tTrain Loss: {train_loss:.3f} | Train Acc: {train_acc * 100:.2f}%')\n",
    "    print(f'\\t Val. Loss: {test_loss:.3f} |  Val. Acc: {test_acc * 100:.2f}%')"
   ]
  },
  {
   "cell_type": "code",
   "source": [
    "# сохранение модели в PTH\n",
    "torch.save(pretrained_resnet50.state_dict(), \"resnet50_pretrained.pth\")"
   ],
   "metadata": {
    "id": "PB2o0ocyk_K1",
    "pycharm": {
     "name": "#%%\n"
    }
   },
   "execution_count": 22,
   "outputs": []
  },
  {
   "cell_type": "code",
   "source": [
    "# выгрузим из PTH-файла обученную ResNet-50 и загрузим ее словарь состояния\n",
    "resnet50_state_dict = torch.load(\"resnet50_pretrained.pth\")\n",
    "resnet50 = models.resnet50(pretrained=False)\n",
    "\n",
    "resnet50.fc = nn.Sequential(\n",
    "    nn.Linear(resnet50.fc.in_features, 500),\n",
    "    nn.ReLU(),\n",
    "    nn.Dropout(),\n",
    "    nn.Linear(500, 2)\n",
    ")\n",
    "\n",
    "resnet50.load_state_dict(resnet50_state_dict)"
   ],
   "metadata": {
    "id": "oUlcF56m4U88",
    "colab": {
     "base_uri": "https://localhost:8080/"
    },
    "outputId": "193ba605-34e2-4cd1-bfe8-3ce52c6718e2",
    "pycharm": {
     "name": "#%%\n"
    }
   },
   "execution_count": 23,
   "outputs": [
    {
     "output_type": "stream",
     "name": "stderr",
     "text": [
      "/usr/local/lib/python3.10/dist-packages/torchvision/models/_utils.py:223: UserWarning: Arguments other than a weight enum or `None` for 'weights' are deprecated since 0.13 and may be removed in the future. The current behavior is equivalent to passing `weights=None`.\n",
      "  warnings.warn(msg)\n"
     ]
    },
    {
     "output_type": "execute_result",
     "data": {
      "text/plain": [
       "<All keys matched successfully>"
      ]
     },
     "metadata": {},
     "execution_count": 23
    }
   ]
  },
  {
   "cell_type": "code",
   "source": [
    "# применим обученную на кошках и собаках ResNet-50\n",
    "transform = transforms.Compose([\n",
    "      transforms.Resize(256),\n",
    "      transforms.CenterCrop(224),\n",
    "      transforms.ToTensor(),\n",
    "      transforms.Normalize([0.485, 0.456, 0.406], [0.229, 0.224, 0.225])\n",
    "])\n",
    "\n",
    "# откроем пример изображения, которого необходимо классифицировать\n",
    "image = Image.open(\"/content/dogs_vs_cats/Dogs vs Cats/test/dogs/dog.1500.jpg\")\n",
    "image = transform(image)\n",
    "image = image.unsqueeze(0)\n",
    "\n",
    "# переводим модель в режим теста и формируем предсказания\n",
    "resnet50.eval()\n",
    "preds = resnet50(image)\n",
    "pred = preds.argmax()\n",
    "labels = test_data.classes\n",
    "print(labels[pred])"
   ],
   "metadata": {
    "id": "HyK3hz1y5T0E",
    "colab": {
     "base_uri": "https://localhost:8080/"
    },
    "outputId": "5e23636c-1d81-4453-e388-f94118a66f47",
    "pycharm": {
     "name": "#%%\n"
    }
   },
   "execution_count": 24,
   "outputs": [
    {
     "output_type": "stream",
     "name": "stdout",
     "text": [
      "dogs\n"
     ]
    }
   ]
  },
  {
   "cell_type": "markdown",
   "metadata": {
    "id": "yZFQmgUXnEEn",
    "pycharm": {
     "name": "#%% md\n"
    }
   },
   "source": [
    "Существуют методики для улучшения показателей точности модели: аугментация данных, применение подхода дифференцированного обучения и т. д."
   ]
  },
  {
   "cell_type": "markdown",
   "source": [
    "## Конвертация сверточной нейронной сети в ONNX"
   ],
   "metadata": {
    "id": "1be1lDd_kSDT",
    "pycharm": {
     "name": "#%% md\n"
    }
   }
  },
  {
   "cell_type": "markdown",
   "source": [
    "**ONNX** (Open Neural Network Exchange) -- открытый формат хранения нейросетевых моделей.\n",
    "\n",
    "С помощью ONNX разработчики могут обмениваться моделями между различными инструментами и выбирать наилучшую комбинацию этих инструментов. ONNX разрабатывается и поддерживается совместно компаниями Microsoft, Facebook, Amazon и другими партнерами как проект с открытым исходным кодом\n",
    "\n",
    "Перевод моделей из PTH в ONNX имеется в PyTorch из коробки  \n",
    "Для этого нужно использовать модуль `torch.onnx`  "
   ],
   "metadata": {
    "id": "e50I4Zbdl3n3",
    "pycharm": {
     "name": "#%% md\n"
    }
   }
  },
  {
   "cell_type": "code",
   "source": [
    "!pip install onnx\n",
    "!pip install onnxruntime"
   ],
   "metadata": {
    "colab": {
     "base_uri": "https://localhost:8080/"
    },
    "id": "D7QZ_-TclGhF",
    "outputId": "ffe7a468-263b-47f8-e4b8-a3d7249c2382",
    "pycharm": {
     "name": "#%%\n"
    }
   },
   "execution_count": 30,
   "outputs": [
    {
     "output_type": "stream",
     "name": "stdout",
     "text": [
      "Requirement already satisfied: onnx in /usr/local/lib/python3.10/dist-packages (1.15.0)\n",
      "Requirement already satisfied: numpy in /usr/local/lib/python3.10/dist-packages (from onnx) (1.23.5)\n",
      "Requirement already satisfied: protobuf>=3.20.2 in /usr/local/lib/python3.10/dist-packages (from onnx) (3.20.3)\n",
      "Collecting onnxruntime\n",
      "  Downloading onnxruntime-1.16.2-cp310-cp310-manylinux_2_17_x86_64.manylinux2014_x86_64.whl (6.4 MB)\n",
      "\u001B[2K     \u001B[90m━━━━━━━━━━━━━━━━━━━━━━━━━━━━━━━━━━━━━━━━\u001B[0m \u001B[32m6.4/6.4 MB\u001B[0m \u001B[31m54.0 MB/s\u001B[0m eta \u001B[36m0:00:00\u001B[0m\n",
      "\u001B[?25hCollecting coloredlogs (from onnxruntime)\n",
      "  Downloading coloredlogs-15.0.1-py2.py3-none-any.whl (46 kB)\n",
      "\u001B[2K     \u001B[90m━━━━━━━━━━━━━━━━━━━━━━━━━━━━━━━━━━━━━━━━\u001B[0m \u001B[32m46.0/46.0 kB\u001B[0m \u001B[31m7.5 MB/s\u001B[0m eta \u001B[36m0:00:00\u001B[0m\n",
      "\u001B[?25hRequirement already satisfied: flatbuffers in /usr/local/lib/python3.10/dist-packages (from onnxruntime) (23.5.26)\n",
      "Requirement already satisfied: numpy>=1.21.6 in /usr/local/lib/python3.10/dist-packages (from onnxruntime) (1.23.5)\n",
      "Requirement already satisfied: packaging in /usr/local/lib/python3.10/dist-packages (from onnxruntime) (23.2)\n",
      "Requirement already satisfied: protobuf in /usr/local/lib/python3.10/dist-packages (from onnxruntime) (3.20.3)\n",
      "Requirement already satisfied: sympy in /usr/local/lib/python3.10/dist-packages (from onnxruntime) (1.12)\n",
      "Collecting humanfriendly>=9.1 (from coloredlogs->onnxruntime)\n",
      "  Downloading humanfriendly-10.0-py2.py3-none-any.whl (86 kB)\n",
      "\u001B[2K     \u001B[90m━━━━━━━━━━━━━━━━━━━━━━━━━━━━━━━━━━━━━━━━\u001B[0m \u001B[32m86.8/86.8 kB\u001B[0m \u001B[31m14.3 MB/s\u001B[0m eta \u001B[36m0:00:00\u001B[0m\n",
      "\u001B[?25hRequirement already satisfied: mpmath>=0.19 in /usr/local/lib/python3.10/dist-packages (from sympy->onnxruntime) (1.3.0)\n",
      "Installing collected packages: humanfriendly, coloredlogs, onnxruntime\n",
      "Successfully installed coloredlogs-15.0.1 humanfriendly-10.0 onnxruntime-1.16.2\n"
     ]
    }
   ]
  },
  {
   "cell_type": "code",
   "execution_count": 27,
   "metadata": {
    "id": "_Ynr3d0Jw9dy",
    "pycharm": {
     "name": "#%%\n"
    }
   },
   "outputs": [],
   "source": [
    "# импортируем torch.onnx\n",
    "import torch.onnx\n",
    "\n",
    "# сформируем вход модели\n",
    "x = torch.randn(1, 3, 224, 224, requires_grad=True).to(device)\n",
    "\n",
    "# сгенерируем выходы предобученной модели (например, предобученной ResNet50)\n",
    "outs = pretrained_resnet50(x)\n",
    "\n",
    "# экспортируем модель в onnx\n",
    "torch.onnx.export(pretrained_resnet50, x, \"resnet50_pretrained.onnx\")"
   ]
  },
  {
   "cell_type": "code",
   "source": [
    "# установим модули onnx и onnxruntime\n",
    "!pip install onnx onnxruntime"
   ],
   "metadata": {
    "id": "63JFNyUxwVoy",
    "colab": {
     "base_uri": "https://localhost:8080/"
    },
    "outputId": "761b00b1-e96f-4f54-b45f-38ef85aee825",
    "pycharm": {
     "name": "#%%\n"
    }
   },
   "execution_count": null,
   "outputs": [
    {
     "output_type": "stream",
     "name": "stdout",
     "text": [
      "Looking in indexes: https://pypi.org/simple, https://us-python.pkg.dev/colab-wheels/public/simple/\n",
      "Collecting onnx\n",
      "  Downloading onnx-1.12.0-cp37-cp37m-manylinux_2_17_x86_64.manylinux2014_x86_64.whl (13.1 MB)\n",
      "\u001B[K     |████████████████████████████████| 13.1 MB 26.6 MB/s \n",
      "\u001B[?25hCollecting onnxruntime\n",
      "  Downloading onnxruntime-1.13.1-cp37-cp37m-manylinux_2_27_x86_64.whl (4.5 MB)\n",
      "\u001B[K     |████████████████████████████████| 4.5 MB 47.1 MB/s \n",
      "\u001B[?25hRequirement already satisfied: typing-extensions>=3.6.2.1 in /usr/local/lib/python3.7/dist-packages (from onnx) (4.1.1)\n",
      "Requirement already satisfied: protobuf<=3.20.1,>=3.12.2 in /usr/local/lib/python3.7/dist-packages (from onnx) (3.19.6)\n",
      "Requirement already satisfied: numpy>=1.16.6 in /usr/local/lib/python3.7/dist-packages (from onnx) (1.21.6)\n",
      "Requirement already satisfied: packaging in /usr/local/lib/python3.7/dist-packages (from onnxruntime) (21.3)\n",
      "Requirement already satisfied: sympy in /usr/local/lib/python3.7/dist-packages (from onnxruntime) (1.7.1)\n",
      "Collecting coloredlogs\n",
      "  Downloading coloredlogs-15.0.1-py2.py3-none-any.whl (46 kB)\n",
      "\u001B[K     |████████████████████████████████| 46 kB 4.6 MB/s \n",
      "\u001B[?25hRequirement already satisfied: flatbuffers in /usr/local/lib/python3.7/dist-packages (from onnxruntime) (1.12)\n",
      "Collecting humanfriendly>=9.1\n",
      "  Downloading humanfriendly-10.0-py2.py3-none-any.whl (86 kB)\n",
      "\u001B[K     |████████████████████████████████| 86 kB 6.8 MB/s \n",
      "\u001B[?25hRequirement already satisfied: pyparsing!=3.0.5,>=2.0.2 in /usr/local/lib/python3.7/dist-packages (from packaging->onnxruntime) (3.0.9)\n",
      "Requirement already satisfied: mpmath>=0.19 in /usr/local/lib/python3.7/dist-packages (from sympy->onnxruntime) (1.2.1)\n",
      "Installing collected packages: humanfriendly, coloredlogs, onnxruntime, onnx\n",
      "Successfully installed coloredlogs-15.0.1 humanfriendly-10.0 onnx-1.12.0 onnxruntime-1.13.1\n"
     ]
    }
   ]
  },
  {
   "cell_type": "code",
   "source": [
    "# теперь мы можем проверить ONNX-модель на работоспособность\n",
    "# но перед этим проверим ее структуру через модуль onnx\n",
    "import onnx\n",
    "\n",
    "onnx_model = onnx.load(\"resnet50_pretrained.onnx\")\n",
    "onnx.checker.check_model(onnx_model)"
   ],
   "metadata": {
    "id": "tLFLy-lWuNcF",
    "pycharm": {
     "name": "#%%\n"
    }
   },
   "execution_count": 28,
   "outputs": []
  },
  {
   "cell_type": "code",
   "source": [
    "# убедимся, что выходы PTH-модели и ONNX-модели совпадают\n",
    "\n",
    "import onnxruntime\n",
    "import numpy as np\n",
    "\n",
    "# инициализируем сессию  ONNXRuntime\n",
    "ort_session = onnxruntime.InferenceSession(\"resnet50_pretrained.onnx\")\n",
    "\n",
    "# определим функцию перевода тензора в numpy-массив\n",
    "def to_numpy(tensor):\n",
    "    return tensor.detach().cpu().numpy() if tensor.requires_grad else tensor.cpu().numpy()\n",
    "\n",
    "# определим входы и выходы\n",
    "ort_inputs = {ort_session.get_inputs()[0].name: to_numpy(x)}\n",
    "ort_outs = ort_session.run(None, ort_inputs)\n",
    "\n",
    "# сравним результаты\n",
    "np.testing.assert_allclose(to_numpy(outs[0]), ort_outs[0][0], rtol=1e-03, atol=1e-05)\n",
    "print(\"Все в порядке\")"
   ],
   "metadata": {
    "id": "aXm1g_VEvxip",
    "colab": {
     "base_uri": "https://localhost:8080/"
    },
    "outputId": "06295bee-05d6-4442-8005-677b2149712d",
    "pycharm": {
     "name": "#%%\n"
    }
   },
   "execution_count": 31,
   "outputs": [
    {
     "output_type": "stream",
     "name": "stdout",
     "text": [
      "Все в порядке\n"
     ]
    }
   ]
  },
  {
   "cell_type": "code",
   "source": [
    "# используем ONNX-модель предобученной ResNet-50 по прямому назначению\n",
    "import matplotlib.pyplot as plt\n",
    "\n",
    "labels = test_data.classes\n",
    "\n",
    "# возьмем пример из тестового набора\n",
    "image, label = test_data[12]\n",
    "label = torch.tensor(label)\n",
    "\n",
    "# поместим его на девайс и добавим рахмерность батча\n",
    "image = image.to(device)\n",
    "image = image.unsqueeze(0)\n",
    "label = label.to(device)\n",
    "\n",
    "# инициализируем входы и выходы ONNX-модели\n",
    "inputs = {ort_session.get_inputs()[0].name: to_numpy(image)}\n",
    "outs = ort_session.run(None, inputs)\n",
    "\n",
    "# формируем предсказания\n",
    "prediction = outs[0].argmax()\n",
    "\n",
    "# для \"отбрасывания\" размерности батча вызываем функцию squeeze()\n",
    "image_squezze = image.squeeze()\n",
    "\n",
    "# перевод изображения в NumPy-массив для отображения на графике\n",
    "image_numpy = image_squezze.cpu().numpy()\n",
    "\n",
    "# вывод изображения, метки класса и предсказания\n",
    "print(f\"Истинный класс: {labels[prediction]}\")\n",
    "print(f\"Предсказанный класс: {labels[label]}\")\n",
    "\n",
    "plt.imshow(image_numpy.transpose(1, 2, 0))\n",
    "plt.show()"
   ],
   "metadata": {
    "id": "x3loOsROxvil",
    "colab": {
     "base_uri": "https://localhost:8080/",
     "height": 469
    },
    "outputId": "0d5a36f7-e59f-4cc5-de66-2b930e2f7781",
    "pycharm": {
     "name": "#%%\n"
    }
   },
   "execution_count": 32,
   "outputs": [
    {
     "output_type": "stream",
     "name": "stdout",
     "text": [
      "Истинный класс: cats\n",
      "Предсказанный класс: cats\n"
     ]
    },
    {
     "output_type": "display_data",
     "data": {
      "text/plain": [
       "<Figure size 640x480 with 1 Axes>"
      ],
      "image/png": "[encoded data removed]"
     },
     "metadata": {}
    }
   ]
  },
  {
   "cell_type": "markdown",
   "source": [
    "# Задания\n",
    "\n",
    "1. Добавьте в исходную простую CNN:\n",
    "  * 1 сверточный слой (3-й по счету), параметры которого имеют следующий вид:   in_channels=16, out_channels=32, kernel_size=2, padding=1, stride=1  \n",
    "  * следом за ним 1 слой максимального пулинга с kernel_size=2  \n",
    "\n",
    "  Проведите итерацию обучения измененной модели на Fashion-MNIST. Увеличилась   или уменьшилась точность по сравнению с исходной моделью? Сохраните измененную модель в PTH-файле. Загрузите сохраненную модель и выполните классификацию на любом примере из Fashion-MNIST.\n",
    "\n",
    "2. Проведите итерацию обучения модели ResNet-152 на датасете с собаками и кошками. Увеличилась или уменьшилась точность в сравнении с ResNet-50? Сохраните обученную модель ResNet-152 в PTH-файле. Загрузите модель из PTH-файла и выполните классификацию на любом примере из датасета с собаками и кошками\n",
    "\n",
    "3. Сконвертируйте модель ResNet-152, полученную в п. 3, в формат ONNX. Выполните классификацию с помощью onnxruntime на любой картинке из датасета с кошками и собаками.\n",
    "\n",
    "\n",
    "Результатом данной работы должен быть архив с 3 файлами:\n",
    "* Сохраненная в PTH простая CNN из п. 1\n",
    "* Сохраненная в PTH модель ResNet-152 из п. 2\n",
    "* Сохраненная в ONNX модель ResNet-152 из п. 3"
   ],
   "metadata": {
    "id": "k1r7nk9-y0zR",
    "pycharm": {
     "name": "#%% md\n"
    }
   }
  },
  {
   "cell_type": "markdown",
   "source": [
    "# Задание 1\n",
    "\n",
    "* Точность осталась примерно такой же"
   ],
   "metadata": {
    "collapsed": false,
    "pycharm": {
     "name": "#%% md\n"
    }
   }
  },
  {
   "cell_type": "markdown",
   "source": [
    "# Задание 2"
   ],
   "metadata": {
    "collapsed": false,
    "pycharm": {
     "name": "#%% md\n"
    }
   }
  },
  {
   "cell_type": "code",
   "execution_count": 29,
   "outputs": [
    {
     "name": "stderr",
     "output_type": "stream",
     "text": [
      "C:\\Users\\morph\\anaconda3\\envs\\workspace\\lib\\site-packages\\torchvision\\models\\_utils.py:208: UserWarning: The parameter 'pretrained' is deprecated since 0.13 and may be removed in the future, please use 'weights' instead.\n",
      "  warnings.warn(\n",
      "C:\\Users\\morph\\anaconda3\\envs\\workspace\\lib\\site-packages\\torchvision\\models\\_utils.py:223: UserWarning: Arguments other than a weight enum or `None` for 'weights' are deprecated since 0.13 and may be removed in the future. The current behavior is equivalent to passing `weights=ResNet152_Weights.IMAGENET1K_V1`. You can also use `weights=ResNet152_Weights.DEFAULT` to get the most up-to-date weights.\n",
      "  warnings.warn(msg)\n"
     ]
    },
    {
     "name": "stdout",
     "output_type": "stream",
     "text": [
      "ResNet(\n",
      "  (conv1): Conv2d(3, 64, kernel_size=(7, 7), stride=(2, 2), padding=(3, 3), bias=False)\n",
      "  (bn1): BatchNorm2d(64, eps=1e-05, momentum=0.1, affine=True, track_running_stats=True)\n",
      "  (relu): ReLU(inplace=True)\n",
      "  (maxpool): MaxPool2d(kernel_size=3, stride=2, padding=1, dilation=1, ceil_mode=False)\n",
      "  (layer1): Sequential(\n",
      "    (0): Bottleneck(\n",
      "      (conv1): Conv2d(64, 64, kernel_size=(1, 1), stride=(1, 1), bias=False)\n",
      "      (bn1): BatchNorm2d(64, eps=1e-05, momentum=0.1, affine=True, track_running_stats=True)\n",
      "      (conv2): Conv2d(64, 64, kernel_size=(3, 3), stride=(1, 1), padding=(1, 1), bias=False)\n",
      "      (bn2): BatchNorm2d(64, eps=1e-05, momentum=0.1, affine=True, track_running_stats=True)\n",
      "      (conv3): Conv2d(64, 256, kernel_size=(1, 1), stride=(1, 1), bias=False)\n",
      "      (bn3): BatchNorm2d(256, eps=1e-05, momentum=0.1, affine=True, track_running_stats=True)\n",
      "      (relu): ReLU(inplace=True)\n",
      "      (downsample): Sequential(\n",
      "        (0): Conv2d(64, 256, kernel_size=(1, 1), stride=(1, 1), bias=False)\n",
      "        (1): BatchNorm2d(256, eps=1e-05, momentum=0.1, affine=True, track_running_stats=True)\n",
      "      )\n",
      "    )\n",
      "    (1): Bottleneck(\n",
      "      (conv1): Conv2d(256, 64, kernel_size=(1, 1), stride=(1, 1), bias=False)\n",
      "      (bn1): BatchNorm2d(64, eps=1e-05, momentum=0.1, affine=True, track_running_stats=True)\n",
      "      (conv2): Conv2d(64, 64, kernel_size=(3, 3), stride=(1, 1), padding=(1, 1), bias=False)\n",
      "      (bn2): BatchNorm2d(64, eps=1e-05, momentum=0.1, affine=True, track_running_stats=True)\n",
      "      (conv3): Conv2d(64, 256, kernel_size=(1, 1), stride=(1, 1), bias=False)\n",
      "      (bn3): BatchNorm2d(256, eps=1e-05, momentum=0.1, affine=True, track_running_stats=True)\n",
      "      (relu): ReLU(inplace=True)\n",
      "    )\n",
      "    (2): Bottleneck(\n",
      "      (conv1): Conv2d(256, 64, kernel_size=(1, 1), stride=(1, 1), bias=False)\n",
      "      (bn1): BatchNorm2d(64, eps=1e-05, momentum=0.1, affine=True, track_running_stats=True)\n",
      "      (conv2): Conv2d(64, 64, kernel_size=(3, 3), stride=(1, 1), padding=(1, 1), bias=False)\n",
      "      (bn2): BatchNorm2d(64, eps=1e-05, momentum=0.1, affine=True, track_running_stats=True)\n",
      "      (conv3): Conv2d(64, 256, kernel_size=(1, 1), stride=(1, 1), bias=False)\n",
      "      (bn3): BatchNorm2d(256, eps=1e-05, momentum=0.1, affine=True, track_running_stats=True)\n",
      "      (relu): ReLU(inplace=True)\n",
      "    )\n",
      "  )\n",
      "  (layer2): Sequential(\n",
      "    (0): Bottleneck(\n",
      "      (conv1): Conv2d(256, 128, kernel_size=(1, 1), stride=(1, 1), bias=False)\n",
      "      (bn1): BatchNorm2d(128, eps=1e-05, momentum=0.1, affine=True, track_running_stats=True)\n",
      "      (conv2): Conv2d(128, 128, kernel_size=(3, 3), stride=(2, 2), padding=(1, 1), bias=False)\n",
      "      (bn2): BatchNorm2d(128, eps=1e-05, momentum=0.1, affine=True, track_running_stats=True)\n",
      "      (conv3): Conv2d(128, 512, kernel_size=(1, 1), stride=(1, 1), bias=False)\n",
      "      (bn3): BatchNorm2d(512, eps=1e-05, momentum=0.1, affine=True, track_running_stats=True)\n",
      "      (relu): ReLU(inplace=True)\n",
      "      (downsample): Sequential(\n",
      "        (0): Conv2d(256, 512, kernel_size=(1, 1), stride=(2, 2), bias=False)\n",
      "        (1): BatchNorm2d(512, eps=1e-05, momentum=0.1, affine=True, track_running_stats=True)\n",
      "      )\n",
      "    )\n",
      "    (1): Bottleneck(\n",
      "      (conv1): Conv2d(512, 128, kernel_size=(1, 1), stride=(1, 1), bias=False)\n",
      "      (bn1): BatchNorm2d(128, eps=1e-05, momentum=0.1, affine=True, track_running_stats=True)\n",
      "      (conv2): Conv2d(128, 128, kernel_size=(3, 3), stride=(1, 1), padding=(1, 1), bias=False)\n",
      "      (bn2): BatchNorm2d(128, eps=1e-05, momentum=0.1, affine=True, track_running_stats=True)\n",
      "      (conv3): Conv2d(128, 512, kernel_size=(1, 1), stride=(1, 1), bias=False)\n",
      "      (bn3): BatchNorm2d(512, eps=1e-05, momentum=0.1, affine=True, track_running_stats=True)\n",
      "      (relu): ReLU(inplace=True)\n",
      "    )\n",
      "    (2): Bottleneck(\n",
      "      (conv1): Conv2d(512, 128, kernel_size=(1, 1), stride=(1, 1), bias=False)\n",
      "      (bn1): BatchNorm2d(128, eps=1e-05, momentum=0.1, affine=True, track_running_stats=True)\n",
      "      (conv2): Conv2d(128, 128, kernel_size=(3, 3), stride=(1, 1), padding=(1, 1), bias=False)\n",
      "      (bn2): BatchNorm2d(128, eps=1e-05, momentum=0.1, affine=True, track_running_stats=True)\n",
      "      (conv3): Conv2d(128, 512, kernel_size=(1, 1), stride=(1, 1), bias=False)\n",
      "      (bn3): BatchNorm2d(512, eps=1e-05, momentum=0.1, affine=True, track_running_stats=True)\n",
      "      (relu): ReLU(inplace=True)\n",
      "    )\n",
      "    (3): Bottleneck(\n",
      "      (conv1): Conv2d(512, 128, kernel_size=(1, 1), stride=(1, 1), bias=False)\n",
      "      (bn1): BatchNorm2d(128, eps=1e-05, momentum=0.1, affine=True, track_running_stats=True)\n",
      "      (conv2): Conv2d(128, 128, kernel_size=(3, 3), stride=(1, 1), padding=(1, 1), bias=False)\n",
      "      (bn2): BatchNorm2d(128, eps=1e-05, momentum=0.1, affine=True, track_running_stats=True)\n",
      "      (conv3): Conv2d(128, 512, kernel_size=(1, 1), stride=(1, 1), bias=False)\n",
      "      (bn3): BatchNorm2d(512, eps=1e-05, momentum=0.1, affine=True, track_running_stats=True)\n",
      "      (relu): ReLU(inplace=True)\n",
      "    )\n",
      "    (4): Bottleneck(\n",
      "      (conv1): Conv2d(512, 128, kernel_size=(1, 1), stride=(1, 1), bias=False)\n",
      "      (bn1): BatchNorm2d(128, eps=1e-05, momentum=0.1, affine=True, track_running_stats=True)\n",
      "      (conv2): Conv2d(128, 128, kernel_size=(3, 3), stride=(1, 1), padding=(1, 1), bias=False)\n",
      "      (bn2): BatchNorm2d(128, eps=1e-05, momentum=0.1, affine=True, track_running_stats=True)\n",
      "      (conv3): Conv2d(128, 512, kernel_size=(1, 1), stride=(1, 1), bias=False)\n",
      "      (bn3): BatchNorm2d(512, eps=1e-05, momentum=0.1, affine=True, track_running_stats=True)\n",
      "      (relu): ReLU(inplace=True)\n",
      "    )\n",
      "    (5): Bottleneck(\n",
      "      (conv1): Conv2d(512, 128, kernel_size=(1, 1), stride=(1, 1), bias=False)\n",
      "      (bn1): BatchNorm2d(128, eps=1e-05, momentum=0.1, affine=True, track_running_stats=True)\n",
      "      (conv2): Conv2d(128, 128, kernel_size=(3, 3), stride=(1, 1), padding=(1, 1), bias=False)\n",
      "      (bn2): BatchNorm2d(128, eps=1e-05, momentum=0.1, affine=True, track_running_stats=True)\n",
      "      (conv3): Conv2d(128, 512, kernel_size=(1, 1), stride=(1, 1), bias=False)\n",
      "      (bn3): BatchNorm2d(512, eps=1e-05, momentum=0.1, affine=True, track_running_stats=True)\n",
      "      (relu): ReLU(inplace=True)\n",
      "    )\n",
      "    (6): Bottleneck(\n",
      "      (conv1): Conv2d(512, 128, kernel_size=(1, 1), stride=(1, 1), bias=False)\n",
      "      (bn1): BatchNorm2d(128, eps=1e-05, momentum=0.1, affine=True, track_running_stats=True)\n",
      "      (conv2): Conv2d(128, 128, kernel_size=(3, 3), stride=(1, 1), padding=(1, 1), bias=False)\n",
      "      (bn2): BatchNorm2d(128, eps=1e-05, momentum=0.1, affine=True, track_running_stats=True)\n",
      "      (conv3): Conv2d(128, 512, kernel_size=(1, 1), stride=(1, 1), bias=False)\n",
      "      (bn3): BatchNorm2d(512, eps=1e-05, momentum=0.1, affine=True, track_running_stats=True)\n",
      "      (relu): ReLU(inplace=True)\n",
      "    )\n",
      "    (7): Bottleneck(\n",
      "      (conv1): Conv2d(512, 128, kernel_size=(1, 1), stride=(1, 1), bias=False)\n",
      "      (bn1): BatchNorm2d(128, eps=1e-05, momentum=0.1, affine=True, track_running_stats=True)\n",
      "      (conv2): Conv2d(128, 128, kernel_size=(3, 3), stride=(1, 1), padding=(1, 1), bias=False)\n",
      "      (bn2): BatchNorm2d(128, eps=1e-05, momentum=0.1, affine=True, track_running_stats=True)\n",
      "      (conv3): Conv2d(128, 512, kernel_size=(1, 1), stride=(1, 1), bias=False)\n",
      "      (bn3): BatchNorm2d(512, eps=1e-05, momentum=0.1, affine=True, track_running_stats=True)\n",
      "      (relu): ReLU(inplace=True)\n",
      "    )\n",
      "  )\n",
      "  (layer3): Sequential(\n",
      "    (0): Bottleneck(\n",
      "      (conv1): Conv2d(512, 256, kernel_size=(1, 1), stride=(1, 1), bias=False)\n",
      "      (bn1): BatchNorm2d(256, eps=1e-05, momentum=0.1, affine=True, track_running_stats=True)\n",
      "      (conv2): Conv2d(256, 256, kernel_size=(3, 3), stride=(2, 2), padding=(1, 1), bias=False)\n",
      "      (bn2): BatchNorm2d(256, eps=1e-05, momentum=0.1, affine=True, track_running_stats=True)\n",
      "      (conv3): Conv2d(256, 1024, kernel_size=(1, 1), stride=(1, 1), bias=False)\n",
      "      (bn3): BatchNorm2d(1024, eps=1e-05, momentum=0.1, affine=True, track_running_stats=True)\n",
      "      (relu): ReLU(inplace=True)\n",
      "      (downsample): Sequential(\n",
      "        (0): Conv2d(512, 1024, kernel_size=(1, 1), stride=(2, 2), bias=False)\n",
      "        (1): BatchNorm2d(1024, eps=1e-05, momentum=0.1, affine=True, track_running_stats=True)\n",
      "      )\n",
      "    )\n",
      "    (1): Bottleneck(\n",
      "      (conv1): Conv2d(1024, 256, kernel_size=(1, 1), stride=(1, 1), bias=False)\n",
      "      (bn1): BatchNorm2d(256, eps=1e-05, momentum=0.1, affine=True, track_running_stats=True)\n",
      "      (conv2): Conv2d(256, 256, kernel_size=(3, 3), stride=(1, 1), padding=(1, 1), bias=False)\n",
      "      (bn2): BatchNorm2d(256, eps=1e-05, momentum=0.1, affine=True, track_running_stats=True)\n",
      "      (conv3): Conv2d(256, 1024, kernel_size=(1, 1), stride=(1, 1), bias=False)\n",
      "      (bn3): BatchNorm2d(1024, eps=1e-05, momentum=0.1, affine=True, track_running_stats=True)\n",
      "      (relu): ReLU(inplace=True)\n",
      "    )\n",
      "    (2): Bottleneck(\n",
      "      (conv1): Conv2d(1024, 256, kernel_size=(1, 1), stride=(1, 1), bias=False)\n",
      "      (bn1): BatchNorm2d(256, eps=1e-05, momentum=0.1, affine=True, track_running_stats=True)\n",
      "      (conv2): Conv2d(256, 256, kernel_size=(3, 3), stride=(1, 1), padding=(1, 1), bias=False)\n",
      "      (bn2): BatchNorm2d(256, eps=1e-05, momentum=0.1, affine=True, track_running_stats=True)\n",
      "      (conv3): Conv2d(256, 1024, kernel_size=(1, 1), stride=(1, 1), bias=False)\n",
      "      (bn3): BatchNorm2d(1024, eps=1e-05, momentum=0.1, affine=True, track_running_stats=True)\n",
      "      (relu): ReLU(inplace=True)\n",
      "    )\n",
      "    (3): Bottleneck(\n",
      "      (conv1): Conv2d(1024, 256, kernel_size=(1, 1), stride=(1, 1), bias=False)\n",
      "      (bn1): BatchNorm2d(256, eps=1e-05, momentum=0.1, affine=True, track_running_stats=True)\n",
      "      (conv2): Conv2d(256, 256, kernel_size=(3, 3), stride=(1, 1), padding=(1, 1), bias=False)\n",
      "      (bn2): BatchNorm2d(256, eps=1e-05, momentum=0.1, affine=True, track_running_stats=True)\n",
      "      (conv3): Conv2d(256, 1024, kernel_size=(1, 1), stride=(1, 1), bias=False)\n",
      "      (bn3): BatchNorm2d(1024, eps=1e-05, momentum=0.1, affine=True, track_running_stats=True)\n",
      "      (relu): ReLU(inplace=True)\n",
      "    )\n",
      "    (4): Bottleneck(\n",
      "      (conv1): Conv2d(1024, 256, kernel_size=(1, 1), stride=(1, 1), bias=False)\n",
      "      (bn1): BatchNorm2d(256, eps=1e-05, momentum=0.1, affine=True, track_running_stats=True)\n",
      "      (conv2): Conv2d(256, 256, kernel_size=(3, 3), stride=(1, 1), padding=(1, 1), bias=False)\n",
      "      (bn2): BatchNorm2d(256, eps=1e-05, momentum=0.1, affine=True, track_running_stats=True)\n",
      "      (conv3): Conv2d(256, 1024, kernel_size=(1, 1), stride=(1, 1), bias=False)\n",
      "      (bn3): BatchNorm2d(1024, eps=1e-05, momentum=0.1, affine=True, track_running_stats=True)\n",
      "      (relu): ReLU(inplace=True)\n",
      "    )\n",
      "    (5): Bottleneck(\n",
      "      (conv1): Conv2d(1024, 256, kernel_size=(1, 1), stride=(1, 1), bias=False)\n",
      "      (bn1): BatchNorm2d(256, eps=1e-05, momentum=0.1, affine=True, track_running_stats=True)\n",
      "      (conv2): Conv2d(256, 256, kernel_size=(3, 3), stride=(1, 1), padding=(1, 1), bias=False)\n",
      "      (bn2): BatchNorm2d(256, eps=1e-05, momentum=0.1, affine=True, track_running_stats=True)\n",
      "      (conv3): Conv2d(256, 1024, kernel_size=(1, 1), stride=(1, 1), bias=False)\n",
      "      (bn3): BatchNorm2d(1024, eps=1e-05, momentum=0.1, affine=True, track_running_stats=True)\n",
      "      (relu): ReLU(inplace=True)\n",
      "    )\n",
      "    (6): Bottleneck(\n",
      "      (conv1): Conv2d(1024, 256, kernel_size=(1, 1), stride=(1, 1), bias=False)\n",
      "      (bn1): BatchNorm2d(256, eps=1e-05, momentum=0.1, affine=True, track_running_stats=True)\n",
      "      (conv2): Conv2d(256, 256, kernel_size=(3, 3), stride=(1, 1), padding=(1, 1), bias=False)\n",
      "      (bn2): BatchNorm2d(256, eps=1e-05, momentum=0.1, affine=True, track_running_stats=True)\n",
      "      (conv3): Conv2d(256, 1024, kernel_size=(1, 1), stride=(1, 1), bias=False)\n",
      "      (bn3): BatchNorm2d(1024, eps=1e-05, momentum=0.1, affine=True, track_running_stats=True)\n",
      "      (relu): ReLU(inplace=True)\n",
      "    )\n",
      "    (7): Bottleneck(\n",
      "      (conv1): Conv2d(1024, 256, kernel_size=(1, 1), stride=(1, 1), bias=False)\n",
      "      (bn1): BatchNorm2d(256, eps=1e-05, momentum=0.1, affine=True, track_running_stats=True)\n",
      "      (conv2): Conv2d(256, 256, kernel_size=(3, 3), stride=(1, 1), padding=(1, 1), bias=False)\n",
      "      (bn2): BatchNorm2d(256, eps=1e-05, momentum=0.1, affine=True, track_running_stats=True)\n",
      "      (conv3): Conv2d(256, 1024, kernel_size=(1, 1), stride=(1, 1), bias=False)\n",
      "      (bn3): BatchNorm2d(1024, eps=1e-05, momentum=0.1, affine=True, track_running_stats=True)\n",
      "      (relu): ReLU(inplace=True)\n",
      "    )\n",
      "    (8): Bottleneck(\n",
      "      (conv1): Conv2d(1024, 256, kernel_size=(1, 1), stride=(1, 1), bias=False)\n",
      "      (bn1): BatchNorm2d(256, eps=1e-05, momentum=0.1, affine=True, track_running_stats=True)\n",
      "      (conv2): Conv2d(256, 256, kernel_size=(3, 3), stride=(1, 1), padding=(1, 1), bias=False)\n",
      "      (bn2): BatchNorm2d(256, eps=1e-05, momentum=0.1, affine=True, track_running_stats=True)\n",
      "      (conv3): Conv2d(256, 1024, kernel_size=(1, 1), stride=(1, 1), bias=False)\n",
      "      (bn3): BatchNorm2d(1024, eps=1e-05, momentum=0.1, affine=True, track_running_stats=True)\n",
      "      (relu): ReLU(inplace=True)\n",
      "    )\n",
      "    (9): Bottleneck(\n",
      "      (conv1): Conv2d(1024, 256, kernel_size=(1, 1), stride=(1, 1), bias=False)\n",
      "      (bn1): BatchNorm2d(256, eps=1e-05, momentum=0.1, affine=True, track_running_stats=True)\n",
      "      (conv2): Conv2d(256, 256, kernel_size=(3, 3), stride=(1, 1), padding=(1, 1), bias=False)\n",
      "      (bn2): BatchNorm2d(256, eps=1e-05, momentum=0.1, affine=True, track_running_stats=True)\n",
      "      (conv3): Conv2d(256, 1024, kernel_size=(1, 1), stride=(1, 1), bias=False)\n",
      "      (bn3): BatchNorm2d(1024, eps=1e-05, momentum=0.1, affine=True, track_running_stats=True)\n",
      "      (relu): ReLU(inplace=True)\n",
      "    )\n",
      "    (10): Bottleneck(\n",
      "      (conv1): Conv2d(1024, 256, kernel_size=(1, 1), stride=(1, 1), bias=False)\n",
      "      (bn1): BatchNorm2d(256, eps=1e-05, momentum=0.1, affine=True, track_running_stats=True)\n",
      "      (conv2): Conv2d(256, 256, kernel_size=(3, 3), stride=(1, 1), padding=(1, 1), bias=False)\n",
      "      (bn2): BatchNorm2d(256, eps=1e-05, momentum=0.1, affine=True, track_running_stats=True)\n",
      "      (conv3): Conv2d(256, 1024, kernel_size=(1, 1), stride=(1, 1), bias=False)\n",
      "      (bn3): BatchNorm2d(1024, eps=1e-05, momentum=0.1, affine=True, track_running_stats=True)\n",
      "      (relu): ReLU(inplace=True)\n",
      "    )\n",
      "    (11): Bottleneck(\n",
      "      (conv1): Conv2d(1024, 256, kernel_size=(1, 1), stride=(1, 1), bias=False)\n",
      "      (bn1): BatchNorm2d(256, eps=1e-05, momentum=0.1, affine=True, track_running_stats=True)\n",
      "      (conv2): Conv2d(256, 256, kernel_size=(3, 3), stride=(1, 1), padding=(1, 1), bias=False)\n",
      "      (bn2): BatchNorm2d(256, eps=1e-05, momentum=0.1, affine=True, track_running_stats=True)\n",
      "      (conv3): Conv2d(256, 1024, kernel_size=(1, 1), stride=(1, 1), bias=False)\n",
      "      (bn3): BatchNorm2d(1024, eps=1e-05, momentum=0.1, affine=True, track_running_stats=True)\n",
      "      (relu): ReLU(inplace=True)\n",
      "    )\n",
      "    (12): Bottleneck(\n",
      "      (conv1): Conv2d(1024, 256, kernel_size=(1, 1), stride=(1, 1), bias=False)\n",
      "      (bn1): BatchNorm2d(256, eps=1e-05, momentum=0.1, affine=True, track_running_stats=True)\n",
      "      (conv2): Conv2d(256, 256, kernel_size=(3, 3), stride=(1, 1), padding=(1, 1), bias=False)\n",
      "      (bn2): BatchNorm2d(256, eps=1e-05, momentum=0.1, affine=True, track_running_stats=True)\n",
      "      (conv3): Conv2d(256, 1024, kernel_size=(1, 1), stride=(1, 1), bias=False)\n",
      "      (bn3): BatchNorm2d(1024, eps=1e-05, momentum=0.1, affine=True, track_running_stats=True)\n",
      "      (relu): ReLU(inplace=True)\n",
      "    )\n",
      "    (13): Bottleneck(\n",
      "      (conv1): Conv2d(1024, 256, kernel_size=(1, 1), stride=(1, 1), bias=False)\n",
      "      (bn1): BatchNorm2d(256, eps=1e-05, momentum=0.1, affine=True, track_running_stats=True)\n",
      "      (conv2): Conv2d(256, 256, kernel_size=(3, 3), stride=(1, 1), padding=(1, 1), bias=False)\n",
      "      (bn2): BatchNorm2d(256, eps=1e-05, momentum=0.1, affine=True, track_running_stats=True)\n",
      "      (conv3): Conv2d(256, 1024, kernel_size=(1, 1), stride=(1, 1), bias=False)\n",
      "      (bn3): BatchNorm2d(1024, eps=1e-05, momentum=0.1, affine=True, track_running_stats=True)\n",
      "      (relu): ReLU(inplace=True)\n",
      "    )\n",
      "    (14): Bottleneck(\n",
      "      (conv1): Conv2d(1024, 256, kernel_size=(1, 1), stride=(1, 1), bias=False)\n",
      "      (bn1): BatchNorm2d(256, eps=1e-05, momentum=0.1, affine=True, track_running_stats=True)\n",
      "      (conv2): Conv2d(256, 256, kernel_size=(3, 3), stride=(1, 1), padding=(1, 1), bias=False)\n",
      "      (bn2): BatchNorm2d(256, eps=1e-05, momentum=0.1, affine=True, track_running_stats=True)\n",
      "      (conv3): Conv2d(256, 1024, kernel_size=(1, 1), stride=(1, 1), bias=False)\n",
      "      (bn3): BatchNorm2d(1024, eps=1e-05, momentum=0.1, affine=True, track_running_stats=True)\n",
      "      (relu): ReLU(inplace=True)\n",
      "    )\n",
      "    (15): Bottleneck(\n",
      "      (conv1): Conv2d(1024, 256, kernel_size=(1, 1), stride=(1, 1), bias=False)\n",
      "      (bn1): BatchNorm2d(256, eps=1e-05, momentum=0.1, affine=True, track_running_stats=True)\n",
      "      (conv2): Conv2d(256, 256, kernel_size=(3, 3), stride=(1, 1), padding=(1, 1), bias=False)\n",
      "      (bn2): BatchNorm2d(256, eps=1e-05, momentum=0.1, affine=True, track_running_stats=True)\n",
      "      (conv3): Conv2d(256, 1024, kernel_size=(1, 1), stride=(1, 1), bias=False)\n",
      "      (bn3): BatchNorm2d(1024, eps=1e-05, momentum=0.1, affine=True, track_running_stats=True)\n",
      "      (relu): ReLU(inplace=True)\n",
      "    )\n",
      "    (16): Bottleneck(\n",
      "      (conv1): Conv2d(1024, 256, kernel_size=(1, 1), stride=(1, 1), bias=False)\n",
      "      (bn1): BatchNorm2d(256, eps=1e-05, momentum=0.1, affine=True, track_running_stats=True)\n",
      "      (conv2): Conv2d(256, 256, kernel_size=(3, 3), stride=(1, 1), padding=(1, 1), bias=False)\n",
      "      (bn2): BatchNorm2d(256, eps=1e-05, momentum=0.1, affine=True, track_running_stats=True)\n",
      "      (conv3): Conv2d(256, 1024, kernel_size=(1, 1), stride=(1, 1), bias=False)\n",
      "      (bn3): BatchNorm2d(1024, eps=1e-05, momentum=0.1, affine=True, track_running_stats=True)\n",
      "      (relu): ReLU(inplace=True)\n",
      "    )\n",
      "    (17): Bottleneck(\n",
      "      (conv1): Conv2d(1024, 256, kernel_size=(1, 1), stride=(1, 1), bias=False)\n",
      "      (bn1): BatchNorm2d(256, eps=1e-05, momentum=0.1, affine=True, track_running_stats=True)\n",
      "      (conv2): Conv2d(256, 256, kernel_size=(3, 3), stride=(1, 1), padding=(1, 1), bias=False)\n",
      "      (bn2): BatchNorm2d(256, eps=1e-05, momentum=0.1, affine=True, track_running_stats=True)\n",
      "      (conv3): Conv2d(256, 1024, kernel_size=(1, 1), stride=(1, 1), bias=False)\n",
      "      (bn3): BatchNorm2d(1024, eps=1e-05, momentum=0.1, affine=True, track_running_stats=True)\n",
      "      (relu): ReLU(inplace=True)\n",
      "    )\n",
      "    (18): Bottleneck(\n",
      "      (conv1): Conv2d(1024, 256, kernel_size=(1, 1), stride=(1, 1), bias=False)\n",
      "      (bn1): BatchNorm2d(256, eps=1e-05, momentum=0.1, affine=True, track_running_stats=True)\n",
      "      (conv2): Conv2d(256, 256, kernel_size=(3, 3), stride=(1, 1), padding=(1, 1), bias=False)\n",
      "      (bn2): BatchNorm2d(256, eps=1e-05, momentum=0.1, affine=True, track_running_stats=True)\n",
      "      (conv3): Conv2d(256, 1024, kernel_size=(1, 1), stride=(1, 1), bias=False)\n",
      "      (bn3): BatchNorm2d(1024, eps=1e-05, momentum=0.1, affine=True, track_running_stats=True)\n",
      "      (relu): ReLU(inplace=True)\n",
      "    )\n",
      "    (19): Bottleneck(\n",
      "      (conv1): Conv2d(1024, 256, kernel_size=(1, 1), stride=(1, 1), bias=False)\n",
      "      (bn1): BatchNorm2d(256, eps=1e-05, momentum=0.1, affine=True, track_running_stats=True)\n",
      "      (conv2): Conv2d(256, 256, kernel_size=(3, 3), stride=(1, 1), padding=(1, 1), bias=False)\n",
      "      (bn2): BatchNorm2d(256, eps=1e-05, momentum=0.1, affine=True, track_running_stats=True)\n",
      "      (conv3): Conv2d(256, 1024, kernel_size=(1, 1), stride=(1, 1), bias=False)\n",
      "      (bn3): BatchNorm2d(1024, eps=1e-05, momentum=0.1, affine=True, track_running_stats=True)\n",
      "      (relu): ReLU(inplace=True)\n",
      "    )\n",
      "    (20): Bottleneck(\n",
      "      (conv1): Conv2d(1024, 256, kernel_size=(1, 1), stride=(1, 1), bias=False)\n",
      "      (bn1): BatchNorm2d(256, eps=1e-05, momentum=0.1, affine=True, track_running_stats=True)\n",
      "      (conv2): Conv2d(256, 256, kernel_size=(3, 3), stride=(1, 1), padding=(1, 1), bias=False)\n",
      "      (bn2): BatchNorm2d(256, eps=1e-05, momentum=0.1, affine=True, track_running_stats=True)\n",
      "      (conv3): Conv2d(256, 1024, kernel_size=(1, 1), stride=(1, 1), bias=False)\n",
      "      (bn3): BatchNorm2d(1024, eps=1e-05, momentum=0.1, affine=True, track_running_stats=True)\n",
      "      (relu): ReLU(inplace=True)\n",
      "    )\n",
      "    (21): Bottleneck(\n",
      "      (conv1): Conv2d(1024, 256, kernel_size=(1, 1), stride=(1, 1), bias=False)\n",
      "      (bn1): BatchNorm2d(256, eps=1e-05, momentum=0.1, affine=True, track_running_stats=True)\n",
      "      (conv2): Conv2d(256, 256, kernel_size=(3, 3), stride=(1, 1), padding=(1, 1), bias=False)\n",
      "      (bn2): BatchNorm2d(256, eps=1e-05, momentum=0.1, affine=True, track_running_stats=True)\n",
      "      (conv3): Conv2d(256, 1024, kernel_size=(1, 1), stride=(1, 1), bias=False)\n",
      "      (bn3): BatchNorm2d(1024, eps=1e-05, momentum=0.1, affine=True, track_running_stats=True)\n",
      "      (relu): ReLU(inplace=True)\n",
      "    )\n",
      "    (22): Bottleneck(\n",
      "      (conv1): Conv2d(1024, 256, kernel_size=(1, 1), stride=(1, 1), bias=False)\n",
      "      (bn1): BatchNorm2d(256, eps=1e-05, momentum=0.1, affine=True, track_running_stats=True)\n",
      "      (conv2): Conv2d(256, 256, kernel_size=(3, 3), stride=(1, 1), padding=(1, 1), bias=False)\n",
      "      (bn2): BatchNorm2d(256, eps=1e-05, momentum=0.1, affine=True, track_running_stats=True)\n",
      "      (conv3): Conv2d(256, 1024, kernel_size=(1, 1), stride=(1, 1), bias=False)\n",
      "      (bn3): BatchNorm2d(1024, eps=1e-05, momentum=0.1, affine=True, track_running_stats=True)\n",
      "      (relu): ReLU(inplace=True)\n",
      "    )\n",
      "    (23): Bottleneck(\n",
      "      (conv1): Conv2d(1024, 256, kernel_size=(1, 1), stride=(1, 1), bias=False)\n",
      "      (bn1): BatchNorm2d(256, eps=1e-05, momentum=0.1, affine=True, track_running_stats=True)\n",
      "      (conv2): Conv2d(256, 256, kernel_size=(3, 3), stride=(1, 1), padding=(1, 1), bias=False)\n",
      "      (bn2): BatchNorm2d(256, eps=1e-05, momentum=0.1, affine=True, track_running_stats=True)\n",
      "      (conv3): Conv2d(256, 1024, kernel_size=(1, 1), stride=(1, 1), bias=False)\n",
      "      (bn3): BatchNorm2d(1024, eps=1e-05, momentum=0.1, affine=True, track_running_stats=True)\n",
      "      (relu): ReLU(inplace=True)\n",
      "    )\n",
      "    (24): Bottleneck(\n",
      "      (conv1): Conv2d(1024, 256, kernel_size=(1, 1), stride=(1, 1), bias=False)\n",
      "      (bn1): BatchNorm2d(256, eps=1e-05, momentum=0.1, affine=True, track_running_stats=True)\n",
      "      (conv2): Conv2d(256, 256, kernel_size=(3, 3), stride=(1, 1), padding=(1, 1), bias=False)\n",
      "      (bn2): BatchNorm2d(256, eps=1e-05, momentum=0.1, affine=True, track_running_stats=True)\n",
      "      (conv3): Conv2d(256, 1024, kernel_size=(1, 1), stride=(1, 1), bias=False)\n",
      "      (bn3): BatchNorm2d(1024, eps=1e-05, momentum=0.1, affine=True, track_running_stats=True)\n",
      "      (relu): ReLU(inplace=True)\n",
      "    )\n",
      "    (25): Bottleneck(\n",
      "      (conv1): Conv2d(1024, 256, kernel_size=(1, 1), stride=(1, 1), bias=False)\n",
      "      (bn1): BatchNorm2d(256, eps=1e-05, momentum=0.1, affine=True, track_running_stats=True)\n",
      "      (conv2): Conv2d(256, 256, kernel_size=(3, 3), stride=(1, 1), padding=(1, 1), bias=False)\n",
      "      (bn2): BatchNorm2d(256, eps=1e-05, momentum=0.1, affine=True, track_running_stats=True)\n",
      "      (conv3): Conv2d(256, 1024, kernel_size=(1, 1), stride=(1, 1), bias=False)\n",
      "      (bn3): BatchNorm2d(1024, eps=1e-05, momentum=0.1, affine=True, track_running_stats=True)\n",
      "      (relu): ReLU(inplace=True)\n",
      "    )\n",
      "    (26): Bottleneck(\n",
      "      (conv1): Conv2d(1024, 256, kernel_size=(1, 1), stride=(1, 1), bias=False)\n",
      "      (bn1): BatchNorm2d(256, eps=1e-05, momentum=0.1, affine=True, track_running_stats=True)\n",
      "      (conv2): Conv2d(256, 256, kernel_size=(3, 3), stride=(1, 1), padding=(1, 1), bias=False)\n",
      "      (bn2): BatchNorm2d(256, eps=1e-05, momentum=0.1, affine=True, track_running_stats=True)\n",
      "      (conv3): Conv2d(256, 1024, kernel_size=(1, 1), stride=(1, 1), bias=False)\n",
      "      (bn3): BatchNorm2d(1024, eps=1e-05, momentum=0.1, affine=True, track_running_stats=True)\n",
      "      (relu): ReLU(inplace=True)\n",
      "    )\n",
      "    (27): Bottleneck(\n",
      "      (conv1): Conv2d(1024, 256, kernel_size=(1, 1), stride=(1, 1), bias=False)\n",
      "      (bn1): BatchNorm2d(256, eps=1e-05, momentum=0.1, affine=True, track_running_stats=True)\n",
      "      (conv2): Conv2d(256, 256, kernel_size=(3, 3), stride=(1, 1), padding=(1, 1), bias=False)\n",
      "      (bn2): BatchNorm2d(256, eps=1e-05, momentum=0.1, affine=True, track_running_stats=True)\n",
      "      (conv3): Conv2d(256, 1024, kernel_size=(1, 1), stride=(1, 1), bias=False)\n",
      "      (bn3): BatchNorm2d(1024, eps=1e-05, momentum=0.1, affine=True, track_running_stats=True)\n",
      "      (relu): ReLU(inplace=True)\n",
      "    )\n",
      "    (28): Bottleneck(\n",
      "      (conv1): Conv2d(1024, 256, kernel_size=(1, 1), stride=(1, 1), bias=False)\n",
      "      (bn1): BatchNorm2d(256, eps=1e-05, momentum=0.1, affine=True, track_running_stats=True)\n",
      "      (conv2): Conv2d(256, 256, kernel_size=(3, 3), stride=(1, 1), padding=(1, 1), bias=False)\n",
      "      (bn2): BatchNorm2d(256, eps=1e-05, momentum=0.1, affine=True, track_running_stats=True)\n",
      "      (conv3): Conv2d(256, 1024, kernel_size=(1, 1), stride=(1, 1), bias=False)\n",
      "      (bn3): BatchNorm2d(1024, eps=1e-05, momentum=0.1, affine=True, track_running_stats=True)\n",
      "      (relu): ReLU(inplace=True)\n",
      "    )\n",
      "    (29): Bottleneck(\n",
      "      (conv1): Conv2d(1024, 256, kernel_size=(1, 1), stride=(1, 1), bias=False)\n",
      "      (bn1): BatchNorm2d(256, eps=1e-05, momentum=0.1, affine=True, track_running_stats=True)\n",
      "      (conv2): Conv2d(256, 256, kernel_size=(3, 3), stride=(1, 1), padding=(1, 1), bias=False)\n",
      "      (bn2): BatchNorm2d(256, eps=1e-05, momentum=0.1, affine=True, track_running_stats=True)\n",
      "      (conv3): Conv2d(256, 1024, kernel_size=(1, 1), stride=(1, 1), bias=False)\n",
      "      (bn3): BatchNorm2d(1024, eps=1e-05, momentum=0.1, affine=True, track_running_stats=True)\n",
      "      (relu): ReLU(inplace=True)\n",
      "    )\n",
      "    (30): Bottleneck(\n",
      "      (conv1): Conv2d(1024, 256, kernel_size=(1, 1), stride=(1, 1), bias=False)\n",
      "      (bn1): BatchNorm2d(256, eps=1e-05, momentum=0.1, affine=True, track_running_stats=True)\n",
      "      (conv2): Conv2d(256, 256, kernel_size=(3, 3), stride=(1, 1), padding=(1, 1), bias=False)\n",
      "      (bn2): BatchNorm2d(256, eps=1e-05, momentum=0.1, affine=True, track_running_stats=True)\n",
      "      (conv3): Conv2d(256, 1024, kernel_size=(1, 1), stride=(1, 1), bias=False)\n",
      "      (bn3): BatchNorm2d(1024, eps=1e-05, momentum=0.1, affine=True, track_running_stats=True)\n",
      "      (relu): ReLU(inplace=True)\n",
      "    )\n",
      "    (31): Bottleneck(\n",
      "      (conv1): Conv2d(1024, 256, kernel_size=(1, 1), stride=(1, 1), bias=False)\n",
      "      (bn1): BatchNorm2d(256, eps=1e-05, momentum=0.1, affine=True, track_running_stats=True)\n",
      "      (conv2): Conv2d(256, 256, kernel_size=(3, 3), stride=(1, 1), padding=(1, 1), bias=False)\n",
      "      (bn2): BatchNorm2d(256, eps=1e-05, momentum=0.1, affine=True, track_running_stats=True)\n",
      "      (conv3): Conv2d(256, 1024, kernel_size=(1, 1), stride=(1, 1), bias=False)\n",
      "      (bn3): BatchNorm2d(1024, eps=1e-05, momentum=0.1, affine=True, track_running_stats=True)\n",
      "      (relu): ReLU(inplace=True)\n",
      "    )\n",
      "    (32): Bottleneck(\n",
      "      (conv1): Conv2d(1024, 256, kernel_size=(1, 1), stride=(1, 1), bias=False)\n",
      "      (bn1): BatchNorm2d(256, eps=1e-05, momentum=0.1, affine=True, track_running_stats=True)\n",
      "      (conv2): Conv2d(256, 256, kernel_size=(3, 3), stride=(1, 1), padding=(1, 1), bias=False)\n",
      "      (bn2): BatchNorm2d(256, eps=1e-05, momentum=0.1, affine=True, track_running_stats=True)\n",
      "      (conv3): Conv2d(256, 1024, kernel_size=(1, 1), stride=(1, 1), bias=False)\n",
      "      (bn3): BatchNorm2d(1024, eps=1e-05, momentum=0.1, affine=True, track_running_stats=True)\n",
      "      (relu): ReLU(inplace=True)\n",
      "    )\n",
      "    (33): Bottleneck(\n",
      "      (conv1): Conv2d(1024, 256, kernel_size=(1, 1), stride=(1, 1), bias=False)\n",
      "      (bn1): BatchNorm2d(256, eps=1e-05, momentum=0.1, affine=True, track_running_stats=True)\n",
      "      (conv2): Conv2d(256, 256, kernel_size=(3, 3), stride=(1, 1), padding=(1, 1), bias=False)\n",
      "      (bn2): BatchNorm2d(256, eps=1e-05, momentum=0.1, affine=True, track_running_stats=True)\n",
      "      (conv3): Conv2d(256, 1024, kernel_size=(1, 1), stride=(1, 1), bias=False)\n",
      "      (bn3): BatchNorm2d(1024, eps=1e-05, momentum=0.1, affine=True, track_running_stats=True)\n",
      "      (relu): ReLU(inplace=True)\n",
      "    )\n",
      "    (34): Bottleneck(\n",
      "      (conv1): Conv2d(1024, 256, kernel_size=(1, 1), stride=(1, 1), bias=False)\n",
      "      (bn1): BatchNorm2d(256, eps=1e-05, momentum=0.1, affine=True, track_running_stats=True)\n",
      "      (conv2): Conv2d(256, 256, kernel_size=(3, 3), stride=(1, 1), padding=(1, 1), bias=False)\n",
      "      (bn2): BatchNorm2d(256, eps=1e-05, momentum=0.1, affine=True, track_running_stats=True)\n",
      "      (conv3): Conv2d(256, 1024, kernel_size=(1, 1), stride=(1, 1), bias=False)\n",
      "      (bn3): BatchNorm2d(1024, eps=1e-05, momentum=0.1, affine=True, track_running_stats=True)\n",
      "      (relu): ReLU(inplace=True)\n",
      "    )\n",
      "    (35): Bottleneck(\n",
      "      (conv1): Conv2d(1024, 256, kernel_size=(1, 1), stride=(1, 1), bias=False)\n",
      "      (bn1): BatchNorm2d(256, eps=1e-05, momentum=0.1, affine=True, track_running_stats=True)\n",
      "      (conv2): Conv2d(256, 256, kernel_size=(3, 3), stride=(1, 1), padding=(1, 1), bias=False)\n",
      "      (bn2): BatchNorm2d(256, eps=1e-05, momentum=0.1, affine=True, track_running_stats=True)\n",
      "      (conv3): Conv2d(256, 1024, kernel_size=(1, 1), stride=(1, 1), bias=False)\n",
      "      (bn3): BatchNorm2d(1024, eps=1e-05, momentum=0.1, affine=True, track_running_stats=True)\n",
      "      (relu): ReLU(inplace=True)\n",
      "    )\n",
      "  )\n",
      "  (layer4): Sequential(\n",
      "    (0): Bottleneck(\n",
      "      (conv1): Conv2d(1024, 512, kernel_size=(1, 1), stride=(1, 1), bias=False)\n",
      "      (bn1): BatchNorm2d(512, eps=1e-05, momentum=0.1, affine=True, track_running_stats=True)\n",
      "      (conv2): Conv2d(512, 512, kernel_size=(3, 3), stride=(2, 2), padding=(1, 1), bias=False)\n",
      "      (bn2): BatchNorm2d(512, eps=1e-05, momentum=0.1, affine=True, track_running_stats=True)\n",
      "      (conv3): Conv2d(512, 2048, kernel_size=(1, 1), stride=(1, 1), bias=False)\n",
      "      (bn3): BatchNorm2d(2048, eps=1e-05, momentum=0.1, affine=True, track_running_stats=True)\n",
      "      (relu): ReLU(inplace=True)\n",
      "      (downsample): Sequential(\n",
      "        (0): Conv2d(1024, 2048, kernel_size=(1, 1), stride=(2, 2), bias=False)\n",
      "        (1): BatchNorm2d(2048, eps=1e-05, momentum=0.1, affine=True, track_running_stats=True)\n",
      "      )\n",
      "    )\n",
      "    (1): Bottleneck(\n",
      "      (conv1): Conv2d(2048, 512, kernel_size=(1, 1), stride=(1, 1), bias=False)\n",
      "      (bn1): BatchNorm2d(512, eps=1e-05, momentum=0.1, affine=True, track_running_stats=True)\n",
      "      (conv2): Conv2d(512, 512, kernel_size=(3, 3), stride=(1, 1), padding=(1, 1), bias=False)\n",
      "      (bn2): BatchNorm2d(512, eps=1e-05, momentum=0.1, affine=True, track_running_stats=True)\n",
      "      (conv3): Conv2d(512, 2048, kernel_size=(1, 1), stride=(1, 1), bias=False)\n",
      "      (bn3): BatchNorm2d(2048, eps=1e-05, momentum=0.1, affine=True, track_running_stats=True)\n",
      "      (relu): ReLU(inplace=True)\n",
      "    )\n",
      "    (2): Bottleneck(\n",
      "      (conv1): Conv2d(2048, 512, kernel_size=(1, 1), stride=(1, 1), bias=False)\n",
      "      (bn1): BatchNorm2d(512, eps=1e-05, momentum=0.1, affine=True, track_running_stats=True)\n",
      "      (conv2): Conv2d(512, 512, kernel_size=(3, 3), stride=(1, 1), padding=(1, 1), bias=False)\n",
      "      (bn2): BatchNorm2d(512, eps=1e-05, momentum=0.1, affine=True, track_running_stats=True)\n",
      "      (conv3): Conv2d(512, 2048, kernel_size=(1, 1), stride=(1, 1), bias=False)\n",
      "      (bn3): BatchNorm2d(2048, eps=1e-05, momentum=0.1, affine=True, track_running_stats=True)\n",
      "      (relu): ReLU(inplace=True)\n",
      "    )\n",
      "  )\n",
      "  (avgpool): AdaptiveAvgPool2d(output_size=(1, 1))\n",
      "  (fc): Sequential(\n",
      "    (0): Linear(in_features=2048, out_features=500, bias=True)\n",
      "    (1): ReLU()\n",
      "    (2): Dropout(p=0.5, inplace=False)\n",
      "    (3): Linear(in_features=500, out_features=2, bias=True)\n",
      "  )\n",
      ")\n"
     ]
    }
   ],
   "source": [
    "# инициализируем предобученную модель ResNet50\n",
    "pretrained_resnet152 = models.resnet152(pretrained=True)\n",
    "\n",
    "# замораживаем слои, используя метод requires_grad()\n",
    "# в этом случае не вычисляются градиенты для слоев\n",
    "# сделать это надо для всех параметеров сети\n",
    "for name, param in pretrained_resnet152.named_parameters():\n",
    "\tparam.requires_grad = False\n",
    "\n",
    "\n",
    "# к различным блокам модели в PyTorch легко получить доступ\n",
    "# заменим блок классификатора на свой, подходящий для решения\n",
    "# задачи классификации кошек и собак\n",
    "pretrained_resnet152.fc = nn.Sequential(\n",
    "\tnn.Linear(pretrained_resnet152.fc.in_features, 500),\n",
    "\tnn.ReLU(),\n",
    "\tnn.Dropout(),\n",
    "\tnn.Linear(500, 2)\n",
    ")\n",
    "\n",
    "# перенесем модель на устройство\n",
    "pretrained_resnet152.to(device)\n",
    "\n",
    "# выведем модель\n",
    "print(pretrained_resnet152)"
   ],
   "metadata": {
    "collapsed": false,
    "pycharm": {
     "name": "#%%\n"
    }
   }
  },
  {
   "cell_type": "code",
   "execution_count": 30,
   "outputs": [
    {
     "name": "stdout",
     "output_type": "stream",
     "text": [
      "Epoch: 01\n",
      "\tTrain Loss: 0.494 | Train Acc: 75.57%\n",
      "\t Val. Loss: 0.293 |  Val. Acc: 83.33%\n",
      "Epoch: 02\n",
      "\tTrain Loss: 0.340 | Train Acc: 85.23%\n",
      "\t Val. Loss: 0.077 |  Val. Acc: 95.83%\n",
      "Epoch: 03\n",
      "\tTrain Loss: 0.148 | Train Acc: 93.75%\n",
      "\t Val. Loss: 0.053 |  Val. Acc: 97.92%\n",
      "Epoch: 04\n",
      "\tTrain Loss: 0.100 | Train Acc: 97.16%\n",
      "\t Val. Loss: 0.328 |  Val. Acc: 87.50%\n",
      "Epoch: 05\n",
      "\tTrain Loss: 0.174 | Train Acc: 94.32%\n",
      "\t Val. Loss: 0.087 |  Val. Acc: 97.92%\n",
      "Epoch: 06\n",
      "\tTrain Loss: 0.122 | Train Acc: 96.02%\n",
      "\t Val. Loss: 0.079 |  Val. Acc: 97.92%\n",
      "Epoch: 07\n",
      "\tTrain Loss: 0.174 | Train Acc: 94.32%\n",
      "\t Val. Loss: 0.082 |  Val. Acc: 97.92%\n",
      "Epoch: 08\n",
      "\tTrain Loss: 0.066 | Train Acc: 98.30%\n",
      "\t Val. Loss: 0.270 |  Val. Acc: 91.67%\n",
      "Epoch: 09\n",
      "\tTrain Loss: 0.124 | Train Acc: 94.89%\n",
      "\t Val. Loss: 0.286 |  Val. Acc: 91.67%\n",
      "Epoch: 10\n",
      "\tTrain Loss: 0.100 | Train Acc: 97.16%\n",
      "\t Val. Loss: 0.159 |  Val. Acc: 91.67%\n"
     ]
    }
   ],
   "source": [
    "epochs = 10\n",
    "optimizer = optim.Adam(pretrained_resnet152.parameters(), lr=0.001)\n",
    "loss_function = nn.CrossEntropyLoss()\n",
    "\n",
    "\n",
    "for epoch in range(epochs):\n",
    "\n",
    "\ttrain_loss, train_acc = train(pretrained_resnet152, train_loader_1, optimizer, loss_function, device)\n",
    "\n",
    "\ttest_loss, test_acc   = evaluate(pretrained_resnet152, test_loader_1, loss_function, device)\n",
    "\n",
    "\tprint(f'Epoch: {epoch + 1:02}')\n",
    "\tprint(f'\\tTrain Loss: {train_loss:.3f} | Train Acc: {train_acc * 100:.2f}%')\n",
    "\tprint(f'\\t Val. Loss: {test_loss:.3f} |  Val. Acc: {test_acc * 100:.2f}%')"
   ],
   "metadata": {
    "collapsed": false,
    "pycharm": {
     "name": "#%%\n"
    }
   }
  },
  {
   "cell_type": "code",
   "execution_count": 31,
   "outputs": [],
   "source": [
    "# сохранение модели в PTH\n",
    "torch.save(pretrained_resnet152.state_dict(), \"resnet152_pretrained.pth\")"
   ],
   "metadata": {
    "collapsed": false,
    "pycharm": {
     "name": "#%%\n"
    }
   }
  },
  {
   "cell_type": "code",
   "execution_count": 33,
   "outputs": [
    {
     "name": "stderr",
     "output_type": "stream",
     "text": [
      "C:\\Users\\morph\\anaconda3\\envs\\workspace\\lib\\site-packages\\torchvision\\models\\_utils.py:208: UserWarning: The parameter 'pretrained' is deprecated since 0.13 and may be removed in the future, please use 'weights' instead.\n",
      "  warnings.warn(\n",
      "C:\\Users\\morph\\anaconda3\\envs\\workspace\\lib\\site-packages\\torchvision\\models\\_utils.py:223: UserWarning: Arguments other than a weight enum or `None` for 'weights' are deprecated since 0.13 and may be removed in the future. The current behavior is equivalent to passing `weights=None`.\n",
      "  warnings.warn(msg)\n"
     ]
    },
    {
     "data": {
      "text/plain": "<All keys matched successfully>"
     },
     "execution_count": 33,
     "metadata": {},
     "output_type": "execute_result"
    }
   ],
   "source": [
    "# выгрузим из PTH-файла обученную ResNet-50 и загрузим ее словарь состояния\n",
    "resnet152_state_dict = torch.load(\"resnet152_pretrained.pth\")\n",
    "resnet152 = models.resnet152(pretrained=False)\n",
    "\n",
    "resnet152.fc = nn.Sequential(\n",
    "\tnn.Linear(resnet152.fc.in_features, 500),\n",
    "\tnn.ReLU(),\n",
    "\tnn.Dropout(),\n",
    "\tnn.Linear(500, 2)\n",
    ")\n",
    "\n",
    "resnet152.load_state_dict(resnet152_state_dict)"
   ],
   "metadata": {
    "collapsed": false,
    "pycharm": {
     "name": "#%%\n"
    }
   }
  },
  {
   "cell_type": "code",
   "execution_count": 35,
   "outputs": [
    {
     "name": "stdout",
     "output_type": "stream",
     "text": [
      "cats\n"
     ]
    }
   ],
   "source": [
    "# применим обученную на кошках и собаках\n",
    "transform = transforms.Compose([\n",
    "\ttransforms.Resize(256),\n",
    "\ttransforms.CenterCrop(224),\n",
    "\ttransforms.ToTensor(),\n",
    "\ttransforms.Normalize([0.485, 0.456, 0.406], [0.229, 0.224, 0.225])\n",
    "])\n",
    "\n",
    "# откроем пример изображения, которого необходимо классифицировать\n",
    "image = Image.open(\"Dogs vs Cats/test/dogs/dog.1500.jpg\")\n",
    "image = transform(image)\n",
    "image = image.unsqueeze(0)\n",
    "\n",
    "# переводим модель в режим теста и формируем предсказания\n",
    "resnet152.eval()\n",
    "preds = resnet152(image)\n",
    "pred = preds.argmax()\n",
    "labels = test_data.classes\n",
    "print(labels[pred])"
   ],
   "metadata": {
    "collapsed": false,
    "pycharm": {
     "name": "#%%\n"
    }
   }
  },
  {
   "cell_type": "markdown",
   "source": [
    "# Задание 3"
   ],
   "metadata": {
    "collapsed": false,
    "pycharm": {
     "name": "#%% md\n"
    }
   }
  },
  {
   "cell_type": "code",
   "execution_count": 36,
   "outputs": [],
   "source": [
    "import torch.onnx\n",
    "\n",
    "# сформируем вход модели\n",
    "x = torch.randn(1, 3, 224, 224, requires_grad=True).to(device)\n",
    "\n",
    "# сгенерируем выходы предобученной модели (например, предобученной ResNet50)\n",
    "outs = pretrained_resnet50(x)\n",
    "\n",
    "# экспортируем модель в onnx\n",
    "torch.onnx.export(pretrained_resnet50, x, \"resnet152_pretrained.onnx\")"
   ],
   "metadata": {
    "collapsed": false,
    "pycharm": {
     "name": "#%%\n"
    }
   }
  },
  {
   "cell_type": "code",
   "execution_count": 37,
   "outputs": [],
   "source": [
    "import onnx\n",
    "\n",
    "onnx_model = onnx.load(\"resnet152_pretrained.onnx\")\n",
    "onnx.checker.check_model(onnx_model)\n",
    "# убедимся, что выходы PTH-модели и ONNX-модели совпадают\n"
   ],
   "metadata": {
    "collapsed": false,
    "pycharm": {
     "name": "#%%\n"
    }
   }
  },
  {
   "cell_type": "code",
   "execution_count": 38,
   "outputs": [
    {
     "name": "stdout",
     "output_type": "stream",
     "text": [
      "Все в порядке\n"
     ]
    }
   ],
   "source": [
    "import onnxruntime\n",
    "import numpy as np\n",
    "\n",
    "# инициализируем сессию  ONNXRuntime\n",
    "ort_session = onnxruntime.InferenceSession(\"resnet152_pretrained.onnx\")\n",
    "\n",
    "\n",
    "# определим функцию перевода тензора в numpy-массив\n",
    "def to_numpy(tensor):\n",
    "\treturn tensor.detach().cpu().numpy() if tensor.requires_grad else tensor.cpu().numpy()\n",
    "\n",
    "\n",
    "# определим входы и выходы\n",
    "ort_inputs = {ort_session.get_inputs()[0].name: to_numpy(x)}\n",
    "ort_outs = ort_session.run(None, ort_inputs)\n",
    "\n",
    "# сравним результаты\n",
    "np.testing.assert_allclose(to_numpy(outs[0]), ort_outs[0][0], rtol=1e-03, atol=1e-05)\n",
    "print(\"Все в порядке\")"
   ],
   "metadata": {
    "collapsed": false,
    "pycharm": {
     "name": "#%%\n"
    }
   }
  },
  {
   "cell_type": "code",
   "execution_count": 39,
   "outputs": [
    {
     "name": "stdout",
     "output_type": "stream",
     "text": [
      "Истинный класс: cats\n",
      "Предсказанный класс: cats\n"
     ]
    },
    {
     "data": {
      "text/plain": "<Figure size 640x480 with 1 Axes>",
      "image/png": "[encoded data removed]"
     },
     "metadata": {},
     "output_type": "display_data"
    }
   ],
   "source": [
    "# используем ONNX-модель предобученной ResNet-50 по прямому назначению\n",
    "import matplotlib.pyplot as plt\n",
    "\n",
    "labels = test_data.classes\n",
    "\n",
    "# возьмем пример из тестового набора\n",
    "image, label = test_data[12]\n",
    "label = torch.tensor(label)\n",
    "\n",
    "# поместим его на девайс и добавим рахмерность батча\n",
    "image = image.to(device)\n",
    "image = image.unsqueeze(0)\n",
    "label = label.to(device)\n",
    "\n",
    "# инициализируем входы и выходы ONNX-модели\n",
    "inputs = {ort_session.get_inputs()[0].name: to_numpy(image)}\n",
    "outs = ort_session.run(None, inputs)\n",
    "\n",
    "# формируем предсказания\n",
    "prediction = outs[0].argmax()\n",
    "\n",
    "# для \"отбрасывания\" размерности батча вызываем функцию squeeze()\n",
    "image_squezze = image.squeeze()\n",
    "\n",
    "# перевод изображения в NumPy-массив для отображения на графике\n",
    "image_numpy = image_squezze.cpu().numpy()\n",
    "\n",
    "# вывод изображения, метки класса и предсказания\n",
    "print(f\"Истинный класс: {labels[prediction]}\")\n",
    "print(f\"Предсказанный класс: {labels[label]}\")\n",
    "\n",
    "plt.imshow(image_numpy.transpose(1, 2, 0))\n",
    "plt.show()"
   ],
   "metadata": {
    "collapsed": false,
    "pycharm": {
     "name": "#%%\n"
    }
   }
  },
  {
   "cell_type": "code",
   "execution_count": null,
   "outputs": [],
   "source": [],
   "metadata": {
    "collapsed": false,
    "pycharm": {
     "name": "#%%\n"
    }
   }
  }
 ],
 "metadata": {
  "accelerator": "GPU",
  "colab": {
   "provenance": []
  },
  "kernelspec": {
   "display_name": "Python 3 (ipykernel)",
   "language": "python",
   "name": "python3"
  },
  "language_info": {
   "codemirror_mode": {
    "name": "ipython",
    "version": 3
   },
   "file_extension": ".py",
   "mimetype": "text/x-python",
   "name": "python",
   "nbconvert_exporter": "python",
   "pygments_lexer": "ipython3",
   "version": "3.9.7"
  }
 },
 "nbformat": 4,
 "nbformat_minor": 0
}